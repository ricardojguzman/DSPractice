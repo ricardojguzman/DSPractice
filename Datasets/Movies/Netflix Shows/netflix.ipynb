{
 "nbformat": 4,
 "nbformat_minor": 2,
 "metadata": {
  "language_info": {
   "name": "python",
   "codemirror_mode": {
    "name": "ipython",
    "version": 3
   },
   "version": "3.7.3-final"
  },
  "orig_nbformat": 2,
  "file_extension": ".py",
  "mimetype": "text/x-python",
  "name": "python",
  "npconvert_exporter": "python",
  "pygments_lexer": "ipython3",
  "version": 3,
  "kernelspec": {
   "name": "python37364bitbaseconda37cebdefdc074f38b71ba887856dd328",
   "display_name": "Python 3.7.3 64-bit ('base': conda)"
  }
 },
 "cells": [
  {
   "cell_type": "code",
   "execution_count": 365,
   "metadata": {},
   "outputs": [],
   "source": [
    "import pandas as pd\n",
    "import numpy as np\n",
    "import seaborn as sns\n",
    "import matplotlib as mpl "
   ]
  },
  {
   "cell_type": "code",
   "execution_count": 366,
   "metadata": {},
   "outputs": [],
   "source": [
    "NetflixDF = pd.read_csv('netflix_titles.csv')"
   ]
  },
  {
   "cell_type": "code",
   "execution_count": 367,
   "metadata": {},
   "outputs": [
    {
     "output_type": "execute_result",
     "data": {
      "text/plain": "    show_id     type                                    title  \\\n0  81145628    Movie  Norm of the North: King Sized Adventure   \n1  80117401    Movie               Jandino: Whatever it Takes   \n2  70234439  TV Show                       Transformers Prime   \n3  80058654  TV Show         Transformers: Robots in Disguise   \n4  80125979    Movie                             #realityhigh   \n\n                   director  \\\n0  Richard Finn, Tim Maltby   \n1                       NaN   \n2                       NaN   \n3                       NaN   \n4          Fernando Lebrija   \n\n                                                cast  \\\n0  Alan Marriott, Andrew Toth, Brian Dobson, Cole...   \n1                                   Jandino Asporaat   \n2  Peter Cullen, Sumalee Montano, Frank Welker, J...   \n3  Will Friedle, Darren Criss, Constance Zimmer, ...   \n4  Nesta Cooper, Kate Walsh, John Michael Higgins...   \n\n                                    country         date_added  release_year  \\\n0  United States, India, South Korea, China  September 9, 2019          2019   \n1                            United Kingdom  September 9, 2016          2016   \n2                             United States  September 8, 2018          2013   \n3                             United States  September 8, 2018          2016   \n4                             United States  September 8, 2017          2017   \n\n     rating  duration                           listed_in  \\\n0     TV-PG    90 min  Children & Family Movies, Comedies   \n1     TV-MA    94 min                     Stand-Up Comedy   \n2  TV-Y7-FV  1 Season                            Kids' TV   \n3     TV-Y7  1 Season                            Kids' TV   \n4     TV-14    99 min                            Comedies   \n\n                                         description  \n0  Before planning an awesome wedding for his gra...  \n1  Jandino Asporaat riffs on the challenges of ra...  \n2  With the help of three human allies, the Autob...  \n3  When a prison ship crash unleashes hundreds of...  \n4  When nerdy high schooler Dani finally attracts...  ",
      "text/html": "<div>\n<style scoped>\n    .dataframe tbody tr th:only-of-type {\n        vertical-align: middle;\n    }\n\n    .dataframe tbody tr th {\n        vertical-align: top;\n    }\n\n    .dataframe thead th {\n        text-align: right;\n    }\n</style>\n<table border=\"1\" class=\"dataframe\">\n  <thead>\n    <tr style=\"text-align: right;\">\n      <th></th>\n      <th>show_id</th>\n      <th>type</th>\n      <th>title</th>\n      <th>director</th>\n      <th>cast</th>\n      <th>country</th>\n      <th>date_added</th>\n      <th>release_year</th>\n      <th>rating</th>\n      <th>duration</th>\n      <th>listed_in</th>\n      <th>description</th>\n    </tr>\n  </thead>\n  <tbody>\n    <tr>\n      <th>0</th>\n      <td>81145628</td>\n      <td>Movie</td>\n      <td>Norm of the North: King Sized Adventure</td>\n      <td>Richard Finn, Tim Maltby</td>\n      <td>Alan Marriott, Andrew Toth, Brian Dobson, Cole...</td>\n      <td>United States, India, South Korea, China</td>\n      <td>September 9, 2019</td>\n      <td>2019</td>\n      <td>TV-PG</td>\n      <td>90 min</td>\n      <td>Children &amp; Family Movies, Comedies</td>\n      <td>Before planning an awesome wedding for his gra...</td>\n    </tr>\n    <tr>\n      <th>1</th>\n      <td>80117401</td>\n      <td>Movie</td>\n      <td>Jandino: Whatever it Takes</td>\n      <td>NaN</td>\n      <td>Jandino Asporaat</td>\n      <td>United Kingdom</td>\n      <td>September 9, 2016</td>\n      <td>2016</td>\n      <td>TV-MA</td>\n      <td>94 min</td>\n      <td>Stand-Up Comedy</td>\n      <td>Jandino Asporaat riffs on the challenges of ra...</td>\n    </tr>\n    <tr>\n      <th>2</th>\n      <td>70234439</td>\n      <td>TV Show</td>\n      <td>Transformers Prime</td>\n      <td>NaN</td>\n      <td>Peter Cullen, Sumalee Montano, Frank Welker, J...</td>\n      <td>United States</td>\n      <td>September 8, 2018</td>\n      <td>2013</td>\n      <td>TV-Y7-FV</td>\n      <td>1 Season</td>\n      <td>Kids' TV</td>\n      <td>With the help of three human allies, the Autob...</td>\n    </tr>\n    <tr>\n      <th>3</th>\n      <td>80058654</td>\n      <td>TV Show</td>\n      <td>Transformers: Robots in Disguise</td>\n      <td>NaN</td>\n      <td>Will Friedle, Darren Criss, Constance Zimmer, ...</td>\n      <td>United States</td>\n      <td>September 8, 2018</td>\n      <td>2016</td>\n      <td>TV-Y7</td>\n      <td>1 Season</td>\n      <td>Kids' TV</td>\n      <td>When a prison ship crash unleashes hundreds of...</td>\n    </tr>\n    <tr>\n      <th>4</th>\n      <td>80125979</td>\n      <td>Movie</td>\n      <td>#realityhigh</td>\n      <td>Fernando Lebrija</td>\n      <td>Nesta Cooper, Kate Walsh, John Michael Higgins...</td>\n      <td>United States</td>\n      <td>September 8, 2017</td>\n      <td>2017</td>\n      <td>TV-14</td>\n      <td>99 min</td>\n      <td>Comedies</td>\n      <td>When nerdy high schooler Dani finally attracts...</td>\n    </tr>\n  </tbody>\n</table>\n</div>"
     },
     "metadata": {},
     "execution_count": 367
    }
   ],
   "source": [
    "NetflixDF.head()"
   ]
  },
  {
   "cell_type": "code",
   "execution_count": 368,
   "metadata": {},
   "outputs": [
    {
     "output_type": "execute_result",
     "data": {
      "text/plain": "(6234, 12)"
     },
     "metadata": {},
     "execution_count": 368
    }
   ],
   "source": [
    "NetflixDF.shape"
   ]
  },
  {
   "cell_type": "code",
   "execution_count": 369,
   "metadata": {},
   "outputs": [
    {
     "output_type": "stream",
     "name": "stdout",
     "text": "<class 'pandas.core.frame.DataFrame'>\nRangeIndex: 6234 entries, 0 to 6233\nData columns (total 12 columns):\nshow_id         6234 non-null int64\ntype            6234 non-null object\ntitle           6234 non-null object\ndirector        4265 non-null object\ncast            5664 non-null object\ncountry         5758 non-null object\ndate_added      6223 non-null object\nrelease_year    6234 non-null int64\nrating          6224 non-null object\nduration        6234 non-null object\nlisted_in       6234 non-null object\ndescription     6234 non-null object\ndtypes: int64(2), object(10)\nmemory usage: 584.5+ KB\n"
    }
   ],
   "source": [
    "NetflixDF.info()"
   ]
  },
  {
   "cell_type": "code",
   "execution_count": 370,
   "metadata": {},
   "outputs": [
    {
     "output_type": "execute_result",
     "data": {
      "text/plain": "            show_id  release_year\ncount  6.234000e+03    6234.00000\nmean   7.670368e+07    2013.35932\nstd    1.094296e+07       8.81162\nmin    2.477470e+05    1925.00000\n25%    8.003580e+07    2013.00000\n50%    8.016337e+07    2016.00000\n75%    8.024489e+07    2018.00000\nmax    8.123573e+07    2020.00000",
      "text/html": "<div>\n<style scoped>\n    .dataframe tbody tr th:only-of-type {\n        vertical-align: middle;\n    }\n\n    .dataframe tbody tr th {\n        vertical-align: top;\n    }\n\n    .dataframe thead th {\n        text-align: right;\n    }\n</style>\n<table border=\"1\" class=\"dataframe\">\n  <thead>\n    <tr style=\"text-align: right;\">\n      <th></th>\n      <th>show_id</th>\n      <th>release_year</th>\n    </tr>\n  </thead>\n  <tbody>\n    <tr>\n      <th>count</th>\n      <td>6.234000e+03</td>\n      <td>6234.00000</td>\n    </tr>\n    <tr>\n      <th>mean</th>\n      <td>7.670368e+07</td>\n      <td>2013.35932</td>\n    </tr>\n    <tr>\n      <th>std</th>\n      <td>1.094296e+07</td>\n      <td>8.81162</td>\n    </tr>\n    <tr>\n      <th>min</th>\n      <td>2.477470e+05</td>\n      <td>1925.00000</td>\n    </tr>\n    <tr>\n      <th>25%</th>\n      <td>8.003580e+07</td>\n      <td>2013.00000</td>\n    </tr>\n    <tr>\n      <th>50%</th>\n      <td>8.016337e+07</td>\n      <td>2016.00000</td>\n    </tr>\n    <tr>\n      <th>75%</th>\n      <td>8.024489e+07</td>\n      <td>2018.00000</td>\n    </tr>\n    <tr>\n      <th>max</th>\n      <td>8.123573e+07</td>\n      <td>2020.00000</td>\n    </tr>\n  </tbody>\n</table>\n</div>"
     },
     "metadata": {},
     "execution_count": 370
    }
   ],
   "source": [
    "NetflixDF.describe()"
   ]
  },
  {
   "cell_type": "code",
   "execution_count": 371,
   "metadata": {},
   "outputs": [
    {
     "output_type": "execute_result",
     "data": {
      "text/plain": "show_id            0\ntype               0\ntitle              0\ndirector        1969\ncast             570\ncountry          476\ndate_added        11\nrelease_year       0\nrating            10\nduration           0\nlisted_in          0\ndescription        0\ndtype: int64"
     },
     "metadata": {},
     "execution_count": 371
    }
   ],
   "source": [
    "NetflixDF.isna().sum()\n",
    ""
   ]
  },
  {
   "cell_type": "code",
   "execution_count": null,
   "metadata": {},
   "outputs": [],
   "source": [
    "# Create a movie and a tv show dataframe"
   ]
  },
  {
   "cell_type": "code",
   "execution_count": 372,
   "metadata": {},
   "outputs": [],
   "source": [
    "NetflixMovies = netflixDF[netflixDF['type'] == 'Movie']"
   ]
  },
  {
   "cell_type": "code",
   "execution_count": 373,
   "metadata": {},
   "outputs": [
    {
     "output_type": "execute_result",
     "data": {
      "text/plain": "(4265, 12)"
     },
     "metadata": {},
     "execution_count": 373
    }
   ],
   "source": [
    "NetflixMovies.shape"
   ]
  },
  {
   "cell_type": "code",
   "execution_count": 374,
   "metadata": {},
   "outputs": [
    {
     "output_type": "execute_result",
     "data": {
      "text/plain": "            show_id  release_year\ncount  4.265000e+03   4265.000000\nmean   7.562096e+07   2012.354279\nstd    1.287630e+07      9.735306\nmin    2.477470e+05   1942.000000\n25%    7.030419e+07   2012.000000\n50%    8.015858e+07   2016.000000\n75%    8.099157e+07   2017.000000\nmax    8.123573e+07   2020.000000",
      "text/html": "<div>\n<style scoped>\n    .dataframe tbody tr th:only-of-type {\n        vertical-align: middle;\n    }\n\n    .dataframe tbody tr th {\n        vertical-align: top;\n    }\n\n    .dataframe thead th {\n        text-align: right;\n    }\n</style>\n<table border=\"1\" class=\"dataframe\">\n  <thead>\n    <tr style=\"text-align: right;\">\n      <th></th>\n      <th>show_id</th>\n      <th>release_year</th>\n    </tr>\n  </thead>\n  <tbody>\n    <tr>\n      <th>count</th>\n      <td>4.265000e+03</td>\n      <td>4265.000000</td>\n    </tr>\n    <tr>\n      <th>mean</th>\n      <td>7.562096e+07</td>\n      <td>2012.354279</td>\n    </tr>\n    <tr>\n      <th>std</th>\n      <td>1.287630e+07</td>\n      <td>9.735306</td>\n    </tr>\n    <tr>\n      <th>min</th>\n      <td>2.477470e+05</td>\n      <td>1942.000000</td>\n    </tr>\n    <tr>\n      <th>25%</th>\n      <td>7.030419e+07</td>\n      <td>2012.000000</td>\n    </tr>\n    <tr>\n      <th>50%</th>\n      <td>8.015858e+07</td>\n      <td>2016.000000</td>\n    </tr>\n    <tr>\n      <th>75%</th>\n      <td>8.099157e+07</td>\n      <td>2017.000000</td>\n    </tr>\n    <tr>\n      <th>max</th>\n      <td>8.123573e+07</td>\n      <td>2020.000000</td>\n    </tr>\n  </tbody>\n</table>\n</div>"
     },
     "metadata": {},
     "execution_count": 374
    }
   ],
   "source": [
    "NetflixMovies.describe()"
   ]
  },
  {
   "cell_type": "code",
   "execution_count": 375,
   "metadata": {},
   "outputs": [
    {
     "output_type": "stream",
     "name": "stdout",
     "text": "<class 'pandas.core.frame.DataFrame'>\nInt64Index: 4265 entries, 0 to 6231\nData columns (total 12 columns):\nshow_id         4265 non-null int64\ntype            4265 non-null object\ntitle           4265 non-null object\ndirector        4137 non-null object\ncast            3905 non-null object\ncountry         4070 non-null object\ndate_added      4264 non-null object\nrelease_year    4265 non-null int64\nrating          4257 non-null object\nduration        4265 non-null object\nlisted_in       4265 non-null object\ndescription     4265 non-null object\ndtypes: int64(2), object(10)\nmemory usage: 433.2+ KB\n"
    }
   ],
   "source": [
    "NetflixMovies.info()"
   ]
  },
  {
   "cell_type": "code",
   "execution_count": 376,
   "metadata": {},
   "outputs": [
    {
     "output_type": "execute_result",
     "data": {
      "text/plain": "show_id           0\ntype              0\ntitle             0\ndirector        128\ncast            360\ncountry         195\ndate_added        1\nrelease_year      0\nrating            8\nduration          0\nlisted_in         0\ndescription       0\ndtype: int64"
     },
     "metadata": {},
     "execution_count": 376
    }
   ],
   "source": [
    "NetflixMovies.isna().sum()"
   ]
  },
  {
   "cell_type": "code",
   "execution_count": 377,
   "metadata": {},
   "outputs": [
    {
     "output_type": "execute_result",
     "data": {
      "text/plain": "    show_id   type                                    title  \\\n0  81145628  Movie  Norm of the North: King Sized Adventure   \n1  80117401  Movie               Jandino: Whatever it Takes   \n4  80125979  Movie                             #realityhigh   \n6  70304989  Movie                                 Automata   \n7  80164077  Movie       Fabrizio Copano: Solo pienso en mi   \n\n                          director  \\\n0         Richard Finn, Tim Maltby   \n1                              NaN   \n4                 Fernando Lebrija   \n6                      Gabe Ibáñez   \n7  Rodrigo Toro, Francisco Schultz   \n\n                                                cast  \\\n0  Alan Marriott, Andrew Toth, Brian Dobson, Cole...   \n1                                   Jandino Asporaat   \n4  Nesta Cooper, Kate Walsh, John Michael Higgins...   \n6  Antonio Banderas, Dylan McDermott, Melanie Gri...   \n7                                    Fabrizio Copano   \n\n                                    country         date_added  release_year  \\\n0  United States, India, South Korea, China  September 9, 2019          2019   \n1                            United Kingdom  September 9, 2016          2016   \n4                             United States  September 8, 2017          2017   \n6    Bulgaria, United States, Spain, Canada  September 8, 2017          2014   \n7                                     Chile  September 8, 2017          2017   \n\n  rating duration                                          listed_in  \\\n0  TV-PG   90 min                 Children & Family Movies, Comedies   \n1  TV-MA   94 min                                    Stand-Up Comedy   \n4  TV-14   99 min                                           Comedies   \n6      R  110 min  International Movies, Sci-Fi & Fantasy, Thrillers   \n7  TV-MA   60 min                                    Stand-Up Comedy   \n\n                                         description  \n0  Before planning an awesome wedding for his gra...  \n1  Jandino Asporaat riffs on the challenges of ra...  \n4  When nerdy high schooler Dani finally attracts...  \n6  In a dystopian future, an insurance adjuster f...  \n7  Fabrizio Copano takes audience participation t...  ",
      "text/html": "<div>\n<style scoped>\n    .dataframe tbody tr th:only-of-type {\n        vertical-align: middle;\n    }\n\n    .dataframe tbody tr th {\n        vertical-align: top;\n    }\n\n    .dataframe thead th {\n        text-align: right;\n    }\n</style>\n<table border=\"1\" class=\"dataframe\">\n  <thead>\n    <tr style=\"text-align: right;\">\n      <th></th>\n      <th>show_id</th>\n      <th>type</th>\n      <th>title</th>\n      <th>director</th>\n      <th>cast</th>\n      <th>country</th>\n      <th>date_added</th>\n      <th>release_year</th>\n      <th>rating</th>\n      <th>duration</th>\n      <th>listed_in</th>\n      <th>description</th>\n    </tr>\n  </thead>\n  <tbody>\n    <tr>\n      <th>0</th>\n      <td>81145628</td>\n      <td>Movie</td>\n      <td>Norm of the North: King Sized Adventure</td>\n      <td>Richard Finn, Tim Maltby</td>\n      <td>Alan Marriott, Andrew Toth, Brian Dobson, Cole...</td>\n      <td>United States, India, South Korea, China</td>\n      <td>September 9, 2019</td>\n      <td>2019</td>\n      <td>TV-PG</td>\n      <td>90 min</td>\n      <td>Children &amp; Family Movies, Comedies</td>\n      <td>Before planning an awesome wedding for his gra...</td>\n    </tr>\n    <tr>\n      <th>1</th>\n      <td>80117401</td>\n      <td>Movie</td>\n      <td>Jandino: Whatever it Takes</td>\n      <td>NaN</td>\n      <td>Jandino Asporaat</td>\n      <td>United Kingdom</td>\n      <td>September 9, 2016</td>\n      <td>2016</td>\n      <td>TV-MA</td>\n      <td>94 min</td>\n      <td>Stand-Up Comedy</td>\n      <td>Jandino Asporaat riffs on the challenges of ra...</td>\n    </tr>\n    <tr>\n      <th>4</th>\n      <td>80125979</td>\n      <td>Movie</td>\n      <td>#realityhigh</td>\n      <td>Fernando Lebrija</td>\n      <td>Nesta Cooper, Kate Walsh, John Michael Higgins...</td>\n      <td>United States</td>\n      <td>September 8, 2017</td>\n      <td>2017</td>\n      <td>TV-14</td>\n      <td>99 min</td>\n      <td>Comedies</td>\n      <td>When nerdy high schooler Dani finally attracts...</td>\n    </tr>\n    <tr>\n      <th>6</th>\n      <td>70304989</td>\n      <td>Movie</td>\n      <td>Automata</td>\n      <td>Gabe Ibáñez</td>\n      <td>Antonio Banderas, Dylan McDermott, Melanie Gri...</td>\n      <td>Bulgaria, United States, Spain, Canada</td>\n      <td>September 8, 2017</td>\n      <td>2014</td>\n      <td>R</td>\n      <td>110 min</td>\n      <td>International Movies, Sci-Fi &amp; Fantasy, Thrillers</td>\n      <td>In a dystopian future, an insurance adjuster f...</td>\n    </tr>\n    <tr>\n      <th>7</th>\n      <td>80164077</td>\n      <td>Movie</td>\n      <td>Fabrizio Copano: Solo pienso en mi</td>\n      <td>Rodrigo Toro, Francisco Schultz</td>\n      <td>Fabrizio Copano</td>\n      <td>Chile</td>\n      <td>September 8, 2017</td>\n      <td>2017</td>\n      <td>TV-MA</td>\n      <td>60 min</td>\n      <td>Stand-Up Comedy</td>\n      <td>Fabrizio Copano takes audience participation t...</td>\n    </tr>\n  </tbody>\n</table>\n</div>"
     },
     "metadata": {},
     "execution_count": 377
    }
   ],
   "source": [
    "NetflixMovies.head()"
   ]
  },
  {
   "cell_type": "code",
   "execution_count": 378,
   "metadata": {},
   "outputs": [],
   "source": [
    "# removed nulls from movies dataframe\n",
    "NetflixMovies= NetflixMovies.dropna()"
   ]
  },
  {
   "cell_type": "code",
   "execution_count": 379,
   "metadata": {},
   "outputs": [
    {
     "output_type": "execute_result",
     "data": {
      "text/plain": "    show_id   type                                    title  \\\n0  81145628  Movie  Norm of the North: King Sized Adventure   \n4  80125979  Movie                             #realityhigh   \n6  70304989  Movie                                 Automata   \n7  80164077  Movie       Fabrizio Copano: Solo pienso en mi   \n9  70304990  Movie                              Good People   \n\n                          director  \\\n0         Richard Finn, Tim Maltby   \n4                 Fernando Lebrija   \n6                      Gabe Ibáñez   \n7  Rodrigo Toro, Francisco Schultz   \n9                Henrik Ruben Genz   \n\n                                                cast  \\\n0  Alan Marriott, Andrew Toth, Brian Dobson, Cole...   \n4  Nesta Cooper, Kate Walsh, John Michael Higgins...   \n6  Antonio Banderas, Dylan McDermott, Melanie Gri...   \n7                                    Fabrizio Copano   \n9  James Franco, Kate Hudson, Tom Wilkinson, Omar...   \n\n                                          country         date_added  \\\n0        United States, India, South Korea, China  September 9, 2019   \n4                                   United States  September 8, 2017   \n6          Bulgaria, United States, Spain, Canada  September 8, 2017   \n7                                           Chile  September 8, 2017   \n9  United States, United Kingdom, Denmark, Sweden  September 8, 2017   \n\n   release_year rating duration  \\\n0          2019  TV-PG   90 min   \n4          2017  TV-14   99 min   \n6          2014      R  110 min   \n7          2017  TV-MA   60 min   \n9          2014      R   90 min   \n\n                                           listed_in  \\\n0                 Children & Family Movies, Comedies   \n4                                           Comedies   \n6  International Movies, Sci-Fi & Fantasy, Thrillers   \n7                                    Stand-Up Comedy   \n9                      Action & Adventure, Thrillers   \n\n                                         description  \n0  Before planning an awesome wedding for his gra...  \n4  When nerdy high schooler Dani finally attracts...  \n6  In a dystopian future, an insurance adjuster f...  \n7  Fabrizio Copano takes audience participation t...  \n9  A struggling couple can't believe their luck w...  ",
      "text/html": "<div>\n<style scoped>\n    .dataframe tbody tr th:only-of-type {\n        vertical-align: middle;\n    }\n\n    .dataframe tbody tr th {\n        vertical-align: top;\n    }\n\n    .dataframe thead th {\n        text-align: right;\n    }\n</style>\n<table border=\"1\" class=\"dataframe\">\n  <thead>\n    <tr style=\"text-align: right;\">\n      <th></th>\n      <th>show_id</th>\n      <th>type</th>\n      <th>title</th>\n      <th>director</th>\n      <th>cast</th>\n      <th>country</th>\n      <th>date_added</th>\n      <th>release_year</th>\n      <th>rating</th>\n      <th>duration</th>\n      <th>listed_in</th>\n      <th>description</th>\n    </tr>\n  </thead>\n  <tbody>\n    <tr>\n      <th>0</th>\n      <td>81145628</td>\n      <td>Movie</td>\n      <td>Norm of the North: King Sized Adventure</td>\n      <td>Richard Finn, Tim Maltby</td>\n      <td>Alan Marriott, Andrew Toth, Brian Dobson, Cole...</td>\n      <td>United States, India, South Korea, China</td>\n      <td>September 9, 2019</td>\n      <td>2019</td>\n      <td>TV-PG</td>\n      <td>90 min</td>\n      <td>Children &amp; Family Movies, Comedies</td>\n      <td>Before planning an awesome wedding for his gra...</td>\n    </tr>\n    <tr>\n      <th>4</th>\n      <td>80125979</td>\n      <td>Movie</td>\n      <td>#realityhigh</td>\n      <td>Fernando Lebrija</td>\n      <td>Nesta Cooper, Kate Walsh, John Michael Higgins...</td>\n      <td>United States</td>\n      <td>September 8, 2017</td>\n      <td>2017</td>\n      <td>TV-14</td>\n      <td>99 min</td>\n      <td>Comedies</td>\n      <td>When nerdy high schooler Dani finally attracts...</td>\n    </tr>\n    <tr>\n      <th>6</th>\n      <td>70304989</td>\n      <td>Movie</td>\n      <td>Automata</td>\n      <td>Gabe Ibáñez</td>\n      <td>Antonio Banderas, Dylan McDermott, Melanie Gri...</td>\n      <td>Bulgaria, United States, Spain, Canada</td>\n      <td>September 8, 2017</td>\n      <td>2014</td>\n      <td>R</td>\n      <td>110 min</td>\n      <td>International Movies, Sci-Fi &amp; Fantasy, Thrillers</td>\n      <td>In a dystopian future, an insurance adjuster f...</td>\n    </tr>\n    <tr>\n      <th>7</th>\n      <td>80164077</td>\n      <td>Movie</td>\n      <td>Fabrizio Copano: Solo pienso en mi</td>\n      <td>Rodrigo Toro, Francisco Schultz</td>\n      <td>Fabrizio Copano</td>\n      <td>Chile</td>\n      <td>September 8, 2017</td>\n      <td>2017</td>\n      <td>TV-MA</td>\n      <td>60 min</td>\n      <td>Stand-Up Comedy</td>\n      <td>Fabrizio Copano takes audience participation t...</td>\n    </tr>\n    <tr>\n      <th>9</th>\n      <td>70304990</td>\n      <td>Movie</td>\n      <td>Good People</td>\n      <td>Henrik Ruben Genz</td>\n      <td>James Franco, Kate Hudson, Tom Wilkinson, Omar...</td>\n      <td>United States, United Kingdom, Denmark, Sweden</td>\n      <td>September 8, 2017</td>\n      <td>2014</td>\n      <td>R</td>\n      <td>90 min</td>\n      <td>Action &amp; Adventure, Thrillers</td>\n      <td>A struggling couple can't believe their luck w...</td>\n    </tr>\n  </tbody>\n</table>\n</div>"
     },
     "metadata": {},
     "execution_count": 379
    }
   ],
   "source": [
    "NetflixMovies.head()\n",
    ""
   ]
  },
  {
   "cell_type": "code",
   "execution_count": 380,
   "metadata": {},
   "outputs": [
    {
     "output_type": "execute_result",
     "data": {
      "text/plain": "(3678, 12)"
     },
     "metadata": {},
     "execution_count": 380
    }
   ],
   "source": [
    "NetflixMovies.shape"
   ]
  },
  {
   "cell_type": "code",
   "execution_count": 381,
   "metadata": {},
   "outputs": [],
   "source": [
    "# Converted dates to date time\n",
    "NetflixMovies['date_added'] =NetflixMovies['date_added'].apply(pd.to_datetime)\n",
    "# NetflixMovies['duration'] = NetflixMovies['duration'].apply(str.strip(' min'))\n",
    "NetflixMovies['release_year']=NetflixMovies['release_year'].apply(pd.to_numeric)\n",
    "#NetflixMovies[['release_year','dur']].apply(pd.to_datetime)\n",
    "#NetflixMovies['duration'].apply( lambda x: str.strip('min'))"
   ]
  },
  {
   "cell_type": "code",
   "execution_count": 391,
   "metadata": {},
   "outputs": [],
   "source": [
    "# REemoved 'Min' from duration and converted to numeric value \n",
    "NetflixMovies['duration']=NetflixMovies['duration'].apply( lambda x: NetflixMovies['duration'].str.strip('min') )\n",
    "NetflixMovies['duration']=NetflixMovies['duration'].apply(pd.to_numeric)"
   ]
  },
  {
   "cell_type": "code",
   "execution_count": 392,
   "metadata": {},
   "outputs": [
    {
     "output_type": "execute_result",
     "data": {
      "text/plain": "    show_id   type                                    title  \\\n0  81145628  Movie  Norm of the North: King Sized Adventure   \n4  80125979  Movie                             #realityhigh   \n6  70304989  Movie                                 Automata   \n7  80164077  Movie       Fabrizio Copano: Solo pienso en mi   \n9  70304990  Movie                              Good People   \n\n                          director  \\\n0         Richard Finn, Tim Maltby   \n4                 Fernando Lebrija   \n6                      Gabe Ibáñez   \n7  Rodrigo Toro, Francisco Schultz   \n9                Henrik Ruben Genz   \n\n                                                cast  \\\n0  Alan Marriott, Andrew Toth, Brian Dobson, Cole...   \n4  Nesta Cooper, Kate Walsh, John Michael Higgins...   \n6  Antonio Banderas, Dylan McDermott, Melanie Gri...   \n7                                    Fabrizio Copano   \n9  James Franco, Kate Hudson, Tom Wilkinson, Omar...   \n\n                                          country date_added  release_year  \\\n0        United States, India, South Korea, China 2019-09-09          2019   \n4                                   United States 2017-09-08          2017   \n6          Bulgaria, United States, Spain, Canada 2017-09-08          2014   \n7                                           Chile 2017-09-08          2017   \n9  United States, United Kingdom, Denmark, Sweden 2017-09-08          2014   \n\n  rating  duration                                          listed_in  \\\n0  TV-PG        90                 Children & Family Movies, Comedies   \n4  TV-14        90                                           Comedies   \n6      R        90  International Movies, Sci-Fi & Fantasy, Thrillers   \n7  TV-MA        90                                    Stand-Up Comedy   \n9      R        90                      Action & Adventure, Thrillers   \n\n                                         description  \n0  Before planning an awesome wedding for his gra...  \n4  When nerdy high schooler Dani finally attracts...  \n6  In a dystopian future, an insurance adjuster f...  \n7  Fabrizio Copano takes audience participation t...  \n9  A struggling couple can't believe their luck w...  ",
      "text/html": "<div>\n<style scoped>\n    .dataframe tbody tr th:only-of-type {\n        vertical-align: middle;\n    }\n\n    .dataframe tbody tr th {\n        vertical-align: top;\n    }\n\n    .dataframe thead th {\n        text-align: right;\n    }\n</style>\n<table border=\"1\" class=\"dataframe\">\n  <thead>\n    <tr style=\"text-align: right;\">\n      <th></th>\n      <th>show_id</th>\n      <th>type</th>\n      <th>title</th>\n      <th>director</th>\n      <th>cast</th>\n      <th>country</th>\n      <th>date_added</th>\n      <th>release_year</th>\n      <th>rating</th>\n      <th>duration</th>\n      <th>listed_in</th>\n      <th>description</th>\n    </tr>\n  </thead>\n  <tbody>\n    <tr>\n      <th>0</th>\n      <td>81145628</td>\n      <td>Movie</td>\n      <td>Norm of the North: King Sized Adventure</td>\n      <td>Richard Finn, Tim Maltby</td>\n      <td>Alan Marriott, Andrew Toth, Brian Dobson, Cole...</td>\n      <td>United States, India, South Korea, China</td>\n      <td>2019-09-09</td>\n      <td>2019</td>\n      <td>TV-PG</td>\n      <td>90</td>\n      <td>Children &amp; Family Movies, Comedies</td>\n      <td>Before planning an awesome wedding for his gra...</td>\n    </tr>\n    <tr>\n      <th>4</th>\n      <td>80125979</td>\n      <td>Movie</td>\n      <td>#realityhigh</td>\n      <td>Fernando Lebrija</td>\n      <td>Nesta Cooper, Kate Walsh, John Michael Higgins...</td>\n      <td>United States</td>\n      <td>2017-09-08</td>\n      <td>2017</td>\n      <td>TV-14</td>\n      <td>90</td>\n      <td>Comedies</td>\n      <td>When nerdy high schooler Dani finally attracts...</td>\n    </tr>\n    <tr>\n      <th>6</th>\n      <td>70304989</td>\n      <td>Movie</td>\n      <td>Automata</td>\n      <td>Gabe Ibáñez</td>\n      <td>Antonio Banderas, Dylan McDermott, Melanie Gri...</td>\n      <td>Bulgaria, United States, Spain, Canada</td>\n      <td>2017-09-08</td>\n      <td>2014</td>\n      <td>R</td>\n      <td>90</td>\n      <td>International Movies, Sci-Fi &amp; Fantasy, Thrillers</td>\n      <td>In a dystopian future, an insurance adjuster f...</td>\n    </tr>\n    <tr>\n      <th>7</th>\n      <td>80164077</td>\n      <td>Movie</td>\n      <td>Fabrizio Copano: Solo pienso en mi</td>\n      <td>Rodrigo Toro, Francisco Schultz</td>\n      <td>Fabrizio Copano</td>\n      <td>Chile</td>\n      <td>2017-09-08</td>\n      <td>2017</td>\n      <td>TV-MA</td>\n      <td>90</td>\n      <td>Stand-Up Comedy</td>\n      <td>Fabrizio Copano takes audience participation t...</td>\n    </tr>\n    <tr>\n      <th>9</th>\n      <td>70304990</td>\n      <td>Movie</td>\n      <td>Good People</td>\n      <td>Henrik Ruben Genz</td>\n      <td>James Franco, Kate Hudson, Tom Wilkinson, Omar...</td>\n      <td>United States, United Kingdom, Denmark, Sweden</td>\n      <td>2017-09-08</td>\n      <td>2014</td>\n      <td>R</td>\n      <td>90</td>\n      <td>Action &amp; Adventure, Thrillers</td>\n      <td>A struggling couple can't believe their luck w...</td>\n    </tr>\n  </tbody>\n</table>\n</div>"
     },
     "metadata": {},
     "execution_count": 392
    }
   ],
   "source": [
    "NetflixMovies.head()"
   ]
  },
  {
   "cell_type": "code",
   "execution_count": 393,
   "metadata": {},
   "outputs": [
    {
     "output_type": "stream",
     "name": "stdout",
     "text": "<class 'pandas.core.frame.DataFrame'>\nInt64Index: 3678 entries, 0 to 5580\nData columns (total 12 columns):\nshow_id         3678 non-null int64\ntype            3678 non-null object\ntitle           3678 non-null object\ndirector        3678 non-null object\ncast            3678 non-null object\ncountry         3678 non-null object\ndate_added      3678 non-null datetime64[ns]\nrelease_year    3678 non-null int64\nrating          3678 non-null object\nduration        3678 non-null int64\nlisted_in       3678 non-null object\ndescription     3678 non-null object\ndtypes: datetime64[ns](1), int64(3), object(8)\nmemory usage: 533.5+ KB\n"
    }
   ],
   "source": [
    "NetflixMovies.info()"
   ]
  },
  {
   "cell_type": "code",
   "execution_count": null,
   "metadata": {},
   "outputs": [],
   "source": [
    "##  TV SHOWS ##"
   ]
  },
  {
   "cell_type": "code",
   "execution_count": 25,
   "metadata": {},
   "outputs": [],
   "source": [
    "NetflixShows= netflixDF[netflixDF['type'] == 'TV Show']\n",
    ""
   ]
  },
  {
   "cell_type": "code",
   "execution_count": 28,
   "metadata": {},
   "outputs": [
    {
     "output_type": "execute_result",
     "data": {
      "text/plain": "(1969, 12)"
     },
     "metadata": {},
     "execution_count": 28
    }
   ],
   "source": [
    "NetflixShows.shape"
   ]
  },
  {
   "cell_type": "code",
   "execution_count": 32,
   "metadata": {},
   "outputs": [
    {
     "output_type": "stream",
     "name": "stdout",
     "text": "<class 'pandas.core.frame.DataFrame'>\nInt64Index: 1969 entries, 2 to 6233\nData columns (total 12 columns):\nshow_id         1969 non-null int64\ntype            1969 non-null object\ntitle           1969 non-null object\ndirector        128 non-null object\ncast            1759 non-null object\ncountry         1688 non-null object\ndate_added      1959 non-null object\nrelease_year    1969 non-null int64\nrating          1967 non-null object\nduration        1969 non-null object\nlisted_in       1969 non-null object\ndescription     1969 non-null object\ndtypes: int64(2), object(10)\nmemory usage: 280.0+ KB\n"
    }
   ],
   "source": [
    "NetflixShows.info()"
   ]
  },
  {
   "cell_type": "code",
   "execution_count": 35,
   "metadata": {},
   "outputs": [
    {
     "output_type": "execute_result",
     "data": {
      "text/plain": "            show_id  release_year\ncount  1.969000e+03   1969.000000\nmean   7.904892e+07   2015.536313\nstd    3.462549e+06      5.799568\nmin    6.003679e+07   1925.000000\n25%    8.009178e+07   2015.000000\n50%    8.017572e+07   2017.000000\n75%    8.023986e+07   2018.000000\nmax    8.123560e+07   2020.000000",
      "text/html": "<div>\n<style scoped>\n    .dataframe tbody tr th:only-of-type {\n        vertical-align: middle;\n    }\n\n    .dataframe tbody tr th {\n        vertical-align: top;\n    }\n\n    .dataframe thead th {\n        text-align: right;\n    }\n</style>\n<table border=\"1\" class=\"dataframe\">\n  <thead>\n    <tr style=\"text-align: right;\">\n      <th></th>\n      <th>show_id</th>\n      <th>release_year</th>\n    </tr>\n  </thead>\n  <tbody>\n    <tr>\n      <th>count</th>\n      <td>1.969000e+03</td>\n      <td>1969.000000</td>\n    </tr>\n    <tr>\n      <th>mean</th>\n      <td>7.904892e+07</td>\n      <td>2015.536313</td>\n    </tr>\n    <tr>\n      <th>std</th>\n      <td>3.462549e+06</td>\n      <td>5.799568</td>\n    </tr>\n    <tr>\n      <th>min</th>\n      <td>6.003679e+07</td>\n      <td>1925.000000</td>\n    </tr>\n    <tr>\n      <th>25%</th>\n      <td>8.009178e+07</td>\n      <td>2015.000000</td>\n    </tr>\n    <tr>\n      <th>50%</th>\n      <td>8.017572e+07</td>\n      <td>2017.000000</td>\n    </tr>\n    <tr>\n      <th>75%</th>\n      <td>8.023986e+07</td>\n      <td>2018.000000</td>\n    </tr>\n    <tr>\n      <th>max</th>\n      <td>8.123560e+07</td>\n      <td>2020.000000</td>\n    </tr>\n  </tbody>\n</table>\n</div>"
     },
     "metadata": {},
     "execution_count": 35
    }
   ],
   "source": [
    "NetflixShows.describe()"
   ]
  },
  {
   "cell_type": "code",
   "execution_count": 29,
   "metadata": {},
   "outputs": [
    {
     "output_type": "execute_result",
     "data": {
      "text/plain": "     show_id     type                             title director  \\\n2   70234439  TV Show                Transformers Prime      NaN   \n3   80058654  TV Show  Transformers: Robots in Disguise      NaN   \n5   80163890  TV Show                           Apaches      NaN   \n8   80117902  TV Show                      Fire Chasers      NaN   \n26  80244601  TV Show                   Castle of Stars      NaN   \n\n                                                 cast        country  \\\n2   Peter Cullen, Sumalee Montano, Frank Welker, J...  United States   \n3   Will Friedle, Darren Criss, Constance Zimmer, ...  United States   \n5   Alberto Ammann, Eloy Azorín, Verónica Echegui,...          Spain   \n8                                                 NaN  United States   \n26  Chaiyapol Pupart, Jintanutda Lummakanon, Worra...            NaN   \n\n           date_added  release_year    rating  duration  \\\n2   September 8, 2018          2013  TV-Y7-FV  1 Season   \n3   September 8, 2018          2016     TV-Y7  1 Season   \n5   September 8, 2017          2016     TV-MA  1 Season   \n8   September 8, 2017          2017     TV-MA  1 Season   \n26  September 7, 2018          2015     TV-14  1 Season   \n\n                                            listed_in  \\\n2                                            Kids' TV   \n3                                            Kids' TV   \n5   Crime TV Shows, International TV Shows, Spanis...   \n8                     Docuseries, Science & Nature TV   \n26  International TV Shows, Romantic TV Shows, TV ...   \n\n                                          description  \n2   With the help of three human allies, the Autob...  \n3   When a prison ship crash unleashes hundreds of...  \n5   A young journalist is forced into a life of cr...  \n8   As California's 2016 fire season rages, brave ...  \n26  As four couples with different lifestyles go t...  ",
      "text/html": "<div>\n<style scoped>\n    .dataframe tbody tr th:only-of-type {\n        vertical-align: middle;\n    }\n\n    .dataframe tbody tr th {\n        vertical-align: top;\n    }\n\n    .dataframe thead th {\n        text-align: right;\n    }\n</style>\n<table border=\"1\" class=\"dataframe\">\n  <thead>\n    <tr style=\"text-align: right;\">\n      <th></th>\n      <th>show_id</th>\n      <th>type</th>\n      <th>title</th>\n      <th>director</th>\n      <th>cast</th>\n      <th>country</th>\n      <th>date_added</th>\n      <th>release_year</th>\n      <th>rating</th>\n      <th>duration</th>\n      <th>listed_in</th>\n      <th>description</th>\n    </tr>\n  </thead>\n  <tbody>\n    <tr>\n      <th>2</th>\n      <td>70234439</td>\n      <td>TV Show</td>\n      <td>Transformers Prime</td>\n      <td>NaN</td>\n      <td>Peter Cullen, Sumalee Montano, Frank Welker, J...</td>\n      <td>United States</td>\n      <td>September 8, 2018</td>\n      <td>2013</td>\n      <td>TV-Y7-FV</td>\n      <td>1 Season</td>\n      <td>Kids' TV</td>\n      <td>With the help of three human allies, the Autob...</td>\n    </tr>\n    <tr>\n      <th>3</th>\n      <td>80058654</td>\n      <td>TV Show</td>\n      <td>Transformers: Robots in Disguise</td>\n      <td>NaN</td>\n      <td>Will Friedle, Darren Criss, Constance Zimmer, ...</td>\n      <td>United States</td>\n      <td>September 8, 2018</td>\n      <td>2016</td>\n      <td>TV-Y7</td>\n      <td>1 Season</td>\n      <td>Kids' TV</td>\n      <td>When a prison ship crash unleashes hundreds of...</td>\n    </tr>\n    <tr>\n      <th>5</th>\n      <td>80163890</td>\n      <td>TV Show</td>\n      <td>Apaches</td>\n      <td>NaN</td>\n      <td>Alberto Ammann, Eloy Azorín, Verónica Echegui,...</td>\n      <td>Spain</td>\n      <td>September 8, 2017</td>\n      <td>2016</td>\n      <td>TV-MA</td>\n      <td>1 Season</td>\n      <td>Crime TV Shows, International TV Shows, Spanis...</td>\n      <td>A young journalist is forced into a life of cr...</td>\n    </tr>\n    <tr>\n      <th>8</th>\n      <td>80117902</td>\n      <td>TV Show</td>\n      <td>Fire Chasers</td>\n      <td>NaN</td>\n      <td>NaN</td>\n      <td>United States</td>\n      <td>September 8, 2017</td>\n      <td>2017</td>\n      <td>TV-MA</td>\n      <td>1 Season</td>\n      <td>Docuseries, Science &amp; Nature TV</td>\n      <td>As California's 2016 fire season rages, brave ...</td>\n    </tr>\n    <tr>\n      <th>26</th>\n      <td>80244601</td>\n      <td>TV Show</td>\n      <td>Castle of Stars</td>\n      <td>NaN</td>\n      <td>Chaiyapol Pupart, Jintanutda Lummakanon, Worra...</td>\n      <td>NaN</td>\n      <td>September 7, 2018</td>\n      <td>2015</td>\n      <td>TV-14</td>\n      <td>1 Season</td>\n      <td>International TV Shows, Romantic TV Shows, TV ...</td>\n      <td>As four couples with different lifestyles go t...</td>\n    </tr>\n  </tbody>\n</table>\n</div>"
     },
     "metadata": {},
     "execution_count": 29
    }
   ],
   "source": [
    "NetflixShows.head()"
   ]
  },
  {
   "cell_type": "code",
   "execution_count": 38,
   "metadata": {},
   "outputs": [
    {
     "output_type": "execute_result",
     "data": {
      "text/plain": "show_id            0\ntype               0\ntitle              0\ndirector        1841\ncast             210\ncountry          281\ndate_added        10\nrelease_year       0\nrating             2\nduration           0\nlisted_in          0\ndescription        0\ndtype: int64"
     },
     "metadata": {},
     "execution_count": 38
    }
   ],
   "source": [
    "NetflixShows.isna().sum()"
   ]
  },
  {
   "cell_type": "code",
   "execution_count": null,
   "metadata": {},
   "outputs": [],
   "source": []
  }
 ]
}