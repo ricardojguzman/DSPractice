{
 "nbformat": 4,
 "nbformat_minor": 2,
 "metadata": {
  "language_info": {
   "name": "python",
   "codemirror_mode": {
    "name": "ipython",
    "version": 3
   },
   "version": "3.7.3-final"
  },
  "orig_nbformat": 2,
  "file_extension": ".py",
  "mimetype": "text/x-python",
  "name": "python",
  "npconvert_exporter": "python",
  "pygments_lexer": "ipython3",
  "version": 3,
  "kernelspec": {
   "name": "python37364bitbaseconda37cebdefdc074f38b71ba887856dd328",
   "display_name": "Python 3.7.3 64-bit ('base': conda)"
  }
 },
 "cells": [
  {
   "cell_type": "code",
   "execution_count": 41,
   "metadata": {},
   "outputs": [],
   "source": [
    "import pandas as pd\n",
    "import numpy as np\n",
    "import datetime "
   ]
  },
  {
   "cell_type": "code",
   "execution_count": 42,
   "metadata": {},
   "outputs": [],
   "source": [
    "TotalCases = pd.read_csv(\"https://docs.google.com/spreadsheets/d/1jS24DjSPVWa4iuxuD4OAXrE3QeI8c9BC1hSlqr-NMiU/export?format=csv&gid=0\")"
   ]
  },
  {
   "cell_type": "code",
   "execution_count": 107,
   "metadata": {},
   "outputs": [],
   "source": [
    "LineList= pd.read_csv(\"https://docs.google.com/spreadsheets/d/1jS24DjSPVWa4iuxuD4OAXrE3QeI8c9BC1hSlqr-NMiU/export?format=csv&gid=1187587451\")"
   ]
  },
  {
   "cell_type": "code",
   "execution_count": 44,
   "metadata": {},
   "outputs": [],
   "source": [
    "ProvinceIncidence= pd.read_csv(\"https://docs.google.com/spreadsheets/d/1jS24DjSPVWa4iuxuD4OAXrE3QeI8c9BC1hSlqr-NMiU/export?format=csv&gid=1837322948\")"
   ]
  },
  {
   "cell_type": "code",
   "execution_count": 45,
   "metadata": {},
   "outputs": [],
   "source": [
    "IncidentLog = pd.read_csv(\"https://docs.google.com/spreadsheets/d/1jS24DjSPVWa4iuxuD4OAXrE3QeI8c9BC1hSlqr-NMiU/export?format=csv&gid=1202885709\")"
   ]
  },
  {
   "cell_type": "code",
   "execution_count": 46,
   "metadata": {},
   "outputs": [],
   "source": [
    "IncidentLogSecond= pd.read_csv(\"https://docs.google.com/spreadsheets/d/1jS24DjSPVWa4iuxuD4OAXrE3QeI8c9BC1hSlqr-NMiU/export?format=csv&gid=1180262595\")"
   ]
  },
  {
   "cell_type": "code",
   "execution_count": 47,
   "metadata": {},
   "outputs": [
    {
     "data": {
      "text/html": "<div>\n<style scoped>\n    .dataframe tbody tr th:only-of-type {\n        vertical-align: middle;\n    }\n\n    .dataframe tbody tr th {\n        vertical-align: top;\n    }\n\n    .dataframe thead th {\n        text-align: right;\n    }\n</style>\n<table border=\"1\" class=\"dataframe\">\n  <thead>\n    <tr style=\"text-align: right;\">\n      <th></th>\n      <th>Province</th>\n      <th>Confirmed</th>\n      <th>Suspected</th>\n      <th>Death</th>\n      <th>Recovered</th>\n      <th>Link</th>\n      <th>Comments</th>\n    </tr>\n  </thead>\n  <tbody>\n    <tr>\n      <th>0</th>\n      <td>Total</td>\n      <td>40315.0</td>\n      <td>23589.0</td>\n      <td>909.0</td>\n      <td>3471.0</td>\n      <td>http://3g.dxy.cn/newh5/view/pneumonia</td>\n      <td>NaN</td>\n    </tr>\n    <tr>\n      <th>1</th>\n      <td>Hubei</td>\n      <td>29631.0</td>\n      <td>NaN</td>\n      <td>NaN</td>\n      <td>NaN</td>\n      <td>NaN</td>\n      <td>NaN</td>\n    </tr>\n    <tr>\n      <th>2</th>\n      <td>Guangdong</td>\n      <td>1159.0</td>\n      <td>NaN</td>\n      <td>NaN</td>\n      <td>NaN</td>\n      <td>NaN</td>\n      <td>NaN</td>\n    </tr>\n    <tr>\n      <th>3</th>\n      <td>Zhejiang</td>\n      <td>1092.0</td>\n      <td>NaN</td>\n      <td>NaN</td>\n      <td>NaN</td>\n      <td>NaN</td>\n      <td>NaN</td>\n    </tr>\n    <tr>\n      <th>4</th>\n      <td>Henan</td>\n      <td>1073.0</td>\n      <td>NaN</td>\n      <td>NaN</td>\n      <td>NaN</td>\n      <td>NaN</td>\n      <td>NaN</td>\n    </tr>\n  </tbody>\n</table>\n</div>",
      "text/plain": "    Province  Confirmed  Suspected  Death  Recovered  \\\n0      Total    40315.0    23589.0  909.0     3471.0   \n1      Hubei    29631.0        NaN    NaN        NaN   \n2  Guangdong     1159.0        NaN    NaN        NaN   \n3   Zhejiang     1092.0        NaN    NaN        NaN   \n4      Henan     1073.0        NaN    NaN        NaN   \n\n                                    Link  Comments  \n0  http://3g.dxy.cn/newh5/view/pneumonia       NaN  \n1                                    NaN       NaN  \n2                                    NaN       NaN  \n3                                    NaN       NaN  \n4                                    NaN       NaN  "
     },
     "execution_count": 47,
     "metadata": {},
     "output_type": "execute_result"
    }
   ],
   "source": [
    "TotalCases.head(5)"
   ]
  },
  {
   "cell_type": "code",
   "execution_count": 108,
   "metadata": {},
   "outputs": [
    {
     "data": {
      "text/html": "<div>\n<style scoped>\n    .dataframe tbody tr th:only-of-type {\n        vertical-align: middle;\n    }\n\n    .dataframe tbody tr th {\n        vertical-align: top;\n    }\n\n    .dataframe thead th {\n        text-align: right;\n    }\n</style>\n<table border=\"1\" class=\"dataframe\">\n  <thead>\n    <tr style=\"text-align: right;\">\n      <th></th>\n      <th>Email</th>\n      <th>Unnamed: 1</th>\n      <th>contact.sunky@gmail.com</th>\n      <th>Unnamed: 3</th>\n      <th>Email was incorrect before</th>\n      <th>Unnamed: 5</th>\n      <th>Unnamed: 6</th>\n      <th>Unnamed: 7</th>\n      <th>Unnamed: 8</th>\n      <th>Unnamed: 9</th>\n      <th>Unnamed: 10</th>\n      <th>Unnamed: 11</th>\n      <th>Unnamed: 12</th>\n      <th>Unnamed: 13</th>\n      <th>Unnamed: 14</th>\n      <th>Unnamed: 15</th>\n      <th>Unnamed: 16</th>\n      <th>Unnamed: 17</th>\n      <th>Unnamed: 18</th>\n      <th>Unnamed: 19</th>\n    </tr>\n  </thead>\n  <tbody>\n    <tr>\n      <th>0</th>\n      <td>id</td>\n      <td>case_in_country</td>\n      <td>reporting date</td>\n      <td>summary</td>\n      <td>location</td>\n      <td>country</td>\n      <td>gender</td>\n      <td>age</td>\n      <td>symptom_onset</td>\n      <td>If_onset_approximated</td>\n      <td>hosp_visit_date</td>\n      <td>exposure_start</td>\n      <td>exposure_end</td>\n      <td>visiting Wuhan</td>\n      <td>from Wuhan</td>\n      <td>death</td>\n      <td>recovered</td>\n      <td>symptom</td>\n      <td>source</td>\n      <td>link</td>\n    </tr>\n    <tr>\n      <th>1</th>\n      <td>1</td>\n      <td>NaN</td>\n      <td>1/20/2020</td>\n      <td>First confirmed imported COVID-19 pneumonia pa...</td>\n      <td>Shenzhen, Guangdong</td>\n      <td>China</td>\n      <td>male</td>\n      <td>66</td>\n      <td>1/3/2020</td>\n      <td>0</td>\n      <td>1/11/2020</td>\n      <td>12/29/2019</td>\n      <td>1/4/2020</td>\n      <td>1</td>\n      <td>0</td>\n      <td>0</td>\n      <td>0</td>\n      <td>NaN</td>\n      <td>Shenzhen Municipal Health Commission</td>\n      <td>http://wjw.sz.gov.cn/wzx/202001/t20200120_1898...</td>\n    </tr>\n    <tr>\n      <th>2</th>\n      <td>2</td>\n      <td>NaN</td>\n      <td>1/20/2020</td>\n      <td>First confirmed imported COVID-19 pneumonia pa...</td>\n      <td>Shanghai</td>\n      <td>China</td>\n      <td>female</td>\n      <td>56</td>\n      <td>1/15/2020</td>\n      <td>0</td>\n      <td>1/15/2020</td>\n      <td>NaN</td>\n      <td>1/12/2020</td>\n      <td>0</td>\n      <td>1</td>\n      <td>0</td>\n      <td>0</td>\n      <td>NaN</td>\n      <td>Official Weibo of Shanghai Municipal Health Co...</td>\n      <td>https://www.weibo.com/2372649470/IqogQhgfa?fro...</td>\n    </tr>\n    <tr>\n      <th>3</th>\n      <td>3</td>\n      <td>NaN</td>\n      <td>1/21/2020</td>\n      <td>First confirmed imported cases in Zhejiang: pa...</td>\n      <td>Zhejiang</td>\n      <td>China</td>\n      <td>male</td>\n      <td>46</td>\n      <td>1/4/2020</td>\n      <td>0</td>\n      <td>1/17/2020</td>\n      <td>NaN</td>\n      <td>1/3/2020</td>\n      <td>0</td>\n      <td>1</td>\n      <td>0</td>\n      <td>0</td>\n      <td>NaN</td>\n      <td>Health Commission of Zhejiang Province</td>\n      <td>http://www.zjwjw.gov.cn/art/2020/1/21/art_1202...</td>\n    </tr>\n    <tr>\n      <th>4</th>\n      <td>4</td>\n      <td>NaN</td>\n      <td>1/21/2020</td>\n      <td>new confirmed imported COVID-19 pneumonia in T...</td>\n      <td>Tianjin</td>\n      <td>China</td>\n      <td>female</td>\n      <td>60</td>\n      <td>NaN</td>\n      <td>NaN</td>\n      <td>1/19/2020</td>\n      <td>NaN</td>\n      <td>NaN</td>\n      <td>1</td>\n      <td>0</td>\n      <td>0</td>\n      <td>0</td>\n      <td>NaN</td>\n      <td>人民日报官方微博</td>\n      <td>https://m.weibo.cn/status/4463235401268457?</td>\n    </tr>\n  </tbody>\n</table>\n</div>",
      "text/plain": "  Email       Unnamed: 1 contact.sunky@gmail.com  \\\n0    id  case_in_country          reporting date   \n1     1              NaN               1/20/2020   \n2     2              NaN               1/20/2020   \n3     3              NaN               1/21/2020   \n4     4              NaN               1/21/2020   \n\n                                          Unnamed: 3  \\\n0                                            summary   \n1  First confirmed imported COVID-19 pneumonia pa...   \n2  First confirmed imported COVID-19 pneumonia pa...   \n3  First confirmed imported cases in Zhejiang: pa...   \n4  new confirmed imported COVID-19 pneumonia in T...   \n\n  Email was incorrect before Unnamed: 5 Unnamed: 6 Unnamed: 7     Unnamed: 8  \\\n0                   location    country     gender        age  symptom_onset   \n1        Shenzhen, Guangdong      China       male         66       1/3/2020   \n2                   Shanghai      China     female         56      1/15/2020   \n3                   Zhejiang      China       male         46       1/4/2020   \n4                    Tianjin      China     female         60            NaN   \n\n              Unnamed: 9      Unnamed: 10     Unnamed: 11   Unnamed: 12  \\\n0  If_onset_approximated  hosp_visit_date  exposure_start  exposure_end   \n1                      0        1/11/2020      12/29/2019      1/4/2020   \n2                      0        1/15/2020             NaN     1/12/2020   \n3                      0        1/17/2020             NaN      1/3/2020   \n4                    NaN        1/19/2020             NaN           NaN   \n\n      Unnamed: 13 Unnamed: 14 Unnamed: 15 Unnamed: 16 Unnamed: 17  \\\n0  visiting Wuhan  from Wuhan       death   recovered     symptom   \n1               1           0           0           0         NaN   \n2               0           1           0           0         NaN   \n3               0           1           0           0         NaN   \n4               1           0           0           0         NaN   \n\n                                         Unnamed: 18  \\\n0                                             source   \n1               Shenzhen Municipal Health Commission   \n2  Official Weibo of Shanghai Municipal Health Co...   \n3             Health Commission of Zhejiang Province   \n4                                           人民日报官方微博   \n\n                                         Unnamed: 19  \n0                                               link  \n1  http://wjw.sz.gov.cn/wzx/202001/t20200120_1898...  \n2  https://www.weibo.com/2372649470/IqogQhgfa?fro...  \n3  http://www.zjwjw.gov.cn/art/2020/1/21/art_1202...  \n4        https://m.weibo.cn/status/4463235401268457?  "
     },
     "execution_count": 108,
     "metadata": {},
     "output_type": "execute_result"
    }
   ],
   "source": [
    "LineList.head(5)"
   ]
  },
  {
   "cell_type": "code",
   "execution_count": 109,
   "metadata": {},
   "outputs": [],
   "source": [
    "# Dropping columns \n",
    "LineList.head(5)\n",
    "LineList.drop(columns=[\"Email\",\"Unnamed: 3\",\"Email was incorrect before\",\"Unnamed: 18\",\"Unnamed: 19\"] ,axis=1, inplace=True)\n"
   ]
  },
  {
   "cell_type": "code",
   "execution_count": 110,
   "metadata": {},
   "outputs": [
    {
     "data": {
      "text/html": "<div>\n<style scoped>\n    .dataframe tbody tr th:only-of-type {\n        vertical-align: middle;\n    }\n\n    .dataframe tbody tr th {\n        vertical-align: top;\n    }\n\n    .dataframe thead th {\n        text-align: right;\n    }\n</style>\n<table border=\"1\" class=\"dataframe\">\n  <thead>\n    <tr style=\"text-align: right;\">\n      <th></th>\n      <th>Unnamed: 1</th>\n      <th>contact.sunky@gmail.com</th>\n      <th>Unnamed: 5</th>\n      <th>Unnamed: 6</th>\n      <th>Unnamed: 7</th>\n      <th>Unnamed: 8</th>\n      <th>Unnamed: 9</th>\n      <th>Unnamed: 10</th>\n      <th>Unnamed: 11</th>\n      <th>Unnamed: 12</th>\n      <th>Unnamed: 13</th>\n      <th>Unnamed: 14</th>\n      <th>Unnamed: 15</th>\n      <th>Unnamed: 16</th>\n      <th>Unnamed: 17</th>\n    </tr>\n  </thead>\n  <tbody>\n    <tr>\n      <th>0</th>\n      <td>case_in_country</td>\n      <td>reporting date</td>\n      <td>country</td>\n      <td>gender</td>\n      <td>age</td>\n      <td>symptom_onset</td>\n      <td>If_onset_approximated</td>\n      <td>hosp_visit_date</td>\n      <td>exposure_start</td>\n      <td>exposure_end</td>\n      <td>visiting Wuhan</td>\n      <td>from Wuhan</td>\n      <td>death</td>\n      <td>recovered</td>\n      <td>symptom</td>\n    </tr>\n    <tr>\n      <th>1</th>\n      <td>NaN</td>\n      <td>1/20/2020</td>\n      <td>China</td>\n      <td>male</td>\n      <td>66</td>\n      <td>1/3/2020</td>\n      <td>0</td>\n      <td>1/11/2020</td>\n      <td>12/29/2019</td>\n      <td>1/4/2020</td>\n      <td>1</td>\n      <td>0</td>\n      <td>0</td>\n      <td>0</td>\n      <td>NaN</td>\n    </tr>\n    <tr>\n      <th>2</th>\n      <td>NaN</td>\n      <td>1/20/2020</td>\n      <td>China</td>\n      <td>female</td>\n      <td>56</td>\n      <td>1/15/2020</td>\n      <td>0</td>\n      <td>1/15/2020</td>\n      <td>NaN</td>\n      <td>1/12/2020</td>\n      <td>0</td>\n      <td>1</td>\n      <td>0</td>\n      <td>0</td>\n      <td>NaN</td>\n    </tr>\n    <tr>\n      <th>3</th>\n      <td>NaN</td>\n      <td>1/21/2020</td>\n      <td>China</td>\n      <td>male</td>\n      <td>46</td>\n      <td>1/4/2020</td>\n      <td>0</td>\n      <td>1/17/2020</td>\n      <td>NaN</td>\n      <td>1/3/2020</td>\n      <td>0</td>\n      <td>1</td>\n      <td>0</td>\n      <td>0</td>\n      <td>NaN</td>\n    </tr>\n    <tr>\n      <th>4</th>\n      <td>NaN</td>\n      <td>1/21/2020</td>\n      <td>China</td>\n      <td>female</td>\n      <td>60</td>\n      <td>NaN</td>\n      <td>NaN</td>\n      <td>1/19/2020</td>\n      <td>NaN</td>\n      <td>NaN</td>\n      <td>1</td>\n      <td>0</td>\n      <td>0</td>\n      <td>0</td>\n      <td>NaN</td>\n    </tr>\n  </tbody>\n</table>\n</div>",
      "text/plain": "        Unnamed: 1 contact.sunky@gmail.com Unnamed: 5 Unnamed: 6 Unnamed: 7  \\\n0  case_in_country          reporting date    country     gender        age   \n1              NaN               1/20/2020      China       male         66   \n2              NaN               1/20/2020      China     female         56   \n3              NaN               1/21/2020      China       male         46   \n4              NaN               1/21/2020      China     female         60   \n\n      Unnamed: 8             Unnamed: 9      Unnamed: 10     Unnamed: 11  \\\n0  symptom_onset  If_onset_approximated  hosp_visit_date  exposure_start   \n1       1/3/2020                      0        1/11/2020      12/29/2019   \n2      1/15/2020                      0        1/15/2020             NaN   \n3       1/4/2020                      0        1/17/2020             NaN   \n4            NaN                    NaN        1/19/2020             NaN   \n\n    Unnamed: 12     Unnamed: 13 Unnamed: 14 Unnamed: 15 Unnamed: 16  \\\n0  exposure_end  visiting Wuhan  from Wuhan       death   recovered   \n1      1/4/2020               1           0           0           0   \n2     1/12/2020               0           1           0           0   \n3      1/3/2020               0           1           0           0   \n4           NaN               1           0           0           0   \n\n  Unnamed: 17  \n0     symptom  \n1         NaN  \n2         NaN  \n3         NaN  \n4         NaN  "
     },
     "execution_count": 110,
     "metadata": {},
     "output_type": "execute_result"
    }
   ],
   "source": [
    "LineList.head(5)"
   ]
  },
  {
   "cell_type": "code",
   "execution_count": 49,
   "metadata": {},
   "outputs": [],
   "source": [
    "# Renaming columns"
   ]
  },
  {
   "cell_type": "code",
   "execution_count": 111,
   "metadata": {},
   "outputs": [],
   "source": [
    "LineList = LineList.rename(columns={\"Unamed: 1\": \"Case In Country\",\"Unnamed: 5\": \"Country\",\"contact.sunky@gmail.com\": \"reporting date\",\"Email was incorrect before\": \"location\",\"Unnamed: 5\": \"country\",\"Unnamed: 6\":\"gender\", \"Unnamed: 7\":\"age\",\"Unnamed: 8\": \"symptom_onset\", \"Unnamed: 9\":\"If_onset_approximated\",\"Unnamed: 10\": \"hosp_visit_date\",\"Unnamed: 11\":\"exposure_start\",\"Unnamed: 12\": \"exposure_end\", \"Unnamed: 13\":\"visiting Wuhan\",\"Unnamed: 14\":\"from Wuhan\",\"Unnamed: 15\": \"death\",\"Unnamed: 16\": \"recovered\",\"Unnamed: 17\": \"sympton\"})"
   ]
  },
  {
   "cell_type": "code",
   "execution_count": 112,
   "metadata": {},
   "outputs": [
    {
     "data": {
      "text/html": "<div>\n<style scoped>\n    .dataframe tbody tr th:only-of-type {\n        vertical-align: middle;\n    }\n\n    .dataframe tbody tr th {\n        vertical-align: top;\n    }\n\n    .dataframe thead th {\n        text-align: right;\n    }\n</style>\n<table border=\"1\" class=\"dataframe\">\n  <thead>\n    <tr style=\"text-align: right;\">\n      <th></th>\n      <th>Unnamed: 1</th>\n      <th>reporting date</th>\n      <th>country</th>\n      <th>gender</th>\n      <th>age</th>\n      <th>symptom_onset</th>\n      <th>If_onset_approximated</th>\n      <th>hosp_visit_date</th>\n      <th>exposure_start</th>\n      <th>exposure_end</th>\n      <th>visiting Wuhan</th>\n      <th>from Wuhan</th>\n      <th>death</th>\n      <th>recovered</th>\n      <th>sympton</th>\n    </tr>\n  </thead>\n  <tbody>\n    <tr>\n      <th>0</th>\n      <td>case_in_country</td>\n      <td>reporting date</td>\n      <td>country</td>\n      <td>gender</td>\n      <td>age</td>\n      <td>symptom_onset</td>\n      <td>If_onset_approximated</td>\n      <td>hosp_visit_date</td>\n      <td>exposure_start</td>\n      <td>exposure_end</td>\n      <td>visiting Wuhan</td>\n      <td>from Wuhan</td>\n      <td>death</td>\n      <td>recovered</td>\n      <td>symptom</td>\n    </tr>\n    <tr>\n      <th>1</th>\n      <td>NaN</td>\n      <td>1/20/2020</td>\n      <td>China</td>\n      <td>male</td>\n      <td>66</td>\n      <td>1/3/2020</td>\n      <td>0</td>\n      <td>1/11/2020</td>\n      <td>12/29/2019</td>\n      <td>1/4/2020</td>\n      <td>1</td>\n      <td>0</td>\n      <td>0</td>\n      <td>0</td>\n      <td>NaN</td>\n    </tr>\n    <tr>\n      <th>2</th>\n      <td>NaN</td>\n      <td>1/20/2020</td>\n      <td>China</td>\n      <td>female</td>\n      <td>56</td>\n      <td>1/15/2020</td>\n      <td>0</td>\n      <td>1/15/2020</td>\n      <td>NaN</td>\n      <td>1/12/2020</td>\n      <td>0</td>\n      <td>1</td>\n      <td>0</td>\n      <td>0</td>\n      <td>NaN</td>\n    </tr>\n    <tr>\n      <th>3</th>\n      <td>NaN</td>\n      <td>1/21/2020</td>\n      <td>China</td>\n      <td>male</td>\n      <td>46</td>\n      <td>1/4/2020</td>\n      <td>0</td>\n      <td>1/17/2020</td>\n      <td>NaN</td>\n      <td>1/3/2020</td>\n      <td>0</td>\n      <td>1</td>\n      <td>0</td>\n      <td>0</td>\n      <td>NaN</td>\n    </tr>\n    <tr>\n      <th>4</th>\n      <td>NaN</td>\n      <td>1/21/2020</td>\n      <td>China</td>\n      <td>female</td>\n      <td>60</td>\n      <td>NaN</td>\n      <td>NaN</td>\n      <td>1/19/2020</td>\n      <td>NaN</td>\n      <td>NaN</td>\n      <td>1</td>\n      <td>0</td>\n      <td>0</td>\n      <td>0</td>\n      <td>NaN</td>\n    </tr>\n  </tbody>\n</table>\n</div>",
      "text/plain": "        Unnamed: 1  reporting date  country  gender  age  symptom_onset  \\\n0  case_in_country  reporting date  country  gender  age  symptom_onset   \n1              NaN       1/20/2020    China    male   66       1/3/2020   \n2              NaN       1/20/2020    China  female   56      1/15/2020   \n3              NaN       1/21/2020    China    male   46       1/4/2020   \n4              NaN       1/21/2020    China  female   60            NaN   \n\n   If_onset_approximated  hosp_visit_date  exposure_start  exposure_end  \\\n0  If_onset_approximated  hosp_visit_date  exposure_start  exposure_end   \n1                      0        1/11/2020      12/29/2019      1/4/2020   \n2                      0        1/15/2020             NaN     1/12/2020   \n3                      0        1/17/2020             NaN      1/3/2020   \n4                    NaN        1/19/2020             NaN           NaN   \n\n   visiting Wuhan  from Wuhan  death  recovered  sympton  \n0  visiting Wuhan  from Wuhan  death  recovered  symptom  \n1               1           0      0          0      NaN  \n2               0           1      0          0      NaN  \n3               0           1      0          0      NaN  \n4               1           0      0          0      NaN  "
     },
     "execution_count": 112,
     "metadata": {},
     "output_type": "execute_result"
    }
   ],
   "source": [
    "LineList.head(5)"
   ]
  },
  {
   "cell_type": "code",
   "execution_count": 113,
   "metadata": {},
   "outputs": [],
   "source": [
    "LineList.drop(0, inplace = True)"
   ]
  },
  {
   "cell_type": "code",
   "execution_count": 114,
   "metadata": {},
   "outputs": [
    {
     "data": {
      "text/html": "<div>\n<style scoped>\n    .dataframe tbody tr th:only-of-type {\n        vertical-align: middle;\n    }\n\n    .dataframe tbody tr th {\n        vertical-align: top;\n    }\n\n    .dataframe thead th {\n        text-align: right;\n    }\n</style>\n<table border=\"1\" class=\"dataframe\">\n  <thead>\n    <tr style=\"text-align: right;\">\n      <th></th>\n      <th>Unnamed: 1</th>\n      <th>reporting date</th>\n      <th>country</th>\n      <th>gender</th>\n      <th>age</th>\n      <th>symptom_onset</th>\n      <th>If_onset_approximated</th>\n      <th>hosp_visit_date</th>\n      <th>exposure_start</th>\n      <th>exposure_end</th>\n      <th>visiting Wuhan</th>\n      <th>from Wuhan</th>\n      <th>death</th>\n      <th>recovered</th>\n      <th>sympton</th>\n    </tr>\n  </thead>\n  <tbody>\n    <tr>\n      <th>1</th>\n      <td>NaN</td>\n      <td>1/20/2020</td>\n      <td>China</td>\n      <td>male</td>\n      <td>66</td>\n      <td>1/3/2020</td>\n      <td>0</td>\n      <td>1/11/2020</td>\n      <td>12/29/2019</td>\n      <td>1/4/2020</td>\n      <td>1</td>\n      <td>0</td>\n      <td>0</td>\n      <td>0</td>\n      <td>NaN</td>\n    </tr>\n    <tr>\n      <th>2</th>\n      <td>NaN</td>\n      <td>1/20/2020</td>\n      <td>China</td>\n      <td>female</td>\n      <td>56</td>\n      <td>1/15/2020</td>\n      <td>0</td>\n      <td>1/15/2020</td>\n      <td>NaN</td>\n      <td>1/12/2020</td>\n      <td>0</td>\n      <td>1</td>\n      <td>0</td>\n      <td>0</td>\n      <td>NaN</td>\n    </tr>\n    <tr>\n      <th>3</th>\n      <td>NaN</td>\n      <td>1/21/2020</td>\n      <td>China</td>\n      <td>male</td>\n      <td>46</td>\n      <td>1/4/2020</td>\n      <td>0</td>\n      <td>1/17/2020</td>\n      <td>NaN</td>\n      <td>1/3/2020</td>\n      <td>0</td>\n      <td>1</td>\n      <td>0</td>\n      <td>0</td>\n      <td>NaN</td>\n    </tr>\n    <tr>\n      <th>4</th>\n      <td>NaN</td>\n      <td>1/21/2020</td>\n      <td>China</td>\n      <td>female</td>\n      <td>60</td>\n      <td>NaN</td>\n      <td>NaN</td>\n      <td>1/19/2020</td>\n      <td>NaN</td>\n      <td>NaN</td>\n      <td>1</td>\n      <td>0</td>\n      <td>0</td>\n      <td>0</td>\n      <td>NaN</td>\n    </tr>\n    <tr>\n      <th>5</th>\n      <td>NaN</td>\n      <td>1/21/2020</td>\n      <td>China</td>\n      <td>male</td>\n      <td>58</td>\n      <td>NaN</td>\n      <td>NaN</td>\n      <td>1/14/2020</td>\n      <td>NaN</td>\n      <td>NaN</td>\n      <td>0</td>\n      <td>0</td>\n      <td>0</td>\n      <td>0</td>\n      <td>NaN</td>\n    </tr>\n  </tbody>\n</table>\n</div>",
      "text/plain": "  Unnamed: 1 reporting date country  gender age symptom_onset  \\\n1        NaN      1/20/2020   China    male  66      1/3/2020   \n2        NaN      1/20/2020   China  female  56     1/15/2020   \n3        NaN      1/21/2020   China    male  46      1/4/2020   \n4        NaN      1/21/2020   China  female  60           NaN   \n5        NaN      1/21/2020   China    male  58           NaN   \n\n  If_onset_approximated hosp_visit_date exposure_start exposure_end  \\\n1                     0       1/11/2020     12/29/2019     1/4/2020   \n2                     0       1/15/2020            NaN    1/12/2020   \n3                     0       1/17/2020            NaN     1/3/2020   \n4                   NaN       1/19/2020            NaN          NaN   \n5                   NaN       1/14/2020            NaN          NaN   \n\n  visiting Wuhan from Wuhan death recovered sympton  \n1              1          0     0         0     NaN  \n2              0          1     0         0     NaN  \n3              0          1     0         0     NaN  \n4              1          0     0         0     NaN  \n5              0          0     0         0     NaN  "
     },
     "execution_count": 114,
     "metadata": {},
     "output_type": "execute_result"
    }
   ],
   "source": [
    "LineList.head(5)\n"
   ]
  },
  {
   "cell_type": "code",
   "execution_count": 116,
   "metadata": {},
   "outputs": [],
   "source": [
    "#Converting fields to dates\n",
    "#LineList['reporting date']= pd.to_datetime(LineList['reporting date'])\n",
    "LineList[['reporting date','symptom_onset','hosp_visit_date','exposure_start','exposure_end']] = LineList[['reporting date','symptom_onset','hosp_visit_date','exposure_start','exposure_end']].apply(pd.to_datetime)\n"
   ]
  },
  {
   "cell_type": "code",
   "execution_count": 117,
   "metadata": {},
   "outputs": [
    {
     "name": "stdout",
     "output_type": "stream",
     "text": "<class 'pandas.core.frame.DataFrame'>\nInt64Index: 891 entries, 1 to 891\nData columns (total 15 columns):\nUnnamed: 1               694 non-null object\nreporting date           889 non-null datetime64[ns]\ncountry                  874 non-null object\ngender                   750 non-null object\nage                      723 non-null object\nsymptom_onset            496 non-null datetime64[ns]\nIf_onset_approximated    495 non-null object\nhosp_visit_date          442 non-null datetime64[ns]\nexposure_start           111 non-null datetime64[ns]\nexposure_end             319 non-null datetime64[ns]\nvisiting Wuhan           874 non-null object\nfrom Wuhan               870 non-null object\ndeath                    874 non-null object\nrecovered                874 non-null object\nsympton                  207 non-null object\ndtypes: datetime64[ns](5), object(10)\nmemory usage: 111.4+ KB\n"
    }
   ],
   "source": [
    "LineList.info()"
   ]
  },
  {
   "cell_type": "code",
   "execution_count": 105,
   "metadata": {},
   "outputs": [
    {
     "data": {
      "text/html": "<div>\n<style scoped>\n    .dataframe tbody tr th:only-of-type {\n        vertical-align: middle;\n    }\n\n    .dataframe tbody tr th {\n        vertical-align: top;\n    }\n\n    .dataframe thead th {\n        text-align: right;\n    }\n</style>\n<table border=\"1\" class=\"dataframe\">\n  <thead>\n    <tr style=\"text-align: right;\">\n      <th></th>\n      <th>Email</th>\n      <th>Unnamed: 1</th>\n      <th>reporting date</th>\n      <th>Unnamed: 3</th>\n      <th>location</th>\n      <th>country</th>\n      <th>gender</th>\n      <th>age</th>\n      <th>symptom_onset</th>\n      <th>If_onset_approximated</th>\n      <th>hosp_visit_date</th>\n      <th>exposure_start</th>\n      <th>exposure_end</th>\n      <th>visiting Wuhan</th>\n      <th>from Wuhan</th>\n      <th>death</th>\n      <th>recovered</th>\n      <th>sympton</th>\n      <th>Unnamed: 18</th>\n      <th>Unnamed: 19</th>\n    </tr>\n  </thead>\n  <tbody>\n    <tr>\n      <th>1</th>\n      <td>1</td>\n      <td>NaN</td>\n      <td>2020-01-20</td>\n      <td>First confirmed imported COVID-19 pneumonia pa...</td>\n      <td>Shenzhen, Guangdong</td>\n      <td>China</td>\n      <td>male</td>\n      <td>66</td>\n      <td>2020-01-03</td>\n      <td>0</td>\n      <td>2020-01-11</td>\n      <td>2019-12-29</td>\n      <td>2020-01-04</td>\n      <td>1</td>\n      <td>0</td>\n      <td>0</td>\n      <td>0</td>\n      <td>NaN</td>\n      <td>Shenzhen Municipal Health Commission</td>\n      <td>http://wjw.sz.gov.cn/wzx/202001/t20200120_1898...</td>\n    </tr>\n    <tr>\n      <th>2</th>\n      <td>2</td>\n      <td>NaN</td>\n      <td>2020-01-20</td>\n      <td>First confirmed imported COVID-19 pneumonia pa...</td>\n      <td>Shanghai</td>\n      <td>China</td>\n      <td>female</td>\n      <td>56</td>\n      <td>2020-01-15</td>\n      <td>0</td>\n      <td>2020-01-15</td>\n      <td>NaT</td>\n      <td>2020-01-12</td>\n      <td>0</td>\n      <td>1</td>\n      <td>0</td>\n      <td>0</td>\n      <td>NaN</td>\n      <td>Official Weibo of Shanghai Municipal Health Co...</td>\n      <td>https://www.weibo.com/2372649470/IqogQhgfa?fro...</td>\n    </tr>\n    <tr>\n      <th>3</th>\n      <td>3</td>\n      <td>NaN</td>\n      <td>2020-01-21</td>\n      <td>First confirmed imported cases in Zhejiang: pa...</td>\n      <td>Zhejiang</td>\n      <td>China</td>\n      <td>male</td>\n      <td>46</td>\n      <td>2020-01-04</td>\n      <td>0</td>\n      <td>2020-01-17</td>\n      <td>NaT</td>\n      <td>2020-01-03</td>\n      <td>0</td>\n      <td>1</td>\n      <td>0</td>\n      <td>0</td>\n      <td>NaN</td>\n      <td>Health Commission of Zhejiang Province</td>\n      <td>http://www.zjwjw.gov.cn/art/2020/1/21/art_1202...</td>\n    </tr>\n    <tr>\n      <th>4</th>\n      <td>4</td>\n      <td>NaN</td>\n      <td>2020-01-21</td>\n      <td>new confirmed imported COVID-19 pneumonia in T...</td>\n      <td>Tianjin</td>\n      <td>China</td>\n      <td>female</td>\n      <td>60</td>\n      <td>NaT</td>\n      <td>NaN</td>\n      <td>2020-01-19</td>\n      <td>NaT</td>\n      <td>NaT</td>\n      <td>1</td>\n      <td>0</td>\n      <td>0</td>\n      <td>0</td>\n      <td>NaN</td>\n      <td>人民日报官方微博</td>\n      <td>https://m.weibo.cn/status/4463235401268457?</td>\n    </tr>\n    <tr>\n      <th>5</th>\n      <td>5</td>\n      <td>NaN</td>\n      <td>2020-01-21</td>\n      <td>new confirmed imported COVID-19 pneumonia in T...</td>\n      <td>Tianjin</td>\n      <td>China</td>\n      <td>male</td>\n      <td>58</td>\n      <td>NaT</td>\n      <td>NaN</td>\n      <td>2020-01-14</td>\n      <td>NaT</td>\n      <td>NaT</td>\n      <td>0</td>\n      <td>0</td>\n      <td>0</td>\n      <td>0</td>\n      <td>NaN</td>\n      <td>人民日报官方微博</td>\n      <td>https://m.weibo.cn/status/4463235401268457?</td>\n    </tr>\n  </tbody>\n</table>\n</div>",
      "text/plain": "  Email Unnamed: 1 reporting date  \\\n1     1        NaN     2020-01-20   \n2     2        NaN     2020-01-20   \n3     3        NaN     2020-01-21   \n4     4        NaN     2020-01-21   \n5     5        NaN     2020-01-21   \n\n                                          Unnamed: 3             location  \\\n1  First confirmed imported COVID-19 pneumonia pa...  Shenzhen, Guangdong   \n2  First confirmed imported COVID-19 pneumonia pa...             Shanghai   \n3  First confirmed imported cases in Zhejiang: pa...             Zhejiang   \n4  new confirmed imported COVID-19 pneumonia in T...              Tianjin   \n5  new confirmed imported COVID-19 pneumonia in T...              Tianjin   \n\n  country  gender age symptom_onset If_onset_approximated hosp_visit_date  \\\n1   China    male  66    2020-01-03                     0      2020-01-11   \n2   China  female  56    2020-01-15                     0      2020-01-15   \n3   China    male  46    2020-01-04                     0      2020-01-17   \n4   China  female  60           NaT                   NaN      2020-01-19   \n5   China    male  58           NaT                   NaN      2020-01-14   \n\n  exposure_start exposure_end visiting Wuhan from Wuhan death recovered  \\\n1     2019-12-29   2020-01-04              1          0     0         0   \n2            NaT   2020-01-12              0          1     0         0   \n3            NaT   2020-01-03              0          1     0         0   \n4            NaT          NaT              1          0     0         0   \n5            NaT          NaT              0          0     0         0   \n\n  sympton                                        Unnamed: 18  \\\n1     NaN               Shenzhen Municipal Health Commission   \n2     NaN  Official Weibo of Shanghai Municipal Health Co...   \n3     NaN             Health Commission of Zhejiang Province   \n4     NaN                                           人民日报官方微博   \n5     NaN                                           人民日报官方微博   \n\n                                         Unnamed: 19  \n1  http://wjw.sz.gov.cn/wzx/202001/t20200120_1898...  \n2  https://www.weibo.com/2372649470/IqogQhgfa?fro...  \n3  http://www.zjwjw.gov.cn/art/2020/1/21/art_1202...  \n4        https://m.weibo.cn/status/4463235401268457?  \n5        https://m.weibo.cn/status/4463235401268457?  "
     },
     "execution_count": 105,
     "metadata": {},
     "output_type": "execute_result"
    }
   ],
   "source": [
    "LineList.head()"
   ]
  },
  {
   "cell_type": "code",
   "execution_count": null,
   "metadata": {},
   "outputs": [],
   "source": [
    "LineList.info()\n"
   ]
  },
  {
   "cell_type": "code",
   "execution_count": null,
   "metadata": {},
   "outputs": [],
   "source": [
    "LineList.describe()"
   ]
  },
  {
   "cell_type": "code",
   "execution_count": null,
   "metadata": {},
   "outputs": [],
   "source": []
  },
  {
   "cell_type": "code",
   "execution_count": null,
   "metadata": {},
   "outputs": [],
   "source": []
  },
  {
   "cell_type": "code",
   "execution_count": null,
   "metadata": {},
   "outputs": [],
   "source": [
    "ProvinceIncidence.head(5)"
   ]
  },
  {
   "cell_type": "code",
   "execution_count": null,
   "metadata": {},
   "outputs": [],
   "source": [
    "IncidentLog.head(5)"
   ]
  },
  {
   "cell_type": "code",
   "execution_count": null,
   "metadata": {},
   "outputs": [],
   "source": [
    "IncidentLogSecond.head(5)"
   ]
  },
  {
   "cell_type": "code",
   "execution_count": null,
   "metadata": {},
   "outputs": [],
   "source": []
  }
 ]
}