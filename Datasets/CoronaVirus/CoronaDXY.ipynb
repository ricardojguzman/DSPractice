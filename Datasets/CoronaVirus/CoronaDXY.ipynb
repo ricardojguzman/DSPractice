{
 "nbformat": 4,
 "nbformat_minor": 2,
 "metadata": {
  "language_info": {
   "name": "python",
   "codemirror_mode": {
    "name": "ipython",
    "version": 3
   },
   "version": "3.7.3-final"
  },
  "orig_nbformat": 2,
  "file_extension": ".py",
  "mimetype": "text/x-python",
  "name": "python",
  "npconvert_exporter": "python",
  "pygments_lexer": "ipython3",
  "version": 3,
  "kernelspec": {
   "name": "python37364bitbaseconda37cebdefdc074f38b71ba887856dd328",
   "display_name": "Python 3.7.3 64-bit ('base': conda)"
  }
 },
 "cells": [
  {
   "cell_type": "code",
   "execution_count": 37,
   "metadata": {},
   "outputs": [],
   "source": [
    "import pandas as pd\n",
    "import numpy as np\n",
    "import datetime "
   ]
  },
  {
   "cell_type": "code",
   "execution_count": 38,
   "metadata": {},
   "outputs": [],
   "source": [
    "TotalCases = pd.read_csv(\"https://docs.google.com/spreadsheets/d/1jS24DjSPVWa4iuxuD4OAXrE3QeI8c9BC1hSlqr-NMiU/export?format=csv&gid=0\")"
   ]
  },
  {
   "cell_type": "code",
   "execution_count": 39,
   "metadata": {},
   "outputs": [],
   "source": [
    "LineList= pd.read_csv(\"https://docs.google.com/spreadsheets/d/1jS24DjSPVWa4iuxuD4OAXrE3QeI8c9BC1hSlqr-NMiU/export?format=csv&gid=1187587451\")"
   ]
  },
  {
   "cell_type": "code",
   "execution_count": 40,
   "metadata": {},
   "outputs": [],
   "source": [
    "ProvinceIncidence= pd.read_csv(\"https://docs.google.com/spreadsheets/d/1jS24DjSPVWa4iuxuD4OAXrE3QeI8c9BC1hSlqr-NMiU/export?format=csv&gid=1837322948\")"
   ]
  },
  {
   "cell_type": "code",
   "execution_count": 41,
   "metadata": {},
   "outputs": [],
   "source": [
    "IncidentLog = pd.read_csv(\"https://docs.google.com/spreadsheets/d/1jS24DjSPVWa4iuxuD4OAXrE3QeI8c9BC1hSlqr-NMiU/export?format=csv&gid=1202885709\")"
   ]
  },
  {
   "cell_type": "code",
   "execution_count": 42,
   "metadata": {},
   "outputs": [],
   "source": [
    "IncidentLogSecond= pd.read_csv(\"https://docs.google.com/spreadsheets/d/1jS24DjSPVWa4iuxuD4OAXrE3QeI8c9BC1hSlqr-NMiU/export?format=csv&gid=1180262595\")"
   ]
  },
  {
   "cell_type": "code",
   "execution_count": 43,
   "metadata": {},
   "outputs": [
    {
     "data": {
      "text/html": "<div>\n<style scoped>\n    .dataframe tbody tr th:only-of-type {\n        vertical-align: middle;\n    }\n\n    .dataframe tbody tr th {\n        vertical-align: top;\n    }\n\n    .dataframe thead th {\n        text-align: right;\n    }\n</style>\n<table border=\"1\" class=\"dataframe\">\n  <thead>\n    <tr style=\"text-align: right;\">\n      <th></th>\n      <th>Province</th>\n      <th>Confirmed</th>\n      <th>Suspected</th>\n      <th>Death</th>\n      <th>Recovered</th>\n      <th>Link</th>\n      <th>Comments</th>\n    </tr>\n  </thead>\n  <tbody>\n    <tr>\n      <th>0</th>\n      <td>Total</td>\n      <td>40299.0</td>\n      <td>23589.0</td>\n      <td>909.0</td>\n      <td>3471.0</td>\n      <td>http://3g.dxy.cn/newh5/view/pneumonia</td>\n      <td>NaN</td>\n    </tr>\n    <tr>\n      <th>1</th>\n      <td>Hubei</td>\n      <td>29631.0</td>\n      <td>NaN</td>\n      <td>NaN</td>\n      <td>NaN</td>\n      <td>NaN</td>\n      <td>NaN</td>\n    </tr>\n    <tr>\n      <th>2</th>\n      <td>Guangdong</td>\n      <td>1159.0</td>\n      <td>NaN</td>\n      <td>NaN</td>\n      <td>NaN</td>\n      <td>NaN</td>\n      <td>NaN</td>\n    </tr>\n    <tr>\n      <th>3</th>\n      <td>Zhejiang</td>\n      <td>1092.0</td>\n      <td>NaN</td>\n      <td>NaN</td>\n      <td>NaN</td>\n      <td>NaN</td>\n      <td>NaN</td>\n    </tr>\n    <tr>\n      <th>4</th>\n      <td>Henan</td>\n      <td>1073.0</td>\n      <td>NaN</td>\n      <td>NaN</td>\n      <td>NaN</td>\n      <td>NaN</td>\n      <td>NaN</td>\n    </tr>\n  </tbody>\n</table>\n</div>",
      "text/plain": "    Province  Confirmed  Suspected  Death  Recovered  \\\n0      Total    40299.0    23589.0  909.0     3471.0   \n1      Hubei    29631.0        NaN    NaN        NaN   \n2  Guangdong     1159.0        NaN    NaN        NaN   \n3   Zhejiang     1092.0        NaN    NaN        NaN   \n4      Henan     1073.0        NaN    NaN        NaN   \n\n                                    Link  Comments  \n0  http://3g.dxy.cn/newh5/view/pneumonia       NaN  \n1                                    NaN       NaN  \n2                                    NaN       NaN  \n3                                    NaN       NaN  \n4                                    NaN       NaN  "
     },
     "execution_count": 43,
     "metadata": {},
     "output_type": "execute_result"
    }
   ],
   "source": [
    "TotalCases.head(5)"
   ]
  },
  {
   "cell_type": "code",
   "execution_count": 44,
   "metadata": {},
   "outputs": [
    {
     "data": {
      "text/html": "<div>\n<style scoped>\n    .dataframe tbody tr th:only-of-type {\n        vertical-align: middle;\n    }\n\n    .dataframe tbody tr th {\n        vertical-align: top;\n    }\n\n    .dataframe thead th {\n        text-align: right;\n    }\n</style>\n<table border=\"1\" class=\"dataframe\">\n  <thead>\n    <tr style=\"text-align: right;\">\n      <th></th>\n      <th>Email</th>\n      <th>Unnamed: 1</th>\n      <th>contact.sunky@gmail.com</th>\n      <th>Unnamed: 3</th>\n      <th>Email was incorrect before</th>\n      <th>Unnamed: 5</th>\n      <th>Unnamed: 6</th>\n      <th>Unnamed: 7</th>\n      <th>Unnamed: 8</th>\n      <th>Unnamed: 9</th>\n      <th>...</th>\n      <th>Unnamed: 11</th>\n      <th>Unnamed: 12</th>\n      <th>Unnamed: 13</th>\n      <th>Unnamed: 14</th>\n      <th>Unnamed: 15</th>\n      <th>Unnamed: 16</th>\n      <th>Unnamed: 17</th>\n      <th>Unnamed: 18</th>\n      <th>Unnamed: 19</th>\n      <th>Unnamed: 20</th>\n    </tr>\n  </thead>\n  <tbody>\n    <tr>\n      <th>0</th>\n      <td>id</td>\n      <td>case_in_country</td>\n      <td>reporting date</td>\n      <td>summary</td>\n      <td>location</td>\n      <td>country</td>\n      <td>gender</td>\n      <td>age</td>\n      <td>symptom_onset</td>\n      <td>If_onset_approximated</td>\n      <td>...</td>\n      <td>type_of_visit</td>\n      <td>exposure_start</td>\n      <td>exposure_end</td>\n      <td>visiting Wuhan</td>\n      <td>from Wuhan</td>\n      <td>death</td>\n      <td>recovered</td>\n      <td>symptom</td>\n      <td>source</td>\n      <td>link</td>\n    </tr>\n    <tr>\n      <th>1</th>\n      <td>1</td>\n      <td>NaN</td>\n      <td>1/20/2020</td>\n      <td>First confirmed imported COVID-19 pneumonia pa...</td>\n      <td>Shenzhen, Guangdong</td>\n      <td>China</td>\n      <td>male</td>\n      <td>66</td>\n      <td>1/3/2020</td>\n      <td>0</td>\n      <td>...</td>\n      <td>hospital</td>\n      <td>12/29/2019</td>\n      <td>1/4/2020</td>\n      <td>1</td>\n      <td>0</td>\n      <td>0</td>\n      <td>0</td>\n      <td>NaN</td>\n      <td>Shenzhen Municipal Health Commission</td>\n      <td>http://wjw.sz.gov.cn/wzx/202001/t20200120_1898...</td>\n    </tr>\n    <tr>\n      <th>2</th>\n      <td>2</td>\n      <td>NaN</td>\n      <td>1/20/2020</td>\n      <td>First confirmed imported COVID-19 pneumonia pa...</td>\n      <td>Shanghai</td>\n      <td>China</td>\n      <td>female</td>\n      <td>56</td>\n      <td>1/15/2020</td>\n      <td>0</td>\n      <td>...</td>\n      <td>clinic</td>\n      <td>NaN</td>\n      <td>1/12/2020</td>\n      <td>0</td>\n      <td>1</td>\n      <td>0</td>\n      <td>0</td>\n      <td>NaN</td>\n      <td>Official Weibo of Shanghai Municipal Health Co...</td>\n      <td>https://www.weibo.com/2372649470/IqogQhgfa?fro...</td>\n    </tr>\n    <tr>\n      <th>3</th>\n      <td>3</td>\n      <td>NaN</td>\n      <td>1/21/2020</td>\n      <td>First confirmed imported cases in Zhejiang: pa...</td>\n      <td>Zhejiang</td>\n      <td>China</td>\n      <td>male</td>\n      <td>46</td>\n      <td>1/4/2020</td>\n      <td>0</td>\n      <td>...</td>\n      <td>hospital</td>\n      <td>NaN</td>\n      <td>1/3/2020</td>\n      <td>0</td>\n      <td>1</td>\n      <td>0</td>\n      <td>0</td>\n      <td>NaN</td>\n      <td>Health Commission of Zhejiang Province</td>\n      <td>http://www.zjwjw.gov.cn/art/2020/1/21/art_1202...</td>\n    </tr>\n    <tr>\n      <th>4</th>\n      <td>4</td>\n      <td>NaN</td>\n      <td>1/21/2020</td>\n      <td>new confirmed imported COVID-19 pneumonia in T...</td>\n      <td>Tianjin</td>\n      <td>China</td>\n      <td>female</td>\n      <td>60</td>\n      <td>NaN</td>\n      <td>NaN</td>\n      <td>...</td>\n      <td>clinic</td>\n      <td>NaN</td>\n      <td>NaN</td>\n      <td>1</td>\n      <td>0</td>\n      <td>0</td>\n      <td>0</td>\n      <td>NaN</td>\n      <td>人民日报官方微博</td>\n      <td>https://m.weibo.cn/status/4463235401268457?</td>\n    </tr>\n  </tbody>\n</table>\n<p>5 rows × 21 columns</p>\n</div>",
      "text/plain": "  Email       Unnamed: 1 contact.sunky@gmail.com  \\\n0    id  case_in_country          reporting date   \n1     1              NaN               1/20/2020   \n2     2              NaN               1/20/2020   \n3     3              NaN               1/21/2020   \n4     4              NaN               1/21/2020   \n\n                                          Unnamed: 3  \\\n0                                            summary   \n1  First confirmed imported COVID-19 pneumonia pa...   \n2  First confirmed imported COVID-19 pneumonia pa...   \n3  First confirmed imported cases in Zhejiang: pa...   \n4  new confirmed imported COVID-19 pneumonia in T...   \n\n  Email was incorrect before Unnamed: 5 Unnamed: 6 Unnamed: 7     Unnamed: 8  \\\n0                   location    country     gender        age  symptom_onset   \n1        Shenzhen, Guangdong      China       male         66       1/3/2020   \n2                   Shanghai      China     female         56      1/15/2020   \n3                   Zhejiang      China       male         46       1/4/2020   \n4                    Tianjin      China     female         60            NaN   \n\n              Unnamed: 9  ...    Unnamed: 11     Unnamed: 12   Unnamed: 13  \\\n0  If_onset_approximated  ...  type_of_visit  exposure_start  exposure_end   \n1                      0  ...       hospital      12/29/2019      1/4/2020   \n2                      0  ...         clinic             NaN     1/12/2020   \n3                      0  ...       hospital             NaN      1/3/2020   \n4                    NaN  ...         clinic             NaN           NaN   \n\n      Unnamed: 14 Unnamed: 15 Unnamed: 16 Unnamed: 17 Unnamed: 18  \\\n0  visiting Wuhan  from Wuhan       death   recovered     symptom   \n1               1           0           0           0         NaN   \n2               0           1           0           0         NaN   \n3               0           1           0           0         NaN   \n4               1           0           0           0         NaN   \n\n                                         Unnamed: 19  \\\n0                                             source   \n1               Shenzhen Municipal Health Commission   \n2  Official Weibo of Shanghai Municipal Health Co...   \n3             Health Commission of Zhejiang Province   \n4                                           人民日报官方微博   \n\n                                         Unnamed: 20  \n0                                               link  \n1  http://wjw.sz.gov.cn/wzx/202001/t20200120_1898...  \n2  https://www.weibo.com/2372649470/IqogQhgfa?fro...  \n3  http://www.zjwjw.gov.cn/art/2020/1/21/art_1202...  \n4        https://m.weibo.cn/status/4463235401268457?  \n\n[5 rows x 21 columns]"
     },
     "execution_count": 44,
     "metadata": {},
     "output_type": "execute_result"
    }
   ],
   "source": [
    "LineList.head(5)"
   ]
  },
  {
   "cell_type": "code",
   "execution_count": 45,
   "metadata": {},
   "outputs": [],
   "source": [
    "# Renaming columns"
   ]
  },
  {
   "cell_type": "code",
   "execution_count": 46,
   "metadata": {},
   "outputs": [],
   "source": [
    "LineList = LineList.rename(columns={\"Unamed: 1\": \"Case In Country\",\"Unnamed: 3\": \"summary\",\"contact.sunky@gmail.com\": \"reporting date\",\"Email was incorrect before\": \"location\",\"Unnamed: 5\": \"country\",\"Unnamed: 6\":\"gender\", \"Unnamed: 7\":\"age\",\"Unnamed: 8\": \"symptom_onset\", \"Unnamed: 9\":\"If_onset_approximated\",\"Unnamed: 10\": \"hosp_visit_date\",\"Unnamed: 11\":\"type_of_visit\",\"Unnamed: 12\": \"exposure_start\", \"Unnamed: 13\":\"exposure_end\",\"Unnamed: 14\":\"visiting Wuhan\",\"Unnamed: 15\": \"from Wuhan\",\"Unnamed: 16\": \"death\",\"Unnamed: 17\": \"recovered\",\"Unnamed: 18\":\"symptom\",\"Unnamed: 19\":\"source\",\"Unnamed: 20\":\"Link\"})"
   ]
  },
  {
   "cell_type": "code",
   "execution_count": 47,
   "metadata": {},
   "outputs": [],
   "source": [
    "# Dropping columns \n",
    "LineList.head(5)\n",
    "LineList.drop(columns=[\"Email\",\"Unnamed: 1\",\"summary\",'Link'] ,axis=1, inplace=True)\n",
    "LineList.drop(0, inplace = True)"
   ]
  },
  {
   "cell_type": "code",
   "execution_count": 51,
   "metadata": {},
   "outputs": [],
   "source": [
    "#LineList['reporting date']= pd.to_datetime(LineList['reporting date'])\n",
    "LineList[['reporting date','symptom_onset','hosp_visit_date','exposure_start','exposure_end']] = LineList[['reporting date','symptom_onset','hosp_visit_date','exposure_start','exposure_end']].apply(pd.to_datetime)\n"
   ]
  },
  {
   "cell_type": "code",
   "execution_count": 52,
   "metadata": {},
   "outputs": [
    {
     "data": {
      "text/html": "<div>\n<style scoped>\n    .dataframe tbody tr th:only-of-type {\n        vertical-align: middle;\n    }\n\n    .dataframe tbody tr th {\n        vertical-align: top;\n    }\n\n    .dataframe thead th {\n        text-align: right;\n    }\n</style>\n<table border=\"1\" class=\"dataframe\">\n  <thead>\n    <tr style=\"text-align: right;\">\n      <th></th>\n      <th>reporting date</th>\n      <th>location</th>\n      <th>country</th>\n      <th>gender</th>\n      <th>age</th>\n      <th>symptom_onset</th>\n      <th>If_onset_approximated</th>\n      <th>hosp_visit_date</th>\n      <th>type_of_visit</th>\n      <th>exposure_start</th>\n      <th>exposure_end</th>\n      <th>visiting Wuhan</th>\n      <th>from Wuhan</th>\n      <th>death</th>\n      <th>recovered</th>\n      <th>symptom</th>\n      <th>source</th>\n    </tr>\n  </thead>\n  <tbody>\n    <tr>\n      <th>1</th>\n      <td>2020-01-20</td>\n      <td>Shenzhen, Guangdong</td>\n      <td>China</td>\n      <td>male</td>\n      <td>66</td>\n      <td>2020-01-03</td>\n      <td>0</td>\n      <td>2020-01-11</td>\n      <td>hospital</td>\n      <td>2019-12-29</td>\n      <td>2020-01-04</td>\n      <td>1</td>\n      <td>0</td>\n      <td>0</td>\n      <td>0</td>\n      <td>NaN</td>\n      <td>Shenzhen Municipal Health Commission</td>\n    </tr>\n    <tr>\n      <th>2</th>\n      <td>2020-01-20</td>\n      <td>Shanghai</td>\n      <td>China</td>\n      <td>female</td>\n      <td>56</td>\n      <td>2020-01-15</td>\n      <td>0</td>\n      <td>2020-01-15</td>\n      <td>clinic</td>\n      <td>NaT</td>\n      <td>2020-01-12</td>\n      <td>0</td>\n      <td>1</td>\n      <td>0</td>\n      <td>0</td>\n      <td>NaN</td>\n      <td>Official Weibo of Shanghai Municipal Health Co...</td>\n    </tr>\n    <tr>\n      <th>3</th>\n      <td>2020-01-21</td>\n      <td>Zhejiang</td>\n      <td>China</td>\n      <td>male</td>\n      <td>46</td>\n      <td>2020-01-04</td>\n      <td>0</td>\n      <td>2020-01-17</td>\n      <td>hospital</td>\n      <td>NaT</td>\n      <td>2020-01-03</td>\n      <td>0</td>\n      <td>1</td>\n      <td>0</td>\n      <td>0</td>\n      <td>NaN</td>\n      <td>Health Commission of Zhejiang Province</td>\n    </tr>\n    <tr>\n      <th>4</th>\n      <td>2020-01-21</td>\n      <td>Tianjin</td>\n      <td>China</td>\n      <td>female</td>\n      <td>60</td>\n      <td>NaT</td>\n      <td>NaN</td>\n      <td>2020-01-19</td>\n      <td>clinic</td>\n      <td>NaT</td>\n      <td>NaT</td>\n      <td>1</td>\n      <td>0</td>\n      <td>0</td>\n      <td>0</td>\n      <td>NaN</td>\n      <td>人民日报官方微博</td>\n    </tr>\n    <tr>\n      <th>5</th>\n      <td>2020-01-21</td>\n      <td>Tianjin</td>\n      <td>China</td>\n      <td>male</td>\n      <td>58</td>\n      <td>NaT</td>\n      <td>NaN</td>\n      <td>2020-01-14</td>\n      <td>clinic</td>\n      <td>NaT</td>\n      <td>NaT</td>\n      <td>0</td>\n      <td>0</td>\n      <td>0</td>\n      <td>0</td>\n      <td>NaN</td>\n      <td>人民日报官方微博</td>\n    </tr>\n  </tbody>\n</table>\n</div>",
      "text/plain": "  reporting date             location country  gender age symptom_onset  \\\n1     2020-01-20  Shenzhen, Guangdong   China    male  66    2020-01-03   \n2     2020-01-20             Shanghai   China  female  56    2020-01-15   \n3     2020-01-21             Zhejiang   China    male  46    2020-01-04   \n4     2020-01-21              Tianjin   China  female  60           NaT   \n5     2020-01-21              Tianjin   China    male  58           NaT   \n\n  If_onset_approximated hosp_visit_date type_of_visit exposure_start  \\\n1                     0      2020-01-11      hospital     2019-12-29   \n2                     0      2020-01-15        clinic            NaT   \n3                     0      2020-01-17      hospital            NaT   \n4                   NaN      2020-01-19        clinic            NaT   \n5                   NaN      2020-01-14        clinic            NaT   \n\n  exposure_end visiting Wuhan from Wuhan death recovered symptom  \\\n1   2020-01-04              1          0     0         0     NaN   \n2   2020-01-12              0          1     0         0     NaN   \n3   2020-01-03              0          1     0         0     NaN   \n4          NaT              1          0     0         0     NaN   \n5          NaT              0          0     0         0     NaN   \n\n                                              source  \n1               Shenzhen Municipal Health Commission  \n2  Official Weibo of Shanghai Municipal Health Co...  \n3             Health Commission of Zhejiang Province  \n4                                           人民日报官方微博  \n5                                           人民日报官方微博  "
     },
     "execution_count": 52,
     "metadata": {},
     "output_type": "execute_result"
    }
   ],
   "source": [
    "LineList.head()"
   ]
  },
  {
   "cell_type": "code",
   "execution_count": 54,
   "metadata": {},
   "outputs": [
    {
     "name": "stdout",
     "output_type": "stream",
     "text": "<class 'pandas.core.frame.DataFrame'>\nInt64Index: 771 entries, 1 to 771\nData columns (total 17 columns):\nreporting date           770 non-null datetime64[ns]\nlocation                 771 non-null object\ncountry                  771 non-null object\ngender                   663 non-null object\nage                      636 non-null object\nsymptom_onset            438 non-null datetime64[ns]\nIf_onset_approximated    436 non-null object\nhosp_visit_date          395 non-null datetime64[ns]\ntype_of_visit            353 non-null object\nexposure_start           106 non-null datetime64[ns]\nexposure_end             311 non-null datetime64[ns]\nvisiting Wuhan           771 non-null object\nfrom Wuhan               767 non-null object\ndeath                    771 non-null object\nrecovered                771 non-null object\nsymptom                  168 non-null object\nsource                   771 non-null object\ndtypes: datetime64[ns](5), object(12)\nmemory usage: 128.4+ KB\n"
    }
   ],
   "source": [
    "LineList.info()\n"
   ]
  },
  {
   "cell_type": "code",
   "execution_count": null,
   "metadata": {},
   "outputs": [],
   "source": []
  },
  {
   "cell_type": "code",
   "execution_count": null,
   "metadata": {},
   "outputs": [],
   "source": []
  },
  {
   "cell_type": "code",
   "execution_count": null,
   "metadata": {},
   "outputs": [],
   "source": []
  },
  {
   "cell_type": "code",
   "execution_count": 28,
   "metadata": {},
   "outputs": [
    {
     "data": {
      "text/html": "<div>\n<style scoped>\n    .dataframe tbody tr th:only-of-type {\n        vertical-align: middle;\n    }\n\n    .dataframe tbody tr th {\n        vertical-align: top;\n    }\n\n    .dataframe thead th {\n        text-align: right;\n    }\n</style>\n<table border=\"1\" class=\"dataframe\">\n  <thead>\n    <tr style=\"text-align: right;\">\n      <th></th>\n      <th>Pro</th>\n      <th>province</th>\n      <th>new</th>\n      <th>cumu</th>\n    </tr>\n  </thead>\n  <tbody>\n    <tr>\n      <th>0</th>\n      <td>1/10/2020</td>\n      <td>Hubei</td>\n      <td>41.0</td>\n      <td>41.0</td>\n    </tr>\n    <tr>\n      <th>1</th>\n      <td>1/16/2020</td>\n      <td>Hubei</td>\n      <td>4.0</td>\n      <td>45.0</td>\n    </tr>\n    <tr>\n      <th>2</th>\n      <td>1/17/2020</td>\n      <td>Hubei</td>\n      <td>17.0</td>\n      <td>62.0</td>\n    </tr>\n    <tr>\n      <th>3</th>\n      <td>1/17/2020</td>\n      <td>Zhejiang</td>\n      <td>5.0</td>\n      <td>5.0</td>\n    </tr>\n    <tr>\n      <th>4</th>\n      <td>1/18/2020</td>\n      <td>Hubei</td>\n      <td>59.0</td>\n      <td>NaN</td>\n    </tr>\n  </tbody>\n</table>\n</div>",
      "text/plain": "         Pro  province   new  cumu\n0  1/10/2020     Hubei  41.0  41.0\n1  1/16/2020     Hubei   4.0  45.0\n2  1/17/2020     Hubei  17.0  62.0\n3  1/17/2020  Zhejiang   5.0   5.0\n4  1/18/2020     Hubei  59.0   NaN"
     },
     "execution_count": 28,
     "metadata": {},
     "output_type": "execute_result"
    }
   ],
   "source": [
    "ProvinceIncidence.head(5)"
   ]
  },
  {
   "cell_type": "code",
   "execution_count": 29,
   "metadata": {},
   "outputs": [
    {
     "data": {
      "text/html": "<div>\n<style scoped>\n    .dataframe tbody tr th:only-of-type {\n        vertical-align: middle;\n    }\n\n    .dataframe tbody tr th {\n        vertical-align: top;\n    }\n\n    .dataframe thead th {\n        text-align: right;\n    }\n</style>\n<table border=\"1\" class=\"dataframe\">\n  <thead>\n    <tr style=\"text-align: right;\">\n      <th></th>\n      <th>id</th>\n      <th>reporting date</th>\n      <th>summary</th>\n      <th>location</th>\n      <th>country</th>\n      <th>gender</th>\n      <th>age</th>\n      <th>symptom_onset</th>\n      <th>If_onset_approximated</th>\n      <th>hosp_visit_date</th>\n      <th>type_of_visit</th>\n      <th>exposure_start</th>\n      <th>exposure_end</th>\n      <th>visiting Wuhan</th>\n      <th>from Wuhan</th>\n      <th>death</th>\n      <th>recovered</th>\n      <th>symptom</th>\n      <th>source</th>\n      <th>link</th>\n    </tr>\n  </thead>\n  <tbody>\n    <tr>\n      <th>0</th>\n      <td>0.0</td>\n      <td>1/28/2020</td>\n      <td>new confirmed COVID-19 patient in Paris, Franc...</td>\n      <td>Paris</td>\n      <td>France</td>\n      <td>male</td>\n      <td>80.0</td>\n      <td>1/25/2020</td>\n      <td>1.0</td>\n      <td>1/25/2020</td>\n      <td>hospital</td>\n      <td>NaN</td>\n      <td>1/23/2020</td>\n      <td>0.0</td>\n      <td>1.0</td>\n      <td>0.0</td>\n      <td>0.0</td>\n      <td>NaN</td>\n      <td>The Local</td>\n      <td>https://www.thelocal.de/20200128/number-of-ger...</td>\n    </tr>\n    <tr>\n      <th>1</th>\n      <td>1.0</td>\n      <td>1/29/2020</td>\n      <td>new confirmed COVID-19 patient in Paris, Franc...</td>\n      <td>Paris</td>\n      <td>France</td>\n      <td>female</td>\n      <td>NaN</td>\n      <td>NaN</td>\n      <td>NaN</td>\n      <td>NaN</td>\n      <td>hospital</td>\n      <td>NaN</td>\n      <td>1/23/2020</td>\n      <td>1.0</td>\n      <td>0.0</td>\n      <td>0.0</td>\n      <td>0.0</td>\n      <td>NaN</td>\n      <td>The Local</td>\n      <td>https://www.thelocal.fr/20200131/coronavirus-i...</td>\n    </tr>\n    <tr>\n      <th>2</th>\n      <td>2.0</td>\n      <td>1/30/2020</td>\n      <td>new confirmed COVID-19 patient in Japan: male,...</td>\n      <td>Tokyo</td>\n      <td>Japan</td>\n      <td>male</td>\n      <td>45.0</td>\n      <td>NaN</td>\n      <td>NaN</td>\n      <td>NaN</td>\n      <td>NaN</td>\n      <td>NaN</td>\n      <td>1/29/2020</td>\n      <td>1.0</td>\n      <td>0.0</td>\n      <td>0.0</td>\n      <td>0.0</td>\n      <td>throat pain, fever</td>\n      <td>Bangkok Post</td>\n      <td>https://www.bangkokpost.com/world/1846939/thre...</td>\n    </tr>\n    <tr>\n      <th>3</th>\n      <td>3.0</td>\n      <td>1/30/2020</td>\n      <td>new confirmed COVID-19 patient in Japan: male,...</td>\n      <td>Tokyo</td>\n      <td>Japan</td>\n      <td>male</td>\n      <td>45.0</td>\n      <td>NaN</td>\n      <td>NaN</td>\n      <td>NaN</td>\n      <td>NaN</td>\n      <td>NaN</td>\n      <td>1/29/2020</td>\n      <td>1.0</td>\n      <td>0.0</td>\n      <td>0.0</td>\n      <td>0.0</td>\n      <td>NaN</td>\n      <td>Bangkok Post</td>\n      <td>https://www.bangkokpost.com/world/1846939/thre...</td>\n    </tr>\n    <tr>\n      <th>4</th>\n      <td>4.0</td>\n      <td>1/30/2020</td>\n      <td>new confirmed COVID-19 patient in Japan: femal...</td>\n      <td>Tokyo</td>\n      <td>Japan</td>\n      <td>female</td>\n      <td>55.0</td>\n      <td>NaN</td>\n      <td>NaN</td>\n      <td>NaN</td>\n      <td>NaN</td>\n      <td>NaN</td>\n      <td>1/29/2020</td>\n      <td>1.0</td>\n      <td>0.0</td>\n      <td>0.0</td>\n      <td>0.0</td>\n      <td>NaN</td>\n      <td>Bangkok Post</td>\n      <td>https://www.bangkokpost.com/world/1846939/thre...</td>\n    </tr>\n  </tbody>\n</table>\n</div>",
      "text/plain": "    id reporting date                                            summary  \\\n0  0.0      1/28/2020  new confirmed COVID-19 patient in Paris, Franc...   \n1  1.0      1/29/2020  new confirmed COVID-19 patient in Paris, Franc...   \n2  2.0      1/30/2020  new confirmed COVID-19 patient in Japan: male,...   \n3  3.0      1/30/2020  new confirmed COVID-19 patient in Japan: male,...   \n4  4.0      1/30/2020  new confirmed COVID-19 patient in Japan: femal...   \n\n  location country  gender   age symptom_onset  If_onset_approximated  \\\n0    Paris  France    male  80.0     1/25/2020                    1.0   \n1    Paris  France  female   NaN           NaN                    NaN   \n2    Tokyo   Japan    male  45.0           NaN                    NaN   \n3    Tokyo   Japan    male  45.0           NaN                    NaN   \n4    Tokyo   Japan  female  55.0           NaN                    NaN   \n\n  hosp_visit_date type_of_visit exposure_start exposure_end  visiting Wuhan  \\\n0       1/25/2020      hospital            NaN    1/23/2020             0.0   \n1             NaN      hospital            NaN    1/23/2020             1.0   \n2             NaN           NaN            NaN    1/29/2020             1.0   \n3             NaN           NaN            NaN    1/29/2020             1.0   \n4             NaN           NaN            NaN    1/29/2020             1.0   \n\n   from Wuhan  death  recovered             symptom        source  \\\n0         1.0    0.0        0.0                 NaN     The Local   \n1         0.0    0.0        0.0                 NaN     The Local   \n2         0.0    0.0        0.0  throat pain, fever  Bangkok Post   \n3         0.0    0.0        0.0                 NaN  Bangkok Post   \n4         0.0    0.0        0.0                 NaN  Bangkok Post   \n\n                                                link  \n0  https://www.thelocal.de/20200128/number-of-ger...  \n1  https://www.thelocal.fr/20200131/coronavirus-i...  \n2  https://www.bangkokpost.com/world/1846939/thre...  \n3  https://www.bangkokpost.com/world/1846939/thre...  \n4  https://www.bangkokpost.com/world/1846939/thre...  "
     },
     "execution_count": 29,
     "metadata": {},
     "output_type": "execute_result"
    }
   ],
   "source": [
    "IncidentLog.head(5)"
   ]
  },
  {
   "cell_type": "code",
   "execution_count": 30,
   "metadata": {},
   "outputs": [
    {
     "data": {
      "text/html": "<div>\n<style scoped>\n    .dataframe tbody tr th:only-of-type {\n        vertical-align: middle;\n    }\n\n    .dataframe tbody tr th {\n        vertical-align: top;\n    }\n\n    .dataframe thead th {\n        text-align: right;\n    }\n</style>\n<table border=\"1\" class=\"dataframe\">\n  <thead>\n    <tr style=\"text-align: right;\">\n      <th></th>\n      <th>id</th>\n      <th>reporting date</th>\n      <th>summary</th>\n      <th>location</th>\n      <th>country</th>\n      <th>gender</th>\n      <th>age</th>\n      <th>symptom_onset</th>\n      <th>If_onset_approximated</th>\n      <th>hosp_visit_date</th>\n      <th>type_of_visit</th>\n      <th>exposure_start</th>\n      <th>exposure_end</th>\n      <th>visiting Wuhan</th>\n      <th>from Wuhan</th>\n      <th>death</th>\n      <th>recovered</th>\n      <th>symptom</th>\n      <th>source</th>\n      <th>link</th>\n    </tr>\n  </thead>\n  <tbody>\n    <tr>\n      <th>0</th>\n      <td>NaN</td>\n      <td>02/02/2020</td>\n      <td>NaN</td>\n      <td>Beijing</td>\n      <td>China</td>\n      <td>female</td>\n      <td>42</td>\n      <td>1/30/2020</td>\n      <td>0</td>\n      <td>1/30/2020</td>\n      <td>NaN</td>\n      <td>NaN</td>\n      <td>NaN</td>\n      <td>NaN</td>\n      <td>NaN</td>\n      <td>0</td>\n      <td>0</td>\n      <td>NaN</td>\n      <td>Beijing Municipal Health Commission</td>\n      <td>http://wjw.beijing.gov.cn/xwzx_20031/wnxw/2020...</td>\n    </tr>\n    <tr>\n      <th>1</th>\n      <td>NaN</td>\n      <td>02/02/2020</td>\n      <td>NaN</td>\n      <td>Beijing</td>\n      <td>China</td>\n      <td>male</td>\n      <td>20</td>\n      <td>1/30/2020</td>\n      <td>0</td>\n      <td>1/31/2020</td>\n      <td>NaN</td>\n      <td>NaN</td>\n      <td>NaN</td>\n      <td>NaN</td>\n      <td>NaN</td>\n      <td>0</td>\n      <td>0</td>\n      <td>NaN</td>\n      <td>Beijing Municipal Health Commission</td>\n      <td>http://wjw.beijing.gov.cn/xwzx_20031/wnxw/2020...</td>\n    </tr>\n    <tr>\n      <th>2</th>\n      <td>NaN</td>\n      <td>02/02/2020</td>\n      <td>NaN</td>\n      <td>Beijing</td>\n      <td>China</td>\n      <td>female</td>\n      <td>44</td>\n      <td>1/31/2020</td>\n      <td>0</td>\n      <td>2/1/2020</td>\n      <td>NaN</td>\n      <td>NaN</td>\n      <td>NaN</td>\n      <td>NaN</td>\n      <td>NaN</td>\n      <td>0</td>\n      <td>0</td>\n      <td>NaN</td>\n      <td>Beijing Municipal Health Commission</td>\n      <td>http://wjw.beijing.gov.cn/xwzx_20031/wnxw/2020...</td>\n    </tr>\n    <tr>\n      <th>3</th>\n      <td>NaN</td>\n      <td>02/02/2020</td>\n      <td>NaN</td>\n      <td>Beijing</td>\n      <td>China</td>\n      <td>male</td>\n      <td>75</td>\n      <td>1/27/2020</td>\n      <td>0</td>\n      <td>1/31/2020</td>\n      <td>NaN</td>\n      <td>NaN</td>\n      <td>NaN</td>\n      <td>NaN</td>\n      <td>NaN</td>\n      <td>0</td>\n      <td>0</td>\n      <td>NaN</td>\n      <td>Beijing Municipal Health Commission</td>\n      <td>http://wjw.beijing.gov.cn/xwzx_20031/wnxw/2020...</td>\n    </tr>\n    <tr>\n      <th>4</th>\n      <td>NaN</td>\n      <td>02/02/2020</td>\n      <td>NaN</td>\n      <td>Beijing</td>\n      <td>China</td>\n      <td>female</td>\n      <td>43</td>\n      <td>1/30/2020</td>\n      <td>0</td>\n      <td>1/31/2020</td>\n      <td>NaN</td>\n      <td>NaN</td>\n      <td>NaN</td>\n      <td>NaN</td>\n      <td>NaN</td>\n      <td>0</td>\n      <td>0</td>\n      <td>NaN</td>\n      <td>Beijing Municipal Health Commission</td>\n      <td>http://wjw.beijing.gov.cn/xwzx_20031/wnxw/2020...</td>\n    </tr>\n  </tbody>\n</table>\n</div>",
      "text/plain": "   id reporting date summary location country  gender  age symptom_onset  \\\n0 NaN     02/02/2020     NaN  Beijing   China  female   42     1/30/2020   \n1 NaN     02/02/2020     NaN  Beijing   China    male   20     1/30/2020   \n2 NaN     02/02/2020     NaN  Beijing   China  female   44     1/31/2020   \n3 NaN     02/02/2020     NaN  Beijing   China    male   75     1/27/2020   \n4 NaN     02/02/2020     NaN  Beijing   China  female   43     1/30/2020   \n\n   If_onset_approximated hosp_visit_date type_of_visit exposure_start  \\\n0                      0       1/30/2020           NaN            NaN   \n1                      0       1/31/2020           NaN            NaN   \n2                      0        2/1/2020           NaN            NaN   \n3                      0       1/31/2020           NaN            NaN   \n4                      0       1/31/2020           NaN            NaN   \n\n  exposure_end  visiting Wuhan  from Wuhan  death  recovered  symptom  \\\n0          NaN             NaN         NaN      0          0      NaN   \n1          NaN             NaN         NaN      0          0      NaN   \n2          NaN             NaN         NaN      0          0      NaN   \n3          NaN             NaN         NaN      0          0      NaN   \n4          NaN             NaN         NaN      0          0      NaN   \n\n                                source  \\\n0  Beijing Municipal Health Commission   \n1  Beijing Municipal Health Commission   \n2  Beijing Municipal Health Commission   \n3  Beijing Municipal Health Commission   \n4  Beijing Municipal Health Commission   \n\n                                                link  \n0  http://wjw.beijing.gov.cn/xwzx_20031/wnxw/2020...  \n1  http://wjw.beijing.gov.cn/xwzx_20031/wnxw/2020...  \n2  http://wjw.beijing.gov.cn/xwzx_20031/wnxw/2020...  \n3  http://wjw.beijing.gov.cn/xwzx_20031/wnxw/2020...  \n4  http://wjw.beijing.gov.cn/xwzx_20031/wnxw/2020...  "
     },
     "execution_count": 30,
     "metadata": {},
     "output_type": "execute_result"
    }
   ],
   "source": [
    "IncidentLogSecond.head(5)"
   ]
  },
  {
   "cell_type": "code",
   "execution_count": null,
   "metadata": {},
   "outputs": [],
   "source": []
  }
 ]
}