{
 "nbformat": 4,
 "nbformat_minor": 2,
 "metadata": {
  "language_info": {
   "name": "python",
   "codemirror_mode": {
    "name": "ipython",
    "version": 3
   },
   "version": "3.7.3-final"
  },
  "orig_nbformat": 2,
  "file_extension": ".py",
  "mimetype": "text/x-python",
  "name": "python",
  "npconvert_exporter": "python",
  "pygments_lexer": "ipython3",
  "version": 3,
  "kernelspec": {
   "name": "python37364bitbaseconda37cebdefdc074f38b71ba887856dd328",
   "display_name": "Python 3.7.3 64-bit ('base': conda)"
  }
 },
 "cells": [
  {
   "cell_type": "code",
   "execution_count": 51,
   "metadata": {},
   "outputs": [],
   "source": [
    "import pandas as pd\n",
    "import numpy as np\n",
    "import datetime \n",
    "import statistics"
   ]
  },
  {
   "cell_type": "code",
   "execution_count": 25,
   "metadata": {},
   "outputs": [],
   "source": [
    "TotalCases = pd.read_csv(\"https://docs.google.com/spreadsheets/d/1jS24DjSPVWa4iuxuD4OAXrE3QeI8c9BC1hSlqr-NMiU/export?format=csv&gid=0\")"
   ]
  },
  {
   "cell_type": "code",
   "execution_count": 26,
   "metadata": {},
   "outputs": [],
   "source": [
    "LineList= pd.read_csv(\"https://docs.google.com/spreadsheets/d/1jS24DjSPVWa4iuxuD4OAXrE3QeI8c9BC1hSlqr-NMiU/export?format=csv&gid=1187587451\")"
   ]
  },
  {
   "cell_type": "code",
   "execution_count": 27,
   "metadata": {},
   "outputs": [],
   "source": [
    "ProvinceIncidence= pd.read_csv(\"https://docs.google.com/spreadsheets/d/1jS24DjSPVWa4iuxuD4OAXrE3QeI8c9BC1hSlqr-NMiU/export?format=csv&gid=1837322948\")"
   ]
  },
  {
   "cell_type": "code",
   "execution_count": 28,
   "metadata": {},
   "outputs": [],
   "source": [
    "IncidentLog = pd.read_csv(\"https://docs.google.com/spreadsheets/d/1jS24DjSPVWa4iuxuD4OAXrE3QeI8c9BC1hSlqr-NMiU/export?format=csv&gid=1202885709\")"
   ]
  },
  {
   "cell_type": "code",
   "execution_count": 29,
   "metadata": {},
   "outputs": [],
   "source": [
    "IncidentLogSecond= pd.read_csv(\"https://docs.google.com/spreadsheets/d/1jS24DjSPVWa4iuxuD4OAXrE3QeI8c9BC1hSlqr-NMiU/export?format=csv&gid=1180262595\")"
   ]
  },
  {
   "cell_type": "code",
   "execution_count": 30,
   "metadata": {},
   "outputs": [
    {
     "data": {
      "text/html": "<div>\n<style scoped>\n    .dataframe tbody tr th:only-of-type {\n        vertical-align: middle;\n    }\n\n    .dataframe tbody tr th {\n        vertical-align: top;\n    }\n\n    .dataframe thead th {\n        text-align: right;\n    }\n</style>\n<table border=\"1\" class=\"dataframe\">\n  <thead>\n    <tr style=\"text-align: right;\">\n      <th></th>\n      <th>Province</th>\n      <th>Confirmed</th>\n      <th>Suspected</th>\n      <th>Death</th>\n      <th>Recovered</th>\n      <th>Link</th>\n      <th>Comments</th>\n    </tr>\n  </thead>\n  <tbody>\n    <tr>\n      <th>0</th>\n      <td>Total</td>\n      <td>40315.0</td>\n      <td>23589.0</td>\n      <td>909.0</td>\n      <td>3471.0</td>\n      <td>http://3g.dxy.cn/newh5/view/pneumonia</td>\n      <td>NaN</td>\n    </tr>\n    <tr>\n      <th>1</th>\n      <td>Hubei</td>\n      <td>29631.0</td>\n      <td>NaN</td>\n      <td>NaN</td>\n      <td>NaN</td>\n      <td>NaN</td>\n      <td>NaN</td>\n    </tr>\n    <tr>\n      <th>2</th>\n      <td>Guangdong</td>\n      <td>1159.0</td>\n      <td>NaN</td>\n      <td>NaN</td>\n      <td>NaN</td>\n      <td>NaN</td>\n      <td>NaN</td>\n    </tr>\n    <tr>\n      <th>3</th>\n      <td>Zhejiang</td>\n      <td>1092.0</td>\n      <td>NaN</td>\n      <td>NaN</td>\n      <td>NaN</td>\n      <td>NaN</td>\n      <td>NaN</td>\n    </tr>\n    <tr>\n      <th>4</th>\n      <td>Henan</td>\n      <td>1073.0</td>\n      <td>NaN</td>\n      <td>NaN</td>\n      <td>NaN</td>\n      <td>NaN</td>\n      <td>NaN</td>\n    </tr>\n  </tbody>\n</table>\n</div>",
      "text/plain": "    Province  Confirmed  Suspected  Death  Recovered  \\\n0      Total    40315.0    23589.0  909.0     3471.0   \n1      Hubei    29631.0        NaN    NaN        NaN   \n2  Guangdong     1159.0        NaN    NaN        NaN   \n3   Zhejiang     1092.0        NaN    NaN        NaN   \n4      Henan     1073.0        NaN    NaN        NaN   \n\n                                    Link  Comments  \n0  http://3g.dxy.cn/newh5/view/pneumonia       NaN  \n1                                    NaN       NaN  \n2                                    NaN       NaN  \n3                                    NaN       NaN  \n4                                    NaN       NaN  "
     },
     "execution_count": 30,
     "metadata": {},
     "output_type": "execute_result"
    }
   ],
   "source": [
    "TotalCases.head(5)"
   ]
  },
  {
   "cell_type": "code",
   "execution_count": 31,
   "metadata": {},
   "outputs": [
    {
     "data": {
      "text/html": "<div>\n<style scoped>\n    .dataframe tbody tr th:only-of-type {\n        vertical-align: middle;\n    }\n\n    .dataframe tbody tr th {\n        vertical-align: top;\n    }\n\n    .dataframe thead th {\n        text-align: right;\n    }\n</style>\n<table border=\"1\" class=\"dataframe\">\n  <thead>\n    <tr style=\"text-align: right;\">\n      <th></th>\n      <th>Email</th>\n      <th>Unnamed: 1</th>\n      <th>contact.sunky@gmail.com</th>\n      <th>Unnamed: 3</th>\n      <th>Email was incorrect before</th>\n      <th>Unnamed: 5</th>\n      <th>Unnamed: 6</th>\n      <th>Unnamed: 7</th>\n      <th>Unnamed: 8</th>\n      <th>Unnamed: 9</th>\n      <th>Unnamed: 10</th>\n      <th>Unnamed: 11</th>\n      <th>Unnamed: 12</th>\n      <th>Unnamed: 13</th>\n      <th>Unnamed: 14</th>\n      <th>Unnamed: 15</th>\n      <th>Unnamed: 16</th>\n      <th>Unnamed: 17</th>\n      <th>Unnamed: 18</th>\n      <th>Unnamed: 19</th>\n    </tr>\n  </thead>\n  <tbody>\n    <tr>\n      <th>0</th>\n      <td>id</td>\n      <td>case_in_country</td>\n      <td>reporting date</td>\n      <td>summary</td>\n      <td>location</td>\n      <td>country</td>\n      <td>gender</td>\n      <td>age</td>\n      <td>symptom_onset</td>\n      <td>If_onset_approximated</td>\n      <td>hosp_visit_date</td>\n      <td>exposure_start</td>\n      <td>exposure_end</td>\n      <td>visiting Wuhan</td>\n      <td>from Wuhan</td>\n      <td>death</td>\n      <td>recovered</td>\n      <td>symptom</td>\n      <td>source</td>\n      <td>link</td>\n    </tr>\n    <tr>\n      <th>1</th>\n      <td>1</td>\n      <td>NaN</td>\n      <td>1/20/2020</td>\n      <td>First confirmed imported COVID-19 pneumonia pa...</td>\n      <td>Shenzhen, Guangdong</td>\n      <td>China</td>\n      <td>male</td>\n      <td>66</td>\n      <td>1/3/2020</td>\n      <td>0</td>\n      <td>1/11/2020</td>\n      <td>12/29/2019</td>\n      <td>1/4/2020</td>\n      <td>1</td>\n      <td>0</td>\n      <td>0</td>\n      <td>0</td>\n      <td>NaN</td>\n      <td>Shenzhen Municipal Health Commission</td>\n      <td>http://wjw.sz.gov.cn/wzx/202001/t20200120_1898...</td>\n    </tr>\n    <tr>\n      <th>2</th>\n      <td>2</td>\n      <td>NaN</td>\n      <td>1/20/2020</td>\n      <td>First confirmed imported COVID-19 pneumonia pa...</td>\n      <td>Shanghai</td>\n      <td>China</td>\n      <td>female</td>\n      <td>56</td>\n      <td>1/15/2020</td>\n      <td>0</td>\n      <td>1/15/2020</td>\n      <td>NaN</td>\n      <td>1/12/2020</td>\n      <td>0</td>\n      <td>1</td>\n      <td>0</td>\n      <td>0</td>\n      <td>NaN</td>\n      <td>Official Weibo of Shanghai Municipal Health Co...</td>\n      <td>https://www.weibo.com/2372649470/IqogQhgfa?fro...</td>\n    </tr>\n    <tr>\n      <th>3</th>\n      <td>3</td>\n      <td>NaN</td>\n      <td>1/21/2020</td>\n      <td>First confirmed imported cases in Zhejiang: pa...</td>\n      <td>Zhejiang</td>\n      <td>China</td>\n      <td>male</td>\n      <td>46</td>\n      <td>1/4/2020</td>\n      <td>0</td>\n      <td>1/17/2020</td>\n      <td>NaN</td>\n      <td>1/3/2020</td>\n      <td>0</td>\n      <td>1</td>\n      <td>0</td>\n      <td>0</td>\n      <td>NaN</td>\n      <td>Health Commission of Zhejiang Province</td>\n      <td>http://www.zjwjw.gov.cn/art/2020/1/21/art_1202...</td>\n    </tr>\n    <tr>\n      <th>4</th>\n      <td>4</td>\n      <td>NaN</td>\n      <td>1/21/2020</td>\n      <td>new confirmed imported COVID-19 pneumonia in T...</td>\n      <td>Tianjin</td>\n      <td>China</td>\n      <td>female</td>\n      <td>60</td>\n      <td>NaN</td>\n      <td>NaN</td>\n      <td>1/19/2020</td>\n      <td>NaN</td>\n      <td>NaN</td>\n      <td>1</td>\n      <td>0</td>\n      <td>0</td>\n      <td>0</td>\n      <td>NaN</td>\n      <td>人民日报官方微博</td>\n      <td>https://m.weibo.cn/status/4463235401268457?</td>\n    </tr>\n  </tbody>\n</table>\n</div>",
      "text/plain": "  Email       Unnamed: 1 contact.sunky@gmail.com  \\\n0    id  case_in_country          reporting date   \n1     1              NaN               1/20/2020   \n2     2              NaN               1/20/2020   \n3     3              NaN               1/21/2020   \n4     4              NaN               1/21/2020   \n\n                                          Unnamed: 3  \\\n0                                            summary   \n1  First confirmed imported COVID-19 pneumonia pa...   \n2  First confirmed imported COVID-19 pneumonia pa...   \n3  First confirmed imported cases in Zhejiang: pa...   \n4  new confirmed imported COVID-19 pneumonia in T...   \n\n  Email was incorrect before Unnamed: 5 Unnamed: 6 Unnamed: 7     Unnamed: 8  \\\n0                   location    country     gender        age  symptom_onset   \n1        Shenzhen, Guangdong      China       male         66       1/3/2020   \n2                   Shanghai      China     female         56      1/15/2020   \n3                   Zhejiang      China       male         46       1/4/2020   \n4                    Tianjin      China     female         60            NaN   \n\n              Unnamed: 9      Unnamed: 10     Unnamed: 11   Unnamed: 12  \\\n0  If_onset_approximated  hosp_visit_date  exposure_start  exposure_end   \n1                      0        1/11/2020      12/29/2019      1/4/2020   \n2                      0        1/15/2020             NaN     1/12/2020   \n3                      0        1/17/2020             NaN      1/3/2020   \n4                    NaN        1/19/2020             NaN           NaN   \n\n      Unnamed: 13 Unnamed: 14 Unnamed: 15 Unnamed: 16 Unnamed: 17  \\\n0  visiting Wuhan  from Wuhan       death   recovered     symptom   \n1               1           0           0           0         NaN   \n2               0           1           0           0         NaN   \n3               0           1           0           0         NaN   \n4               1           0           0           0         NaN   \n\n                                         Unnamed: 18  \\\n0                                             source   \n1               Shenzhen Municipal Health Commission   \n2  Official Weibo of Shanghai Municipal Health Co...   \n3             Health Commission of Zhejiang Province   \n4                                           人民日报官方微博   \n\n                                         Unnamed: 19  \n0                                               link  \n1  http://wjw.sz.gov.cn/wzx/202001/t20200120_1898...  \n2  https://www.weibo.com/2372649470/IqogQhgfa?fro...  \n3  http://www.zjwjw.gov.cn/art/2020/1/21/art_1202...  \n4        https://m.weibo.cn/status/4463235401268457?  "
     },
     "execution_count": 31,
     "metadata": {},
     "output_type": "execute_result"
    }
   ],
   "source": [
    "LineList.head(5)"
   ]
  },
  {
   "cell_type": "code",
   "execution_count": 32,
   "metadata": {},
   "outputs": [],
   "source": [
    "# Dropping columns \n",
    "LineList.head(5)\n",
    "LineList.drop(columns=[\"Email\",\"Unnamed: 3\",\"Email was incorrect before\",\"Unnamed: 18\",\"Unnamed: 19\"] ,axis=1, inplace=True)\n"
   ]
  },
  {
   "cell_type": "code",
   "execution_count": 33,
   "metadata": {},
   "outputs": [
    {
     "data": {
      "text/html": "<div>\n<style scoped>\n    .dataframe tbody tr th:only-of-type {\n        vertical-align: middle;\n    }\n\n    .dataframe tbody tr th {\n        vertical-align: top;\n    }\n\n    .dataframe thead th {\n        text-align: right;\n    }\n</style>\n<table border=\"1\" class=\"dataframe\">\n  <thead>\n    <tr style=\"text-align: right;\">\n      <th></th>\n      <th>Unnamed: 1</th>\n      <th>contact.sunky@gmail.com</th>\n      <th>Unnamed: 5</th>\n      <th>Unnamed: 6</th>\n      <th>Unnamed: 7</th>\n      <th>Unnamed: 8</th>\n      <th>Unnamed: 9</th>\n      <th>Unnamed: 10</th>\n      <th>Unnamed: 11</th>\n      <th>Unnamed: 12</th>\n      <th>Unnamed: 13</th>\n      <th>Unnamed: 14</th>\n      <th>Unnamed: 15</th>\n      <th>Unnamed: 16</th>\n      <th>Unnamed: 17</th>\n    </tr>\n  </thead>\n  <tbody>\n    <tr>\n      <th>0</th>\n      <td>case_in_country</td>\n      <td>reporting date</td>\n      <td>country</td>\n      <td>gender</td>\n      <td>age</td>\n      <td>symptom_onset</td>\n      <td>If_onset_approximated</td>\n      <td>hosp_visit_date</td>\n      <td>exposure_start</td>\n      <td>exposure_end</td>\n      <td>visiting Wuhan</td>\n      <td>from Wuhan</td>\n      <td>death</td>\n      <td>recovered</td>\n      <td>symptom</td>\n    </tr>\n    <tr>\n      <th>1</th>\n      <td>NaN</td>\n      <td>1/20/2020</td>\n      <td>China</td>\n      <td>male</td>\n      <td>66</td>\n      <td>1/3/2020</td>\n      <td>0</td>\n      <td>1/11/2020</td>\n      <td>12/29/2019</td>\n      <td>1/4/2020</td>\n      <td>1</td>\n      <td>0</td>\n      <td>0</td>\n      <td>0</td>\n      <td>NaN</td>\n    </tr>\n    <tr>\n      <th>2</th>\n      <td>NaN</td>\n      <td>1/20/2020</td>\n      <td>China</td>\n      <td>female</td>\n      <td>56</td>\n      <td>1/15/2020</td>\n      <td>0</td>\n      <td>1/15/2020</td>\n      <td>NaN</td>\n      <td>1/12/2020</td>\n      <td>0</td>\n      <td>1</td>\n      <td>0</td>\n      <td>0</td>\n      <td>NaN</td>\n    </tr>\n    <tr>\n      <th>3</th>\n      <td>NaN</td>\n      <td>1/21/2020</td>\n      <td>China</td>\n      <td>male</td>\n      <td>46</td>\n      <td>1/4/2020</td>\n      <td>0</td>\n      <td>1/17/2020</td>\n      <td>NaN</td>\n      <td>1/3/2020</td>\n      <td>0</td>\n      <td>1</td>\n      <td>0</td>\n      <td>0</td>\n      <td>NaN</td>\n    </tr>\n    <tr>\n      <th>4</th>\n      <td>NaN</td>\n      <td>1/21/2020</td>\n      <td>China</td>\n      <td>female</td>\n      <td>60</td>\n      <td>NaN</td>\n      <td>NaN</td>\n      <td>1/19/2020</td>\n      <td>NaN</td>\n      <td>NaN</td>\n      <td>1</td>\n      <td>0</td>\n      <td>0</td>\n      <td>0</td>\n      <td>NaN</td>\n    </tr>\n  </tbody>\n</table>\n</div>",
      "text/plain": "        Unnamed: 1 contact.sunky@gmail.com Unnamed: 5 Unnamed: 6 Unnamed: 7  \\\n0  case_in_country          reporting date    country     gender        age   \n1              NaN               1/20/2020      China       male         66   \n2              NaN               1/20/2020      China     female         56   \n3              NaN               1/21/2020      China       male         46   \n4              NaN               1/21/2020      China     female         60   \n\n      Unnamed: 8             Unnamed: 9      Unnamed: 10     Unnamed: 11  \\\n0  symptom_onset  If_onset_approximated  hosp_visit_date  exposure_start   \n1       1/3/2020                      0        1/11/2020      12/29/2019   \n2      1/15/2020                      0        1/15/2020             NaN   \n3       1/4/2020                      0        1/17/2020             NaN   \n4            NaN                    NaN        1/19/2020             NaN   \n\n    Unnamed: 12     Unnamed: 13 Unnamed: 14 Unnamed: 15 Unnamed: 16  \\\n0  exposure_end  visiting Wuhan  from Wuhan       death   recovered   \n1      1/4/2020               1           0           0           0   \n2     1/12/2020               0           1           0           0   \n3      1/3/2020               0           1           0           0   \n4           NaN               1           0           0           0   \n\n  Unnamed: 17  \n0     symptom  \n1         NaN  \n2         NaN  \n3         NaN  \n4         NaN  "
     },
     "execution_count": 33,
     "metadata": {},
     "output_type": "execute_result"
    }
   ],
   "source": [
    "LineList.head(5)"
   ]
  },
  {
   "cell_type": "code",
   "execution_count": 34,
   "metadata": {},
   "outputs": [],
   "source": [
    "# Renaming columns"
   ]
  },
  {
   "cell_type": "code",
   "execution_count": 35,
   "metadata": {},
   "outputs": [],
   "source": [
    "LineList = LineList.rename(columns={\"Unamed: 1\": \"Case In Country\",\"Unnamed: 5\": \"Country\",\"contact.sunky@gmail.com\": \"reporting date\",\"Email was incorrect before\": \"location\",\"Unnamed: 5\": \"country\",\"Unnamed: 6\":\"gender\", \"Unnamed: 7\":\"age\",\"Unnamed: 8\": \"symptom_onset\", \"Unnamed: 9\":\"If_onset_approximated\",\"Unnamed: 10\": \"hosp_visit_date\",\"Unnamed: 11\":\"exposure_start\",\"Unnamed: 12\": \"exposure_end\", \"Unnamed: 13\":\"visiting Wuhan\",\"Unnamed: 14\":\"from Wuhan\",\"Unnamed: 15\": \"death\",\"Unnamed: 16\": \"recovered\",\"Unnamed: 17\": \"sympton\"})"
   ]
  },
  {
   "cell_type": "code",
   "execution_count": 36,
   "metadata": {},
   "outputs": [
    {
     "data": {
      "text/html": "<div>\n<style scoped>\n    .dataframe tbody tr th:only-of-type {\n        vertical-align: middle;\n    }\n\n    .dataframe tbody tr th {\n        vertical-align: top;\n    }\n\n    .dataframe thead th {\n        text-align: right;\n    }\n</style>\n<table border=\"1\" class=\"dataframe\">\n  <thead>\n    <tr style=\"text-align: right;\">\n      <th></th>\n      <th>Unnamed: 1</th>\n      <th>reporting date</th>\n      <th>country</th>\n      <th>gender</th>\n      <th>age</th>\n      <th>symptom_onset</th>\n      <th>If_onset_approximated</th>\n      <th>hosp_visit_date</th>\n      <th>exposure_start</th>\n      <th>exposure_end</th>\n      <th>visiting Wuhan</th>\n      <th>from Wuhan</th>\n      <th>death</th>\n      <th>recovered</th>\n      <th>sympton</th>\n    </tr>\n  </thead>\n  <tbody>\n    <tr>\n      <th>0</th>\n      <td>case_in_country</td>\n      <td>reporting date</td>\n      <td>country</td>\n      <td>gender</td>\n      <td>age</td>\n      <td>symptom_onset</td>\n      <td>If_onset_approximated</td>\n      <td>hosp_visit_date</td>\n      <td>exposure_start</td>\n      <td>exposure_end</td>\n      <td>visiting Wuhan</td>\n      <td>from Wuhan</td>\n      <td>death</td>\n      <td>recovered</td>\n      <td>symptom</td>\n    </tr>\n    <tr>\n      <th>1</th>\n      <td>NaN</td>\n      <td>1/20/2020</td>\n      <td>China</td>\n      <td>male</td>\n      <td>66</td>\n      <td>1/3/2020</td>\n      <td>0</td>\n      <td>1/11/2020</td>\n      <td>12/29/2019</td>\n      <td>1/4/2020</td>\n      <td>1</td>\n      <td>0</td>\n      <td>0</td>\n      <td>0</td>\n      <td>NaN</td>\n    </tr>\n    <tr>\n      <th>2</th>\n      <td>NaN</td>\n      <td>1/20/2020</td>\n      <td>China</td>\n      <td>female</td>\n      <td>56</td>\n      <td>1/15/2020</td>\n      <td>0</td>\n      <td>1/15/2020</td>\n      <td>NaN</td>\n      <td>1/12/2020</td>\n      <td>0</td>\n      <td>1</td>\n      <td>0</td>\n      <td>0</td>\n      <td>NaN</td>\n    </tr>\n    <tr>\n      <th>3</th>\n      <td>NaN</td>\n      <td>1/21/2020</td>\n      <td>China</td>\n      <td>male</td>\n      <td>46</td>\n      <td>1/4/2020</td>\n      <td>0</td>\n      <td>1/17/2020</td>\n      <td>NaN</td>\n      <td>1/3/2020</td>\n      <td>0</td>\n      <td>1</td>\n      <td>0</td>\n      <td>0</td>\n      <td>NaN</td>\n    </tr>\n    <tr>\n      <th>4</th>\n      <td>NaN</td>\n      <td>1/21/2020</td>\n      <td>China</td>\n      <td>female</td>\n      <td>60</td>\n      <td>NaN</td>\n      <td>NaN</td>\n      <td>1/19/2020</td>\n      <td>NaN</td>\n      <td>NaN</td>\n      <td>1</td>\n      <td>0</td>\n      <td>0</td>\n      <td>0</td>\n      <td>NaN</td>\n    </tr>\n  </tbody>\n</table>\n</div>",
      "text/plain": "        Unnamed: 1  reporting date  country  gender  age  symptom_onset  \\\n0  case_in_country  reporting date  country  gender  age  symptom_onset   \n1              NaN       1/20/2020    China    male   66       1/3/2020   \n2              NaN       1/20/2020    China  female   56      1/15/2020   \n3              NaN       1/21/2020    China    male   46       1/4/2020   \n4              NaN       1/21/2020    China  female   60            NaN   \n\n   If_onset_approximated  hosp_visit_date  exposure_start  exposure_end  \\\n0  If_onset_approximated  hosp_visit_date  exposure_start  exposure_end   \n1                      0        1/11/2020      12/29/2019      1/4/2020   \n2                      0        1/15/2020             NaN     1/12/2020   \n3                      0        1/17/2020             NaN      1/3/2020   \n4                    NaN        1/19/2020             NaN           NaN   \n\n   visiting Wuhan  from Wuhan  death  recovered  sympton  \n0  visiting Wuhan  from Wuhan  death  recovered  symptom  \n1               1           0      0          0      NaN  \n2               0           1      0          0      NaN  \n3               0           1      0          0      NaN  \n4               1           0      0          0      NaN  "
     },
     "execution_count": 36,
     "metadata": {},
     "output_type": "execute_result"
    }
   ],
   "source": [
    "LineList.head(5)"
   ]
  },
  {
   "cell_type": "code",
   "execution_count": 37,
   "metadata": {},
   "outputs": [],
   "source": [
    "LineList.drop(0, inplace = True)"
   ]
  },
  {
   "cell_type": "code",
   "execution_count": 38,
   "metadata": {},
   "outputs": [
    {
     "data": {
      "text/html": "<div>\n<style scoped>\n    .dataframe tbody tr th:only-of-type {\n        vertical-align: middle;\n    }\n\n    .dataframe tbody tr th {\n        vertical-align: top;\n    }\n\n    .dataframe thead th {\n        text-align: right;\n    }\n</style>\n<table border=\"1\" class=\"dataframe\">\n  <thead>\n    <tr style=\"text-align: right;\">\n      <th></th>\n      <th>Unnamed: 1</th>\n      <th>reporting date</th>\n      <th>country</th>\n      <th>gender</th>\n      <th>age</th>\n      <th>symptom_onset</th>\n      <th>If_onset_approximated</th>\n      <th>hosp_visit_date</th>\n      <th>exposure_start</th>\n      <th>exposure_end</th>\n      <th>visiting Wuhan</th>\n      <th>from Wuhan</th>\n      <th>death</th>\n      <th>recovered</th>\n      <th>sympton</th>\n    </tr>\n  </thead>\n  <tbody>\n    <tr>\n      <th>1</th>\n      <td>NaN</td>\n      <td>1/20/2020</td>\n      <td>China</td>\n      <td>male</td>\n      <td>66</td>\n      <td>1/3/2020</td>\n      <td>0</td>\n      <td>1/11/2020</td>\n      <td>12/29/2019</td>\n      <td>1/4/2020</td>\n      <td>1</td>\n      <td>0</td>\n      <td>0</td>\n      <td>0</td>\n      <td>NaN</td>\n    </tr>\n    <tr>\n      <th>2</th>\n      <td>NaN</td>\n      <td>1/20/2020</td>\n      <td>China</td>\n      <td>female</td>\n      <td>56</td>\n      <td>1/15/2020</td>\n      <td>0</td>\n      <td>1/15/2020</td>\n      <td>NaN</td>\n      <td>1/12/2020</td>\n      <td>0</td>\n      <td>1</td>\n      <td>0</td>\n      <td>0</td>\n      <td>NaN</td>\n    </tr>\n    <tr>\n      <th>3</th>\n      <td>NaN</td>\n      <td>1/21/2020</td>\n      <td>China</td>\n      <td>male</td>\n      <td>46</td>\n      <td>1/4/2020</td>\n      <td>0</td>\n      <td>1/17/2020</td>\n      <td>NaN</td>\n      <td>1/3/2020</td>\n      <td>0</td>\n      <td>1</td>\n      <td>0</td>\n      <td>0</td>\n      <td>NaN</td>\n    </tr>\n    <tr>\n      <th>4</th>\n      <td>NaN</td>\n      <td>1/21/2020</td>\n      <td>China</td>\n      <td>female</td>\n      <td>60</td>\n      <td>NaN</td>\n      <td>NaN</td>\n      <td>1/19/2020</td>\n      <td>NaN</td>\n      <td>NaN</td>\n      <td>1</td>\n      <td>0</td>\n      <td>0</td>\n      <td>0</td>\n      <td>NaN</td>\n    </tr>\n    <tr>\n      <th>5</th>\n      <td>NaN</td>\n      <td>1/21/2020</td>\n      <td>China</td>\n      <td>male</td>\n      <td>58</td>\n      <td>NaN</td>\n      <td>NaN</td>\n      <td>1/14/2020</td>\n      <td>NaN</td>\n      <td>NaN</td>\n      <td>0</td>\n      <td>0</td>\n      <td>0</td>\n      <td>0</td>\n      <td>NaN</td>\n    </tr>\n  </tbody>\n</table>\n</div>",
      "text/plain": "  Unnamed: 1 reporting date country  gender age symptom_onset  \\\n1        NaN      1/20/2020   China    male  66      1/3/2020   \n2        NaN      1/20/2020   China  female  56     1/15/2020   \n3        NaN      1/21/2020   China    male  46      1/4/2020   \n4        NaN      1/21/2020   China  female  60           NaN   \n5        NaN      1/21/2020   China    male  58           NaN   \n\n  If_onset_approximated hosp_visit_date exposure_start exposure_end  \\\n1                     0       1/11/2020     12/29/2019     1/4/2020   \n2                     0       1/15/2020            NaN    1/12/2020   \n3                     0       1/17/2020            NaN     1/3/2020   \n4                   NaN       1/19/2020            NaN          NaN   \n5                   NaN       1/14/2020            NaN          NaN   \n\n  visiting Wuhan from Wuhan death recovered sympton  \n1              1          0     0         0     NaN  \n2              0          1     0         0     NaN  \n3              0          1     0         0     NaN  \n4              1          0     0         0     NaN  \n5              0          0     0         0     NaN  "
     },
     "execution_count": 38,
     "metadata": {},
     "output_type": "execute_result"
    }
   ],
   "source": [
    "LineList.head(5)\n"
   ]
  },
  {
   "cell_type": "code",
   "execution_count": 39,
   "metadata": {},
   "outputs": [],
   "source": [
    "#Converting fields to dates\n",
    "#LineList['reporting date']= pd.to_datetime(LineList['reporting date'])\n",
    "LineList[['reporting date','symptom_onset','hosp_visit_date','exposure_start','exposure_end']] = LineList[['reporting date','symptom_onset','hosp_visit_date','exposure_start','exposure_end']].apply(pd.to_datetime)\n"
   ]
  },
  {
   "cell_type": "code",
   "execution_count": 40,
   "metadata": {},
   "outputs": [
    {
     "name": "stdout",
     "output_type": "stream",
     "text": "<class 'pandas.core.frame.DataFrame'>\nInt64Index: 891 entries, 1 to 891\nData columns (total 15 columns):\nUnnamed: 1               694 non-null object\nreporting date           889 non-null datetime64[ns]\ncountry                  874 non-null object\ngender                   750 non-null object\nage                      723 non-null object\nsymptom_onset            496 non-null datetime64[ns]\nIf_onset_approximated    495 non-null object\nhosp_visit_date          442 non-null datetime64[ns]\nexposure_start           111 non-null datetime64[ns]\nexposure_end             319 non-null datetime64[ns]\nvisiting Wuhan           874 non-null object\nfrom Wuhan               870 non-null object\ndeath                    874 non-null object\nrecovered                874 non-null object\nsympton                  207 non-null object\ndtypes: datetime64[ns](5), object(10)\nmemory usage: 111.4+ KB\n"
    }
   ],
   "source": [
    "LineList.info()"
   ]
  },
  {
   "cell_type": "code",
   "execution_count": 41,
   "metadata": {},
   "outputs": [
    {
     "data": {
      "text/html": "<div>\n<style scoped>\n    .dataframe tbody tr th:only-of-type {\n        vertical-align: middle;\n    }\n\n    .dataframe tbody tr th {\n        vertical-align: top;\n    }\n\n    .dataframe thead th {\n        text-align: right;\n    }\n</style>\n<table border=\"1\" class=\"dataframe\">\n  <thead>\n    <tr style=\"text-align: right;\">\n      <th></th>\n      <th>Unnamed: 1</th>\n      <th>reporting date</th>\n      <th>country</th>\n      <th>gender</th>\n      <th>age</th>\n      <th>symptom_onset</th>\n      <th>If_onset_approximated</th>\n      <th>hosp_visit_date</th>\n      <th>exposure_start</th>\n      <th>exposure_end</th>\n      <th>visiting Wuhan</th>\n      <th>from Wuhan</th>\n      <th>death</th>\n      <th>recovered</th>\n      <th>sympton</th>\n    </tr>\n  </thead>\n  <tbody>\n    <tr>\n      <th>1</th>\n      <td>NaN</td>\n      <td>2020-01-20</td>\n      <td>China</td>\n      <td>male</td>\n      <td>66</td>\n      <td>2020-01-03</td>\n      <td>0</td>\n      <td>2020-01-11</td>\n      <td>2019-12-29</td>\n      <td>2020-01-04</td>\n      <td>1</td>\n      <td>0</td>\n      <td>0</td>\n      <td>0</td>\n      <td>NaN</td>\n    </tr>\n    <tr>\n      <th>2</th>\n      <td>NaN</td>\n      <td>2020-01-20</td>\n      <td>China</td>\n      <td>female</td>\n      <td>56</td>\n      <td>2020-01-15</td>\n      <td>0</td>\n      <td>2020-01-15</td>\n      <td>NaT</td>\n      <td>2020-01-12</td>\n      <td>0</td>\n      <td>1</td>\n      <td>0</td>\n      <td>0</td>\n      <td>NaN</td>\n    </tr>\n    <tr>\n      <th>3</th>\n      <td>NaN</td>\n      <td>2020-01-21</td>\n      <td>China</td>\n      <td>male</td>\n      <td>46</td>\n      <td>2020-01-04</td>\n      <td>0</td>\n      <td>2020-01-17</td>\n      <td>NaT</td>\n      <td>2020-01-03</td>\n      <td>0</td>\n      <td>1</td>\n      <td>0</td>\n      <td>0</td>\n      <td>NaN</td>\n    </tr>\n    <tr>\n      <th>4</th>\n      <td>NaN</td>\n      <td>2020-01-21</td>\n      <td>China</td>\n      <td>female</td>\n      <td>60</td>\n      <td>NaT</td>\n      <td>NaN</td>\n      <td>2020-01-19</td>\n      <td>NaT</td>\n      <td>NaT</td>\n      <td>1</td>\n      <td>0</td>\n      <td>0</td>\n      <td>0</td>\n      <td>NaN</td>\n    </tr>\n    <tr>\n      <th>5</th>\n      <td>NaN</td>\n      <td>2020-01-21</td>\n      <td>China</td>\n      <td>male</td>\n      <td>58</td>\n      <td>NaT</td>\n      <td>NaN</td>\n      <td>2020-01-14</td>\n      <td>NaT</td>\n      <td>NaT</td>\n      <td>0</td>\n      <td>0</td>\n      <td>0</td>\n      <td>0</td>\n      <td>NaN</td>\n    </tr>\n  </tbody>\n</table>\n</div>",
      "text/plain": "  Unnamed: 1 reporting date country  gender age symptom_onset  \\\n1        NaN     2020-01-20   China    male  66    2020-01-03   \n2        NaN     2020-01-20   China  female  56    2020-01-15   \n3        NaN     2020-01-21   China    male  46    2020-01-04   \n4        NaN     2020-01-21   China  female  60           NaT   \n5        NaN     2020-01-21   China    male  58           NaT   \n\n  If_onset_approximated hosp_visit_date exposure_start exposure_end  \\\n1                     0      2020-01-11     2019-12-29   2020-01-04   \n2                     0      2020-01-15            NaT   2020-01-12   \n3                     0      2020-01-17            NaT   2020-01-03   \n4                   NaN      2020-01-19            NaT          NaT   \n5                   NaN      2020-01-14            NaT          NaT   \n\n  visiting Wuhan from Wuhan death recovered sympton  \n1              1          0     0         0     NaN  \n2              0          1     0         0     NaN  \n3              0          1     0         0     NaN  \n4              1          0     0         0     NaN  \n5              0          0     0         0     NaN  "
     },
     "execution_count": 41,
     "metadata": {},
     "output_type": "execute_result"
    }
   ],
   "source": [
    "LineList.head()"
   ]
  },
  {
   "cell_type": "code",
   "execution_count": 63,
   "metadata": {},
   "outputs": [
    {
     "data": {
      "text/plain": "(891, 15)"
     },
     "execution_count": 63,
     "metadata": {},
     "output_type": "execute_result"
    }
   ],
   "source": [
    "LineList.shape"
   ]
  },
  {
   "cell_type": "code",
   "execution_count": 66,
   "metadata": {},
   "outputs": [
    {
     "data": {
      "text/plain": "Unnamed: 1               197\nreporting date             2\ncountry                   17\ngender                   141\nage                      168\nsymptom_onset            395\nIf_onset_approximated    396\nhosp_visit_date          449\nexposure_start           780\nexposure_end             572\nvisiting Wuhan            17\nfrom Wuhan                21\ndeath                     17\nrecovered                 17\nsympton                  684\ndtype: int64"
     },
     "execution_count": 66,
     "metadata": {},
     "output_type": "execute_result"
    }
   ],
   "source": [
    "LineList.isna().sum()"
   ]
  },
  {
   "cell_type": "code",
   "execution_count": 42,
   "metadata": {},
   "outputs": [
    {
     "name": "stdout",
     "output_type": "stream",
     "text": "<class 'pandas.core.frame.DataFrame'>\nInt64Index: 891 entries, 1 to 891\nData columns (total 15 columns):\nUnnamed: 1               694 non-null object\nreporting date           889 non-null datetime64[ns]\ncountry                  874 non-null object\ngender                   750 non-null object\nage                      723 non-null object\nsymptom_onset            496 non-null datetime64[ns]\nIf_onset_approximated    495 non-null object\nhosp_visit_date          442 non-null datetime64[ns]\nexposure_start           111 non-null datetime64[ns]\nexposure_end             319 non-null datetime64[ns]\nvisiting Wuhan           874 non-null object\nfrom Wuhan               870 non-null object\ndeath                    874 non-null object\nrecovered                874 non-null object\nsympton                  207 non-null object\ndtypes: datetime64[ns](5), object(10)\nmemory usage: 111.4+ KB\n"
    }
   ],
   "source": [
    "LineList.info()\n"
   ]
  },
  {
   "cell_type": "code",
   "execution_count": 58,
   "metadata": {},
   "outputs": [
    {
     "data": {
      "text/html": "<div>\n<style scoped>\n    .dataframe tbody tr th:only-of-type {\n        vertical-align: middle;\n    }\n\n    .dataframe tbody tr th {\n        vertical-align: top;\n    }\n\n    .dataframe thead th {\n        text-align: right;\n    }\n</style>\n<table border=\"1\" class=\"dataframe\">\n  <thead>\n    <tr style=\"text-align: right;\">\n      <th></th>\n      <th>Unnamed: 1</th>\n      <th>reporting date</th>\n      <th>country</th>\n      <th>gender</th>\n      <th>age</th>\n      <th>symptom_onset</th>\n      <th>If_onset_approximated</th>\n      <th>hosp_visit_date</th>\n      <th>exposure_start</th>\n      <th>exposure_end</th>\n      <th>visiting Wuhan</th>\n      <th>from Wuhan</th>\n      <th>death</th>\n      <th>recovered</th>\n      <th>sympton</th>\n    </tr>\n  </thead>\n  <tbody>\n    <tr>\n      <th>1</th>\n      <td>NaN</td>\n      <td>2020-01-20</td>\n      <td>China</td>\n      <td>male</td>\n      <td>66</td>\n      <td>2020-01-03</td>\n      <td>0</td>\n      <td>2020-01-11</td>\n      <td>2019-12-29</td>\n      <td>2020-01-04</td>\n      <td>1</td>\n      <td>0</td>\n      <td>0</td>\n      <td>0</td>\n      <td>NaN</td>\n    </tr>\n    <tr>\n      <th>2</th>\n      <td>NaN</td>\n      <td>2020-01-20</td>\n      <td>China</td>\n      <td>female</td>\n      <td>56</td>\n      <td>2020-01-15</td>\n      <td>0</td>\n      <td>2020-01-15</td>\n      <td>NaT</td>\n      <td>2020-01-12</td>\n      <td>0</td>\n      <td>1</td>\n      <td>0</td>\n      <td>0</td>\n      <td>NaN</td>\n    </tr>\n    <tr>\n      <th>3</th>\n      <td>NaN</td>\n      <td>2020-01-21</td>\n      <td>China</td>\n      <td>male</td>\n      <td>46</td>\n      <td>2020-01-04</td>\n      <td>0</td>\n      <td>2020-01-17</td>\n      <td>NaT</td>\n      <td>2020-01-03</td>\n      <td>0</td>\n      <td>1</td>\n      <td>0</td>\n      <td>0</td>\n      <td>NaN</td>\n    </tr>\n    <tr>\n      <th>4</th>\n      <td>NaN</td>\n      <td>2020-01-21</td>\n      <td>China</td>\n      <td>female</td>\n      <td>60</td>\n      <td>NaT</td>\n      <td>NaN</td>\n      <td>2020-01-19</td>\n      <td>NaT</td>\n      <td>NaT</td>\n      <td>1</td>\n      <td>0</td>\n      <td>0</td>\n      <td>0</td>\n      <td>NaN</td>\n    </tr>\n    <tr>\n      <th>5</th>\n      <td>NaN</td>\n      <td>2020-01-21</td>\n      <td>China</td>\n      <td>male</td>\n      <td>58</td>\n      <td>NaT</td>\n      <td>NaN</td>\n      <td>2020-01-14</td>\n      <td>NaT</td>\n      <td>NaT</td>\n      <td>0</td>\n      <td>0</td>\n      <td>0</td>\n      <td>0</td>\n      <td>NaN</td>\n    </tr>\n  </tbody>\n</table>\n</div>",
      "text/plain": "  Unnamed: 1 reporting date country  gender age symptom_onset  \\\n1        NaN     2020-01-20   China    male  66    2020-01-03   \n2        NaN     2020-01-20   China  female  56    2020-01-15   \n3        NaN     2020-01-21   China    male  46    2020-01-04   \n4        NaN     2020-01-21   China  female  60           NaT   \n5        NaN     2020-01-21   China    male  58           NaT   \n\n  If_onset_approximated hosp_visit_date exposure_start exposure_end  \\\n1                     0      2020-01-11     2019-12-29   2020-01-04   \n2                     0      2020-01-15            NaT   2020-01-12   \n3                     0      2020-01-17            NaT   2020-01-03   \n4                   NaN      2020-01-19            NaT          NaT   \n5                   NaN      2020-01-14            NaT          NaT   \n\n  visiting Wuhan from Wuhan death recovered sympton  \n1              1          0     0         0     NaN  \n2              0          1     0         0     NaN  \n3              0          1     0         0     NaN  \n4              1          0     0         0     NaN  \n5              0          0     0         0     NaN  "
     },
     "execution_count": 58,
     "metadata": {},
     "output_type": "execute_result"
    }
   ],
   "source": [
    "LineList.head(5)"
   ]
  },
  {
   "cell_type": "code",
   "execution_count": 94,
   "metadata": {},
   "outputs": [],
   "source": [
    "LineListComplete= LineList.dropna()\n",
    "symptondf= LineList[LineList['sympton'].notnull()]"
   ]
  },
  {
   "cell_type": "code",
   "execution_count": 95,
   "metadata": {},
   "outputs": [
    {
     "data": {
      "text/html": "<div>\n<style scoped>\n    .dataframe tbody tr th:only-of-type {\n        vertical-align: middle;\n    }\n\n    .dataframe tbody tr th {\n        vertical-align: top;\n    }\n\n    .dataframe thead th {\n        text-align: right;\n    }\n</style>\n<table border=\"1\" class=\"dataframe\">\n  <thead>\n    <tr style=\"text-align: right;\">\n      <th></th>\n      <th>Unnamed: 1</th>\n      <th>reporting date</th>\n      <th>country</th>\n      <th>gender</th>\n      <th>age</th>\n      <th>symptom_onset</th>\n      <th>If_onset_approximated</th>\n      <th>hosp_visit_date</th>\n      <th>exposure_start</th>\n      <th>exposure_end</th>\n      <th>visiting Wuhan</th>\n      <th>from Wuhan</th>\n      <th>death</th>\n      <th>recovered</th>\n      <th>sympton</th>\n    </tr>\n  </thead>\n  <tbody>\n    <tr>\n      <th>195</th>\n      <td>NaN</td>\n      <td>2020-01-27</td>\n      <td>China</td>\n      <td>female</td>\n      <td>28</td>\n      <td>2020-01-07</td>\n      <td>0</td>\n      <td>2020-01-10</td>\n      <td>NaT</td>\n      <td>NaT</td>\n      <td>0</td>\n      <td>1</td>\n      <td>0</td>\n      <td>1</td>\n      <td>feaver, cough, difficult in breathing</td>\n    </tr>\n    <tr>\n      <th>196</th>\n      <td>NaN</td>\n      <td>2020-01-27</td>\n      <td>China</td>\n      <td>female</td>\n      <td>51</td>\n      <td>NaT</td>\n      <td>NaN</td>\n      <td>2020-01-11</td>\n      <td>NaT</td>\n      <td>NaT</td>\n      <td>0</td>\n      <td>1</td>\n      <td>0</td>\n      <td>1</td>\n      <td>feaver, cough, difficult in breathing</td>\n    </tr>\n    <tr>\n      <th>197</th>\n      <td>NaN</td>\n      <td>2020-01-27</td>\n      <td>China</td>\n      <td>male</td>\n      <td>37</td>\n      <td>NaT</td>\n      <td>NaN</td>\n      <td>2020-01-17</td>\n      <td>NaT</td>\n      <td>NaT</td>\n      <td>0</td>\n      <td>1</td>\n      <td>0</td>\n      <td>1</td>\n      <td>fever</td>\n    </tr>\n    <tr>\n      <th>210</th>\n      <td>1</td>\n      <td>2020-01-15</td>\n      <td>Japan</td>\n      <td>male</td>\n      <td>35</td>\n      <td>2020-01-03</td>\n      <td>0</td>\n      <td>2020-01-06</td>\n      <td>NaT</td>\n      <td>2020-01-06</td>\n      <td>1</td>\n      <td>0</td>\n      <td>0</td>\n      <td>1/15/2020</td>\n      <td>fever</td>\n    </tr>\n    <tr>\n      <th>214</th>\n      <td>5</td>\n      <td>2020-01-28</td>\n      <td>Japan</td>\n      <td>male</td>\n      <td>45</td>\n      <td>2020-01-22</td>\n      <td>0</td>\n      <td>2020-01-26</td>\n      <td>NaT</td>\n      <td>2020-01-20</td>\n      <td>0</td>\n      <td>1</td>\n      <td>0</td>\n      <td>0</td>\n      <td>fever</td>\n    </tr>\n    <tr>\n      <th>215</th>\n      <td>6</td>\n      <td>2020-01-28</td>\n      <td>Japan</td>\n      <td>male</td>\n      <td>65</td>\n      <td>2020-01-14</td>\n      <td>0</td>\n      <td>2020-01-17</td>\n      <td>2020-01-08</td>\n      <td>2020-01-16</td>\n      <td>0</td>\n      <td>0</td>\n      <td>0</td>\n      <td>0</td>\n      <td>cough, chills, joint pain</td>\n    </tr>\n    <tr>\n      <th>216</th>\n      <td>7</td>\n      <td>2020-01-28</td>\n      <td>Japan</td>\n      <td>female</td>\n      <td>45</td>\n      <td>2020-01-26</td>\n      <td>0</td>\n      <td>2020-01-27</td>\n      <td>NaT</td>\n      <td>2020-01-21</td>\n      <td>1</td>\n      <td>1</td>\n      <td>0</td>\n      <td>0</td>\n      <td>fever, cough</td>\n    </tr>\n    <tr>\n      <th>217</th>\n      <td>8</td>\n      <td>2020-01-29</td>\n      <td>Japan</td>\n      <td>female</td>\n      <td>45</td>\n      <td>2020-01-20</td>\n      <td>0</td>\n      <td>2020-01-20</td>\n      <td>2020-01-12</td>\n      <td>2020-01-17</td>\n      <td>0</td>\n      <td>0</td>\n      <td>0</td>\n      <td>0</td>\n      <td>fever, cough</td>\n    </tr>\n    <tr>\n      <th>218</th>\n      <td>9</td>\n      <td>2020-01-30</td>\n      <td>Japan</td>\n      <td>male</td>\n      <td>55</td>\n      <td>2020-01-29</td>\n      <td>0</td>\n      <td>NaT</td>\n      <td>NaT</td>\n      <td>2020-01-29</td>\n      <td>0</td>\n      <td>1</td>\n      <td>0</td>\n      <td>0</td>\n      <td>throat pain, fever</td>\n    </tr>\n    <tr>\n      <th>219</th>\n      <td>10</td>\n      <td>2020-01-30</td>\n      <td>Japan</td>\n      <td>male</td>\n      <td>55</td>\n      <td>2020-01-25</td>\n      <td>0</td>\n      <td>2020-01-27</td>\n      <td>2019-12-24</td>\n      <td>2020-01-13</td>\n      <td>1</td>\n      <td>0</td>\n      <td>0</td>\n      <td>0</td>\n      <td>fever</td>\n    </tr>\n    <tr>\n      <th>220</th>\n      <td>11</td>\n      <td>2020-01-30</td>\n      <td>Japan</td>\n      <td>female</td>\n      <td>35</td>\n      <td>2020-01-24</td>\n      <td>0</td>\n      <td>2020-01-24</td>\n      <td>2020-01-19</td>\n      <td>2020-01-20</td>\n      <td>1</td>\n      <td>0</td>\n      <td>0</td>\n      <td>0</td>\n      <td>fever, cough</td>\n    </tr>\n    <tr>\n      <th>221</th>\n      <td>12</td>\n      <td>2020-01-30</td>\n      <td>Japan</td>\n      <td>female</td>\n      <td>25</td>\n      <td>2020-01-23</td>\n      <td>0</td>\n      <td>2020-01-28</td>\n      <td>2020-01-17</td>\n      <td>2020-01-18</td>\n      <td>1</td>\n      <td>0</td>\n      <td>0</td>\n      <td>0</td>\n      <td>fever</td>\n    </tr>\n    <tr>\n      <th>224</th>\n      <td>15</td>\n      <td>2020-02-01</td>\n      <td>Japan</td>\n      <td>male</td>\n      <td>45</td>\n      <td>2020-01-26</td>\n      <td>0</td>\n      <td>2020-01-30</td>\n      <td>NaT</td>\n      <td>2020-01-31</td>\n      <td>1</td>\n      <td>0</td>\n      <td>0</td>\n      <td>0</td>\n      <td>fever, cough</td>\n    </tr>\n    <tr>\n      <th>226</th>\n      <td>17</td>\n      <td>2020-02-04</td>\n      <td>Japan</td>\n      <td>female</td>\n      <td>35</td>\n      <td>2020-01-30</td>\n      <td>0</td>\n      <td>2020-01-31</td>\n      <td>NaT</td>\n      <td>NaT</td>\n      <td>0</td>\n      <td>1</td>\n      <td>0</td>\n      <td>0</td>\n      <td>fever, runny nose</td>\n    </tr>\n    <tr>\n      <th>227</th>\n      <td>18</td>\n      <td>2020-02-04</td>\n      <td>Japan</td>\n      <td>female</td>\n      <td>55</td>\n      <td>2020-01-31</td>\n      <td>0</td>\n      <td>2020-01-31</td>\n      <td>2020-01-19</td>\n      <td>2020-01-19</td>\n      <td>1</td>\n      <td>0</td>\n      <td>0</td>\n      <td>0</td>\n      <td>fever, cough</td>\n    </tr>\n    <tr>\n      <th>228</th>\n      <td>19</td>\n      <td>2020-02-04</td>\n      <td>Japan</td>\n      <td>male</td>\n      <td>55</td>\n      <td>2020-01-25</td>\n      <td>0</td>\n      <td>2020-01-26</td>\n      <td>NaT</td>\n      <td>2020-01-22</td>\n      <td>0</td>\n      <td>1</td>\n      <td>0</td>\n      <td>0</td>\n      <td>fever</td>\n    </tr>\n    <tr>\n      <th>230</th>\n      <td>21</td>\n      <td>2020-02-05</td>\n      <td>Japan</td>\n      <td>male</td>\n      <td>25</td>\n      <td>2020-01-24</td>\n      <td>0</td>\n      <td>2020-01-27</td>\n      <td>NaT</td>\n      <td>NaT</td>\n      <td>0</td>\n      <td>0</td>\n      <td>0</td>\n      <td>0</td>\n      <td>fever</td>\n    </tr>\n    <tr>\n      <th>233</th>\n      <td>24</td>\n      <td>2020-02-10</td>\n      <td>Japan</td>\n      <td>male</td>\n      <td>45</td>\n      <td>2020-02-08</td>\n      <td>0</td>\n      <td>2020-02-10</td>\n      <td>NaT</td>\n      <td>2020-01-30</td>\n      <td>1</td>\n      <td>0</td>\n      <td>0</td>\n      <td>0</td>\n      <td>fever</td>\n    </tr>\n    <tr>\n      <th>234</th>\n      <td>25</td>\n      <td>2020-02-10</td>\n      <td>Japan</td>\n      <td>male</td>\n      <td>55</td>\n      <td>2020-02-07</td>\n      <td>0</td>\n      <td>2020-02-07</td>\n      <td>NaT</td>\n      <td>2020-01-30</td>\n      <td>0</td>\n      <td>1</td>\n      <td>0</td>\n      <td>0</td>\n      <td>fever, cough</td>\n    </tr>\n    <tr>\n      <th>236</th>\n      <td>27</td>\n      <td>2020-02-13</td>\n      <td>Japan</td>\n      <td>female</td>\n      <td>85</td>\n      <td>2020-01-22</td>\n      <td>0</td>\n      <td>2020-01-28</td>\n      <td>NaT</td>\n      <td>NaT</td>\n      <td>0</td>\n      <td>0</td>\n      <td>2/13/2020</td>\n      <td>0</td>\n      <td>fatigue</td>\n    </tr>\n    <tr>\n      <th>237</th>\n      <td>28</td>\n      <td>2020-02-13</td>\n      <td>Japan</td>\n      <td>male</td>\n      <td>75</td>\n      <td>2020-01-29</td>\n      <td>0</td>\n      <td>2020-01-29</td>\n      <td>NaT</td>\n      <td>NaT</td>\n      <td>0</td>\n      <td>0</td>\n      <td>0</td>\n      <td>0</td>\n      <td>fever</td>\n    </tr>\n    <tr>\n      <th>238</th>\n      <td>29</td>\n      <td>2020-02-13</td>\n      <td>Japan</td>\n      <td>male</td>\n      <td>55</td>\n      <td>2020-01-31</td>\n      <td>0</td>\n      <td>2020-02-08</td>\n      <td>NaT</td>\n      <td>NaT</td>\n      <td>0</td>\n      <td>0</td>\n      <td>0</td>\n      <td>0</td>\n      <td>fever, abdominal pain, diarrhea</td>\n    </tr>\n    <tr>\n      <th>239</th>\n      <td>30</td>\n      <td>2020-02-13</td>\n      <td>Japan</td>\n      <td>male</td>\n      <td>25</td>\n      <td>2020-02-02</td>\n      <td>0</td>\n      <td>2020-02-10</td>\n      <td>NaT</td>\n      <td>NaT</td>\n      <td>0</td>\n      <td>0</td>\n      <td>0</td>\n      <td>0</td>\n      <td>fever, cough</td>\n    </tr>\n    <tr>\n      <th>240</th>\n      <td>31</td>\n      <td>2020-02-14</td>\n      <td>Japan</td>\n      <td>male</td>\n      <td>75</td>\n      <td>2020-02-01</td>\n      <td>0</td>\n      <td>2020-02-06</td>\n      <td>NaT</td>\n      <td>NaT</td>\n      <td>0</td>\n      <td>0</td>\n      <td>0</td>\n      <td>0</td>\n      <td>cold, fever, pneumonia</td>\n    </tr>\n    <tr>\n      <th>241</th>\n      <td>32</td>\n      <td>2020-02-14</td>\n      <td>Japan</td>\n      <td>female</td>\n      <td>65</td>\n      <td>2020-02-05</td>\n      <td>0</td>\n      <td>2020-02-12</td>\n      <td>NaT</td>\n      <td>NaT</td>\n      <td>0</td>\n      <td>0</td>\n      <td>0</td>\n      <td>0</td>\n      <td>cough, joint pain</td>\n    </tr>\n    <tr>\n      <th>242</th>\n      <td>33</td>\n      <td>2020-02-14</td>\n      <td>Japan</td>\n      <td>female</td>\n      <td>55</td>\n      <td>2020-02-04</td>\n      <td>0</td>\n      <td>2020-02-07</td>\n      <td>NaT</td>\n      <td>NaT</td>\n      <td>0</td>\n      <td>0</td>\n      <td>0</td>\n      <td>0</td>\n      <td>vomiting, diarrhea, fever, cough</td>\n    </tr>\n    <tr>\n      <th>243</th>\n      <td>34</td>\n      <td>2020-02-14</td>\n      <td>Japan</td>\n      <td>male</td>\n      <td>75</td>\n      <td>2020-01-20</td>\n      <td>0</td>\n      <td>2020-01-21</td>\n      <td>NaT</td>\n      <td>NaT</td>\n      <td>0</td>\n      <td>0</td>\n      <td>0</td>\n      <td>0</td>\n      <td>fever, loss of appetite</td>\n    </tr>\n    <tr>\n      <th>244</th>\n      <td>35</td>\n      <td>2020-02-14</td>\n      <td>Japan</td>\n      <td>male</td>\n      <td>65</td>\n      <td>2020-02-03</td>\n      <td>0</td>\n      <td>2020-02-08</td>\n      <td>NaT</td>\n      <td>NaT</td>\n      <td>0</td>\n      <td>0</td>\n      <td>0</td>\n      <td>0</td>\n      <td>fever</td>\n    </tr>\n    <tr>\n      <th>245</th>\n      <td>36</td>\n      <td>2020-02-14</td>\n      <td>Japan</td>\n      <td>male</td>\n      <td>55</td>\n      <td>2020-01-31</td>\n      <td>0</td>\n      <td>2020-02-01</td>\n      <td>NaT</td>\n      <td>NaT</td>\n      <td>0</td>\n      <td>0</td>\n      <td>0</td>\n      <td>0</td>\n      <td>fever, cough, malaise</td>\n    </tr>\n    <tr>\n      <th>246</th>\n      <td>37</td>\n      <td>2020-02-14</td>\n      <td>Japan</td>\n      <td>male</td>\n      <td>35</td>\n      <td>2020-02-11</td>\n      <td>0</td>\n      <td>2020-02-10</td>\n      <td>NaT</td>\n      <td>NaT</td>\n      <td>0</td>\n      <td>0</td>\n      <td>0</td>\n      <td>0</td>\n      <td>fever</td>\n    </tr>\n    <tr>\n      <th>...</th>\n      <td>...</td>\n      <td>...</td>\n      <td>...</td>\n      <td>...</td>\n      <td>...</td>\n      <td>...</td>\n      <td>...</td>\n      <td>...</td>\n      <td>...</td>\n      <td>...</td>\n      <td>...</td>\n      <td>...</td>\n      <td>...</td>\n      <td>...</td>\n      <td>...</td>\n    </tr>\n    <tr>\n      <th>742</th>\n      <td>12</td>\n      <td>2020-01-30</td>\n      <td>Hong Kong</td>\n      <td>male</td>\n      <td>75</td>\n      <td>2020-01-22</td>\n      <td>0</td>\n      <td>2020-01-24</td>\n      <td>NaT</td>\n      <td>NaT</td>\n      <td>0</td>\n      <td>0</td>\n      <td>0</td>\n      <td>0</td>\n      <td>cough, shortness of breath</td>\n    </tr>\n    <tr>\n      <th>743</th>\n      <td>13</td>\n      <td>2020-01-31</td>\n      <td>Hong Kong</td>\n      <td>male</td>\n      <td>39</td>\n      <td>2020-01-31</td>\n      <td>0</td>\n      <td>2020-01-31</td>\n      <td>2020-01-21</td>\n      <td>2020-01-23</td>\n      <td>1</td>\n      <td>0</td>\n      <td>1</td>\n      <td>0</td>\n      <td>myalgia, fever</td>\n    </tr>\n    <tr>\n      <th>744</th>\n      <td>14</td>\n      <td>2020-02-02</td>\n      <td>Hong Kong</td>\n      <td>male</td>\n      <td>80</td>\n      <td>2020-01-19</td>\n      <td>0</td>\n      <td>2020-01-30</td>\n      <td>2020-01-10</td>\n      <td>2020-01-10</td>\n      <td>0</td>\n      <td>0</td>\n      <td>0</td>\n      <td>0</td>\n      <td>fever</td>\n    </tr>\n    <tr>\n      <th>745</th>\n      <td>15</td>\n      <td>2020-02-02</td>\n      <td>Hong Kong</td>\n      <td>female</td>\n      <td>72</td>\n      <td>2020-02-01</td>\n      <td>0</td>\n      <td>2020-02-01</td>\n      <td>2020-01-23</td>\n      <td>2020-01-31</td>\n      <td>0</td>\n      <td>0</td>\n      <td>0</td>\n      <td>0</td>\n      <td>fever, cough</td>\n    </tr>\n    <tr>\n      <th>746</th>\n      <td>16</td>\n      <td>2020-02-04</td>\n      <td>Hong Kong</td>\n      <td>female</td>\n      <td>64</td>\n      <td>2020-01-23</td>\n      <td>0</td>\n      <td>2020-01-23</td>\n      <td>NaT</td>\n      <td>NaT</td>\n      <td>0</td>\n      <td>0</td>\n      <td>0</td>\n      <td>0</td>\n      <td>cough</td>\n    </tr>\n    <tr>\n      <th>747</th>\n      <td>17</td>\n      <td>2020-02-04</td>\n      <td>Hong Kong</td>\n      <td>male</td>\n      <td>60</td>\n      <td>2020-01-22</td>\n      <td>0</td>\n      <td>2020-01-30</td>\n      <td>NaT</td>\n      <td>NaT</td>\n      <td>0</td>\n      <td>0</td>\n      <td>0</td>\n      <td>0</td>\n      <td>fever, myalgia, shortness of breath</td>\n    </tr>\n    <tr>\n      <th>748</th>\n      <td>18</td>\n      <td>2020-02-04</td>\n      <td>Hong Kong</td>\n      <td>male</td>\n      <td>25</td>\n      <td>2020-01-28</td>\n      <td>0</td>\n      <td>2020-01-29</td>\n      <td>NaT</td>\n      <td>NaT</td>\n      <td>0</td>\n      <td>0</td>\n      <td>0</td>\n      <td>2/15/2020</td>\n      <td>cough, runny nose, diarrhea</td>\n    </tr>\n    <tr>\n      <th>749</th>\n      <td>19</td>\n      <td>2020-02-05</td>\n      <td>Hong Kong</td>\n      <td>female</td>\n      <td>56</td>\n      <td>2020-02-04</td>\n      <td>0</td>\n      <td>2020-02-04</td>\n      <td>NaT</td>\n      <td>NaT</td>\n      <td>0</td>\n      <td>0</td>\n      <td>0</td>\n      <td>0</td>\n      <td>fever</td>\n    </tr>\n    <tr>\n      <th>750</th>\n      <td>20</td>\n      <td>2020-02-05</td>\n      <td>Hong Kong</td>\n      <td>female</td>\n      <td>28</td>\n      <td>2020-01-30</td>\n      <td>0</td>\n      <td>2020-02-04</td>\n      <td>NaT</td>\n      <td>NaT</td>\n      <td>0</td>\n      <td>0</td>\n      <td>0</td>\n      <td>0</td>\n      <td>cough, sore throat</td>\n    </tr>\n    <tr>\n      <th>751</th>\n      <td>21</td>\n      <td>2020-02-05</td>\n      <td>Hong Kong</td>\n      <td>male</td>\n      <td>56</td>\n      <td>2020-01-30</td>\n      <td>0</td>\n      <td>2020-02-01</td>\n      <td>NaT</td>\n      <td>NaT</td>\n      <td>0</td>\n      <td>0</td>\n      <td>0</td>\n      <td>0</td>\n      <td>fever, cough, sore throat</td>\n    </tr>\n    <tr>\n      <th>752</th>\n      <td>22</td>\n      <td>2020-02-06</td>\n      <td>Hong Kong</td>\n      <td>female</td>\n      <td>55</td>\n      <td>2020-02-01</td>\n      <td>0</td>\n      <td>2020-02-02</td>\n      <td>NaT</td>\n      <td>NaT</td>\n      <td>0</td>\n      <td>0</td>\n      <td>0</td>\n      <td>0</td>\n      <td>sore throat, fever, diarrhea</td>\n    </tr>\n    <tr>\n      <th>753</th>\n      <td>23</td>\n      <td>2020-02-06</td>\n      <td>Hong Kong</td>\n      <td>female</td>\n      <td>63</td>\n      <td>2020-01-26</td>\n      <td>0</td>\n      <td>2020-02-05</td>\n      <td>NaT</td>\n      <td>NaT</td>\n      <td>0</td>\n      <td>0</td>\n      <td>0</td>\n      <td>0</td>\n      <td>cough, malaise</td>\n    </tr>\n    <tr>\n      <th>754</th>\n      <td>24</td>\n      <td>2020-02-06</td>\n      <td>Hong Kong</td>\n      <td>female</td>\n      <td>65</td>\n      <td>2020-01-28</td>\n      <td>0</td>\n      <td>2020-01-29</td>\n      <td>NaT</td>\n      <td>NaT</td>\n      <td>0</td>\n      <td>0</td>\n      <td>0</td>\n      <td>0</td>\n      <td>fever, cough</td>\n    </tr>\n    <tr>\n      <th>755</th>\n      <td>25</td>\n      <td>2020-02-07</td>\n      <td>Hong Kong</td>\n      <td>male</td>\n      <td>58</td>\n      <td>2020-02-04</td>\n      <td>0</td>\n      <td>2020-02-06</td>\n      <td>NaT</td>\n      <td>2020-02-05</td>\n      <td>0</td>\n      <td>0</td>\n      <td>0</td>\n      <td>0</td>\n      <td>fever, cough</td>\n    </tr>\n    <tr>\n      <th>756</th>\n      <td>26</td>\n      <td>2020-02-07</td>\n      <td>Hong Kong</td>\n      <td>male</td>\n      <td>42</td>\n      <td>2020-02-03</td>\n      <td>0</td>\n      <td>2020-02-03</td>\n      <td>2020-01-22</td>\n      <td>2020-02-02</td>\n      <td>0</td>\n      <td>0</td>\n      <td>0</td>\n      <td>0</td>\n      <td>fever, cough</td>\n    </tr>\n    <tr>\n      <th>757</th>\n      <td>27</td>\n      <td>2020-02-09</td>\n      <td>Hong Kong</td>\n      <td>male</td>\n      <td>24</td>\n      <td>2020-01-30</td>\n      <td>0</td>\n      <td>2020-01-30</td>\n      <td>NaT</td>\n      <td>NaT</td>\n      <td>0</td>\n      <td>0</td>\n      <td>0</td>\n      <td>0</td>\n      <td>fever, cough</td>\n    </tr>\n    <tr>\n      <th>758</th>\n      <td>28</td>\n      <td>2020-02-09</td>\n      <td>Hong Kong</td>\n      <td>male</td>\n      <td>70</td>\n      <td>2020-01-30</td>\n      <td>0</td>\n      <td>2020-02-01</td>\n      <td>NaT</td>\n      <td>NaT</td>\n      <td>0</td>\n      <td>0</td>\n      <td>0</td>\n      <td>0</td>\n      <td>cough, chills, shortness of breath, diarrhea</td>\n    </tr>\n    <tr>\n      <th>780</th>\n      <td>50</td>\n      <td>2020-02-12</td>\n      <td>Hong Kong</td>\n      <td>male</td>\n      <td>51</td>\n      <td>2020-02-03</td>\n      <td>0</td>\n      <td>2020-02-10</td>\n      <td>NaT</td>\n      <td>NaT</td>\n      <td>0</td>\n      <td>0</td>\n      <td>0</td>\n      <td>0</td>\n      <td>fever</td>\n    </tr>\n    <tr>\n      <th>781</th>\n      <td>51</td>\n      <td>2020-02-13</td>\n      <td>Hong Kong</td>\n      <td>male</td>\n      <td>43</td>\n      <td>2020-01-29</td>\n      <td>0</td>\n      <td>2020-01-31</td>\n      <td>2020-01-30</td>\n      <td>2020-01-30</td>\n      <td>0</td>\n      <td>0</td>\n      <td>0</td>\n      <td>0</td>\n      <td>cough, diarrhea, vomiting</td>\n    </tr>\n    <tr>\n      <th>782</th>\n      <td>52</td>\n      <td>2020-02-13</td>\n      <td>Hong Kong</td>\n      <td>female</td>\n      <td>67</td>\n      <td>2020-01-31</td>\n      <td>0</td>\n      <td>2020-01-31</td>\n      <td>2020-01-26</td>\n      <td>2020-01-26</td>\n      <td>0</td>\n      <td>0</td>\n      <td>0</td>\n      <td>0</td>\n      <td>cough, fever, chills</td>\n    </tr>\n    <tr>\n      <th>783</th>\n      <td>53</td>\n      <td>2020-02-13</td>\n      <td>Hong Kong</td>\n      <td>male</td>\n      <td>37</td>\n      <td>2020-02-08</td>\n      <td>0</td>\n      <td>2020-02-09</td>\n      <td>2020-01-26</td>\n      <td>2020-01-26</td>\n      <td>0</td>\n      <td>0</td>\n      <td>0</td>\n      <td>0</td>\n      <td>fever</td>\n    </tr>\n    <tr>\n      <th>785</th>\n      <td>55</td>\n      <td>2020-02-14</td>\n      <td>Hong Kong</td>\n      <td>male</td>\n      <td>70</td>\n      <td>2020-02-02</td>\n      <td>0</td>\n      <td>2020-02-12</td>\n      <td>NaT</td>\n      <td>NaT</td>\n      <td>0</td>\n      <td>0</td>\n      <td>1</td>\n      <td>0</td>\n      <td>cough</td>\n    </tr>\n    <tr>\n      <th>787</th>\n      <td>57</td>\n      <td>2020-02-16</td>\n      <td>Hong Kong</td>\n      <td>male</td>\n      <td>54</td>\n      <td>NaT</td>\n      <td>NaN</td>\n      <td>2020-02-07</td>\n      <td>NaT</td>\n      <td>NaT</td>\n      <td>0</td>\n      <td>0</td>\n      <td>0</td>\n      <td>0</td>\n      <td>fever</td>\n    </tr>\n    <tr>\n      <th>788</th>\n      <td>58</td>\n      <td>2020-02-17</td>\n      <td>Hong Kong</td>\n      <td>male</td>\n      <td>69</td>\n      <td>2020-02-08</td>\n      <td>0</td>\n      <td>2020-02-08</td>\n      <td>NaT</td>\n      <td>NaT</td>\n      <td>0</td>\n      <td>0</td>\n      <td>0</td>\n      <td>0</td>\n      <td>cough, shortness of breath</td>\n    </tr>\n    <tr>\n      <th>789</th>\n      <td>59</td>\n      <td>2020-02-17</td>\n      <td>Hong Kong</td>\n      <td>male</td>\n      <td>45</td>\n      <td>2020-02-12</td>\n      <td>0</td>\n      <td>2020-02-13</td>\n      <td>NaT</td>\n      <td>NaT</td>\n      <td>0</td>\n      <td>0</td>\n      <td>0</td>\n      <td>0</td>\n      <td>fever, sore throat</td>\n    </tr>\n    <tr>\n      <th>790</th>\n      <td>60</td>\n      <td>2020-02-17</td>\n      <td>Hong Kong</td>\n      <td>female</td>\n      <td>46</td>\n      <td>2020-02-08</td>\n      <td>0</td>\n      <td>2020-02-10</td>\n      <td>NaT</td>\n      <td>NaT</td>\n      <td>0</td>\n      <td>0</td>\n      <td>0</td>\n      <td>0</td>\n      <td>runny nose, cough</td>\n    </tr>\n    <tr>\n      <th>791</th>\n      <td>61</td>\n      <td>2020-02-18</td>\n      <td>Hong Kong</td>\n      <td>female</td>\n      <td>32</td>\n      <td>2020-02-02</td>\n      <td>0</td>\n      <td>NaT</td>\n      <td>NaT</td>\n      <td>NaT</td>\n      <td>0</td>\n      <td>0</td>\n      <td>0</td>\n      <td>0</td>\n      <td>fever, cough</td>\n    </tr>\n    <tr>\n      <th>837</th>\n      <td>1</td>\n      <td>2020-02-02</td>\n      <td>Phillipines</td>\n      <td>male</td>\n      <td>44</td>\n      <td>2020-01-25</td>\n      <td>1</td>\n      <td>2020-01-25</td>\n      <td>NaT</td>\n      <td>2020-01-21</td>\n      <td>0</td>\n      <td>1</td>\n      <td>2/1/2020</td>\n      <td>0</td>\n      <td>fever, cough, sore throat</td>\n    </tr>\n    <tr>\n      <th>840</th>\n      <td>1</td>\n      <td>2020-01-29</td>\n      <td>Finland</td>\n      <td>female</td>\n      <td>32</td>\n      <td>2020-01-26</td>\n      <td>0</td>\n      <td>2020-01-28</td>\n      <td>NaT</td>\n      <td>2020-01-22</td>\n      <td>0</td>\n      <td>1</td>\n      <td>0</td>\n      <td>0</td>\n      <td>fever</td>\n    </tr>\n    <tr>\n      <th>843</th>\n      <td>1</td>\n      <td>2020-01-31</td>\n      <td>Sweden</td>\n      <td>female</td>\n      <td>25</td>\n      <td>2020-01-27</td>\n      <td>1</td>\n      <td>NaT</td>\n      <td>NaT</td>\n      <td>2020-01-24</td>\n      <td>1</td>\n      <td>0</td>\n      <td>0</td>\n      <td>0</td>\n      <td>cough</td>\n    </tr>\n  </tbody>\n</table>\n<p>207 rows × 15 columns</p>\n</div>",
      "text/plain": "    Unnamed: 1 reporting date      country  gender age symptom_onset  \\\n195        NaN     2020-01-27        China  female  28    2020-01-07   \n196        NaN     2020-01-27        China  female  51           NaT   \n197        NaN     2020-01-27        China    male  37           NaT   \n210          1     2020-01-15        Japan    male  35    2020-01-03   \n214          5     2020-01-28        Japan    male  45    2020-01-22   \n215          6     2020-01-28        Japan    male  65    2020-01-14   \n216          7     2020-01-28        Japan  female  45    2020-01-26   \n217          8     2020-01-29        Japan  female  45    2020-01-20   \n218          9     2020-01-30        Japan    male  55    2020-01-29   \n219         10     2020-01-30        Japan    male  55    2020-01-25   \n220         11     2020-01-30        Japan  female  35    2020-01-24   \n221         12     2020-01-30        Japan  female  25    2020-01-23   \n224         15     2020-02-01        Japan    male  45    2020-01-26   \n226         17     2020-02-04        Japan  female  35    2020-01-30   \n227         18     2020-02-04        Japan  female  55    2020-01-31   \n228         19     2020-02-04        Japan    male  55    2020-01-25   \n230         21     2020-02-05        Japan    male  25    2020-01-24   \n233         24     2020-02-10        Japan    male  45    2020-02-08   \n234         25     2020-02-10        Japan    male  55    2020-02-07   \n236         27     2020-02-13        Japan  female  85    2020-01-22   \n237         28     2020-02-13        Japan    male  75    2020-01-29   \n238         29     2020-02-13        Japan    male  55    2020-01-31   \n239         30     2020-02-13        Japan    male  25    2020-02-02   \n240         31     2020-02-14        Japan    male  75    2020-02-01   \n241         32     2020-02-14        Japan  female  65    2020-02-05   \n242         33     2020-02-14        Japan  female  55    2020-02-04   \n243         34     2020-02-14        Japan    male  75    2020-01-20   \n244         35     2020-02-14        Japan    male  65    2020-02-03   \n245         36     2020-02-14        Japan    male  55    2020-01-31   \n246         37     2020-02-14        Japan    male  35    2020-02-11   \n..         ...            ...          ...     ...  ..           ...   \n742         12     2020-01-30    Hong Kong    male  75    2020-01-22   \n743         13     2020-01-31    Hong Kong    male  39    2020-01-31   \n744         14     2020-02-02    Hong Kong    male  80    2020-01-19   \n745         15     2020-02-02    Hong Kong  female  72    2020-02-01   \n746         16     2020-02-04    Hong Kong  female  64    2020-01-23   \n747         17     2020-02-04    Hong Kong    male  60    2020-01-22   \n748         18     2020-02-04    Hong Kong    male  25    2020-01-28   \n749         19     2020-02-05    Hong Kong  female  56    2020-02-04   \n750         20     2020-02-05    Hong Kong  female  28    2020-01-30   \n751         21     2020-02-05    Hong Kong    male  56    2020-01-30   \n752         22     2020-02-06    Hong Kong  female  55    2020-02-01   \n753         23     2020-02-06    Hong Kong  female  63    2020-01-26   \n754         24     2020-02-06    Hong Kong  female  65    2020-01-28   \n755         25     2020-02-07    Hong Kong    male  58    2020-02-04   \n756         26     2020-02-07    Hong Kong    male  42    2020-02-03   \n757         27     2020-02-09    Hong Kong    male  24    2020-01-30   \n758         28     2020-02-09    Hong Kong    male  70    2020-01-30   \n780         50     2020-02-12    Hong Kong    male  51    2020-02-03   \n781         51     2020-02-13    Hong Kong    male  43    2020-01-29   \n782         52     2020-02-13    Hong Kong  female  67    2020-01-31   \n783         53     2020-02-13    Hong Kong    male  37    2020-02-08   \n785         55     2020-02-14    Hong Kong    male  70    2020-02-02   \n787         57     2020-02-16    Hong Kong    male  54           NaT   \n788         58     2020-02-17    Hong Kong    male  69    2020-02-08   \n789         59     2020-02-17    Hong Kong    male  45    2020-02-12   \n790         60     2020-02-17    Hong Kong  female  46    2020-02-08   \n791         61     2020-02-18    Hong Kong  female  32    2020-02-02   \n837          1     2020-02-02  Phillipines    male  44    2020-01-25   \n840          1     2020-01-29      Finland  female  32    2020-01-26   \n843          1     2020-01-31       Sweden  female  25    2020-01-27   \n\n    If_onset_approximated hosp_visit_date exposure_start exposure_end  \\\n195                     0      2020-01-10            NaT          NaT   \n196                   NaN      2020-01-11            NaT          NaT   \n197                   NaN      2020-01-17            NaT          NaT   \n210                     0      2020-01-06            NaT   2020-01-06   \n214                     0      2020-01-26            NaT   2020-01-20   \n215                     0      2020-01-17     2020-01-08   2020-01-16   \n216                     0      2020-01-27            NaT   2020-01-21   \n217                     0      2020-01-20     2020-01-12   2020-01-17   \n218                     0             NaT            NaT   2020-01-29   \n219                     0      2020-01-27     2019-12-24   2020-01-13   \n220                     0      2020-01-24     2020-01-19   2020-01-20   \n221                     0      2020-01-28     2020-01-17   2020-01-18   \n224                     0      2020-01-30            NaT   2020-01-31   \n226                     0      2020-01-31            NaT          NaT   \n227                     0      2020-01-31     2020-01-19   2020-01-19   \n228                     0      2020-01-26            NaT   2020-01-22   \n230                     0      2020-01-27            NaT          NaT   \n233                     0      2020-02-10            NaT   2020-01-30   \n234                     0      2020-02-07            NaT   2020-01-30   \n236                     0      2020-01-28            NaT          NaT   \n237                     0      2020-01-29            NaT          NaT   \n238                     0      2020-02-08            NaT          NaT   \n239                     0      2020-02-10            NaT          NaT   \n240                     0      2020-02-06            NaT          NaT   \n241                     0      2020-02-12            NaT          NaT   \n242                     0      2020-02-07            NaT          NaT   \n243                     0      2020-01-21            NaT          NaT   \n244                     0      2020-02-08            NaT          NaT   \n245                     0      2020-02-01            NaT          NaT   \n246                     0      2020-02-10            NaT          NaT   \n..                    ...             ...            ...          ...   \n742                     0      2020-01-24            NaT          NaT   \n743                     0      2020-01-31     2020-01-21   2020-01-23   \n744                     0      2020-01-30     2020-01-10   2020-01-10   \n745                     0      2020-02-01     2020-01-23   2020-01-31   \n746                     0      2020-01-23            NaT          NaT   \n747                     0      2020-01-30            NaT          NaT   \n748                     0      2020-01-29            NaT          NaT   \n749                     0      2020-02-04            NaT          NaT   \n750                     0      2020-02-04            NaT          NaT   \n751                     0      2020-02-01            NaT          NaT   \n752                     0      2020-02-02            NaT          NaT   \n753                     0      2020-02-05            NaT          NaT   \n754                     0      2020-01-29            NaT          NaT   \n755                     0      2020-02-06            NaT   2020-02-05   \n756                     0      2020-02-03     2020-01-22   2020-02-02   \n757                     0      2020-01-30            NaT          NaT   \n758                     0      2020-02-01            NaT          NaT   \n780                     0      2020-02-10            NaT          NaT   \n781                     0      2020-01-31     2020-01-30   2020-01-30   \n782                     0      2020-01-31     2020-01-26   2020-01-26   \n783                     0      2020-02-09     2020-01-26   2020-01-26   \n785                     0      2020-02-12            NaT          NaT   \n787                   NaN      2020-02-07            NaT          NaT   \n788                     0      2020-02-08            NaT          NaT   \n789                     0      2020-02-13            NaT          NaT   \n790                     0      2020-02-10            NaT          NaT   \n791                     0             NaT            NaT          NaT   \n837                     1      2020-01-25            NaT   2020-01-21   \n840                     0      2020-01-28            NaT   2020-01-22   \n843                     1             NaT            NaT   2020-01-24   \n\n    visiting Wuhan from Wuhan      death  recovered  \\\n195              0          1          0          1   \n196              0          1          0          1   \n197              0          1          0          1   \n210              1          0          0  1/15/2020   \n214              0          1          0          0   \n215              0          0          0          0   \n216              1          1          0          0   \n217              0          0          0          0   \n218              0          1          0          0   \n219              1          0          0          0   \n220              1          0          0          0   \n221              1          0          0          0   \n224              1          0          0          0   \n226              0          1          0          0   \n227              1          0          0          0   \n228              0          1          0          0   \n230              0          0          0          0   \n233              1          0          0          0   \n234              0          1          0          0   \n236              0          0  2/13/2020          0   \n237              0          0          0          0   \n238              0          0          0          0   \n239              0          0          0          0   \n240              0          0          0          0   \n241              0          0          0          0   \n242              0          0          0          0   \n243              0          0          0          0   \n244              0          0          0          0   \n245              0          0          0          0   \n246              0          0          0          0   \n..             ...        ...        ...        ...   \n742              0          0          0          0   \n743              1          0          1          0   \n744              0          0          0          0   \n745              0          0          0          0   \n746              0          0          0          0   \n747              0          0          0          0   \n748              0          0          0  2/15/2020   \n749              0          0          0          0   \n750              0          0          0          0   \n751              0          0          0          0   \n752              0          0          0          0   \n753              0          0          0          0   \n754              0          0          0          0   \n755              0          0          0          0   \n756              0          0          0          0   \n757              0          0          0          0   \n758              0          0          0          0   \n780              0          0          0          0   \n781              0          0          0          0   \n782              0          0          0          0   \n783              0          0          0          0   \n785              0          0          1          0   \n787              0          0          0          0   \n788              0          0          0          0   \n789              0          0          0          0   \n790              0          0          0          0   \n791              0          0          0          0   \n837              0          1   2/1/2020          0   \n840              0          1          0          0   \n843              1          0          0          0   \n\n                                          sympton  \n195         feaver, cough, difficult in breathing  \n196         feaver, cough, difficult in breathing  \n197                                         fever  \n210                                         fever  \n214                                         fever  \n215                     cough, chills, joint pain  \n216                                  fever, cough  \n217                                  fever, cough  \n218                            throat pain, fever  \n219                                         fever  \n220                                  fever, cough  \n221                                         fever  \n224                                  fever, cough  \n226                             fever, runny nose  \n227                                  fever, cough  \n228                                         fever  \n230                                         fever  \n233                                         fever  \n234                                  fever, cough  \n236                                       fatigue  \n237                                         fever  \n238               fever, abdominal pain, diarrhea  \n239                                  fever, cough  \n240                        cold, fever, pneumonia  \n241                             cough, joint pain  \n242              vomiting, diarrhea, fever, cough  \n243                       fever, loss of appetite  \n244                                         fever  \n245                         fever, cough, malaise  \n246                                         fever  \n..                                            ...  \n742                    cough, shortness of breath  \n743                                myalgia, fever  \n744                                         fever  \n745                                  fever, cough  \n746                                         cough  \n747           fever, myalgia, shortness of breath  \n748                   cough, runny nose, diarrhea  \n749                                         fever  \n750                            cough, sore throat  \n751                     fever, cough, sore throat  \n752                  sore throat, fever, diarrhea  \n753                                cough, malaise  \n754                                  fever, cough  \n755                                  fever, cough  \n756                                  fever, cough  \n757                                  fever, cough  \n758  cough, chills, shortness of breath, diarrhea  \n780                                         fever  \n781                     cough, diarrhea, vomiting  \n782                          cough, fever, chills  \n783                                         fever  \n785                                         cough  \n787                                         fever  \n788                    cough, shortness of breath  \n789                            fever, sore throat  \n790                             runny nose, cough  \n791                                  fever, cough  \n837                     fever, cough, sore throat  \n840                                         fever  \n843                                         cough  \n\n[207 rows x 15 columns]"
     },
     "execution_count": 95,
     "metadata": {},
     "output_type": "execute_result"
    }
   ],
   "source": [
    "#Data Frame to use\n",
    "symptondf"
   ]
  },
  {
   "cell_type": "code",
   "execution_count": 96,
   "metadata": {},
   "outputs": [
    {
     "data": {
      "text/plain": "(207, 15)"
     },
     "execution_count": 96,
     "metadata": {},
     "output_type": "execute_result"
    }
   ],
   "source": [
    "symptondf.shape"
   ]
  },
  {
   "cell_type": "code",
   "execution_count": 97,
   "metadata": {},
   "outputs": [
    {
     "data": {
      "text/plain": "Unnamed: 1                 3\nreporting date             0\ncountry                    0\ngender                     0\nage                        3\nsymptom_onset             13\nIf_onset_approximated     13\nhosp_visit_date           48\nexposure_start           181\nexposure_end             136\nvisiting Wuhan             0\nfrom Wuhan                 0\ndeath                      0\nrecovered                  0\nsympton                    0\ndtype: int64"
     },
     "execution_count": 97,
     "metadata": {},
     "output_type": "execute_result"
    }
   ],
   "source": [
    "symptondf.isna().sum()"
   ]
  },
  {
   "cell_type": "code",
   "execution_count": 62,
   "metadata": {},
   "outputs": [
    {
     "data": {
      "text/html": "<div>\n<style scoped>\n    .dataframe tbody tr th:only-of-type {\n        vertical-align: middle;\n    }\n\n    .dataframe tbody tr th {\n        vertical-align: top;\n    }\n\n    .dataframe thead th {\n        text-align: right;\n    }\n</style>\n<table border=\"1\" class=\"dataframe\">\n  <thead>\n    <tr style=\"text-align: right;\">\n      <th></th>\n      <th>Unnamed: 1</th>\n      <th>reporting date</th>\n      <th>country</th>\n      <th>gender</th>\n      <th>age</th>\n      <th>symptom_onset</th>\n      <th>If_onset_approximated</th>\n      <th>hosp_visit_date</th>\n      <th>exposure_start</th>\n      <th>exposure_end</th>\n      <th>visiting Wuhan</th>\n      <th>from Wuhan</th>\n      <th>death</th>\n      <th>recovered</th>\n      <th>sympton</th>\n    </tr>\n  </thead>\n  <tbody>\n    <tr>\n      <th>215</th>\n      <td>6</td>\n      <td>2020-01-28</td>\n      <td>Japan</td>\n      <td>male</td>\n      <td>65</td>\n      <td>2020-01-14</td>\n      <td>0</td>\n      <td>2020-01-17</td>\n      <td>2020-01-08</td>\n      <td>2020-01-16</td>\n      <td>0</td>\n      <td>0</td>\n      <td>0</td>\n      <td>0</td>\n      <td>cough, chills, joint pain</td>\n    </tr>\n    <tr>\n      <th>217</th>\n      <td>8</td>\n      <td>2020-01-29</td>\n      <td>Japan</td>\n      <td>female</td>\n      <td>45</td>\n      <td>2020-01-20</td>\n      <td>0</td>\n      <td>2020-01-20</td>\n      <td>2020-01-12</td>\n      <td>2020-01-17</td>\n      <td>0</td>\n      <td>0</td>\n      <td>0</td>\n      <td>0</td>\n      <td>fever, cough</td>\n    </tr>\n    <tr>\n      <th>219</th>\n      <td>10</td>\n      <td>2020-01-30</td>\n      <td>Japan</td>\n      <td>male</td>\n      <td>55</td>\n      <td>2020-01-25</td>\n      <td>0</td>\n      <td>2020-01-27</td>\n      <td>2019-12-24</td>\n      <td>2020-01-13</td>\n      <td>1</td>\n      <td>0</td>\n      <td>0</td>\n      <td>0</td>\n      <td>fever</td>\n    </tr>\n    <tr>\n      <th>220</th>\n      <td>11</td>\n      <td>2020-01-30</td>\n      <td>Japan</td>\n      <td>female</td>\n      <td>35</td>\n      <td>2020-01-24</td>\n      <td>0</td>\n      <td>2020-01-24</td>\n      <td>2020-01-19</td>\n      <td>2020-01-20</td>\n      <td>1</td>\n      <td>0</td>\n      <td>0</td>\n      <td>0</td>\n      <td>fever, cough</td>\n    </tr>\n    <tr>\n      <th>221</th>\n      <td>12</td>\n      <td>2020-01-30</td>\n      <td>Japan</td>\n      <td>female</td>\n      <td>25</td>\n      <td>2020-01-23</td>\n      <td>0</td>\n      <td>2020-01-28</td>\n      <td>2020-01-17</td>\n      <td>2020-01-18</td>\n      <td>1</td>\n      <td>0</td>\n      <td>0</td>\n      <td>0</td>\n      <td>fever</td>\n    </tr>\n    <tr>\n      <th>227</th>\n      <td>18</td>\n      <td>2020-02-04</td>\n      <td>Japan</td>\n      <td>female</td>\n      <td>55</td>\n      <td>2020-01-31</td>\n      <td>0</td>\n      <td>2020-01-31</td>\n      <td>2020-01-19</td>\n      <td>2020-01-19</td>\n      <td>1</td>\n      <td>0</td>\n      <td>0</td>\n      <td>0</td>\n      <td>fever, cough</td>\n    </tr>\n    <tr>\n      <th>390</th>\n      <td>19</td>\n      <td>2020-02-04</td>\n      <td>Singapore</td>\n      <td>female</td>\n      <td>28</td>\n      <td>2020-01-29</td>\n      <td>0</td>\n      <td>2020-02-03</td>\n      <td>2020-01-23</td>\n      <td>2020-01-23</td>\n      <td>0</td>\n      <td>0</td>\n      <td>0</td>\n      <td>2/22/2020</td>\n      <td>fever, sore throat</td>\n    </tr>\n    <tr>\n      <th>576</th>\n      <td>4</td>\n      <td>2020-01-27</td>\n      <td>Taiwan</td>\n      <td>female</td>\n      <td>50</td>\n      <td>2020-01-22</td>\n      <td>0</td>\n      <td>2020-01-25</td>\n      <td>2020-01-13</td>\n      <td>2020-01-15</td>\n      <td>1</td>\n      <td>0</td>\n      <td>0</td>\n      <td>0</td>\n      <td>cough</td>\n    </tr>\n    <tr>\n      <th>741</th>\n      <td>11</td>\n      <td>2020-01-30</td>\n      <td>Hong Kong</td>\n      <td>female</td>\n      <td>37</td>\n      <td>2020-01-28</td>\n      <td>0</td>\n      <td>2020-01-30</td>\n      <td>2020-01-22</td>\n      <td>2020-01-28</td>\n      <td>0</td>\n      <td>0</td>\n      <td>0</td>\n      <td>0</td>\n      <td>cough</td>\n    </tr>\n    <tr>\n      <th>743</th>\n      <td>13</td>\n      <td>2020-01-31</td>\n      <td>Hong Kong</td>\n      <td>male</td>\n      <td>39</td>\n      <td>2020-01-31</td>\n      <td>0</td>\n      <td>2020-01-31</td>\n      <td>2020-01-21</td>\n      <td>2020-01-23</td>\n      <td>1</td>\n      <td>0</td>\n      <td>1</td>\n      <td>0</td>\n      <td>myalgia, fever</td>\n    </tr>\n    <tr>\n      <th>744</th>\n      <td>14</td>\n      <td>2020-02-02</td>\n      <td>Hong Kong</td>\n      <td>male</td>\n      <td>80</td>\n      <td>2020-01-19</td>\n      <td>0</td>\n      <td>2020-01-30</td>\n      <td>2020-01-10</td>\n      <td>2020-01-10</td>\n      <td>0</td>\n      <td>0</td>\n      <td>0</td>\n      <td>0</td>\n      <td>fever</td>\n    </tr>\n    <tr>\n      <th>745</th>\n      <td>15</td>\n      <td>2020-02-02</td>\n      <td>Hong Kong</td>\n      <td>female</td>\n      <td>72</td>\n      <td>2020-02-01</td>\n      <td>0</td>\n      <td>2020-02-01</td>\n      <td>2020-01-23</td>\n      <td>2020-01-31</td>\n      <td>0</td>\n      <td>0</td>\n      <td>0</td>\n      <td>0</td>\n      <td>fever, cough</td>\n    </tr>\n    <tr>\n      <th>756</th>\n      <td>26</td>\n      <td>2020-02-07</td>\n      <td>Hong Kong</td>\n      <td>male</td>\n      <td>42</td>\n      <td>2020-02-03</td>\n      <td>0</td>\n      <td>2020-02-03</td>\n      <td>2020-01-22</td>\n      <td>2020-02-02</td>\n      <td>0</td>\n      <td>0</td>\n      <td>0</td>\n      <td>0</td>\n      <td>fever, cough</td>\n    </tr>\n    <tr>\n      <th>781</th>\n      <td>51</td>\n      <td>2020-02-13</td>\n      <td>Hong Kong</td>\n      <td>male</td>\n      <td>43</td>\n      <td>2020-01-29</td>\n      <td>0</td>\n      <td>2020-01-31</td>\n      <td>2020-01-30</td>\n      <td>2020-01-30</td>\n      <td>0</td>\n      <td>0</td>\n      <td>0</td>\n      <td>0</td>\n      <td>cough, diarrhea, vomiting</td>\n    </tr>\n    <tr>\n      <th>782</th>\n      <td>52</td>\n      <td>2020-02-13</td>\n      <td>Hong Kong</td>\n      <td>female</td>\n      <td>67</td>\n      <td>2020-01-31</td>\n      <td>0</td>\n      <td>2020-01-31</td>\n      <td>2020-01-26</td>\n      <td>2020-01-26</td>\n      <td>0</td>\n      <td>0</td>\n      <td>0</td>\n      <td>0</td>\n      <td>cough, fever, chills</td>\n    </tr>\n    <tr>\n      <th>783</th>\n      <td>53</td>\n      <td>2020-02-13</td>\n      <td>Hong Kong</td>\n      <td>male</td>\n      <td>37</td>\n      <td>2020-02-08</td>\n      <td>0</td>\n      <td>2020-02-09</td>\n      <td>2020-01-26</td>\n      <td>2020-01-26</td>\n      <td>0</td>\n      <td>0</td>\n      <td>0</td>\n      <td>0</td>\n      <td>fever</td>\n    </tr>\n  </tbody>\n</table>\n</div>",
      "text/plain": "    Unnamed: 1 reporting date    country  gender age symptom_onset  \\\n215          6     2020-01-28      Japan    male  65    2020-01-14   \n217          8     2020-01-29      Japan  female  45    2020-01-20   \n219         10     2020-01-30      Japan    male  55    2020-01-25   \n220         11     2020-01-30      Japan  female  35    2020-01-24   \n221         12     2020-01-30      Japan  female  25    2020-01-23   \n227         18     2020-02-04      Japan  female  55    2020-01-31   \n390         19     2020-02-04  Singapore  female  28    2020-01-29   \n576          4     2020-01-27     Taiwan  female  50    2020-01-22   \n741         11     2020-01-30  Hong Kong  female  37    2020-01-28   \n743         13     2020-01-31  Hong Kong    male  39    2020-01-31   \n744         14     2020-02-02  Hong Kong    male  80    2020-01-19   \n745         15     2020-02-02  Hong Kong  female  72    2020-02-01   \n756         26     2020-02-07  Hong Kong    male  42    2020-02-03   \n781         51     2020-02-13  Hong Kong    male  43    2020-01-29   \n782         52     2020-02-13  Hong Kong  female  67    2020-01-31   \n783         53     2020-02-13  Hong Kong    male  37    2020-02-08   \n\n    If_onset_approximated hosp_visit_date exposure_start exposure_end  \\\n215                     0      2020-01-17     2020-01-08   2020-01-16   \n217                     0      2020-01-20     2020-01-12   2020-01-17   \n219                     0      2020-01-27     2019-12-24   2020-01-13   \n220                     0      2020-01-24     2020-01-19   2020-01-20   \n221                     0      2020-01-28     2020-01-17   2020-01-18   \n227                     0      2020-01-31     2020-01-19   2020-01-19   \n390                     0      2020-02-03     2020-01-23   2020-01-23   \n576                     0      2020-01-25     2020-01-13   2020-01-15   \n741                     0      2020-01-30     2020-01-22   2020-01-28   \n743                     0      2020-01-31     2020-01-21   2020-01-23   \n744                     0      2020-01-30     2020-01-10   2020-01-10   \n745                     0      2020-02-01     2020-01-23   2020-01-31   \n756                     0      2020-02-03     2020-01-22   2020-02-02   \n781                     0      2020-01-31     2020-01-30   2020-01-30   \n782                     0      2020-01-31     2020-01-26   2020-01-26   \n783                     0      2020-02-09     2020-01-26   2020-01-26   \n\n    visiting Wuhan from Wuhan death  recovered                    sympton  \n215              0          0     0          0  cough, chills, joint pain  \n217              0          0     0          0               fever, cough  \n219              1          0     0          0                      fever  \n220              1          0     0          0               fever, cough  \n221              1          0     0          0                      fever  \n227              1          0     0          0               fever, cough  \n390              0          0     0  2/22/2020         fever, sore throat  \n576              1          0     0          0                      cough  \n741              0          0     0          0                      cough  \n743              1          0     1          0             myalgia, fever  \n744              0          0     0          0                      fever  \n745              0          0     0          0               fever, cough  \n756              0          0     0          0               fever, cough  \n781              0          0     0          0  cough, diarrhea, vomiting  \n782              0          0     0          0       cough, fever, chills  \n783              0          0     0          0                      fever  "
     },
     "execution_count": 62,
     "metadata": {},
     "output_type": "execute_result"
    }
   ],
   "source": [
    "LineListComplete\n"
   ]
  },
  {
   "cell_type": "code",
   "execution_count": 61,
   "metadata": {},
   "outputs": [
    {
     "data": {
      "text/plain": "(16, 15)"
     },
     "execution_count": 61,
     "metadata": {},
     "output_type": "execute_result"
    }
   ],
   "source": [
    "LineListComplete.shape"
   ]
  },
  {
   "cell_type": "code",
   "execution_count": 101,
   "metadata": {},
   "outputs": [
    {
     "data": {
      "text/plain": "10"
     },
     "execution_count": 101,
     "metadata": {},
     "output_type": "execute_result"
    }
   ],
   "source": [
    "# Getting days values from dates\n",
    "statistics.median(LineListComplete['hosp_visit_date'] - LineListComplete['exposure_start']).days\n"
   ]
  },
  {
   "cell_type": "code",
   "execution_count": 104,
   "metadata": {},
   "outputs": [
    {
     "data": {
      "text/plain": "3"
     },
     "execution_count": 104,
     "metadata": {},
     "output_type": "execute_result"
    }
   ],
   "source": [
    "statistics.median(LineListComplete['reporting date'] - LineListComplete['hosp_visit_date']).days\n"
   ]
  },
  {
   "cell_type": "code",
   "execution_count": 60,
   "metadata": {},
   "outputs": [
    {
     "data": {
      "text/plain": "12"
     },
     "execution_count": 60,
     "metadata": {},
     "output_type": "execute_result"
    }
   ],
   "source": [
    "statistics.median(LineListComplete['reporting date'] - LineListComplete['exposure_end']).days\n",
    "\n",
    "\n"
   ]
  },
  {
   "cell_type": "code",
   "execution_count": 71,
   "metadata": {},
   "outputs": [
    {
     "data": {
      "text/plain": "1"
     },
     "execution_count": 71,
     "metadata": {},
     "output_type": "execute_result"
    }
   ],
   "source": [
    "statistics.median(LineListComplete['exposure_end']- LineListComplete['exposure_start']).days\n"
   ]
  },
  {
   "cell_type": "code",
   "execution_count": 44,
   "metadata": {},
   "outputs": [
    {
     "data": {
      "text/html": "<div>\n<style scoped>\n    .dataframe tbody tr th:only-of-type {\n        vertical-align: middle;\n    }\n\n    .dataframe tbody tr th {\n        vertical-align: top;\n    }\n\n    .dataframe thead th {\n        text-align: right;\n    }\n</style>\n<table border=\"1\" class=\"dataframe\">\n  <thead>\n    <tr style=\"text-align: right;\">\n      <th></th>\n      <th>Pro</th>\n      <th>province</th>\n      <th>new</th>\n      <th>cumu</th>\n    </tr>\n  </thead>\n  <tbody>\n    <tr>\n      <th>0</th>\n      <td>1/10/2020</td>\n      <td>Hubei</td>\n      <td>41.0</td>\n      <td>41.0</td>\n    </tr>\n    <tr>\n      <th>1</th>\n      <td>1/16/2020</td>\n      <td>Hubei</td>\n      <td>4.0</td>\n      <td>45.0</td>\n    </tr>\n    <tr>\n      <th>2</th>\n      <td>1/17/2020</td>\n      <td>Hubei</td>\n      <td>17.0</td>\n      <td>62.0</td>\n    </tr>\n    <tr>\n      <th>3</th>\n      <td>1/17/2020</td>\n      <td>Zhejiang</td>\n      <td>5.0</td>\n      <td>5.0</td>\n    </tr>\n    <tr>\n      <th>4</th>\n      <td>1/18/2020</td>\n      <td>Hubei</td>\n      <td>59.0</td>\n      <td>NaN</td>\n    </tr>\n  </tbody>\n</table>\n</div>",
      "text/plain": "         Pro  province   new  cumu\n0  1/10/2020     Hubei  41.0  41.0\n1  1/16/2020     Hubei   4.0  45.0\n2  1/17/2020     Hubei  17.0  62.0\n3  1/17/2020  Zhejiang   5.0   5.0\n4  1/18/2020     Hubei  59.0   NaN"
     },
     "execution_count": 44,
     "metadata": {},
     "output_type": "execute_result"
    }
   ],
   "source": [
    "ProvinceIncidence.head(5)"
   ]
  },
  {
   "cell_type": "code",
   "execution_count": 45,
   "metadata": {},
   "outputs": [
    {
     "data": {
      "text/html": "<div>\n<style scoped>\n    .dataframe tbody tr th:only-of-type {\n        vertical-align: middle;\n    }\n\n    .dataframe tbody tr th {\n        vertical-align: top;\n    }\n\n    .dataframe thead th {\n        text-align: right;\n    }\n</style>\n<table border=\"1\" class=\"dataframe\">\n  <thead>\n    <tr style=\"text-align: right;\">\n      <th></th>\n      <th>id</th>\n      <th>reporting date</th>\n      <th>summary</th>\n      <th>location</th>\n      <th>country</th>\n      <th>gender</th>\n      <th>age</th>\n      <th>symptom_onset</th>\n      <th>If_onset_approximated</th>\n      <th>hosp_visit_date</th>\n      <th>type_of_visit</th>\n      <th>exposure_start</th>\n      <th>exposure_end</th>\n      <th>visiting Wuhan</th>\n      <th>from Wuhan</th>\n      <th>death</th>\n      <th>recovered</th>\n      <th>symptom</th>\n      <th>source</th>\n      <th>link</th>\n    </tr>\n  </thead>\n  <tbody>\n    <tr>\n      <th>0</th>\n      <td>0.0</td>\n      <td>1/28/2020</td>\n      <td>new confirmed COVID-19 patient in Paris, Franc...</td>\n      <td>Paris</td>\n      <td>France</td>\n      <td>male</td>\n      <td>80.0</td>\n      <td>1/25/2020</td>\n      <td>1.0</td>\n      <td>1/25/2020</td>\n      <td>hospital</td>\n      <td>NaN</td>\n      <td>1/23/2020</td>\n      <td>0.0</td>\n      <td>1.0</td>\n      <td>0.0</td>\n      <td>0.0</td>\n      <td>NaN</td>\n      <td>The Local</td>\n      <td>https://www.thelocal.de/20200128/number-of-ger...</td>\n    </tr>\n    <tr>\n      <th>1</th>\n      <td>1.0</td>\n      <td>1/29/2020</td>\n      <td>new confirmed COVID-19 patient in Paris, Franc...</td>\n      <td>Paris</td>\n      <td>France</td>\n      <td>female</td>\n      <td>NaN</td>\n      <td>NaN</td>\n      <td>NaN</td>\n      <td>NaN</td>\n      <td>hospital</td>\n      <td>NaN</td>\n      <td>1/23/2020</td>\n      <td>1.0</td>\n      <td>0.0</td>\n      <td>0.0</td>\n      <td>0.0</td>\n      <td>NaN</td>\n      <td>The Local</td>\n      <td>https://www.thelocal.fr/20200131/coronavirus-i...</td>\n    </tr>\n    <tr>\n      <th>2</th>\n      <td>2.0</td>\n      <td>1/30/2020</td>\n      <td>new confirmed COVID-19 patient in Japan: male,...</td>\n      <td>Tokyo</td>\n      <td>Japan</td>\n      <td>male</td>\n      <td>45.0</td>\n      <td>NaN</td>\n      <td>NaN</td>\n      <td>NaN</td>\n      <td>NaN</td>\n      <td>NaN</td>\n      <td>1/29/2020</td>\n      <td>1.0</td>\n      <td>0.0</td>\n      <td>0.0</td>\n      <td>0.0</td>\n      <td>throat pain, fever</td>\n      <td>Bangkok Post</td>\n      <td>https://www.bangkokpost.com/world/1846939/thre...</td>\n    </tr>\n    <tr>\n      <th>3</th>\n      <td>3.0</td>\n      <td>1/30/2020</td>\n      <td>new confirmed COVID-19 patient in Japan: male,...</td>\n      <td>Tokyo</td>\n      <td>Japan</td>\n      <td>male</td>\n      <td>45.0</td>\n      <td>NaN</td>\n      <td>NaN</td>\n      <td>NaN</td>\n      <td>NaN</td>\n      <td>NaN</td>\n      <td>1/29/2020</td>\n      <td>1.0</td>\n      <td>0.0</td>\n      <td>0.0</td>\n      <td>0.0</td>\n      <td>NaN</td>\n      <td>Bangkok Post</td>\n      <td>https://www.bangkokpost.com/world/1846939/thre...</td>\n    </tr>\n    <tr>\n      <th>4</th>\n      <td>4.0</td>\n      <td>1/30/2020</td>\n      <td>new confirmed COVID-19 patient in Japan: femal...</td>\n      <td>Tokyo</td>\n      <td>Japan</td>\n      <td>female</td>\n      <td>55.0</td>\n      <td>NaN</td>\n      <td>NaN</td>\n      <td>NaN</td>\n      <td>NaN</td>\n      <td>NaN</td>\n      <td>1/29/2020</td>\n      <td>1.0</td>\n      <td>0.0</td>\n      <td>0.0</td>\n      <td>0.0</td>\n      <td>NaN</td>\n      <td>Bangkok Post</td>\n      <td>https://www.bangkokpost.com/world/1846939/thre...</td>\n    </tr>\n  </tbody>\n</table>\n</div>",
      "text/plain": "    id reporting date                                            summary  \\\n0  0.0      1/28/2020  new confirmed COVID-19 patient in Paris, Franc...   \n1  1.0      1/29/2020  new confirmed COVID-19 patient in Paris, Franc...   \n2  2.0      1/30/2020  new confirmed COVID-19 patient in Japan: male,...   \n3  3.0      1/30/2020  new confirmed COVID-19 patient in Japan: male,...   \n4  4.0      1/30/2020  new confirmed COVID-19 patient in Japan: femal...   \n\n  location country  gender   age symptom_onset  If_onset_approximated  \\\n0    Paris  France    male  80.0     1/25/2020                    1.0   \n1    Paris  France  female   NaN           NaN                    NaN   \n2    Tokyo   Japan    male  45.0           NaN                    NaN   \n3    Tokyo   Japan    male  45.0           NaN                    NaN   \n4    Tokyo   Japan  female  55.0           NaN                    NaN   \n\n  hosp_visit_date type_of_visit exposure_start exposure_end  visiting Wuhan  \\\n0       1/25/2020      hospital            NaN    1/23/2020             0.0   \n1             NaN      hospital            NaN    1/23/2020             1.0   \n2             NaN           NaN            NaN    1/29/2020             1.0   \n3             NaN           NaN            NaN    1/29/2020             1.0   \n4             NaN           NaN            NaN    1/29/2020             1.0   \n\n   from Wuhan  death  recovered             symptom        source  \\\n0         1.0    0.0        0.0                 NaN     The Local   \n1         0.0    0.0        0.0                 NaN     The Local   \n2         0.0    0.0        0.0  throat pain, fever  Bangkok Post   \n3         0.0    0.0        0.0                 NaN  Bangkok Post   \n4         0.0    0.0        0.0                 NaN  Bangkok Post   \n\n                                                link  \n0  https://www.thelocal.de/20200128/number-of-ger...  \n1  https://www.thelocal.fr/20200131/coronavirus-i...  \n2  https://www.bangkokpost.com/world/1846939/thre...  \n3  https://www.bangkokpost.com/world/1846939/thre...  \n4  https://www.bangkokpost.com/world/1846939/thre...  "
     },
     "execution_count": 45,
     "metadata": {},
     "output_type": "execute_result"
    }
   ],
   "source": [
    "IncidentLog.head(5)"
   ]
  },
  {
   "cell_type": "code",
   "execution_count": 69,
   "metadata": {},
   "outputs": [
    {
     "data": {
      "text/html": "<div>\n<style scoped>\n    .dataframe tbody tr th:only-of-type {\n        vertical-align: middle;\n    }\n\n    .dataframe tbody tr th {\n        vertical-align: top;\n    }\n\n    .dataframe thead th {\n        text-align: right;\n    }\n</style>\n<table border=\"1\" class=\"dataframe\">\n  <thead>\n    <tr style=\"text-align: right;\">\n      <th></th>\n      <th>id</th>\n      <th>reporting date</th>\n      <th>summary</th>\n      <th>location</th>\n      <th>country</th>\n      <th>gender</th>\n      <th>age</th>\n      <th>symptom_onset</th>\n      <th>If_onset_approximated</th>\n      <th>hosp_visit_date</th>\n      <th>type_of_visit</th>\n      <th>exposure_start</th>\n      <th>exposure_end</th>\n      <th>visiting Wuhan</th>\n      <th>from Wuhan</th>\n      <th>death</th>\n      <th>recovered</th>\n      <th>symptom</th>\n      <th>source</th>\n      <th>link</th>\n    </tr>\n  </thead>\n  <tbody>\n    <tr>\n      <th>0</th>\n      <td>NaN</td>\n      <td>02/02/2020</td>\n      <td>NaN</td>\n      <td>Beijing</td>\n      <td>China</td>\n      <td>female</td>\n      <td>42</td>\n      <td>1/30/2020</td>\n      <td>0</td>\n      <td>1/30/2020</td>\n      <td>NaN</td>\n      <td>NaN</td>\n      <td>NaN</td>\n      <td>NaN</td>\n      <td>NaN</td>\n      <td>0</td>\n      <td>0</td>\n      <td>NaN</td>\n      <td>Beijing Municipal Health Commission</td>\n      <td>http://wjw.beijing.gov.cn/xwzx_20031/wnxw/2020...</td>\n    </tr>\n    <tr>\n      <th>1</th>\n      <td>NaN</td>\n      <td>02/02/2020</td>\n      <td>NaN</td>\n      <td>Beijing</td>\n      <td>China</td>\n      <td>male</td>\n      <td>20</td>\n      <td>1/30/2020</td>\n      <td>0</td>\n      <td>1/31/2020</td>\n      <td>NaN</td>\n      <td>NaN</td>\n      <td>NaN</td>\n      <td>NaN</td>\n      <td>NaN</td>\n      <td>0</td>\n      <td>0</td>\n      <td>NaN</td>\n      <td>Beijing Municipal Health Commission</td>\n      <td>http://wjw.beijing.gov.cn/xwzx_20031/wnxw/2020...</td>\n    </tr>\n    <tr>\n      <th>2</th>\n      <td>NaN</td>\n      <td>02/02/2020</td>\n      <td>NaN</td>\n      <td>Beijing</td>\n      <td>China</td>\n      <td>female</td>\n      <td>44</td>\n      <td>1/31/2020</td>\n      <td>0</td>\n      <td>2/1/2020</td>\n      <td>NaN</td>\n      <td>NaN</td>\n      <td>NaN</td>\n      <td>NaN</td>\n      <td>NaN</td>\n      <td>0</td>\n      <td>0</td>\n      <td>NaN</td>\n      <td>Beijing Municipal Health Commission</td>\n      <td>http://wjw.beijing.gov.cn/xwzx_20031/wnxw/2020...</td>\n    </tr>\n    <tr>\n      <th>3</th>\n      <td>NaN</td>\n      <td>02/02/2020</td>\n      <td>NaN</td>\n      <td>Beijing</td>\n      <td>China</td>\n      <td>male</td>\n      <td>75</td>\n      <td>1/27/2020</td>\n      <td>0</td>\n      <td>1/31/2020</td>\n      <td>NaN</td>\n      <td>NaN</td>\n      <td>NaN</td>\n      <td>NaN</td>\n      <td>NaN</td>\n      <td>0</td>\n      <td>0</td>\n      <td>NaN</td>\n      <td>Beijing Municipal Health Commission</td>\n      <td>http://wjw.beijing.gov.cn/xwzx_20031/wnxw/2020...</td>\n    </tr>\n    <tr>\n      <th>4</th>\n      <td>NaN</td>\n      <td>02/02/2020</td>\n      <td>NaN</td>\n      <td>Beijing</td>\n      <td>China</td>\n      <td>female</td>\n      <td>43</td>\n      <td>1/30/2020</td>\n      <td>0</td>\n      <td>1/31/2020</td>\n      <td>NaN</td>\n      <td>NaN</td>\n      <td>NaN</td>\n      <td>NaN</td>\n      <td>NaN</td>\n      <td>0</td>\n      <td>0</td>\n      <td>NaN</td>\n      <td>Beijing Municipal Health Commission</td>\n      <td>http://wjw.beijing.gov.cn/xwzx_20031/wnxw/2020...</td>\n    </tr>\n  </tbody>\n</table>\n</div>",
      "text/plain": "   id reporting date summary location country  gender  age symptom_onset  \\\n0 NaN     02/02/2020     NaN  Beijing   China  female   42     1/30/2020   \n1 NaN     02/02/2020     NaN  Beijing   China    male   20     1/30/2020   \n2 NaN     02/02/2020     NaN  Beijing   China  female   44     1/31/2020   \n3 NaN     02/02/2020     NaN  Beijing   China    male   75     1/27/2020   \n4 NaN     02/02/2020     NaN  Beijing   China  female   43     1/30/2020   \n\n   If_onset_approximated hosp_visit_date type_of_visit exposure_start  \\\n0                      0       1/30/2020           NaN            NaN   \n1                      0       1/31/2020           NaN            NaN   \n2                      0        2/1/2020           NaN            NaN   \n3                      0       1/31/2020           NaN            NaN   \n4                      0       1/31/2020           NaN            NaN   \n\n  exposure_end  visiting Wuhan  from Wuhan  death  recovered  symptom  \\\n0          NaN             NaN         NaN      0          0      NaN   \n1          NaN             NaN         NaN      0          0      NaN   \n2          NaN             NaN         NaN      0          0      NaN   \n3          NaN             NaN         NaN      0          0      NaN   \n4          NaN             NaN         NaN      0          0      NaN   \n\n                                source  \\\n0  Beijing Municipal Health Commission   \n1  Beijing Municipal Health Commission   \n2  Beijing Municipal Health Commission   \n3  Beijing Municipal Health Commission   \n4  Beijing Municipal Health Commission   \n\n                                                link  \n0  http://wjw.beijing.gov.cn/xwzx_20031/wnxw/2020...  \n1  http://wjw.beijing.gov.cn/xwzx_20031/wnxw/2020...  \n2  http://wjw.beijing.gov.cn/xwzx_20031/wnxw/2020...  \n3  http://wjw.beijing.gov.cn/xwzx_20031/wnxw/2020...  \n4  http://wjw.beijing.gov.cn/xwzx_20031/wnxw/2020...  "
     },
     "execution_count": 69,
     "metadata": {},
     "output_type": "execute_result"
    }
   ],
   "source": [
    "IncidentLogSecond.head()"
   ]
  },
  {
   "cell_type": "code",
   "execution_count": 107,
   "metadata": {},
   "outputs": [],
   "source": [
    "#IncidentLogSecond.shape"
   ]
  },
  {
   "cell_type": "code",
   "execution_count": 109,
   "metadata": {},
   "outputs": [],
   "source": [
    "#IncidentLogSecond.isna().sum()"
   ]
  },
  {
   "cell_type": "code",
   "execution_count": 112,
   "metadata": {},
   "outputs": [
    {
     "data": {
      "text/html": "<div>\n<style scoped>\n    .dataframe tbody tr th:only-of-type {\n        vertical-align: middle;\n    }\n\n    .dataframe tbody tr th {\n        vertical-align: top;\n    }\n\n    .dataframe thead th {\n        text-align: right;\n    }\n</style>\n<table border=\"1\" class=\"dataframe\">\n  <thead>\n    <tr style=\"text-align: right;\">\n      <th></th>\n      <th>id</th>\n      <th>reporting date</th>\n      <th>summary</th>\n      <th>location</th>\n      <th>country</th>\n      <th>gender</th>\n      <th>age</th>\n      <th>symptom_onset</th>\n      <th>If_onset_approximated</th>\n      <th>hosp_visit_date</th>\n      <th>type_of_visit</th>\n      <th>exposure_start</th>\n      <th>exposure_end</th>\n      <th>visiting Wuhan</th>\n      <th>from Wuhan</th>\n      <th>death</th>\n      <th>recovered</th>\n      <th>symptom</th>\n      <th>source</th>\n      <th>link</th>\n    </tr>\n  </thead>\n  <tbody>\n    <tr>\n      <th>0</th>\n      <td>0.0</td>\n      <td>1/28/2020</td>\n      <td>new confirmed COVID-19 patient in Paris, Franc...</td>\n      <td>Paris</td>\n      <td>France</td>\n      <td>male</td>\n      <td>80.0</td>\n      <td>1/25/2020</td>\n      <td>1.0</td>\n      <td>1/25/2020</td>\n      <td>hospital</td>\n      <td>NaN</td>\n      <td>1/23/2020</td>\n      <td>0.0</td>\n      <td>1.0</td>\n      <td>0.0</td>\n      <td>0.0</td>\n      <td>NaN</td>\n      <td>The Local</td>\n      <td>https://www.thelocal.de/20200128/number-of-ger...</td>\n    </tr>\n    <tr>\n      <th>1</th>\n      <td>1.0</td>\n      <td>1/29/2020</td>\n      <td>new confirmed COVID-19 patient in Paris, Franc...</td>\n      <td>Paris</td>\n      <td>France</td>\n      <td>female</td>\n      <td>NaN</td>\n      <td>NaN</td>\n      <td>NaN</td>\n      <td>NaN</td>\n      <td>hospital</td>\n      <td>NaN</td>\n      <td>1/23/2020</td>\n      <td>1.0</td>\n      <td>0.0</td>\n      <td>0.0</td>\n      <td>0.0</td>\n      <td>NaN</td>\n      <td>The Local</td>\n      <td>https://www.thelocal.fr/20200131/coronavirus-i...</td>\n    </tr>\n    <tr>\n      <th>2</th>\n      <td>2.0</td>\n      <td>1/30/2020</td>\n      <td>new confirmed COVID-19 patient in Japan: male,...</td>\n      <td>Tokyo</td>\n      <td>Japan</td>\n      <td>male</td>\n      <td>45.0</td>\n      <td>NaN</td>\n      <td>NaN</td>\n      <td>NaN</td>\n      <td>NaN</td>\n      <td>NaN</td>\n      <td>1/29/2020</td>\n      <td>1.0</td>\n      <td>0.0</td>\n      <td>0.0</td>\n      <td>0.0</td>\n      <td>throat pain, fever</td>\n      <td>Bangkok Post</td>\n      <td>https://www.bangkokpost.com/world/1846939/thre...</td>\n    </tr>\n    <tr>\n      <th>3</th>\n      <td>3.0</td>\n      <td>1/30/2020</td>\n      <td>new confirmed COVID-19 patient in Japan: male,...</td>\n      <td>Tokyo</td>\n      <td>Japan</td>\n      <td>male</td>\n      <td>45.0</td>\n      <td>NaN</td>\n      <td>NaN</td>\n      <td>NaN</td>\n      <td>NaN</td>\n      <td>NaN</td>\n      <td>1/29/2020</td>\n      <td>1.0</td>\n      <td>0.0</td>\n      <td>0.0</td>\n      <td>0.0</td>\n      <td>NaN</td>\n      <td>Bangkok Post</td>\n      <td>https://www.bangkokpost.com/world/1846939/thre...</td>\n    </tr>\n    <tr>\n      <th>4</th>\n      <td>4.0</td>\n      <td>1/30/2020</td>\n      <td>new confirmed COVID-19 patient in Japan: femal...</td>\n      <td>Tokyo</td>\n      <td>Japan</td>\n      <td>female</td>\n      <td>55.0</td>\n      <td>NaN</td>\n      <td>NaN</td>\n      <td>NaN</td>\n      <td>NaN</td>\n      <td>NaN</td>\n      <td>1/29/2020</td>\n      <td>1.0</td>\n      <td>0.0</td>\n      <td>0.0</td>\n      <td>0.0</td>\n      <td>NaN</td>\n      <td>Bangkok Post</td>\n      <td>https://www.bangkokpost.com/world/1846939/thre...</td>\n    </tr>\n  </tbody>\n</table>\n</div>",
      "text/plain": "    id reporting date                                            summary  \\\n0  0.0      1/28/2020  new confirmed COVID-19 patient in Paris, Franc...   \n1  1.0      1/29/2020  new confirmed COVID-19 patient in Paris, Franc...   \n2  2.0      1/30/2020  new confirmed COVID-19 patient in Japan: male,...   \n3  3.0      1/30/2020  new confirmed COVID-19 patient in Japan: male,...   \n4  4.0      1/30/2020  new confirmed COVID-19 patient in Japan: femal...   \n\n  location country  gender   age symptom_onset  If_onset_approximated  \\\n0    Paris  France    male  80.0     1/25/2020                    1.0   \n1    Paris  France  female   NaN           NaN                    NaN   \n2    Tokyo   Japan    male  45.0           NaN                    NaN   \n3    Tokyo   Japan    male  45.0           NaN                    NaN   \n4    Tokyo   Japan  female  55.0           NaN                    NaN   \n\n  hosp_visit_date type_of_visit exposure_start exposure_end  visiting Wuhan  \\\n0       1/25/2020      hospital            NaN    1/23/2020             0.0   \n1             NaN      hospital            NaN    1/23/2020             1.0   \n2             NaN           NaN            NaN    1/29/2020             1.0   \n3             NaN           NaN            NaN    1/29/2020             1.0   \n4             NaN           NaN            NaN    1/29/2020             1.0   \n\n   from Wuhan  death  recovered             symptom        source  \\\n0         1.0    0.0        0.0                 NaN     The Local   \n1         0.0    0.0        0.0                 NaN     The Local   \n2         0.0    0.0        0.0  throat pain, fever  Bangkok Post   \n3         0.0    0.0        0.0                 NaN  Bangkok Post   \n4         0.0    0.0        0.0                 NaN  Bangkok Post   \n\n                                                link  \n0  https://www.thelocal.de/20200128/number-of-ger...  \n1  https://www.thelocal.fr/20200131/coronavirus-i...  \n2  https://www.bangkokpost.com/world/1846939/thre...  \n3  https://www.bangkokpost.com/world/1846939/thre...  \n4  https://www.bangkokpost.com/world/1846939/thre...  "
     },
     "execution_count": 112,
     "metadata": {},
     "output_type": "execute_result"
    }
   ],
   "source": [
    "#IncidentLog.head()"
   ]
  },
  {
   "cell_type": "code",
   "execution_count": 113,
   "metadata": {},
   "outputs": [
    {
     "data": {
      "text/plain": "(99, 20)"
     },
     "execution_count": 113,
     "metadata": {},
     "output_type": "execute_result"
    }
   ],
   "source": [
    "#IncidentLog.shape"
   ]
  },
  {
   "cell_type": "code",
   "execution_count": 114,
   "metadata": {},
   "outputs": [
    {
     "data": {
      "text/plain": "id                       15\nreporting date           15\nsummary                  15\nlocation                 15\ncountry                  15\ngender                   77\nage                      80\nsymptom_onset            86\nIf_onset_approximated    86\nhosp_visit_date          90\ntype_of_visit            67\nexposure_start           98\nexposure_end             76\nvisiting Wuhan           15\nfrom Wuhan               15\ndeath                    15\nrecovered                15\nsymptom                  92\nsource                   15\nlink                     15\ndtype: int64"
     },
     "execution_count": 114,
     "metadata": {},
     "output_type": "execute_result"
    }
   ],
   "source": [
    "#IncidentLog.isna().sum()"
   ]
  },
  {
   "cell_type": "code",
   "execution_count": null,
   "metadata": {},
   "outputs": [],
   "source": []
  }
 ]
}