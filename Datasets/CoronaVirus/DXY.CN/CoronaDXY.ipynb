{
 "nbformat": 4,
 "nbformat_minor": 2,
 "metadata": {
  "language_info": {
   "name": "python",
   "codemirror_mode": {
    "name": "ipython",
    "version": 3
   },
   "version": "3.7.3-final"
  },
  "orig_nbformat": 2,
  "file_extension": ".py",
  "mimetype": "text/x-python",
  "name": "python",
  "npconvert_exporter": "python",
  "pygments_lexer": "ipython3",
  "version": 3,
  "kernelspec": {
   "name": "python37364bitbaseconda37cebdefdc074f38b71ba887856dd328",
   "display_name": "Python 3.7.3 64-bit ('base': conda)"
  }
 },
 "cells": [
  {
   "cell_type": "code",
   "execution_count": 49,
   "metadata": {},
   "outputs": [],
   "source": [
    "import pandas as pd\n",
    "import numpy as np\n",
    "import datetime \n",
    "import statistics"
   ]
  },
  {
   "cell_type": "code",
   "execution_count": 50,
   "metadata": {},
   "outputs": [],
   "source": [
    "TotalCases = pd.read_csv(\"https://docs.google.com/spreadsheets/d/1jS24DjSPVWa4iuxuD4OAXrE3QeI8c9BC1hSlqr-NMiU/export?format=csv&gid=0\")"
   ]
  },
  {
   "cell_type": "code",
   "execution_count": 51,
   "metadata": {},
   "outputs": [],
   "source": [
    "LineList= pd.read_csv(\"https://docs.google.com/spreadsheets/d/1jS24DjSPVWa4iuxuD4OAXrE3QeI8c9BC1hSlqr-NMiU/export?format=csv&gid=1187587451\")"
   ]
  },
  {
   "cell_type": "code",
   "execution_count": 52,
   "metadata": {},
   "outputs": [],
   "source": [
    "ProvinceIncidence= pd.read_csv(\"https://docs.google.com/spreadsheets/d/1jS24DjSPVWa4iuxuD4OAXrE3QeI8c9BC1hSlqr-NMiU/export?format=csv&gid=1837322948\")"
   ]
  },
  {
   "cell_type": "code",
   "execution_count": 53,
   "metadata": {},
   "outputs": [],
   "source": [
    "IncidentLog = pd.read_csv(\"https://docs.google.com/spreadsheets/d/1jS24DjSPVWa4iuxuD4OAXrE3QeI8c9BC1hSlqr-NMiU/export?format=csv&gid=1202885709\")"
   ]
  },
  {
   "cell_type": "code",
   "execution_count": 54,
   "metadata": {},
   "outputs": [],
   "source": [
    "IncidentLogSecond= pd.read_csv(\"https://docs.google.com/spreadsheets/d/1jS24DjSPVWa4iuxuD4OAXrE3QeI8c9BC1hSlqr-NMiU/export?format=csv&gid=1180262595\")"
   ]
  },
  {
   "cell_type": "code",
   "execution_count": 55,
   "metadata": {},
   "outputs": [
    {
     "data": {
      "text/html": "<div>\n<style scoped>\n    .dataframe tbody tr th:only-of-type {\n        vertical-align: middle;\n    }\n\n    .dataframe tbody tr th {\n        vertical-align: top;\n    }\n\n    .dataframe thead th {\n        text-align: right;\n    }\n</style>\n<table border=\"1\" class=\"dataframe\">\n  <thead>\n    <tr style=\"text-align: right;\">\n      <th></th>\n      <th>Province</th>\n      <th>Confirmed</th>\n      <th>Suspected</th>\n      <th>Death</th>\n      <th>Recovered</th>\n      <th>Link</th>\n      <th>Comments</th>\n    </tr>\n  </thead>\n  <tbody>\n    <tr>\n      <th>0</th>\n      <td>Total</td>\n      <td>40322.0</td>\n      <td>23589.0</td>\n      <td>909.0</td>\n      <td>3471.0</td>\n      <td>http://3g.dxy.cn/newh5/view/pneumonia</td>\n      <td>NaN</td>\n    </tr>\n    <tr>\n      <th>1</th>\n      <td>Hubei</td>\n      <td>29631.0</td>\n      <td>NaN</td>\n      <td>NaN</td>\n      <td>NaN</td>\n      <td>NaN</td>\n      <td>NaN</td>\n    </tr>\n    <tr>\n      <th>2</th>\n      <td>Guangdong</td>\n      <td>1159.0</td>\n      <td>NaN</td>\n      <td>NaN</td>\n      <td>NaN</td>\n      <td>NaN</td>\n      <td>NaN</td>\n    </tr>\n    <tr>\n      <th>3</th>\n      <td>Zhejiang</td>\n      <td>1092.0</td>\n      <td>NaN</td>\n      <td>NaN</td>\n      <td>NaN</td>\n      <td>NaN</td>\n      <td>NaN</td>\n    </tr>\n    <tr>\n      <th>4</th>\n      <td>Henan</td>\n      <td>1073.0</td>\n      <td>NaN</td>\n      <td>NaN</td>\n      <td>NaN</td>\n      <td>NaN</td>\n      <td>NaN</td>\n    </tr>\n  </tbody>\n</table>\n</div>",
      "text/plain": "    Province  Confirmed  Suspected  Death  Recovered  \\\n0      Total    40322.0    23589.0  909.0     3471.0   \n1      Hubei    29631.0        NaN    NaN        NaN   \n2  Guangdong     1159.0        NaN    NaN        NaN   \n3   Zhejiang     1092.0        NaN    NaN        NaN   \n4      Henan     1073.0        NaN    NaN        NaN   \n\n                                    Link  Comments  \n0  http://3g.dxy.cn/newh5/view/pneumonia       NaN  \n1                                    NaN       NaN  \n2                                    NaN       NaN  \n3                                    NaN       NaN  \n4                                    NaN       NaN  "
     },
     "execution_count": 55,
     "metadata": {},
     "output_type": "execute_result"
    }
   ],
   "source": [
    "TotalCases.head(5)"
   ]
  },
  {
   "cell_type": "code",
   "execution_count": 56,
   "metadata": {},
   "outputs": [
    {
     "data": {
      "text/html": "<div>\n<style scoped>\n    .dataframe tbody tr th:only-of-type {\n        vertical-align: middle;\n    }\n\n    .dataframe tbody tr th {\n        vertical-align: top;\n    }\n\n    .dataframe thead th {\n        text-align: right;\n    }\n</style>\n<table border=\"1\" class=\"dataframe\">\n  <thead>\n    <tr style=\"text-align: right;\">\n      <th></th>\n      <th>Email</th>\n      <th>Unnamed: 1</th>\n      <th>contact.sunky@gmail.com</th>\n      <th>Unnamed: 3</th>\n      <th>Email was incorrect before</th>\n      <th>Unnamed: 5</th>\n      <th>Unnamed: 6</th>\n      <th>Unnamed: 7</th>\n      <th>Unnamed: 8</th>\n      <th>Unnamed: 9</th>\n      <th>Unnamed: 10</th>\n      <th>Unnamed: 11</th>\n      <th>Unnamed: 12</th>\n      <th>Unnamed: 13</th>\n      <th>Unnamed: 14</th>\n      <th>Unnamed: 15</th>\n      <th>Unnamed: 16</th>\n      <th>Unnamed: 17</th>\n      <th>Unnamed: 18</th>\n      <th>Unnamed: 19</th>\n    </tr>\n  </thead>\n  <tbody>\n    <tr>\n      <th>0</th>\n      <td>id</td>\n      <td>case_in_country</td>\n      <td>reporting date</td>\n      <td>summary</td>\n      <td>location</td>\n      <td>country</td>\n      <td>gender</td>\n      <td>age</td>\n      <td>symptom_onset</td>\n      <td>If_onset_approximated</td>\n      <td>hosp_visit_date</td>\n      <td>exposure_start</td>\n      <td>exposure_end</td>\n      <td>visiting Wuhan</td>\n      <td>from Wuhan</td>\n      <td>death</td>\n      <td>recovered</td>\n      <td>symptom</td>\n      <td>source</td>\n      <td>link</td>\n    </tr>\n    <tr>\n      <th>1</th>\n      <td>1</td>\n      <td>NaN</td>\n      <td>1/20/2020</td>\n      <td>First confirmed imported COVID-19 pneumonia pa...</td>\n      <td>Shenzhen, Guangdong</td>\n      <td>China</td>\n      <td>male</td>\n      <td>66</td>\n      <td>1/3/2020</td>\n      <td>0</td>\n      <td>1/11/2020</td>\n      <td>12/29/2019</td>\n      <td>1/4/2020</td>\n      <td>1</td>\n      <td>0</td>\n      <td>0</td>\n      <td>0</td>\n      <td>NaN</td>\n      <td>Shenzhen Municipal Health Commission</td>\n      <td>http://wjw.sz.gov.cn/wzx/202001/t20200120_1898...</td>\n    </tr>\n    <tr>\n      <th>2</th>\n      <td>2</td>\n      <td>NaN</td>\n      <td>1/20/2020</td>\n      <td>First confirmed imported COVID-19 pneumonia pa...</td>\n      <td>Shanghai</td>\n      <td>China</td>\n      <td>female</td>\n      <td>56</td>\n      <td>1/15/2020</td>\n      <td>0</td>\n      <td>1/15/2020</td>\n      <td>NaN</td>\n      <td>1/12/2020</td>\n      <td>0</td>\n      <td>1</td>\n      <td>0</td>\n      <td>0</td>\n      <td>NaN</td>\n      <td>Official Weibo of Shanghai Municipal Health Co...</td>\n      <td>https://www.weibo.com/2372649470/IqogQhgfa?fro...</td>\n    </tr>\n    <tr>\n      <th>3</th>\n      <td>3</td>\n      <td>NaN</td>\n      <td>1/21/2020</td>\n      <td>First confirmed imported cases in Zhejiang: pa...</td>\n      <td>Zhejiang</td>\n      <td>China</td>\n      <td>male</td>\n      <td>46</td>\n      <td>1/4/2020</td>\n      <td>0</td>\n      <td>1/17/2020</td>\n      <td>NaN</td>\n      <td>1/3/2020</td>\n      <td>0</td>\n      <td>1</td>\n      <td>0</td>\n      <td>0</td>\n      <td>NaN</td>\n      <td>Health Commission of Zhejiang Province</td>\n      <td>http://www.zjwjw.gov.cn/art/2020/1/21/art_1202...</td>\n    </tr>\n    <tr>\n      <th>4</th>\n      <td>4</td>\n      <td>NaN</td>\n      <td>1/21/2020</td>\n      <td>new confirmed imported COVID-19 pneumonia in T...</td>\n      <td>Tianjin</td>\n      <td>China</td>\n      <td>female</td>\n      <td>60</td>\n      <td>NaN</td>\n      <td>NaN</td>\n      <td>1/19/2020</td>\n      <td>NaN</td>\n      <td>NaN</td>\n      <td>1</td>\n      <td>0</td>\n      <td>0</td>\n      <td>0</td>\n      <td>NaN</td>\n      <td>人民日报官方微博</td>\n      <td>https://m.weibo.cn/status/4463235401268457?</td>\n    </tr>\n  </tbody>\n</table>\n</div>",
      "text/plain": "  Email       Unnamed: 1 contact.sunky@gmail.com  \\\n0    id  case_in_country          reporting date   \n1     1              NaN               1/20/2020   \n2     2              NaN               1/20/2020   \n3     3              NaN               1/21/2020   \n4     4              NaN               1/21/2020   \n\n                                          Unnamed: 3  \\\n0                                            summary   \n1  First confirmed imported COVID-19 pneumonia pa...   \n2  First confirmed imported COVID-19 pneumonia pa...   \n3  First confirmed imported cases in Zhejiang: pa...   \n4  new confirmed imported COVID-19 pneumonia in T...   \n\n  Email was incorrect before Unnamed: 5 Unnamed: 6 Unnamed: 7     Unnamed: 8  \\\n0                   location    country     gender        age  symptom_onset   \n1        Shenzhen, Guangdong      China       male         66       1/3/2020   \n2                   Shanghai      China     female         56      1/15/2020   \n3                   Zhejiang      China       male         46       1/4/2020   \n4                    Tianjin      China     female         60            NaN   \n\n              Unnamed: 9      Unnamed: 10     Unnamed: 11   Unnamed: 12  \\\n0  If_onset_approximated  hosp_visit_date  exposure_start  exposure_end   \n1                      0        1/11/2020      12/29/2019      1/4/2020   \n2                      0        1/15/2020             NaN     1/12/2020   \n3                      0        1/17/2020             NaN      1/3/2020   \n4                    NaN        1/19/2020             NaN           NaN   \n\n      Unnamed: 13 Unnamed: 14 Unnamed: 15 Unnamed: 16 Unnamed: 17  \\\n0  visiting Wuhan  from Wuhan       death   recovered     symptom   \n1               1           0           0           0         NaN   \n2               0           1           0           0         NaN   \n3               0           1           0           0         NaN   \n4               1           0           0           0         NaN   \n\n                                         Unnamed: 18  \\\n0                                             source   \n1               Shenzhen Municipal Health Commission   \n2  Official Weibo of Shanghai Municipal Health Co...   \n3             Health Commission of Zhejiang Province   \n4                                           人民日报官方微博   \n\n                                         Unnamed: 19  \n0                                               link  \n1  http://wjw.sz.gov.cn/wzx/202001/t20200120_1898...  \n2  https://www.weibo.com/2372649470/IqogQhgfa?fro...  \n3  http://www.zjwjw.gov.cn/art/2020/1/21/art_1202...  \n4        https://m.weibo.cn/status/4463235401268457?  "
     },
     "execution_count": 56,
     "metadata": {},
     "output_type": "execute_result"
    }
   ],
   "source": [
    "LineList.head(5)"
   ]
  },
  {
   "cell_type": "code",
   "execution_count": 57,
   "metadata": {},
   "outputs": [],
   "source": [
    "# Dropping columns \n",
    "LineList.head(5)\n",
    "LineList.drop(columns=[\"Email\",\"Unnamed: 3\",\"Email was incorrect before\",\"Unnamed: 18\",\"Unnamed: 19\"] ,axis=1, inplace=True)\n"
   ]
  },
  {
   "cell_type": "code",
   "execution_count": 58,
   "metadata": {},
   "outputs": [
    {
     "data": {
      "text/html": "<div>\n<style scoped>\n    .dataframe tbody tr th:only-of-type {\n        vertical-align: middle;\n    }\n\n    .dataframe tbody tr th {\n        vertical-align: top;\n    }\n\n    .dataframe thead th {\n        text-align: right;\n    }\n</style>\n<table border=\"1\" class=\"dataframe\">\n  <thead>\n    <tr style=\"text-align: right;\">\n      <th></th>\n      <th>Unnamed: 1</th>\n      <th>contact.sunky@gmail.com</th>\n      <th>Unnamed: 5</th>\n      <th>Unnamed: 6</th>\n      <th>Unnamed: 7</th>\n      <th>Unnamed: 8</th>\n      <th>Unnamed: 9</th>\n      <th>Unnamed: 10</th>\n      <th>Unnamed: 11</th>\n      <th>Unnamed: 12</th>\n      <th>Unnamed: 13</th>\n      <th>Unnamed: 14</th>\n      <th>Unnamed: 15</th>\n      <th>Unnamed: 16</th>\n      <th>Unnamed: 17</th>\n    </tr>\n  </thead>\n  <tbody>\n    <tr>\n      <th>0</th>\n      <td>case_in_country</td>\n      <td>reporting date</td>\n      <td>country</td>\n      <td>gender</td>\n      <td>age</td>\n      <td>symptom_onset</td>\n      <td>If_onset_approximated</td>\n      <td>hosp_visit_date</td>\n      <td>exposure_start</td>\n      <td>exposure_end</td>\n      <td>visiting Wuhan</td>\n      <td>from Wuhan</td>\n      <td>death</td>\n      <td>recovered</td>\n      <td>symptom</td>\n    </tr>\n    <tr>\n      <th>1</th>\n      <td>NaN</td>\n      <td>1/20/2020</td>\n      <td>China</td>\n      <td>male</td>\n      <td>66</td>\n      <td>1/3/2020</td>\n      <td>0</td>\n      <td>1/11/2020</td>\n      <td>12/29/2019</td>\n      <td>1/4/2020</td>\n      <td>1</td>\n      <td>0</td>\n      <td>0</td>\n      <td>0</td>\n      <td>NaN</td>\n    </tr>\n    <tr>\n      <th>2</th>\n      <td>NaN</td>\n      <td>1/20/2020</td>\n      <td>China</td>\n      <td>female</td>\n      <td>56</td>\n      <td>1/15/2020</td>\n      <td>0</td>\n      <td>1/15/2020</td>\n      <td>NaN</td>\n      <td>1/12/2020</td>\n      <td>0</td>\n      <td>1</td>\n      <td>0</td>\n      <td>0</td>\n      <td>NaN</td>\n    </tr>\n    <tr>\n      <th>3</th>\n      <td>NaN</td>\n      <td>1/21/2020</td>\n      <td>China</td>\n      <td>male</td>\n      <td>46</td>\n      <td>1/4/2020</td>\n      <td>0</td>\n      <td>1/17/2020</td>\n      <td>NaN</td>\n      <td>1/3/2020</td>\n      <td>0</td>\n      <td>1</td>\n      <td>0</td>\n      <td>0</td>\n      <td>NaN</td>\n    </tr>\n    <tr>\n      <th>4</th>\n      <td>NaN</td>\n      <td>1/21/2020</td>\n      <td>China</td>\n      <td>female</td>\n      <td>60</td>\n      <td>NaN</td>\n      <td>NaN</td>\n      <td>1/19/2020</td>\n      <td>NaN</td>\n      <td>NaN</td>\n      <td>1</td>\n      <td>0</td>\n      <td>0</td>\n      <td>0</td>\n      <td>NaN</td>\n    </tr>\n  </tbody>\n</table>\n</div>",
      "text/plain": "        Unnamed: 1 contact.sunky@gmail.com Unnamed: 5 Unnamed: 6 Unnamed: 7  \\\n0  case_in_country          reporting date    country     gender        age   \n1              NaN               1/20/2020      China       male         66   \n2              NaN               1/20/2020      China     female         56   \n3              NaN               1/21/2020      China       male         46   \n4              NaN               1/21/2020      China     female         60   \n\n      Unnamed: 8             Unnamed: 9      Unnamed: 10     Unnamed: 11  \\\n0  symptom_onset  If_onset_approximated  hosp_visit_date  exposure_start   \n1       1/3/2020                      0        1/11/2020      12/29/2019   \n2      1/15/2020                      0        1/15/2020             NaN   \n3       1/4/2020                      0        1/17/2020             NaN   \n4            NaN                    NaN        1/19/2020             NaN   \n\n    Unnamed: 12     Unnamed: 13 Unnamed: 14 Unnamed: 15 Unnamed: 16  \\\n0  exposure_end  visiting Wuhan  from Wuhan       death   recovered   \n1      1/4/2020               1           0           0           0   \n2     1/12/2020               0           1           0           0   \n3      1/3/2020               0           1           0           0   \n4           NaN               1           0           0           0   \n\n  Unnamed: 17  \n0     symptom  \n1         NaN  \n2         NaN  \n3         NaN  \n4         NaN  "
     },
     "execution_count": 58,
     "metadata": {},
     "output_type": "execute_result"
    }
   ],
   "source": [
    "LineList.head(5)"
   ]
  },
  {
   "cell_type": "code",
   "execution_count": 59,
   "metadata": {},
   "outputs": [],
   "source": [
    "# Renaming columns"
   ]
  },
  {
   "cell_type": "code",
   "execution_count": 60,
   "metadata": {},
   "outputs": [],
   "source": [
    "LineList = LineList.rename(columns={\"Unamed: 1\": \"Case In Country\",\"Unnamed: 5\": \"Country\",\"contact.sunky@gmail.com\": \"reporting date\",\"Email was incorrect before\": \"location\",\"Unnamed: 5\": \"country\",\"Unnamed: 6\":\"gender\", \"Unnamed: 7\":\"age\",\"Unnamed: 8\": \"symptom_onset\", \"Unnamed: 9\":\"If_onset_approximated\",\"Unnamed: 10\": \"hosp_visit_date\",\"Unnamed: 11\":\"exposure_start\",\"Unnamed: 12\": \"exposure_end\", \"Unnamed: 13\":\"visiting Wuhan\",\"Unnamed: 14\":\"from Wuhan\",\"Unnamed: 15\": \"death\",\"Unnamed: 16\": \"recovered\",\"Unnamed: 17\": \"sympton\"})"
   ]
  },
  {
   "cell_type": "code",
   "execution_count": 61,
   "metadata": {},
   "outputs": [
    {
     "data": {
      "text/html": "<div>\n<style scoped>\n    .dataframe tbody tr th:only-of-type {\n        vertical-align: middle;\n    }\n\n    .dataframe tbody tr th {\n        vertical-align: top;\n    }\n\n    .dataframe thead th {\n        text-align: right;\n    }\n</style>\n<table border=\"1\" class=\"dataframe\">\n  <thead>\n    <tr style=\"text-align: right;\">\n      <th></th>\n      <th>Unnamed: 1</th>\n      <th>reporting date</th>\n      <th>country</th>\n      <th>gender</th>\n      <th>age</th>\n      <th>symptom_onset</th>\n      <th>If_onset_approximated</th>\n      <th>hosp_visit_date</th>\n      <th>exposure_start</th>\n      <th>exposure_end</th>\n      <th>visiting Wuhan</th>\n      <th>from Wuhan</th>\n      <th>death</th>\n      <th>recovered</th>\n      <th>sympton</th>\n    </tr>\n  </thead>\n  <tbody>\n    <tr>\n      <th>0</th>\n      <td>case_in_country</td>\n      <td>reporting date</td>\n      <td>country</td>\n      <td>gender</td>\n      <td>age</td>\n      <td>symptom_onset</td>\n      <td>If_onset_approximated</td>\n      <td>hosp_visit_date</td>\n      <td>exposure_start</td>\n      <td>exposure_end</td>\n      <td>visiting Wuhan</td>\n      <td>from Wuhan</td>\n      <td>death</td>\n      <td>recovered</td>\n      <td>symptom</td>\n    </tr>\n    <tr>\n      <th>1</th>\n      <td>NaN</td>\n      <td>1/20/2020</td>\n      <td>China</td>\n      <td>male</td>\n      <td>66</td>\n      <td>1/3/2020</td>\n      <td>0</td>\n      <td>1/11/2020</td>\n      <td>12/29/2019</td>\n      <td>1/4/2020</td>\n      <td>1</td>\n      <td>0</td>\n      <td>0</td>\n      <td>0</td>\n      <td>NaN</td>\n    </tr>\n    <tr>\n      <th>2</th>\n      <td>NaN</td>\n      <td>1/20/2020</td>\n      <td>China</td>\n      <td>female</td>\n      <td>56</td>\n      <td>1/15/2020</td>\n      <td>0</td>\n      <td>1/15/2020</td>\n      <td>NaN</td>\n      <td>1/12/2020</td>\n      <td>0</td>\n      <td>1</td>\n      <td>0</td>\n      <td>0</td>\n      <td>NaN</td>\n    </tr>\n    <tr>\n      <th>3</th>\n      <td>NaN</td>\n      <td>1/21/2020</td>\n      <td>China</td>\n      <td>male</td>\n      <td>46</td>\n      <td>1/4/2020</td>\n      <td>0</td>\n      <td>1/17/2020</td>\n      <td>NaN</td>\n      <td>1/3/2020</td>\n      <td>0</td>\n      <td>1</td>\n      <td>0</td>\n      <td>0</td>\n      <td>NaN</td>\n    </tr>\n    <tr>\n      <th>4</th>\n      <td>NaN</td>\n      <td>1/21/2020</td>\n      <td>China</td>\n      <td>female</td>\n      <td>60</td>\n      <td>NaN</td>\n      <td>NaN</td>\n      <td>1/19/2020</td>\n      <td>NaN</td>\n      <td>NaN</td>\n      <td>1</td>\n      <td>0</td>\n      <td>0</td>\n      <td>0</td>\n      <td>NaN</td>\n    </tr>\n  </tbody>\n</table>\n</div>",
      "text/plain": "        Unnamed: 1  reporting date  country  gender  age  symptom_onset  \\\n0  case_in_country  reporting date  country  gender  age  symptom_onset   \n1              NaN       1/20/2020    China    male   66       1/3/2020   \n2              NaN       1/20/2020    China  female   56      1/15/2020   \n3              NaN       1/21/2020    China    male   46       1/4/2020   \n4              NaN       1/21/2020    China  female   60            NaN   \n\n   If_onset_approximated  hosp_visit_date  exposure_start  exposure_end  \\\n0  If_onset_approximated  hosp_visit_date  exposure_start  exposure_end   \n1                      0        1/11/2020      12/29/2019      1/4/2020   \n2                      0        1/15/2020             NaN     1/12/2020   \n3                      0        1/17/2020             NaN      1/3/2020   \n4                    NaN        1/19/2020             NaN           NaN   \n\n   visiting Wuhan  from Wuhan  death  recovered  sympton  \n0  visiting Wuhan  from Wuhan  death  recovered  symptom  \n1               1           0      0          0      NaN  \n2               0           1      0          0      NaN  \n3               0           1      0          0      NaN  \n4               1           0      0          0      NaN  "
     },
     "execution_count": 61,
     "metadata": {},
     "output_type": "execute_result"
    }
   ],
   "source": [
    "LineList.head(5)"
   ]
  },
  {
   "cell_type": "code",
   "execution_count": 62,
   "metadata": {},
   "outputs": [],
   "source": [
    "LineList.drop(0, inplace = True)"
   ]
  },
  {
   "cell_type": "code",
   "execution_count": 63,
   "metadata": {},
   "outputs": [
    {
     "data": {
      "text/html": "<div>\n<style scoped>\n    .dataframe tbody tr th:only-of-type {\n        vertical-align: middle;\n    }\n\n    .dataframe tbody tr th {\n        vertical-align: top;\n    }\n\n    .dataframe thead th {\n        text-align: right;\n    }\n</style>\n<table border=\"1\" class=\"dataframe\">\n  <thead>\n    <tr style=\"text-align: right;\">\n      <th></th>\n      <th>Unnamed: 1</th>\n      <th>reporting date</th>\n      <th>country</th>\n      <th>gender</th>\n      <th>age</th>\n      <th>symptom_onset</th>\n      <th>If_onset_approximated</th>\n      <th>hosp_visit_date</th>\n      <th>exposure_start</th>\n      <th>exposure_end</th>\n      <th>visiting Wuhan</th>\n      <th>from Wuhan</th>\n      <th>death</th>\n      <th>recovered</th>\n      <th>sympton</th>\n    </tr>\n  </thead>\n  <tbody>\n    <tr>\n      <th>1</th>\n      <td>NaN</td>\n      <td>1/20/2020</td>\n      <td>China</td>\n      <td>male</td>\n      <td>66</td>\n      <td>1/3/2020</td>\n      <td>0</td>\n      <td>1/11/2020</td>\n      <td>12/29/2019</td>\n      <td>1/4/2020</td>\n      <td>1</td>\n      <td>0</td>\n      <td>0</td>\n      <td>0</td>\n      <td>NaN</td>\n    </tr>\n    <tr>\n      <th>2</th>\n      <td>NaN</td>\n      <td>1/20/2020</td>\n      <td>China</td>\n      <td>female</td>\n      <td>56</td>\n      <td>1/15/2020</td>\n      <td>0</td>\n      <td>1/15/2020</td>\n      <td>NaN</td>\n      <td>1/12/2020</td>\n      <td>0</td>\n      <td>1</td>\n      <td>0</td>\n      <td>0</td>\n      <td>NaN</td>\n    </tr>\n    <tr>\n      <th>3</th>\n      <td>NaN</td>\n      <td>1/21/2020</td>\n      <td>China</td>\n      <td>male</td>\n      <td>46</td>\n      <td>1/4/2020</td>\n      <td>0</td>\n      <td>1/17/2020</td>\n      <td>NaN</td>\n      <td>1/3/2020</td>\n      <td>0</td>\n      <td>1</td>\n      <td>0</td>\n      <td>0</td>\n      <td>NaN</td>\n    </tr>\n    <tr>\n      <th>4</th>\n      <td>NaN</td>\n      <td>1/21/2020</td>\n      <td>China</td>\n      <td>female</td>\n      <td>60</td>\n      <td>NaN</td>\n      <td>NaN</td>\n      <td>1/19/2020</td>\n      <td>NaN</td>\n      <td>NaN</td>\n      <td>1</td>\n      <td>0</td>\n      <td>0</td>\n      <td>0</td>\n      <td>NaN</td>\n    </tr>\n    <tr>\n      <th>5</th>\n      <td>NaN</td>\n      <td>1/21/2020</td>\n      <td>China</td>\n      <td>male</td>\n      <td>58</td>\n      <td>NaN</td>\n      <td>NaN</td>\n      <td>1/14/2020</td>\n      <td>NaN</td>\n      <td>NaN</td>\n      <td>0</td>\n      <td>0</td>\n      <td>0</td>\n      <td>0</td>\n      <td>NaN</td>\n    </tr>\n  </tbody>\n</table>\n</div>",
      "text/plain": "  Unnamed: 1 reporting date country  gender age symptom_onset  \\\n1        NaN      1/20/2020   China    male  66      1/3/2020   \n2        NaN      1/20/2020   China  female  56     1/15/2020   \n3        NaN      1/21/2020   China    male  46      1/4/2020   \n4        NaN      1/21/2020   China  female  60           NaN   \n5        NaN      1/21/2020   China    male  58           NaN   \n\n  If_onset_approximated hosp_visit_date exposure_start exposure_end  \\\n1                     0       1/11/2020     12/29/2019     1/4/2020   \n2                     0       1/15/2020            NaN    1/12/2020   \n3                     0       1/17/2020            NaN     1/3/2020   \n4                   NaN       1/19/2020            NaN          NaN   \n5                   NaN       1/14/2020            NaN          NaN   \n\n  visiting Wuhan from Wuhan death recovered sympton  \n1              1          0     0         0     NaN  \n2              0          1     0         0     NaN  \n3              0          1     0         0     NaN  \n4              1          0     0         0     NaN  \n5              0          0     0         0     NaN  "
     },
     "execution_count": 63,
     "metadata": {},
     "output_type": "execute_result"
    }
   ],
   "source": [
    "LineList.head(5)\n"
   ]
  },
  {
   "cell_type": "code",
   "execution_count": 64,
   "metadata": {},
   "outputs": [],
   "source": [
    "#Converting fields to dates\n",
    "#LineList['reporting date']= pd.to_datetime(LineList['reporting date'])\n",
    "LineList[['reporting date','symptom_onset','hosp_visit_date','exposure_start','exposure_end']] = LineList[['reporting date','symptom_onset','hosp_visit_date','exposure_start','exposure_end']].apply(pd.to_datetime)\n"
   ]
  },
  {
   "cell_type": "code",
   "execution_count": 65,
   "metadata": {},
   "outputs": [
    {
     "name": "stdout",
     "output_type": "stream",
     "text": "<class 'pandas.core.frame.DataFrame'>\nInt64Index: 932 entries, 1 to 932\nData columns (total 15 columns):\nUnnamed: 1               735 non-null object\nreporting date           931 non-null datetime64[ns]\ncountry                  932 non-null object\ngender                   797 non-null object\nage                      753 non-null object\nsymptom_onset            508 non-null datetime64[ns]\nIf_onset_approximated    505 non-null object\nhosp_visit_date          456 non-null datetime64[ns]\nexposure_start           115 non-null datetime64[ns]\nexposure_end             324 non-null datetime64[ns]\nvisiting Wuhan           932 non-null object\nfrom Wuhan               928 non-null object\ndeath                    932 non-null object\nrecovered                932 non-null object\nsympton                  218 non-null object\ndtypes: datetime64[ns](5), object(10)\nmemory usage: 116.5+ KB\n"
    }
   ],
   "source": [
    "LineList.info()"
   ]
  },
  {
   "cell_type": "code",
   "execution_count": 66,
   "metadata": {},
   "outputs": [
    {
     "data": {
      "text/html": "<div>\n<style scoped>\n    .dataframe tbody tr th:only-of-type {\n        vertical-align: middle;\n    }\n\n    .dataframe tbody tr th {\n        vertical-align: top;\n    }\n\n    .dataframe thead th {\n        text-align: right;\n    }\n</style>\n<table border=\"1\" class=\"dataframe\">\n  <thead>\n    <tr style=\"text-align: right;\">\n      <th></th>\n      <th>Unnamed: 1</th>\n      <th>reporting date</th>\n      <th>country</th>\n      <th>gender</th>\n      <th>age</th>\n      <th>symptom_onset</th>\n      <th>If_onset_approximated</th>\n      <th>hosp_visit_date</th>\n      <th>exposure_start</th>\n      <th>exposure_end</th>\n      <th>visiting Wuhan</th>\n      <th>from Wuhan</th>\n      <th>death</th>\n      <th>recovered</th>\n      <th>sympton</th>\n    </tr>\n  </thead>\n  <tbody>\n    <tr>\n      <th>1</th>\n      <td>NaN</td>\n      <td>2020-01-20</td>\n      <td>China</td>\n      <td>male</td>\n      <td>66</td>\n      <td>2020-01-03</td>\n      <td>0</td>\n      <td>2020-01-11</td>\n      <td>2019-12-29</td>\n      <td>2020-01-04</td>\n      <td>1</td>\n      <td>0</td>\n      <td>0</td>\n      <td>0</td>\n      <td>NaN</td>\n    </tr>\n    <tr>\n      <th>2</th>\n      <td>NaN</td>\n      <td>2020-01-20</td>\n      <td>China</td>\n      <td>female</td>\n      <td>56</td>\n      <td>2020-01-15</td>\n      <td>0</td>\n      <td>2020-01-15</td>\n      <td>NaT</td>\n      <td>2020-01-12</td>\n      <td>0</td>\n      <td>1</td>\n      <td>0</td>\n      <td>0</td>\n      <td>NaN</td>\n    </tr>\n    <tr>\n      <th>3</th>\n      <td>NaN</td>\n      <td>2020-01-21</td>\n      <td>China</td>\n      <td>male</td>\n      <td>46</td>\n      <td>2020-01-04</td>\n      <td>0</td>\n      <td>2020-01-17</td>\n      <td>NaT</td>\n      <td>2020-01-03</td>\n      <td>0</td>\n      <td>1</td>\n      <td>0</td>\n      <td>0</td>\n      <td>NaN</td>\n    </tr>\n    <tr>\n      <th>4</th>\n      <td>NaN</td>\n      <td>2020-01-21</td>\n      <td>China</td>\n      <td>female</td>\n      <td>60</td>\n      <td>NaT</td>\n      <td>NaN</td>\n      <td>2020-01-19</td>\n      <td>NaT</td>\n      <td>NaT</td>\n      <td>1</td>\n      <td>0</td>\n      <td>0</td>\n      <td>0</td>\n      <td>NaN</td>\n    </tr>\n    <tr>\n      <th>5</th>\n      <td>NaN</td>\n      <td>2020-01-21</td>\n      <td>China</td>\n      <td>male</td>\n      <td>58</td>\n      <td>NaT</td>\n      <td>NaN</td>\n      <td>2020-01-14</td>\n      <td>NaT</td>\n      <td>NaT</td>\n      <td>0</td>\n      <td>0</td>\n      <td>0</td>\n      <td>0</td>\n      <td>NaN</td>\n    </tr>\n  </tbody>\n</table>\n</div>",
      "text/plain": "  Unnamed: 1 reporting date country  gender age symptom_onset  \\\n1        NaN     2020-01-20   China    male  66    2020-01-03   \n2        NaN     2020-01-20   China  female  56    2020-01-15   \n3        NaN     2020-01-21   China    male  46    2020-01-04   \n4        NaN     2020-01-21   China  female  60           NaT   \n5        NaN     2020-01-21   China    male  58           NaT   \n\n  If_onset_approximated hosp_visit_date exposure_start exposure_end  \\\n1                     0      2020-01-11     2019-12-29   2020-01-04   \n2                     0      2020-01-15            NaT   2020-01-12   \n3                     0      2020-01-17            NaT   2020-01-03   \n4                   NaN      2020-01-19            NaT          NaT   \n5                   NaN      2020-01-14            NaT          NaT   \n\n  visiting Wuhan from Wuhan death recovered sympton  \n1              1          0     0         0     NaN  \n2              0          1     0         0     NaN  \n3              0          1     0         0     NaN  \n4              1          0     0         0     NaN  \n5              0          0     0         0     NaN  "
     },
     "execution_count": 66,
     "metadata": {},
     "output_type": "execute_result"
    }
   ],
   "source": [
    "LineList.head()"
   ]
  },
  {
   "cell_type": "code",
   "execution_count": 67,
   "metadata": {},
   "outputs": [
    {
     "data": {
      "text/plain": "(932, 15)"
     },
     "execution_count": 67,
     "metadata": {},
     "output_type": "execute_result"
    }
   ],
   "source": [
    "LineList.shape"
   ]
  },
  {
   "cell_type": "code",
   "execution_count": 68,
   "metadata": {},
   "outputs": [
    {
     "data": {
      "text/plain": "Unnamed: 1               197\nreporting date             1\ncountry                    0\ngender                   135\nage                      179\nsymptom_onset            424\nIf_onset_approximated    427\nhosp_visit_date          476\nexposure_start           817\nexposure_end             608\nvisiting Wuhan             0\nfrom Wuhan                 4\ndeath                      0\nrecovered                  0\nsympton                  714\ndtype: int64"
     },
     "execution_count": 68,
     "metadata": {},
     "output_type": "execute_result"
    }
   ],
   "source": [
    "LineList.isna().sum()"
   ]
  },
  {
   "cell_type": "code",
   "execution_count": 69,
   "metadata": {},
   "outputs": [
    {
     "name": "stdout",
     "output_type": "stream",
     "text": "<class 'pandas.core.frame.DataFrame'>\nInt64Index: 932 entries, 1 to 932\nData columns (total 15 columns):\nUnnamed: 1               735 non-null object\nreporting date           931 non-null datetime64[ns]\ncountry                  932 non-null object\ngender                   797 non-null object\nage                      753 non-null object\nsymptom_onset            508 non-null datetime64[ns]\nIf_onset_approximated    505 non-null object\nhosp_visit_date          456 non-null datetime64[ns]\nexposure_start           115 non-null datetime64[ns]\nexposure_end             324 non-null datetime64[ns]\nvisiting Wuhan           932 non-null object\nfrom Wuhan               928 non-null object\ndeath                    932 non-null object\nrecovered                932 non-null object\nsympton                  218 non-null object\ndtypes: datetime64[ns](5), object(10)\nmemory usage: 116.5+ KB\n"
    }
   ],
   "source": [
    "LineList.info()\n"
   ]
  },
  {
   "cell_type": "code",
   "execution_count": 70,
   "metadata": {},
   "outputs": [
    {
     "data": {
      "text/html": "<div>\n<style scoped>\n    .dataframe tbody tr th:only-of-type {\n        vertical-align: middle;\n    }\n\n    .dataframe tbody tr th {\n        vertical-align: top;\n    }\n\n    .dataframe thead th {\n        text-align: right;\n    }\n</style>\n<table border=\"1\" class=\"dataframe\">\n  <thead>\n    <tr style=\"text-align: right;\">\n      <th></th>\n      <th>Unnamed: 1</th>\n      <th>reporting date</th>\n      <th>country</th>\n      <th>gender</th>\n      <th>age</th>\n      <th>symptom_onset</th>\n      <th>If_onset_approximated</th>\n      <th>hosp_visit_date</th>\n      <th>exposure_start</th>\n      <th>exposure_end</th>\n      <th>visiting Wuhan</th>\n      <th>from Wuhan</th>\n      <th>death</th>\n      <th>recovered</th>\n      <th>sympton</th>\n    </tr>\n  </thead>\n  <tbody>\n    <tr>\n      <th>1</th>\n      <td>NaN</td>\n      <td>2020-01-20</td>\n      <td>China</td>\n      <td>male</td>\n      <td>66</td>\n      <td>2020-01-03</td>\n      <td>0</td>\n      <td>2020-01-11</td>\n      <td>2019-12-29</td>\n      <td>2020-01-04</td>\n      <td>1</td>\n      <td>0</td>\n      <td>0</td>\n      <td>0</td>\n      <td>NaN</td>\n    </tr>\n    <tr>\n      <th>2</th>\n      <td>NaN</td>\n      <td>2020-01-20</td>\n      <td>China</td>\n      <td>female</td>\n      <td>56</td>\n      <td>2020-01-15</td>\n      <td>0</td>\n      <td>2020-01-15</td>\n      <td>NaT</td>\n      <td>2020-01-12</td>\n      <td>0</td>\n      <td>1</td>\n      <td>0</td>\n      <td>0</td>\n      <td>NaN</td>\n    </tr>\n    <tr>\n      <th>3</th>\n      <td>NaN</td>\n      <td>2020-01-21</td>\n      <td>China</td>\n      <td>male</td>\n      <td>46</td>\n      <td>2020-01-04</td>\n      <td>0</td>\n      <td>2020-01-17</td>\n      <td>NaT</td>\n      <td>2020-01-03</td>\n      <td>0</td>\n      <td>1</td>\n      <td>0</td>\n      <td>0</td>\n      <td>NaN</td>\n    </tr>\n    <tr>\n      <th>4</th>\n      <td>NaN</td>\n      <td>2020-01-21</td>\n      <td>China</td>\n      <td>female</td>\n      <td>60</td>\n      <td>NaT</td>\n      <td>NaN</td>\n      <td>2020-01-19</td>\n      <td>NaT</td>\n      <td>NaT</td>\n      <td>1</td>\n      <td>0</td>\n      <td>0</td>\n      <td>0</td>\n      <td>NaN</td>\n    </tr>\n    <tr>\n      <th>5</th>\n      <td>NaN</td>\n      <td>2020-01-21</td>\n      <td>China</td>\n      <td>male</td>\n      <td>58</td>\n      <td>NaT</td>\n      <td>NaN</td>\n      <td>2020-01-14</td>\n      <td>NaT</td>\n      <td>NaT</td>\n      <td>0</td>\n      <td>0</td>\n      <td>0</td>\n      <td>0</td>\n      <td>NaN</td>\n    </tr>\n  </tbody>\n</table>\n</div>",
      "text/plain": "  Unnamed: 1 reporting date country  gender age symptom_onset  \\\n1        NaN     2020-01-20   China    male  66    2020-01-03   \n2        NaN     2020-01-20   China  female  56    2020-01-15   \n3        NaN     2020-01-21   China    male  46    2020-01-04   \n4        NaN     2020-01-21   China  female  60           NaT   \n5        NaN     2020-01-21   China    male  58           NaT   \n\n  If_onset_approximated hosp_visit_date exposure_start exposure_end  \\\n1                     0      2020-01-11     2019-12-29   2020-01-04   \n2                     0      2020-01-15            NaT   2020-01-12   \n3                     0      2020-01-17            NaT   2020-01-03   \n4                   NaN      2020-01-19            NaT          NaT   \n5                   NaN      2020-01-14            NaT          NaT   \n\n  visiting Wuhan from Wuhan death recovered sympton  \n1              1          0     0         0     NaN  \n2              0          1     0         0     NaN  \n3              0          1     0         0     NaN  \n4              1          0     0         0     NaN  \n5              0          0     0         0     NaN  "
     },
     "execution_count": 70,
     "metadata": {},
     "output_type": "execute_result"
    }
   ],
   "source": [
    "LineList.head(5)"
   ]
  },
  {
   "cell_type": "code",
   "execution_count": 71,
   "metadata": {},
   "outputs": [],
   "source": [
    "LineListComplete= LineList.dropna()\n",
    "symptondf= LineList[LineList['sympton'].notnull()]"
   ]
  },
  {
   "cell_type": "code",
   "execution_count": 72,
   "metadata": {},
   "outputs": [],
   "source": [
    "#DF with no missing days. \n",
    "DaysComplete =LineList[LineList['hosp_visit_date'].notnull() & LineList['exposure_start'].notnull() & LineList['exposure_end'].notnull() ]"
   ]
  },
  {
   "cell_type": "code",
   "execution_count": 73,
   "metadata": {},
   "outputs": [
    {
     "data": {
      "text/html": "<div>\n<style scoped>\n    .dataframe tbody tr th:only-of-type {\n        vertical-align: middle;\n    }\n\n    .dataframe tbody tr th {\n        vertical-align: top;\n    }\n\n    .dataframe thead th {\n        text-align: right;\n    }\n</style>\n<table border=\"1\" class=\"dataframe\">\n  <thead>\n    <tr style=\"text-align: right;\">\n      <th></th>\n      <th>Unnamed: 1</th>\n      <th>reporting date</th>\n      <th>country</th>\n      <th>gender</th>\n      <th>age</th>\n      <th>symptom_onset</th>\n      <th>If_onset_approximated</th>\n      <th>hosp_visit_date</th>\n      <th>exposure_start</th>\n      <th>exposure_end</th>\n      <th>visiting Wuhan</th>\n      <th>from Wuhan</th>\n      <th>death</th>\n      <th>recovered</th>\n      <th>sympton</th>\n    </tr>\n  </thead>\n  <tbody>\n    <tr>\n      <th>1</th>\n      <td>NaN</td>\n      <td>2020-01-20</td>\n      <td>China</td>\n      <td>male</td>\n      <td>66</td>\n      <td>2020-01-03</td>\n      <td>0</td>\n      <td>2020-01-11</td>\n      <td>2019-12-29</td>\n      <td>2020-01-04</td>\n      <td>1</td>\n      <td>0</td>\n      <td>0</td>\n      <td>0</td>\n      <td>NaN</td>\n    </tr>\n    <tr>\n      <th>8</th>\n      <td>NaN</td>\n      <td>2020-01-21</td>\n      <td>China</td>\n      <td>male</td>\n      <td>37</td>\n      <td>2020-01-14</td>\n      <td>0</td>\n      <td>2020-01-20</td>\n      <td>2020-01-10</td>\n      <td>2020-01-11</td>\n      <td>1</td>\n      <td>0</td>\n      <td>0</td>\n      <td>0</td>\n      <td>NaN</td>\n    </tr>\n    <tr>\n      <th>9</th>\n      <td>NaN</td>\n      <td>2020-01-21</td>\n      <td>China</td>\n      <td>male</td>\n      <td>39</td>\n      <td>2020-01-09</td>\n      <td>0</td>\n      <td>2020-01-14</td>\n      <td>2020-01-03</td>\n      <td>2020-01-04</td>\n      <td>1</td>\n      <td>0</td>\n      <td>0</td>\n      <td>0</td>\n      <td>NaN</td>\n    </tr>\n    <tr>\n      <th>10</th>\n      <td>NaN</td>\n      <td>2020-01-21</td>\n      <td>China</td>\n      <td>male</td>\n      <td>56</td>\n      <td>2020-01-16</td>\n      <td>0</td>\n      <td>2020-01-20</td>\n      <td>2020-01-08</td>\n      <td>2020-01-16</td>\n      <td>1</td>\n      <td>0</td>\n      <td>0</td>\n      <td>0</td>\n      <td>NaN</td>\n    </tr>\n    <tr>\n      <th>11</th>\n      <td>NaN</td>\n      <td>2020-01-21</td>\n      <td>China</td>\n      <td>female</td>\n      <td>18</td>\n      <td>2020-01-19</td>\n      <td>0</td>\n      <td>2020-01-20</td>\n      <td>2020-01-12</td>\n      <td>2020-01-17</td>\n      <td>1</td>\n      <td>0</td>\n      <td>0</td>\n      <td>0</td>\n      <td>NaN</td>\n    </tr>\n    <tr>\n      <th>12</th>\n      <td>NaN</td>\n      <td>2020-01-21</td>\n      <td>China</td>\n      <td>female</td>\n      <td>32</td>\n      <td>2020-01-15</td>\n      <td>0</td>\n      <td>2020-01-20</td>\n      <td>2020-01-13</td>\n      <td>2020-01-17</td>\n      <td>1</td>\n      <td>0</td>\n      <td>0</td>\n      <td>0</td>\n      <td>NaN</td>\n    </tr>\n    <tr>\n      <th>23</th>\n      <td>NaN</td>\n      <td>2020-01-22</td>\n      <td>China</td>\n      <td>male</td>\n      <td>NaN</td>\n      <td>2020-01-19</td>\n      <td>0</td>\n      <td>2020-01-20</td>\n      <td>2020-01-12</td>\n      <td>2020-01-15</td>\n      <td>1</td>\n      <td>0</td>\n      <td>0</td>\n      <td>0</td>\n      <td>NaN</td>\n    </tr>\n    <tr>\n      <th>36</th>\n      <td>NaN</td>\n      <td>2020-01-22</td>\n      <td>China</td>\n      <td>male</td>\n      <td>45</td>\n      <td>2020-01-19</td>\n      <td>0</td>\n      <td>2020-01-21</td>\n      <td>2020-01-11</td>\n      <td>2020-01-14</td>\n      <td>1</td>\n      <td>0</td>\n      <td>0</td>\n      <td>0</td>\n      <td>NaN</td>\n    </tr>\n    <tr>\n      <th>72</th>\n      <td>NaN</td>\n      <td>2020-01-22</td>\n      <td>China</td>\n      <td>female</td>\n      <td>50</td>\n      <td>2020-01-14</td>\n      <td>0</td>\n      <td>2020-01-22</td>\n      <td>2020-01-10</td>\n      <td>2020-01-12</td>\n      <td>0</td>\n      <td>0</td>\n      <td>0</td>\n      <td>0</td>\n      <td>NaN</td>\n    </tr>\n    <tr>\n      <th>73</th>\n      <td>NaN</td>\n      <td>2020-01-23</td>\n      <td>China</td>\n      <td>male</td>\n      <td>43</td>\n      <td>2020-01-18</td>\n      <td>0</td>\n      <td>2020-01-21</td>\n      <td>2020-01-11</td>\n      <td>2020-01-17</td>\n      <td>0</td>\n      <td>0</td>\n      <td>0</td>\n      <td>0</td>\n      <td>NaN</td>\n    </tr>\n    <tr>\n      <th>75</th>\n      <td>NaN</td>\n      <td>2020-01-23</td>\n      <td>China</td>\n      <td>male</td>\n      <td>42</td>\n      <td>2020-01-20</td>\n      <td>0</td>\n      <td>2020-01-21</td>\n      <td>2020-01-12</td>\n      <td>2020-01-15</td>\n      <td>1</td>\n      <td>0</td>\n      <td>0</td>\n      <td>0</td>\n      <td>NaN</td>\n    </tr>\n    <tr>\n      <th>76</th>\n      <td>NaN</td>\n      <td>2020-01-23</td>\n      <td>China</td>\n      <td>female</td>\n      <td>32</td>\n      <td>2020-01-16</td>\n      <td>0</td>\n      <td>2020-01-20</td>\n      <td>2020-01-12</td>\n      <td>2020-01-14</td>\n      <td>1</td>\n      <td>0</td>\n      <td>0</td>\n      <td>0</td>\n      <td>NaN</td>\n    </tr>\n    <tr>\n      <th>77</th>\n      <td>NaN</td>\n      <td>2020-01-23</td>\n      <td>China</td>\n      <td>male</td>\n      <td>22</td>\n      <td>2020-01-20</td>\n      <td>0</td>\n      <td>2020-01-21</td>\n      <td>2020-01-15</td>\n      <td>2020-01-17</td>\n      <td>1</td>\n      <td>0</td>\n      <td>0</td>\n      <td>0</td>\n      <td>NaN</td>\n    </tr>\n    <tr>\n      <th>97</th>\n      <td>NaN</td>\n      <td>2020-01-24</td>\n      <td>China</td>\n      <td>female</td>\n      <td>39</td>\n      <td>NaT</td>\n      <td>NaN</td>\n      <td>2020-01-22</td>\n      <td>2019-12-17</td>\n      <td>2020-01-15</td>\n      <td>1</td>\n      <td>0</td>\n      <td>0</td>\n      <td>0</td>\n      <td>NaN</td>\n    </tr>\n    <tr>\n      <th>125</th>\n      <td>NaN</td>\n      <td>2020-01-24</td>\n      <td>China</td>\n      <td>male</td>\n      <td>29</td>\n      <td>2020-01-23</td>\n      <td>0</td>\n      <td>2020-01-24</td>\n      <td>2020-01-19</td>\n      <td>2020-01-22</td>\n      <td>1</td>\n      <td>0</td>\n      <td>0</td>\n      <td>0</td>\n      <td>NaN</td>\n    </tr>\n    <tr>\n      <th>127</th>\n      <td>NaN</td>\n      <td>2020-01-25</td>\n      <td>China</td>\n      <td>male</td>\n      <td>30</td>\n      <td>2020-01-24</td>\n      <td>0</td>\n      <td>2020-01-24</td>\n      <td>2020-01-18</td>\n      <td>2020-01-20</td>\n      <td>1</td>\n      <td>0</td>\n      <td>0</td>\n      <td>0</td>\n      <td>NaN</td>\n    </tr>\n    <tr>\n      <th>132</th>\n      <td>NaN</td>\n      <td>2020-01-25</td>\n      <td>China</td>\n      <td>male</td>\n      <td>41</td>\n      <td>2020-01-14</td>\n      <td>0</td>\n      <td>2020-01-23</td>\n      <td>2020-01-06</td>\n      <td>2020-01-07</td>\n      <td>1</td>\n      <td>0</td>\n      <td>0</td>\n      <td>0</td>\n      <td>NaN</td>\n    </tr>\n    <tr>\n      <th>137</th>\n      <td>NaN</td>\n      <td>2020-01-25</td>\n      <td>China</td>\n      <td>male</td>\n      <td>28</td>\n      <td>2020-01-20</td>\n      <td>0</td>\n      <td>2020-01-23</td>\n      <td>2020-01-09</td>\n      <td>2020-01-22</td>\n      <td>1</td>\n      <td>0</td>\n      <td>0</td>\n      <td>0</td>\n      <td>NaN</td>\n    </tr>\n    <tr>\n      <th>145</th>\n      <td>NaN</td>\n      <td>2020-01-25</td>\n      <td>China</td>\n      <td>male</td>\n      <td>58</td>\n      <td>NaT</td>\n      <td>NaN</td>\n      <td>2020-01-24</td>\n      <td>2020-01-09</td>\n      <td>2020-01-20</td>\n      <td>1</td>\n      <td>0</td>\n      <td>0</td>\n      <td>0</td>\n      <td>NaN</td>\n    </tr>\n    <tr>\n      <th>146</th>\n      <td>NaN</td>\n      <td>2020-01-21</td>\n      <td>China</td>\n      <td>male</td>\n      <td>NaN</td>\n      <td>2020-01-16</td>\n      <td>0</td>\n      <td>2020-01-20</td>\n      <td>2020-01-08</td>\n      <td>2020-01-16</td>\n      <td>1</td>\n      <td>0</td>\n      <td>0</td>\n      <td>0</td>\n      <td>NaN</td>\n    </tr>\n    <tr>\n      <th>147</th>\n      <td>NaN</td>\n      <td>2020-01-21</td>\n      <td>China</td>\n      <td>male</td>\n      <td>NaN</td>\n      <td>2020-01-14</td>\n      <td>0</td>\n      <td>2020-01-20</td>\n      <td>2020-01-10</td>\n      <td>2020-01-11</td>\n      <td>1</td>\n      <td>0</td>\n      <td>0</td>\n      <td>0</td>\n      <td>NaN</td>\n    </tr>\n    <tr>\n      <th>148</th>\n      <td>NaN</td>\n      <td>2020-01-25</td>\n      <td>China</td>\n      <td>male</td>\n      <td>NaN</td>\n      <td>2020-01-18</td>\n      <td>0</td>\n      <td>2020-01-20</td>\n      <td>2020-01-14</td>\n      <td>2020-01-14</td>\n      <td>0</td>\n      <td>0</td>\n      <td>0</td>\n      <td>0</td>\n      <td>NaN</td>\n    </tr>\n    <tr>\n      <th>150</th>\n      <td>NaN</td>\n      <td>2020-01-25</td>\n      <td>China</td>\n      <td>male</td>\n      <td>33</td>\n      <td>2020-01-22</td>\n      <td>0</td>\n      <td>2020-01-24</td>\n      <td>2020-01-11</td>\n      <td>2020-01-22</td>\n      <td>1</td>\n      <td>0</td>\n      <td>0</td>\n      <td>0</td>\n      <td>NaN</td>\n    </tr>\n    <tr>\n      <th>159</th>\n      <td>NaN</td>\n      <td>2020-01-25</td>\n      <td>China</td>\n      <td>male</td>\n      <td>44</td>\n      <td>2020-01-18</td>\n      <td>0</td>\n      <td>2020-01-24</td>\n      <td>2020-01-20</td>\n      <td>2020-01-21</td>\n      <td>1</td>\n      <td>0</td>\n      <td>0</td>\n      <td>0</td>\n      <td>NaN</td>\n    </tr>\n    <tr>\n      <th>162</th>\n      <td>NaN</td>\n      <td>2020-01-25</td>\n      <td>China</td>\n      <td>female</td>\n      <td>32</td>\n      <td>2020-01-17</td>\n      <td>0</td>\n      <td>2020-01-22</td>\n      <td>2020-01-12</td>\n      <td>2020-01-14</td>\n      <td>0</td>\n      <td>0</td>\n      <td>0</td>\n      <td>0</td>\n      <td>NaN</td>\n    </tr>\n    <tr>\n      <th>178</th>\n      <td>NaN</td>\n      <td>2020-01-26</td>\n      <td>China</td>\n      <td>male</td>\n      <td>NaN</td>\n      <td>2020-01-25</td>\n      <td>0</td>\n      <td>2020-01-25</td>\n      <td>2020-01-19</td>\n      <td>2020-01-19</td>\n      <td>1</td>\n      <td>0</td>\n      <td>0</td>\n      <td>0</td>\n      <td>NaN</td>\n    </tr>\n    <tr>\n      <th>182</th>\n      <td>NaN</td>\n      <td>2020-01-26</td>\n      <td>China</td>\n      <td>male</td>\n      <td>38</td>\n      <td>NaT</td>\n      <td>NaN</td>\n      <td>2020-01-23</td>\n      <td>2020-01-03</td>\n      <td>2020-01-05</td>\n      <td>1</td>\n      <td>0</td>\n      <td>0</td>\n      <td>0</td>\n      <td>NaN</td>\n    </tr>\n    <tr>\n      <th>185</th>\n      <td>NaN</td>\n      <td>2020-01-27</td>\n      <td>China</td>\n      <td>male</td>\n      <td>50</td>\n      <td>2020-01-18</td>\n      <td>0</td>\n      <td>2020-01-22</td>\n      <td>2020-01-13</td>\n      <td>2020-01-17</td>\n      <td>1</td>\n      <td>0</td>\n      <td>0</td>\n      <td>0</td>\n      <td>NaN</td>\n    </tr>\n    <tr>\n      <th>186</th>\n      <td>NaN</td>\n      <td>2020-01-27</td>\n      <td>China</td>\n      <td>female</td>\n      <td>40</td>\n      <td>2020-01-18</td>\n      <td>0</td>\n      <td>2020-01-22</td>\n      <td>2020-01-13</td>\n      <td>2020-01-17</td>\n      <td>1</td>\n      <td>0</td>\n      <td>0</td>\n      <td>0</td>\n      <td>NaN</td>\n    </tr>\n    <tr>\n      <th>189</th>\n      <td>NaN</td>\n      <td>2020-01-27</td>\n      <td>China</td>\n      <td>female</td>\n      <td>42</td>\n      <td>2020-01-23</td>\n      <td>0</td>\n      <td>2020-01-24</td>\n      <td>2020-01-19</td>\n      <td>2020-01-19</td>\n      <td>1</td>\n      <td>0</td>\n      <td>0</td>\n      <td>0</td>\n      <td>NaN</td>\n    </tr>\n    <tr>\n      <th>220</th>\n      <td>6</td>\n      <td>2020-01-28</td>\n      <td>Japan</td>\n      <td>male</td>\n      <td>65</td>\n      <td>2020-01-14</td>\n      <td>0</td>\n      <td>2020-01-17</td>\n      <td>2020-01-08</td>\n      <td>2020-01-16</td>\n      <td>0</td>\n      <td>0</td>\n      <td>0</td>\n      <td>0</td>\n      <td>cough, chills, joint pain</td>\n    </tr>\n    <tr>\n      <th>222</th>\n      <td>8</td>\n      <td>2020-01-29</td>\n      <td>Japan</td>\n      <td>female</td>\n      <td>45</td>\n      <td>2020-01-20</td>\n      <td>0</td>\n      <td>2020-01-20</td>\n      <td>2020-01-12</td>\n      <td>2020-01-17</td>\n      <td>0</td>\n      <td>0</td>\n      <td>0</td>\n      <td>0</td>\n      <td>fever, cough</td>\n    </tr>\n    <tr>\n      <th>224</th>\n      <td>10</td>\n      <td>2020-01-30</td>\n      <td>Japan</td>\n      <td>male</td>\n      <td>55</td>\n      <td>2020-01-25</td>\n      <td>0</td>\n      <td>2020-01-27</td>\n      <td>2019-12-24</td>\n      <td>2020-01-13</td>\n      <td>1</td>\n      <td>0</td>\n      <td>0</td>\n      <td>0</td>\n      <td>fever</td>\n    </tr>\n    <tr>\n      <th>225</th>\n      <td>11</td>\n      <td>2020-01-30</td>\n      <td>Japan</td>\n      <td>female</td>\n      <td>35</td>\n      <td>2020-01-24</td>\n      <td>0</td>\n      <td>2020-01-24</td>\n      <td>2020-01-19</td>\n      <td>2020-01-20</td>\n      <td>1</td>\n      <td>0</td>\n      <td>0</td>\n      <td>0</td>\n      <td>fever, cough</td>\n    </tr>\n    <tr>\n      <th>226</th>\n      <td>12</td>\n      <td>2020-01-30</td>\n      <td>Japan</td>\n      <td>female</td>\n      <td>25</td>\n      <td>2020-01-23</td>\n      <td>0</td>\n      <td>2020-01-28</td>\n      <td>2020-01-17</td>\n      <td>2020-01-18</td>\n      <td>1</td>\n      <td>0</td>\n      <td>0</td>\n      <td>0</td>\n      <td>fever</td>\n    </tr>\n    <tr>\n      <th>227</th>\n      <td>13</td>\n      <td>2020-01-31</td>\n      <td>Japan</td>\n      <td>female</td>\n      <td>25</td>\n      <td>2020-01-20</td>\n      <td>0</td>\n      <td>2020-01-29</td>\n      <td>2020-01-17</td>\n      <td>2020-01-22</td>\n      <td>1</td>\n      <td>0</td>\n      <td>0</td>\n      <td>0</td>\n      <td>NaN</td>\n    </tr>\n    <tr>\n      <th>232</th>\n      <td>18</td>\n      <td>2020-02-04</td>\n      <td>Japan</td>\n      <td>female</td>\n      <td>55</td>\n      <td>2020-01-31</td>\n      <td>0</td>\n      <td>2020-01-31</td>\n      <td>2020-01-19</td>\n      <td>2020-01-19</td>\n      <td>1</td>\n      <td>0</td>\n      <td>0</td>\n      <td>0</td>\n      <td>fever, cough</td>\n    </tr>\n    <tr>\n      <th>371</th>\n      <td>9</td>\n      <td>2020-02-04</td>\n      <td>Malaysia</td>\n      <td>male</td>\n      <td>41</td>\n      <td>NaT</td>\n      <td>NaN</td>\n      <td>2020-01-29</td>\n      <td>2020-01-16</td>\n      <td>2020-01-23</td>\n      <td>0</td>\n      <td>0</td>\n      <td>0</td>\n      <td>2/17/2020</td>\n      <td>NaN</td>\n    </tr>\n    <tr>\n      <th>404</th>\n      <td>19</td>\n      <td>2020-02-04</td>\n      <td>Singapore</td>\n      <td>female</td>\n      <td>28</td>\n      <td>2020-01-29</td>\n      <td>0</td>\n      <td>2020-02-03</td>\n      <td>2020-01-23</td>\n      <td>2020-01-23</td>\n      <td>0</td>\n      <td>0</td>\n      <td>0</td>\n      <td>2/22/2020</td>\n      <td>fever, sore throat</td>\n    </tr>\n    <tr>\n      <th>405</th>\n      <td>20</td>\n      <td>2020-02-04</td>\n      <td>Singapore</td>\n      <td>female</td>\n      <td>48</td>\n      <td>2020-01-25</td>\n      <td>0</td>\n      <td>2020-02-03</td>\n      <td>2020-01-23</td>\n      <td>2020-01-23</td>\n      <td>0</td>\n      <td>0</td>\n      <td>0</td>\n      <td>0</td>\n      <td>NaN</td>\n    </tr>\n    <tr>\n      <th>413</th>\n      <td>28</td>\n      <td>2020-02-05</td>\n      <td>Singapore</td>\n      <td>male</td>\n      <td>45</td>\n      <td>2020-02-01</td>\n      <td>0</td>\n      <td>2020-02-02</td>\n      <td>2020-01-23</td>\n      <td>2020-02-03</td>\n      <td>0</td>\n      <td>0</td>\n      <td>0</td>\n      <td>2/22/2020</td>\n      <td>NaN</td>\n    </tr>\n    <tr>\n      <th>415</th>\n      <td>30</td>\n      <td>2020-02-06</td>\n      <td>Singapore</td>\n      <td>male</td>\n      <td>27</td>\n      <td>2020-01-21</td>\n      <td>0</td>\n      <td>2020-01-28</td>\n      <td>2020-01-20</td>\n      <td>2020-01-22</td>\n      <td>0</td>\n      <td>0</td>\n      <td>0</td>\n      <td>2/14/2020</td>\n      <td>NaN</td>\n    </tr>\n    <tr>\n      <th>421</th>\n      <td>36</td>\n      <td>2020-02-08</td>\n      <td>Singapore</td>\n      <td>female</td>\n      <td>38</td>\n      <td>2020-01-24</td>\n      <td>0</td>\n      <td>2020-02-01</td>\n      <td>2020-01-20</td>\n      <td>2020-01-22</td>\n      <td>0</td>\n      <td>0</td>\n      <td>0</td>\n      <td>2/11/2020</td>\n      <td>NaN</td>\n    </tr>\n    <tr>\n      <th>424</th>\n      <td>39</td>\n      <td>2020-02-08</td>\n      <td>Singapore</td>\n      <td>male</td>\n      <td>51</td>\n      <td>2020-01-29</td>\n      <td>0</td>\n      <td>2020-02-03</td>\n      <td>2020-01-20</td>\n      <td>2020-01-22</td>\n      <td>0</td>\n      <td>0</td>\n      <td>0</td>\n      <td>2/16/2020</td>\n      <td>NaN</td>\n    </tr>\n    <tr>\n      <th>495</th>\n      <td>17</td>\n      <td>2020-02-05</td>\n      <td>South Korea</td>\n      <td>male</td>\n      <td>37</td>\n      <td>2020-01-26</td>\n      <td>0</td>\n      <td>2020-02-04</td>\n      <td>2020-01-18</td>\n      <td>2020-01-23</td>\n      <td>0</td>\n      <td>0</td>\n      <td>0</td>\n      <td>0</td>\n      <td>NaN</td>\n    </tr>\n    <tr>\n      <th>595</th>\n      <td>4</td>\n      <td>2020-01-27</td>\n      <td>Taiwan</td>\n      <td>female</td>\n      <td>50</td>\n      <td>2020-01-22</td>\n      <td>0</td>\n      <td>2020-01-25</td>\n      <td>2020-01-13</td>\n      <td>2020-01-15</td>\n      <td>1</td>\n      <td>0</td>\n      <td>0</td>\n      <td>0</td>\n      <td>cough</td>\n    </tr>\n    <tr>\n      <th>623</th>\n      <td>32</td>\n      <td>2020-02-26</td>\n      <td>Taiwan</td>\n      <td>female</td>\n      <td>35</td>\n      <td>NaT</td>\n      <td>NaN</td>\n      <td>2020-02-24</td>\n      <td>2020-02-11</td>\n      <td>2020-02-16</td>\n      <td>0</td>\n      <td>0</td>\n      <td>0</td>\n      <td>0</td>\n      <td>throat discomfort</td>\n    </tr>\n    <tr>\n      <th>756</th>\n      <td>2</td>\n      <td>2020-01-22</td>\n      <td>Hong Kong</td>\n      <td>male</td>\n      <td>56</td>\n      <td>2020-01-18</td>\n      <td>0</td>\n      <td>2020-01-19</td>\n      <td>2020-01-10</td>\n      <td>2020-01-19</td>\n      <td>1</td>\n      <td>0</td>\n      <td>0</td>\n      <td>0</td>\n      <td>NaN</td>\n    </tr>\n    <tr>\n      <th>765</th>\n      <td>11</td>\n      <td>2020-01-30</td>\n      <td>Hong Kong</td>\n      <td>female</td>\n      <td>37</td>\n      <td>2020-01-28</td>\n      <td>0</td>\n      <td>2020-01-30</td>\n      <td>2020-01-22</td>\n      <td>2020-01-28</td>\n      <td>0</td>\n      <td>0</td>\n      <td>0</td>\n      <td>0</td>\n      <td>cough</td>\n    </tr>\n    <tr>\n      <th>767</th>\n      <td>13</td>\n      <td>2020-01-31</td>\n      <td>Hong Kong</td>\n      <td>male</td>\n      <td>39</td>\n      <td>2020-01-31</td>\n      <td>0</td>\n      <td>2020-01-31</td>\n      <td>2020-01-21</td>\n      <td>2020-01-23</td>\n      <td>1</td>\n      <td>0</td>\n      <td>1</td>\n      <td>0</td>\n      <td>myalgia, fever</td>\n    </tr>\n    <tr>\n      <th>768</th>\n      <td>14</td>\n      <td>2020-02-02</td>\n      <td>Hong Kong</td>\n      <td>male</td>\n      <td>80</td>\n      <td>2020-01-19</td>\n      <td>0</td>\n      <td>2020-01-30</td>\n      <td>2020-01-10</td>\n      <td>2020-01-10</td>\n      <td>0</td>\n      <td>0</td>\n      <td>0</td>\n      <td>0</td>\n      <td>fever</td>\n    </tr>\n    <tr>\n      <th>769</th>\n      <td>15</td>\n      <td>2020-02-02</td>\n      <td>Hong Kong</td>\n      <td>female</td>\n      <td>72</td>\n      <td>2020-02-01</td>\n      <td>0</td>\n      <td>2020-02-01</td>\n      <td>2020-01-23</td>\n      <td>2020-01-31</td>\n      <td>0</td>\n      <td>0</td>\n      <td>0</td>\n      <td>0</td>\n      <td>fever, cough</td>\n    </tr>\n    <tr>\n      <th>780</th>\n      <td>26</td>\n      <td>2020-02-07</td>\n      <td>Hong Kong</td>\n      <td>male</td>\n      <td>42</td>\n      <td>2020-02-03</td>\n      <td>0</td>\n      <td>2020-02-03</td>\n      <td>2020-01-22</td>\n      <td>2020-02-02</td>\n      <td>0</td>\n      <td>0</td>\n      <td>0</td>\n      <td>0</td>\n      <td>fever, cough</td>\n    </tr>\n    <tr>\n      <th>791</th>\n      <td>37</td>\n      <td>2020-02-10</td>\n      <td>Hong Kong</td>\n      <td>female</td>\n      <td>55</td>\n      <td>2020-01-30</td>\n      <td>0</td>\n      <td>2020-01-30</td>\n      <td>2020-01-26</td>\n      <td>2020-01-26</td>\n      <td>0</td>\n      <td>0</td>\n      <td>0</td>\n      <td>0</td>\n      <td>NaN</td>\n    </tr>\n    <tr>\n      <th>792</th>\n      <td>38</td>\n      <td>2020-02-10</td>\n      <td>Hong Kong</td>\n      <td>male</td>\n      <td>52</td>\n      <td>2020-02-08</td>\n      <td>0</td>\n      <td>2020-02-09</td>\n      <td>2020-01-26</td>\n      <td>2020-01-26</td>\n      <td>0</td>\n      <td>0</td>\n      <td>0</td>\n      <td>0</td>\n      <td>NaN</td>\n    </tr>\n    <tr>\n      <th>805</th>\n      <td>51</td>\n      <td>2020-02-13</td>\n      <td>Hong Kong</td>\n      <td>male</td>\n      <td>43</td>\n      <td>2020-01-29</td>\n      <td>0</td>\n      <td>2020-01-31</td>\n      <td>2020-01-30</td>\n      <td>2020-01-30</td>\n      <td>0</td>\n      <td>0</td>\n      <td>0</td>\n      <td>0</td>\n      <td>cough, diarrhea, vomiting</td>\n    </tr>\n    <tr>\n      <th>806</th>\n      <td>52</td>\n      <td>2020-02-13</td>\n      <td>Hong Kong</td>\n      <td>female</td>\n      <td>67</td>\n      <td>2020-01-31</td>\n      <td>0</td>\n      <td>2020-01-31</td>\n      <td>2020-01-26</td>\n      <td>2020-01-26</td>\n      <td>0</td>\n      <td>0</td>\n      <td>0</td>\n      <td>0</td>\n      <td>cough, fever, chills</td>\n    </tr>\n    <tr>\n      <th>807</th>\n      <td>53</td>\n      <td>2020-02-13</td>\n      <td>Hong Kong</td>\n      <td>male</td>\n      <td>37</td>\n      <td>2020-02-08</td>\n      <td>0</td>\n      <td>2020-02-09</td>\n      <td>2020-01-26</td>\n      <td>2020-01-26</td>\n      <td>0</td>\n      <td>0</td>\n      <td>0</td>\n      <td>0</td>\n      <td>fever</td>\n    </tr>\n    <tr>\n      <th>826</th>\n      <td>71</td>\n      <td>2020-02-23</td>\n      <td>Hong Kong</td>\n      <td>male</td>\n      <td>68</td>\n      <td>2020-02-20</td>\n      <td>0</td>\n      <td>2020-02-22</td>\n      <td>2020-01-25</td>\n      <td>2020-02-20</td>\n      <td>0</td>\n      <td>0</td>\n      <td>0</td>\n      <td>0</td>\n      <td>NaN</td>\n    </tr>\n    <tr>\n      <th>870</th>\n      <td>5</td>\n      <td>2020-02-25</td>\n      <td>Spain</td>\n      <td>female</td>\n      <td>36</td>\n      <td>NaT</td>\n      <td>NaN</td>\n      <td>2020-02-24</td>\n      <td>2020-02-12</td>\n      <td>2020-02-22</td>\n      <td>0</td>\n      <td>0</td>\n      <td>0</td>\n      <td>0</td>\n      <td>NaN</td>\n    </tr>\n  </tbody>\n</table>\n</div>",
      "text/plain": "    Unnamed: 1 reporting date      country  gender  age symptom_onset  \\\n1          NaN     2020-01-20        China    male   66    2020-01-03   \n8          NaN     2020-01-21        China    male   37    2020-01-14   \n9          NaN     2020-01-21        China    male   39    2020-01-09   \n10         NaN     2020-01-21        China    male   56    2020-01-16   \n11         NaN     2020-01-21        China  female   18    2020-01-19   \n12         NaN     2020-01-21        China  female   32    2020-01-15   \n23         NaN     2020-01-22        China    male  NaN    2020-01-19   \n36         NaN     2020-01-22        China    male   45    2020-01-19   \n72         NaN     2020-01-22        China  female   50    2020-01-14   \n73         NaN     2020-01-23        China    male   43    2020-01-18   \n75         NaN     2020-01-23        China    male   42    2020-01-20   \n76         NaN     2020-01-23        China  female   32    2020-01-16   \n77         NaN     2020-01-23        China    male   22    2020-01-20   \n97         NaN     2020-01-24        China  female   39           NaT   \n125        NaN     2020-01-24        China    male   29    2020-01-23   \n127        NaN     2020-01-25        China    male   30    2020-01-24   \n132        NaN     2020-01-25        China    male   41    2020-01-14   \n137        NaN     2020-01-25        China    male   28    2020-01-20   \n145        NaN     2020-01-25        China    male   58           NaT   \n146        NaN     2020-01-21        China    male  NaN    2020-01-16   \n147        NaN     2020-01-21        China    male  NaN    2020-01-14   \n148        NaN     2020-01-25        China    male  NaN    2020-01-18   \n150        NaN     2020-01-25        China    male   33    2020-01-22   \n159        NaN     2020-01-25        China    male   44    2020-01-18   \n162        NaN     2020-01-25        China  female   32    2020-01-17   \n178        NaN     2020-01-26        China    male  NaN    2020-01-25   \n182        NaN     2020-01-26        China    male   38           NaT   \n185        NaN     2020-01-27        China    male   50    2020-01-18   \n186        NaN     2020-01-27        China  female   40    2020-01-18   \n189        NaN     2020-01-27        China  female   42    2020-01-23   \n220          6     2020-01-28        Japan    male   65    2020-01-14   \n222          8     2020-01-29        Japan  female   45    2020-01-20   \n224         10     2020-01-30        Japan    male   55    2020-01-25   \n225         11     2020-01-30        Japan  female   35    2020-01-24   \n226         12     2020-01-30        Japan  female   25    2020-01-23   \n227         13     2020-01-31        Japan  female   25    2020-01-20   \n232         18     2020-02-04        Japan  female   55    2020-01-31   \n371          9     2020-02-04     Malaysia    male   41           NaT   \n404         19     2020-02-04    Singapore  female   28    2020-01-29   \n405         20     2020-02-04    Singapore  female   48    2020-01-25   \n413         28     2020-02-05    Singapore    male   45    2020-02-01   \n415         30     2020-02-06    Singapore    male   27    2020-01-21   \n421         36     2020-02-08    Singapore  female   38    2020-01-24   \n424         39     2020-02-08    Singapore    male   51    2020-01-29   \n495         17     2020-02-05  South Korea    male   37    2020-01-26   \n595          4     2020-01-27       Taiwan  female   50    2020-01-22   \n623         32     2020-02-26       Taiwan  female   35           NaT   \n756          2     2020-01-22    Hong Kong    male   56    2020-01-18   \n765         11     2020-01-30    Hong Kong  female   37    2020-01-28   \n767         13     2020-01-31    Hong Kong    male   39    2020-01-31   \n768         14     2020-02-02    Hong Kong    male   80    2020-01-19   \n769         15     2020-02-02    Hong Kong  female   72    2020-02-01   \n780         26     2020-02-07    Hong Kong    male   42    2020-02-03   \n791         37     2020-02-10    Hong Kong  female   55    2020-01-30   \n792         38     2020-02-10    Hong Kong    male   52    2020-02-08   \n805         51     2020-02-13    Hong Kong    male   43    2020-01-29   \n806         52     2020-02-13    Hong Kong  female   67    2020-01-31   \n807         53     2020-02-13    Hong Kong    male   37    2020-02-08   \n826         71     2020-02-23    Hong Kong    male   68    2020-02-20   \n870          5     2020-02-25        Spain  female   36           NaT   \n\n    If_onset_approximated hosp_visit_date exposure_start exposure_end  \\\n1                       0      2020-01-11     2019-12-29   2020-01-04   \n8                       0      2020-01-20     2020-01-10   2020-01-11   \n9                       0      2020-01-14     2020-01-03   2020-01-04   \n10                      0      2020-01-20     2020-01-08   2020-01-16   \n11                      0      2020-01-20     2020-01-12   2020-01-17   \n12                      0      2020-01-20     2020-01-13   2020-01-17   \n23                      0      2020-01-20     2020-01-12   2020-01-15   \n36                      0      2020-01-21     2020-01-11   2020-01-14   \n72                      0      2020-01-22     2020-01-10   2020-01-12   \n73                      0      2020-01-21     2020-01-11   2020-01-17   \n75                      0      2020-01-21     2020-01-12   2020-01-15   \n76                      0      2020-01-20     2020-01-12   2020-01-14   \n77                      0      2020-01-21     2020-01-15   2020-01-17   \n97                    NaN      2020-01-22     2019-12-17   2020-01-15   \n125                     0      2020-01-24     2020-01-19   2020-01-22   \n127                     0      2020-01-24     2020-01-18   2020-01-20   \n132                     0      2020-01-23     2020-01-06   2020-01-07   \n137                     0      2020-01-23     2020-01-09   2020-01-22   \n145                   NaN      2020-01-24     2020-01-09   2020-01-20   \n146                     0      2020-01-20     2020-01-08   2020-01-16   \n147                     0      2020-01-20     2020-01-10   2020-01-11   \n148                     0      2020-01-20     2020-01-14   2020-01-14   \n150                     0      2020-01-24     2020-01-11   2020-01-22   \n159                     0      2020-01-24     2020-01-20   2020-01-21   \n162                     0      2020-01-22     2020-01-12   2020-01-14   \n178                     0      2020-01-25     2020-01-19   2020-01-19   \n182                   NaN      2020-01-23     2020-01-03   2020-01-05   \n185                     0      2020-01-22     2020-01-13   2020-01-17   \n186                     0      2020-01-22     2020-01-13   2020-01-17   \n189                     0      2020-01-24     2020-01-19   2020-01-19   \n220                     0      2020-01-17     2020-01-08   2020-01-16   \n222                     0      2020-01-20     2020-01-12   2020-01-17   \n224                     0      2020-01-27     2019-12-24   2020-01-13   \n225                     0      2020-01-24     2020-01-19   2020-01-20   \n226                     0      2020-01-28     2020-01-17   2020-01-18   \n227                     0      2020-01-29     2020-01-17   2020-01-22   \n232                     0      2020-01-31     2020-01-19   2020-01-19   \n371                   NaN      2020-01-29     2020-01-16   2020-01-23   \n404                     0      2020-02-03     2020-01-23   2020-01-23   \n405                     0      2020-02-03     2020-01-23   2020-01-23   \n413                     0      2020-02-02     2020-01-23   2020-02-03   \n415                     0      2020-01-28     2020-01-20   2020-01-22   \n421                     0      2020-02-01     2020-01-20   2020-01-22   \n424                     0      2020-02-03     2020-01-20   2020-01-22   \n495                     0      2020-02-04     2020-01-18   2020-01-23   \n595                     0      2020-01-25     2020-01-13   2020-01-15   \n623                   NaN      2020-02-24     2020-02-11   2020-02-16   \n756                     0      2020-01-19     2020-01-10   2020-01-19   \n765                     0      2020-01-30     2020-01-22   2020-01-28   \n767                     0      2020-01-31     2020-01-21   2020-01-23   \n768                     0      2020-01-30     2020-01-10   2020-01-10   \n769                     0      2020-02-01     2020-01-23   2020-01-31   \n780                     0      2020-02-03     2020-01-22   2020-02-02   \n791                     0      2020-01-30     2020-01-26   2020-01-26   \n792                     0      2020-02-09     2020-01-26   2020-01-26   \n805                     0      2020-01-31     2020-01-30   2020-01-30   \n806                     0      2020-01-31     2020-01-26   2020-01-26   \n807                     0      2020-02-09     2020-01-26   2020-01-26   \n826                     0      2020-02-22     2020-01-25   2020-02-20   \n870                   NaN      2020-02-24     2020-02-12   2020-02-22   \n\n    visiting Wuhan from Wuhan death  recovered                    sympton  \n1                1          0     0          0                        NaN  \n8                1          0     0          0                        NaN  \n9                1          0     0          0                        NaN  \n10               1          0     0          0                        NaN  \n11               1          0     0          0                        NaN  \n12               1          0     0          0                        NaN  \n23               1          0     0          0                        NaN  \n36               1          0     0          0                        NaN  \n72               0          0     0          0                        NaN  \n73               0          0     0          0                        NaN  \n75               1          0     0          0                        NaN  \n76               1          0     0          0                        NaN  \n77               1          0     0          0                        NaN  \n97               1          0     0          0                        NaN  \n125              1          0     0          0                        NaN  \n127              1          0     0          0                        NaN  \n132              1          0     0          0                        NaN  \n137              1          0     0          0                        NaN  \n145              1          0     0          0                        NaN  \n146              1          0     0          0                        NaN  \n147              1          0     0          0                        NaN  \n148              0          0     0          0                        NaN  \n150              1          0     0          0                        NaN  \n159              1          0     0          0                        NaN  \n162              0          0     0          0                        NaN  \n178              1          0     0          0                        NaN  \n182              1          0     0          0                        NaN  \n185              1          0     0          0                        NaN  \n186              1          0     0          0                        NaN  \n189              1          0     0          0                        NaN  \n220              0          0     0          0  cough, chills, joint pain  \n222              0          0     0          0               fever, cough  \n224              1          0     0          0                      fever  \n225              1          0     0          0               fever, cough  \n226              1          0     0          0                      fever  \n227              1          0     0          0                        NaN  \n232              1          0     0          0               fever, cough  \n371              0          0     0  2/17/2020                        NaN  \n404              0          0     0  2/22/2020         fever, sore throat  \n405              0          0     0          0                        NaN  \n413              0          0     0  2/22/2020                        NaN  \n415              0          0     0  2/14/2020                        NaN  \n421              0          0     0  2/11/2020                        NaN  \n424              0          0     0  2/16/2020                        NaN  \n495              0          0     0          0                        NaN  \n595              1          0     0          0                      cough  \n623              0          0     0          0          throat discomfort  \n756              1          0     0          0                        NaN  \n765              0          0     0          0                      cough  \n767              1          0     1          0             myalgia, fever  \n768              0          0     0          0                      fever  \n769              0          0     0          0               fever, cough  \n780              0          0     0          0               fever, cough  \n791              0          0     0          0                        NaN  \n792              0          0     0          0                        NaN  \n805              0          0     0          0  cough, diarrhea, vomiting  \n806              0          0     0          0       cough, fever, chills  \n807              0          0     0          0                      fever  \n826              0          0     0          0                        NaN  \n870              0          0     0          0                        NaN  "
     },
     "execution_count": 73,
     "metadata": {},
     "output_type": "execute_result"
    }
   ],
   "source": [
    "DaysComplete"
   ]
  },
  {
   "cell_type": "code",
   "execution_count": null,
   "metadata": {},
   "outputs": [],
   "source": [
    "#Data Frame to use\n",
    "symptondf"
   ]
  },
  {
   "cell_type": "code",
   "execution_count": null,
   "metadata": {},
   "outputs": [],
   "source": [
    "symptondf.shape"
   ]
  },
  {
   "cell_type": "code",
   "execution_count": null,
   "metadata": {},
   "outputs": [],
   "source": [
    "symptondf.isna().sum()"
   ]
  },
  {
   "cell_type": "code",
   "execution_count": null,
   "metadata": {},
   "outputs": [],
   "source": [
    "LineListComplete\n"
   ]
  },
  {
   "cell_type": "code",
   "execution_count": null,
   "metadata": {},
   "outputs": [],
   "source": [
    "LineListComplete.shape"
   ]
  },
  {
   "cell_type": "code",
   "execution_count": null,
   "metadata": {},
   "outputs": [],
   "source": [
    "# Getting days values from dates\n",
    "# Using DF with no missing values and DF with no missing dates, for comparison. \n",
    "statistics.median(LineListComplete['hosp_visit_date'] - LineListComplete['exposure_start']).days\n"
   ]
  },
  {
   "cell_type": "code",
   "execution_count": null,
   "metadata": {},
   "outputs": [],
   "source": [
    "statistics.median(DaysComplete['hosp_visit_date'] - DaysComplete['exposure_start']).days"
   ]
  },
  {
   "cell_type": "code",
   "execution_count": null,
   "metadata": {},
   "outputs": [],
   "source": [
    "statistics.median(LineListComplete['reporting date'] - LineListComplete['hosp_visit_date']).days\n"
   ]
  },
  {
   "cell_type": "code",
   "execution_count": null,
   "metadata": {},
   "outputs": [],
   "source": [
    "statistics.median(DaysComplete['reporting date'] -DaysComplete['hosp_visit_date']).days\n"
   ]
  },
  {
   "cell_type": "code",
   "execution_count": null,
   "metadata": {},
   "outputs": [],
   "source": [
    "statistics.median(LineListComplete['reporting date'] - LineListComplete['exposure_end']).days\n",
    "\n",
    "\n"
   ]
  },
  {
   "cell_type": "code",
   "execution_count": null,
   "metadata": {},
   "outputs": [],
   "source": [
    "statistics.median(DaysComplete['reporting date'] - DaysComplete['exposure_end']).days"
   ]
  },
  {
   "cell_type": "code",
   "execution_count": null,
   "metadata": {},
   "outputs": [],
   "source": [
    "statistics.median(LineListComplete['exposure_end']- LineListComplete['exposure_start']).days\n"
   ]
  },
  {
   "cell_type": "code",
   "execution_count": null,
   "metadata": {},
   "outputs": [],
   "source": [
    "statistics.median(DaysComplete['exposure_end']- DaysComplete['exposure_start']).days"
   ]
  },
  {
   "cell_type": "code",
   "execution_count": 33,
   "metadata": {},
   "outputs": [
    {
     "data": {
      "text/html": "<div>\n<style scoped>\n    .dataframe tbody tr th:only-of-type {\n        vertical-align: middle;\n    }\n\n    .dataframe tbody tr th {\n        vertical-align: top;\n    }\n\n    .dataframe thead th {\n        text-align: right;\n    }\n</style>\n<table border=\"1\" class=\"dataframe\">\n  <thead>\n    <tr style=\"text-align: right;\">\n      <th></th>\n      <th>Pro</th>\n      <th>province</th>\n      <th>new</th>\n      <th>cumu</th>\n    </tr>\n  </thead>\n  <tbody>\n    <tr>\n      <th>0</th>\n      <td>1/10/2020</td>\n      <td>Hubei</td>\n      <td>41.0</td>\n      <td>41.0</td>\n    </tr>\n    <tr>\n      <th>1</th>\n      <td>1/16/2020</td>\n      <td>Hubei</td>\n      <td>4.0</td>\n      <td>45.0</td>\n    </tr>\n    <tr>\n      <th>2</th>\n      <td>1/17/2020</td>\n      <td>Hubei</td>\n      <td>17.0</td>\n      <td>62.0</td>\n    </tr>\n    <tr>\n      <th>3</th>\n      <td>1/17/2020</td>\n      <td>Zhejiang</td>\n      <td>5.0</td>\n      <td>5.0</td>\n    </tr>\n    <tr>\n      <th>4</th>\n      <td>1/18/2020</td>\n      <td>Hubei</td>\n      <td>59.0</td>\n      <td>NaN</td>\n    </tr>\n  </tbody>\n</table>\n</div>",
      "text/plain": "         Pro  province   new  cumu\n0  1/10/2020     Hubei  41.0  41.0\n1  1/16/2020     Hubei   4.0  45.0\n2  1/17/2020     Hubei  17.0  62.0\n3  1/17/2020  Zhejiang   5.0   5.0\n4  1/18/2020     Hubei  59.0   NaN"
     },
     "execution_count": 33,
     "metadata": {},
     "output_type": "execute_result"
    }
   ],
   "source": [
    "ProvinceIncidence.head(5)"
   ]
  },
  {
   "cell_type": "code",
   "execution_count": 34,
   "metadata": {},
   "outputs": [
    {
     "data": {
      "text/html": "<div>\n<style scoped>\n    .dataframe tbody tr th:only-of-type {\n        vertical-align: middle;\n    }\n\n    .dataframe tbody tr th {\n        vertical-align: top;\n    }\n\n    .dataframe thead th {\n        text-align: right;\n    }\n</style>\n<table border=\"1\" class=\"dataframe\">\n  <thead>\n    <tr style=\"text-align: right;\">\n      <th></th>\n      <th>id</th>\n      <th>reporting date</th>\n      <th>summary</th>\n      <th>location</th>\n      <th>country</th>\n      <th>gender</th>\n      <th>age</th>\n      <th>symptom_onset</th>\n      <th>If_onset_approximated</th>\n      <th>hosp_visit_date</th>\n      <th>type_of_visit</th>\n      <th>exposure_start</th>\n      <th>exposure_end</th>\n      <th>visiting Wuhan</th>\n      <th>from Wuhan</th>\n      <th>death</th>\n      <th>recovered</th>\n      <th>symptom</th>\n      <th>source</th>\n      <th>link</th>\n    </tr>\n  </thead>\n  <tbody>\n    <tr>\n      <th>0</th>\n      <td>0.0</td>\n      <td>1/28/2020</td>\n      <td>new confirmed COVID-19 patient in Paris, Franc...</td>\n      <td>Paris</td>\n      <td>France</td>\n      <td>male</td>\n      <td>80.0</td>\n      <td>1/25/2020</td>\n      <td>1.0</td>\n      <td>1/25/2020</td>\n      <td>hospital</td>\n      <td>NaN</td>\n      <td>1/23/2020</td>\n      <td>0.0</td>\n      <td>1.0</td>\n      <td>0.0</td>\n      <td>0.0</td>\n      <td>NaN</td>\n      <td>The Local</td>\n      <td>https://www.thelocal.de/20200128/number-of-ger...</td>\n    </tr>\n    <tr>\n      <th>1</th>\n      <td>1.0</td>\n      <td>1/29/2020</td>\n      <td>new confirmed COVID-19 patient in Paris, Franc...</td>\n      <td>Paris</td>\n      <td>France</td>\n      <td>female</td>\n      <td>NaN</td>\n      <td>NaN</td>\n      <td>NaN</td>\n      <td>NaN</td>\n      <td>hospital</td>\n      <td>NaN</td>\n      <td>1/23/2020</td>\n      <td>1.0</td>\n      <td>0.0</td>\n      <td>0.0</td>\n      <td>0.0</td>\n      <td>NaN</td>\n      <td>The Local</td>\n      <td>https://www.thelocal.fr/20200131/coronavirus-i...</td>\n    </tr>\n    <tr>\n      <th>2</th>\n      <td>2.0</td>\n      <td>1/30/2020</td>\n      <td>new confirmed COVID-19 patient in Japan: male,...</td>\n      <td>Tokyo</td>\n      <td>Japan</td>\n      <td>male</td>\n      <td>45.0</td>\n      <td>NaN</td>\n      <td>NaN</td>\n      <td>NaN</td>\n      <td>NaN</td>\n      <td>NaN</td>\n      <td>1/29/2020</td>\n      <td>1.0</td>\n      <td>0.0</td>\n      <td>0.0</td>\n      <td>0.0</td>\n      <td>throat pain, fever</td>\n      <td>Bangkok Post</td>\n      <td>https://www.bangkokpost.com/world/1846939/thre...</td>\n    </tr>\n    <tr>\n      <th>3</th>\n      <td>3.0</td>\n      <td>1/30/2020</td>\n      <td>new confirmed COVID-19 patient in Japan: male,...</td>\n      <td>Tokyo</td>\n      <td>Japan</td>\n      <td>male</td>\n      <td>45.0</td>\n      <td>NaN</td>\n      <td>NaN</td>\n      <td>NaN</td>\n      <td>NaN</td>\n      <td>NaN</td>\n      <td>1/29/2020</td>\n      <td>1.0</td>\n      <td>0.0</td>\n      <td>0.0</td>\n      <td>0.0</td>\n      <td>NaN</td>\n      <td>Bangkok Post</td>\n      <td>https://www.bangkokpost.com/world/1846939/thre...</td>\n    </tr>\n    <tr>\n      <th>4</th>\n      <td>4.0</td>\n      <td>1/30/2020</td>\n      <td>new confirmed COVID-19 patient in Japan: femal...</td>\n      <td>Tokyo</td>\n      <td>Japan</td>\n      <td>female</td>\n      <td>55.0</td>\n      <td>NaN</td>\n      <td>NaN</td>\n      <td>NaN</td>\n      <td>NaN</td>\n      <td>NaN</td>\n      <td>1/29/2020</td>\n      <td>1.0</td>\n      <td>0.0</td>\n      <td>0.0</td>\n      <td>0.0</td>\n      <td>NaN</td>\n      <td>Bangkok Post</td>\n      <td>https://www.bangkokpost.com/world/1846939/thre...</td>\n    </tr>\n  </tbody>\n</table>\n</div>",
      "text/plain": "    id reporting date                                            summary  \\\n0  0.0      1/28/2020  new confirmed COVID-19 patient in Paris, Franc...   \n1  1.0      1/29/2020  new confirmed COVID-19 patient in Paris, Franc...   \n2  2.0      1/30/2020  new confirmed COVID-19 patient in Japan: male,...   \n3  3.0      1/30/2020  new confirmed COVID-19 patient in Japan: male,...   \n4  4.0      1/30/2020  new confirmed COVID-19 patient in Japan: femal...   \n\n  location country  gender   age symptom_onset  If_onset_approximated  \\\n0    Paris  France    male  80.0     1/25/2020                    1.0   \n1    Paris  France  female   NaN           NaN                    NaN   \n2    Tokyo   Japan    male  45.0           NaN                    NaN   \n3    Tokyo   Japan    male  45.0           NaN                    NaN   \n4    Tokyo   Japan  female  55.0           NaN                    NaN   \n\n  hosp_visit_date type_of_visit exposure_start exposure_end  visiting Wuhan  \\\n0       1/25/2020      hospital            NaN    1/23/2020             0.0   \n1             NaN      hospital            NaN    1/23/2020             1.0   \n2             NaN           NaN            NaN    1/29/2020             1.0   \n3             NaN           NaN            NaN    1/29/2020             1.0   \n4             NaN           NaN            NaN    1/29/2020             1.0   \n\n   from Wuhan  death  recovered             symptom        source  \\\n0         1.0    0.0        0.0                 NaN     The Local   \n1         0.0    0.0        0.0                 NaN     The Local   \n2         0.0    0.0        0.0  throat pain, fever  Bangkok Post   \n3         0.0    0.0        0.0                 NaN  Bangkok Post   \n4         0.0    0.0        0.0                 NaN  Bangkok Post   \n\n                                                link  \n0  https://www.thelocal.de/20200128/number-of-ger...  \n1  https://www.thelocal.fr/20200131/coronavirus-i...  \n2  https://www.bangkokpost.com/world/1846939/thre...  \n3  https://www.bangkokpost.com/world/1846939/thre...  \n4  https://www.bangkokpost.com/world/1846939/thre...  "
     },
     "execution_count": 34,
     "metadata": {},
     "output_type": "execute_result"
    }
   ],
   "source": [
    "IncidentLog.head(5)"
   ]
  },
  {
   "cell_type": "code",
   "execution_count": 38,
   "metadata": {},
   "outputs": [
    {
     "data": {
      "text/html": "<div>\n<style scoped>\n    .dataframe tbody tr th:only-of-type {\n        vertical-align: middle;\n    }\n\n    .dataframe tbody tr th {\n        vertical-align: top;\n    }\n\n    .dataframe thead th {\n        text-align: right;\n    }\n</style>\n<table border=\"1\" class=\"dataframe\">\n  <thead>\n    <tr style=\"text-align: right;\">\n      <th></th>\n      <th>id</th>\n      <th>reporting date</th>\n      <th>summary</th>\n      <th>location</th>\n      <th>country</th>\n      <th>gender</th>\n      <th>age</th>\n      <th>symptom_onset</th>\n      <th>If_onset_approximated</th>\n      <th>hosp_visit_date</th>\n      <th>type_of_visit</th>\n      <th>exposure_start</th>\n      <th>exposure_end</th>\n      <th>visiting Wuhan</th>\n      <th>from Wuhan</th>\n      <th>death</th>\n      <th>recovered</th>\n      <th>symptom</th>\n      <th>source</th>\n      <th>link</th>\n    </tr>\n  </thead>\n  <tbody>\n    <tr>\n      <th>0</th>\n      <td>NaN</td>\n      <td>02/02/2020</td>\n      <td>NaN</td>\n      <td>Beijing</td>\n      <td>China</td>\n      <td>female</td>\n      <td>42</td>\n      <td>1/30/2020</td>\n      <td>0</td>\n      <td>1/30/2020</td>\n      <td>NaN</td>\n      <td>NaN</td>\n      <td>NaN</td>\n      <td>NaN</td>\n      <td>NaN</td>\n      <td>0</td>\n      <td>0</td>\n      <td>NaN</td>\n      <td>Beijing Municipal Health Commission</td>\n      <td>http://wjw.beijing.gov.cn/xwzx_20031/wnxw/2020...</td>\n    </tr>\n    <tr>\n      <th>1</th>\n      <td>NaN</td>\n      <td>02/02/2020</td>\n      <td>NaN</td>\n      <td>Beijing</td>\n      <td>China</td>\n      <td>male</td>\n      <td>20</td>\n      <td>1/30/2020</td>\n      <td>0</td>\n      <td>1/31/2020</td>\n      <td>NaN</td>\n      <td>NaN</td>\n      <td>NaN</td>\n      <td>NaN</td>\n      <td>NaN</td>\n      <td>0</td>\n      <td>0</td>\n      <td>NaN</td>\n      <td>Beijing Municipal Health Commission</td>\n      <td>http://wjw.beijing.gov.cn/xwzx_20031/wnxw/2020...</td>\n    </tr>\n    <tr>\n      <th>2</th>\n      <td>NaN</td>\n      <td>02/02/2020</td>\n      <td>NaN</td>\n      <td>Beijing</td>\n      <td>China</td>\n      <td>female</td>\n      <td>44</td>\n      <td>1/31/2020</td>\n      <td>0</td>\n      <td>2/1/2020</td>\n      <td>NaN</td>\n      <td>NaN</td>\n      <td>NaN</td>\n      <td>NaN</td>\n      <td>NaN</td>\n      <td>0</td>\n      <td>0</td>\n      <td>NaN</td>\n      <td>Beijing Municipal Health Commission</td>\n      <td>http://wjw.beijing.gov.cn/xwzx_20031/wnxw/2020...</td>\n    </tr>\n    <tr>\n      <th>3</th>\n      <td>NaN</td>\n      <td>02/02/2020</td>\n      <td>NaN</td>\n      <td>Beijing</td>\n      <td>China</td>\n      <td>male</td>\n      <td>75</td>\n      <td>1/27/2020</td>\n      <td>0</td>\n      <td>1/31/2020</td>\n      <td>NaN</td>\n      <td>NaN</td>\n      <td>NaN</td>\n      <td>NaN</td>\n      <td>NaN</td>\n      <td>0</td>\n      <td>0</td>\n      <td>NaN</td>\n      <td>Beijing Municipal Health Commission</td>\n      <td>http://wjw.beijing.gov.cn/xwzx_20031/wnxw/2020...</td>\n    </tr>\n    <tr>\n      <th>4</th>\n      <td>NaN</td>\n      <td>02/02/2020</td>\n      <td>NaN</td>\n      <td>Beijing</td>\n      <td>China</td>\n      <td>female</td>\n      <td>43</td>\n      <td>1/30/2020</td>\n      <td>0</td>\n      <td>1/31/2020</td>\n      <td>NaN</td>\n      <td>NaN</td>\n      <td>NaN</td>\n      <td>NaN</td>\n      <td>NaN</td>\n      <td>0</td>\n      <td>0</td>\n      <td>NaN</td>\n      <td>Beijing Municipal Health Commission</td>\n      <td>http://wjw.beijing.gov.cn/xwzx_20031/wnxw/2020...</td>\n    </tr>\n  </tbody>\n</table>\n</div>",
      "text/plain": "   id reporting date summary location country  gender  age symptom_onset  \\\n0 NaN     02/02/2020     NaN  Beijing   China  female   42     1/30/2020   \n1 NaN     02/02/2020     NaN  Beijing   China    male   20     1/30/2020   \n2 NaN     02/02/2020     NaN  Beijing   China  female   44     1/31/2020   \n3 NaN     02/02/2020     NaN  Beijing   China    male   75     1/27/2020   \n4 NaN     02/02/2020     NaN  Beijing   China  female   43     1/30/2020   \n\n   If_onset_approximated hosp_visit_date type_of_visit exposure_start  \\\n0                      0       1/30/2020           NaN            NaN   \n1                      0       1/31/2020           NaN            NaN   \n2                      0        2/1/2020           NaN            NaN   \n3                      0       1/31/2020           NaN            NaN   \n4                      0       1/31/2020           NaN            NaN   \n\n  exposure_end  visiting Wuhan  from Wuhan  death  recovered  symptom  \\\n0          NaN             NaN         NaN      0          0      NaN   \n1          NaN             NaN         NaN      0          0      NaN   \n2          NaN             NaN         NaN      0          0      NaN   \n3          NaN             NaN         NaN      0          0      NaN   \n4          NaN             NaN         NaN      0          0      NaN   \n\n                                source  \\\n0  Beijing Municipal Health Commission   \n1  Beijing Municipal Health Commission   \n2  Beijing Municipal Health Commission   \n3  Beijing Municipal Health Commission   \n4  Beijing Municipal Health Commission   \n\n                                                link  \n0  http://wjw.beijing.gov.cn/xwzx_20031/wnxw/2020...  \n1  http://wjw.beijing.gov.cn/xwzx_20031/wnxw/2020...  \n2  http://wjw.beijing.gov.cn/xwzx_20031/wnxw/2020...  \n3  http://wjw.beijing.gov.cn/xwzx_20031/wnxw/2020...  \n4  http://wjw.beijing.gov.cn/xwzx_20031/wnxw/2020...  "
     },
     "execution_count": 38,
     "metadata": {},
     "output_type": "execute_result"
    }
   ],
   "source": [
    "IncidentLogSecond.head()"
   ]
  },
  {
   "cell_type": "code",
   "execution_count": 35,
   "metadata": {},
   "outputs": [],
   "source": [
    "#IncidentLogSecond.shape"
   ]
  },
  {
   "cell_type": "code",
   "execution_count": 36,
   "metadata": {},
   "outputs": [],
   "source": [
    "#IncidentLogSecond.isna().sum()"
   ]
  },
  {
   "cell_type": "code",
   "execution_count": 37,
   "metadata": {},
   "outputs": [],
   "source": [
    "#IncidentLog.head()"
   ]
  },
  {
   "cell_type": "code",
   "execution_count": 39,
   "metadata": {},
   "outputs": [],
   "source": [
    "#IncidentLog.shape"
   ]
  },
  {
   "cell_type": "code",
   "execution_count": 40,
   "metadata": {},
   "outputs": [],
   "source": [
    "#IncidentLog.isna().sum()"
   ]
  },
  {
   "cell_type": "code",
   "execution_count": null,
   "metadata": {},
   "outputs": [],
   "source": []
  }
 ]
}