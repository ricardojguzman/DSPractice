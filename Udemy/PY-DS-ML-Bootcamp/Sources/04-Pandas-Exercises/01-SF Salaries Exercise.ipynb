{
 "cells": [
  {
   "cell_type": "markdown",
   "metadata": {},
   "source": [
    "___\n",
    "\n",
    "<a href='http://www.pieriandata.com'> <img src='../../Pierian_Data_Logo.png' /></a>\n",
    "___"
   ]
  },
  {
   "cell_type": "markdown",
   "metadata": {},
   "source": [
    "# SF Salaries Exercise \n",
    "\n",
    "Welcome to a quick exercise for you to practice your pandas skills! We will be using the [SF Salaries Dataset](https://www.kaggle.com/kaggle/sf-salaries) from Kaggle! Just follow along and complete the tasks outlined in bold below. The tasks will get harder and harder as you go along."
   ]
  },
  {
   "cell_type": "markdown",
   "metadata": {},
   "source": [
    "** Import pandas as pd.**"
   ]
  },
  {
   "cell_type": "code",
   "execution_count": 14,
   "metadata": {},
   "outputs": [],
   "source": [
    "import pandas as pd\n",
    "import numpy as np"
   ]
  },
  {
   "cell_type": "markdown",
   "metadata": {},
   "source": [
    "** Read Salaries.csv as a dataframe called sal.**"
   ]
  },
  {
   "cell_type": "code",
   "execution_count": 15,
   "metadata": {},
   "outputs": [],
   "source": [
    "salaries =pd.read_csv(\"Salaries.csv\")\n",
    "df =pd.DataFrame(salaries)"
   ]
  },
  {
   "cell_type": "markdown",
   "metadata": {},
   "source": [
    "** Check the head of the DataFrame. **"
   ]
  },
  {
   "cell_type": "code",
   "execution_count": 16,
   "metadata": {},
   "outputs": [
    {
     "data": {
      "text/html": "<div>\n<style scoped>\n    .dataframe tbody tr th:only-of-type {\n        vertical-align: middle;\n    }\n\n    .dataframe tbody tr th {\n        vertical-align: top;\n    }\n\n    .dataframe thead th {\n        text-align: right;\n    }\n</style>\n<table border=\"1\" class=\"dataframe\">\n  <thead>\n    <tr style=\"text-align: right;\">\n      <th></th>\n      <th>Id</th>\n      <th>EmployeeName</th>\n      <th>JobTitle</th>\n      <th>BasePay</th>\n      <th>OvertimePay</th>\n      <th>OtherPay</th>\n      <th>Benefits</th>\n      <th>TotalPay</th>\n      <th>TotalPayBenefits</th>\n      <th>Year</th>\n      <th>Notes</th>\n      <th>Agency</th>\n      <th>Status</th>\n    </tr>\n  </thead>\n  <tbody>\n    <tr>\n      <th>0</th>\n      <td>1</td>\n      <td>NATHANIEL FORD</td>\n      <td>GENERAL MANAGER-METROPOLITAN TRANSIT AUTHORITY</td>\n      <td>167411.18</td>\n      <td>0.00</td>\n      <td>400184.25</td>\n      <td>NaN</td>\n      <td>567595.43</td>\n      <td>567595.43</td>\n      <td>2011</td>\n      <td>NaN</td>\n      <td>San Francisco</td>\n      <td>NaN</td>\n    </tr>\n    <tr>\n      <th>1</th>\n      <td>2</td>\n      <td>GARY JIMENEZ</td>\n      <td>CAPTAIN III (POLICE DEPARTMENT)</td>\n      <td>155966.02</td>\n      <td>245131.88</td>\n      <td>137811.38</td>\n      <td>NaN</td>\n      <td>538909.28</td>\n      <td>538909.28</td>\n      <td>2011</td>\n      <td>NaN</td>\n      <td>San Francisco</td>\n      <td>NaN</td>\n    </tr>\n    <tr>\n      <th>2</th>\n      <td>3</td>\n      <td>ALBERT PARDINI</td>\n      <td>CAPTAIN III (POLICE DEPARTMENT)</td>\n      <td>212739.13</td>\n      <td>106088.18</td>\n      <td>16452.60</td>\n      <td>NaN</td>\n      <td>335279.91</td>\n      <td>335279.91</td>\n      <td>2011</td>\n      <td>NaN</td>\n      <td>San Francisco</td>\n      <td>NaN</td>\n    </tr>\n    <tr>\n      <th>3</th>\n      <td>4</td>\n      <td>CHRISTOPHER CHONG</td>\n      <td>WIRE ROPE CABLE MAINTENANCE MECHANIC</td>\n      <td>77916.00</td>\n      <td>56120.71</td>\n      <td>198306.90</td>\n      <td>NaN</td>\n      <td>332343.61</td>\n      <td>332343.61</td>\n      <td>2011</td>\n      <td>NaN</td>\n      <td>San Francisco</td>\n      <td>NaN</td>\n    </tr>\n    <tr>\n      <th>4</th>\n      <td>5</td>\n      <td>PATRICK GARDNER</td>\n      <td>DEPUTY CHIEF OF DEPARTMENT,(FIRE DEPARTMENT)</td>\n      <td>134401.60</td>\n      <td>9737.00</td>\n      <td>182234.59</td>\n      <td>NaN</td>\n      <td>326373.19</td>\n      <td>326373.19</td>\n      <td>2011</td>\n      <td>NaN</td>\n      <td>San Francisco</td>\n      <td>NaN</td>\n    </tr>\n    <tr>\n      <th>5</th>\n      <td>6</td>\n      <td>DAVID SULLIVAN</td>\n      <td>ASSISTANT DEPUTY CHIEF II</td>\n      <td>118602.00</td>\n      <td>8601.00</td>\n      <td>189082.74</td>\n      <td>NaN</td>\n      <td>316285.74</td>\n      <td>316285.74</td>\n      <td>2011</td>\n      <td>NaN</td>\n      <td>San Francisco</td>\n      <td>NaN</td>\n    </tr>\n    <tr>\n      <th>6</th>\n      <td>7</td>\n      <td>ALSON LEE</td>\n      <td>BATTALION CHIEF, (FIRE DEPARTMENT)</td>\n      <td>92492.01</td>\n      <td>89062.90</td>\n      <td>134426.14</td>\n      <td>NaN</td>\n      <td>315981.05</td>\n      <td>315981.05</td>\n      <td>2011</td>\n      <td>NaN</td>\n      <td>San Francisco</td>\n      <td>NaN</td>\n    </tr>\n    <tr>\n      <th>7</th>\n      <td>8</td>\n      <td>DAVID KUSHNER</td>\n      <td>DEPUTY DIRECTOR OF INVESTMENTS</td>\n      <td>256576.96</td>\n      <td>0.00</td>\n      <td>51322.50</td>\n      <td>NaN</td>\n      <td>307899.46</td>\n      <td>307899.46</td>\n      <td>2011</td>\n      <td>NaN</td>\n      <td>San Francisco</td>\n      <td>NaN</td>\n    </tr>\n    <tr>\n      <th>8</th>\n      <td>9</td>\n      <td>MICHAEL MORRIS</td>\n      <td>BATTALION CHIEF, (FIRE DEPARTMENT)</td>\n      <td>176932.64</td>\n      <td>86362.68</td>\n      <td>40132.23</td>\n      <td>NaN</td>\n      <td>303427.55</td>\n      <td>303427.55</td>\n      <td>2011</td>\n      <td>NaN</td>\n      <td>San Francisco</td>\n      <td>NaN</td>\n    </tr>\n    <tr>\n      <th>9</th>\n      <td>10</td>\n      <td>JOANNE HAYES-WHITE</td>\n      <td>CHIEF OF DEPARTMENT, (FIRE DEPARTMENT)</td>\n      <td>285262.00</td>\n      <td>0.00</td>\n      <td>17115.73</td>\n      <td>NaN</td>\n      <td>302377.73</td>\n      <td>302377.73</td>\n      <td>2011</td>\n      <td>NaN</td>\n      <td>San Francisco</td>\n      <td>NaN</td>\n    </tr>\n    <tr>\n      <th>10</th>\n      <td>11</td>\n      <td>ARTHUR KENNEY</td>\n      <td>ASSISTANT CHIEF OF DEPARTMENT, (FIRE DEPARTMENT)</td>\n      <td>194999.39</td>\n      <td>71344.88</td>\n      <td>33149.90</td>\n      <td>NaN</td>\n      <td>299494.17</td>\n      <td>299494.17</td>\n      <td>2011</td>\n      <td>NaN</td>\n      <td>San Francisco</td>\n      <td>NaN</td>\n    </tr>\n    <tr>\n      <th>11</th>\n      <td>12</td>\n      <td>PATRICIA JACKSON</td>\n      <td>CAPTAIN III (POLICE DEPARTMENT)</td>\n      <td>99722.00</td>\n      <td>87082.62</td>\n      <td>110804.30</td>\n      <td>NaN</td>\n      <td>297608.92</td>\n      <td>297608.92</td>\n      <td>2011</td>\n      <td>NaN</td>\n      <td>San Francisco</td>\n      <td>NaN</td>\n    </tr>\n    <tr>\n      <th>12</th>\n      <td>13</td>\n      <td>EDWARD HARRINGTON</td>\n      <td>EXECUTIVE CONTRACT EMPLOYEE</td>\n      <td>294580.02</td>\n      <td>0.00</td>\n      <td>0.00</td>\n      <td>NaN</td>\n      <td>294580.02</td>\n      <td>294580.02</td>\n      <td>2011</td>\n      <td>NaN</td>\n      <td>San Francisco</td>\n      <td>NaN</td>\n    </tr>\n    <tr>\n      <th>13</th>\n      <td>14</td>\n      <td>JOHN MARTIN</td>\n      <td>DEPARTMENT HEAD V</td>\n      <td>271329.03</td>\n      <td>0.00</td>\n      <td>21342.59</td>\n      <td>NaN</td>\n      <td>292671.62</td>\n      <td>292671.62</td>\n      <td>2011</td>\n      <td>NaN</td>\n      <td>San Francisco</td>\n      <td>NaN</td>\n    </tr>\n    <tr>\n      <th>14</th>\n      <td>15</td>\n      <td>DAVID FRANKLIN</td>\n      <td>BATTALION CHIEF, (FIRE DEPARTMENT)</td>\n      <td>174872.64</td>\n      <td>74050.30</td>\n      <td>37424.11</td>\n      <td>NaN</td>\n      <td>286347.05</td>\n      <td>286347.05</td>\n      <td>2011</td>\n      <td>NaN</td>\n      <td>San Francisco</td>\n      <td>NaN</td>\n    </tr>\n    <tr>\n      <th>15</th>\n      <td>16</td>\n      <td>RICHARD CORRIEA</td>\n      <td>COMMANDER III, (POLICE DEPARTMENT)</td>\n      <td>198778.01</td>\n      <td>73478.20</td>\n      <td>13957.65</td>\n      <td>NaN</td>\n      <td>286213.86</td>\n      <td>286213.86</td>\n      <td>2011</td>\n      <td>NaN</td>\n      <td>San Francisco</td>\n      <td>NaN</td>\n    </tr>\n    <tr>\n      <th>16</th>\n      <td>17</td>\n      <td>AMY HART</td>\n      <td>DEPARTMENT HEAD V</td>\n      <td>268604.57</td>\n      <td>0.00</td>\n      <td>16115.86</td>\n      <td>NaN</td>\n      <td>284720.43</td>\n      <td>284720.43</td>\n      <td>2011</td>\n      <td>NaN</td>\n      <td>San Francisco</td>\n      <td>NaN</td>\n    </tr>\n    <tr>\n      <th>17</th>\n      <td>18</td>\n      <td>SEBASTIAN WONG</td>\n      <td>CAPTAIN, EMERGENCYCY MEDICAL SERVICES</td>\n      <td>140546.87</td>\n      <td>119397.26</td>\n      <td>18625.08</td>\n      <td>NaN</td>\n      <td>278569.21</td>\n      <td>278569.21</td>\n      <td>2011</td>\n      <td>NaN</td>\n      <td>San Francisco</td>\n      <td>NaN</td>\n    </tr>\n    <tr>\n      <th>18</th>\n      <td>19</td>\n      <td>MARTY ROSS</td>\n      <td>BATTALION CHIEF, (FIRE DEPARTMENT)</td>\n      <td>168692.63</td>\n      <td>69626.12</td>\n      <td>38115.47</td>\n      <td>NaN</td>\n      <td>276434.22</td>\n      <td>276434.22</td>\n      <td>2011</td>\n      <td>NaN</td>\n      <td>San Francisco</td>\n      <td>NaN</td>\n    </tr>\n    <tr>\n      <th>19</th>\n      <td>20</td>\n      <td>ELLEN MOFFATT</td>\n      <td>ASSISTANT MEDICAL EXAMINER</td>\n      <td>257510.59</td>\n      <td>880.16</td>\n      <td>16159.50</td>\n      <td>NaN</td>\n      <td>274550.25</td>\n      <td>274550.25</td>\n      <td>2011</td>\n      <td>NaN</td>\n      <td>San Francisco</td>\n      <td>NaN</td>\n    </tr>\n    <tr>\n      <th>20</th>\n      <td>21</td>\n      <td>VENUS AZAR</td>\n      <td>ASSISTANT MEDICAL EXAMINER</td>\n      <td>257510.48</td>\n      <td>0.00</td>\n      <td>16679.79</td>\n      <td>NaN</td>\n      <td>274190.27</td>\n      <td>274190.27</td>\n      <td>2011</td>\n      <td>NaN</td>\n      <td>San Francisco</td>\n      <td>NaN</td>\n    </tr>\n    <tr>\n      <th>21</th>\n      <td>22</td>\n      <td>JUDY MELINEK</td>\n      <td>ASSISTANT MEDICAL EXAMINER</td>\n      <td>257510.44</td>\n      <td>377.21</td>\n      <td>15883.56</td>\n      <td>NaN</td>\n      <td>273771.21</td>\n      <td>273771.21</td>\n      <td>2011</td>\n      <td>NaN</td>\n      <td>San Francisco</td>\n      <td>NaN</td>\n    </tr>\n    <tr>\n      <th>22</th>\n      <td>23</td>\n      <td>GEORGE GARCIA</td>\n      <td>CAPTAIN, FIRE SUPPRESSION</td>\n      <td>140546.88</td>\n      <td>93200.58</td>\n      <td>39955.25</td>\n      <td>NaN</td>\n      <td>273702.71</td>\n      <td>273702.71</td>\n      <td>2011</td>\n      <td>NaN</td>\n      <td>San Francisco</td>\n      <td>NaN</td>\n    </tr>\n    <tr>\n      <th>23</th>\n      <td>24</td>\n      <td>VICTOR WYRSCH</td>\n      <td>BATTALION CHIEF, (FIRE DEPARTMENT)</td>\n      <td>168692.63</td>\n      <td>77896.14</td>\n      <td>24083.86</td>\n      <td>NaN</td>\n      <td>270672.63</td>\n      <td>270672.63</td>\n      <td>2011</td>\n      <td>NaN</td>\n      <td>San Francisco</td>\n      <td>NaN</td>\n    </tr>\n    <tr>\n      <th>24</th>\n      <td>25</td>\n      <td>JOSEPH DRISCOLL</td>\n      <td>CAPTAIN, FIRE SUPPRESSION</td>\n      <td>140546.86</td>\n      <td>97868.77</td>\n      <td>31909.28</td>\n      <td>NaN</td>\n      <td>270324.91</td>\n      <td>270324.91</td>\n      <td>2011</td>\n      <td>NaN</td>\n      <td>San Francisco</td>\n      <td>NaN</td>\n    </tr>\n    <tr>\n      <th>25</th>\n      <td>26</td>\n      <td>GREGORY SUHR</td>\n      <td>CHIEF OF POLICE</td>\n      <td>256470.41</td>\n      <td>0.00</td>\n      <td>11522.18</td>\n      <td>NaN</td>\n      <td>267992.59</td>\n      <td>267992.59</td>\n      <td>2011</td>\n      <td>NaN</td>\n      <td>San Francisco</td>\n      <td>NaN</td>\n    </tr>\n    <tr>\n      <th>26</th>\n      <td>27</td>\n      <td>JOHN HANLEY</td>\n      <td>CAPTAIN, FIRE SUPPRESSION</td>\n      <td>92080.80</td>\n      <td>40008.00</td>\n      <td>133695.76</td>\n      <td>NaN</td>\n      <td>265784.56</td>\n      <td>265784.56</td>\n      <td>2011</td>\n      <td>NaN</td>\n      <td>San Francisco</td>\n      <td>NaN</td>\n    </tr>\n    <tr>\n      <th>27</th>\n      <td>28</td>\n      <td>RAYMOND GUZMAN</td>\n      <td>BATTALION CHIEF, (FIRE DEPARTMENT)</td>\n      <td>168692.59</td>\n      <td>80706.88</td>\n      <td>16063.99</td>\n      <td>NaN</td>\n      <td>265463.46</td>\n      <td>265463.46</td>\n      <td>2011</td>\n      <td>NaN</td>\n      <td>San Francisco</td>\n      <td>NaN</td>\n    </tr>\n    <tr>\n      <th>28</th>\n      <td>29</td>\n      <td>DENISE SCHMITT</td>\n      <td>DEPUTY CHIEF III (POLICE DEPARTMENT)</td>\n      <td>261717.60</td>\n      <td>0.00</td>\n      <td>2357.00</td>\n      <td>NaN</td>\n      <td>264074.60</td>\n      <td>264074.60</td>\n      <td>2011</td>\n      <td>NaN</td>\n      <td>San Francisco</td>\n      <td>NaN</td>\n    </tr>\n    <tr>\n      <th>29</th>\n      <td>30</td>\n      <td>MONICA FIELDS</td>\n      <td>DEPUTY CHIEF OF DEPARTMENT,(FIRE DEPARTMENT)</td>\n      <td>246225.60</td>\n      <td>0.00</td>\n      <td>15140.54</td>\n      <td>NaN</td>\n      <td>261366.14</td>\n      <td>261366.14</td>\n      <td>2011</td>\n      <td>NaN</td>\n      <td>San Francisco</td>\n      <td>NaN</td>\n    </tr>\n    <tr>\n      <th>...</th>\n      <td>...</td>\n      <td>...</td>\n      <td>...</td>\n      <td>...</td>\n      <td>...</td>\n      <td>...</td>\n      <td>...</td>\n      <td>...</td>\n      <td>...</td>\n      <td>...</td>\n      <td>...</td>\n      <td>...</td>\n      <td>...</td>\n    </tr>\n    <tr>\n      <th>148624</th>\n      <td>148625</td>\n      <td>Lorraine Rosenthal</td>\n      <td>Senior Clerk</td>\n      <td>0.00</td>\n      <td>0.00</td>\n      <td>12.89</td>\n      <td>0.00</td>\n      <td>12.89</td>\n      <td>12.89</td>\n      <td>2014</td>\n      <td>NaN</td>\n      <td>San Francisco</td>\n      <td>NaN</td>\n    </tr>\n    <tr>\n      <th>148625</th>\n      <td>148626</td>\n      <td>Renato C Gurion</td>\n      <td>Registered Nurse</td>\n      <td>0.00</td>\n      <td>0.00</td>\n      <td>6.00</td>\n      <td>1.24</td>\n      <td>6.00</td>\n      <td>7.24</td>\n      <td>2014</td>\n      <td>NaN</td>\n      <td>San Francisco</td>\n      <td>NaN</td>\n    </tr>\n    <tr>\n      <th>148626</th>\n      <td>148627</td>\n      <td>Paulet Gaines</td>\n      <td>Account Clerk</td>\n      <td>0.00</td>\n      <td>0.00</td>\n      <td>0.00</td>\n      <td>0.00</td>\n      <td>0.00</td>\n      <td>0.00</td>\n      <td>2014</td>\n      <td>NaN</td>\n      <td>San Francisco</td>\n      <td>NaN</td>\n    </tr>\n    <tr>\n      <th>148627</th>\n      <td>148628</td>\n      <td>Brett A Lundberg</td>\n      <td>General Laborer</td>\n      <td>0.00</td>\n      <td>0.00</td>\n      <td>0.00</td>\n      <td>0.00</td>\n      <td>0.00</td>\n      <td>0.00</td>\n      <td>2014</td>\n      <td>NaN</td>\n      <td>San Francisco</td>\n      <td>NaN</td>\n    </tr>\n    <tr>\n      <th>148628</th>\n      <td>148629</td>\n      <td>Mark W Mcclure</td>\n      <td>General Laborer</td>\n      <td>0.00</td>\n      <td>0.00</td>\n      <td>0.00</td>\n      <td>0.00</td>\n      <td>0.00</td>\n      <td>0.00</td>\n      <td>2014</td>\n      <td>NaN</td>\n      <td>San Francisco</td>\n      <td>NaN</td>\n    </tr>\n    <tr>\n      <th>148629</th>\n      <td>148630</td>\n      <td>Elizabeth Iniguez</td>\n      <td>Transcriber Typist</td>\n      <td>0.00</td>\n      <td>0.00</td>\n      <td>0.00</td>\n      <td>0.00</td>\n      <td>0.00</td>\n      <td>0.00</td>\n      <td>2014</td>\n      <td>NaN</td>\n      <td>San Francisco</td>\n      <td>NaN</td>\n    </tr>\n    <tr>\n      <th>148630</th>\n      <td>148631</td>\n      <td>Randy J Keys</td>\n      <td>Carpenter</td>\n      <td>0.00</td>\n      <td>0.00</td>\n      <td>0.00</td>\n      <td>0.00</td>\n      <td>0.00</td>\n      <td>0.00</td>\n      <td>2014</td>\n      <td>NaN</td>\n      <td>San Francisco</td>\n      <td>NaN</td>\n    </tr>\n    <tr>\n      <th>148631</th>\n      <td>148632</td>\n      <td>Andre M Johnson</td>\n      <td>Communications Dispatcher 1</td>\n      <td>0.00</td>\n      <td>0.00</td>\n      <td>0.00</td>\n      <td>0.00</td>\n      <td>0.00</td>\n      <td>0.00</td>\n      <td>2014</td>\n      <td>NaN</td>\n      <td>San Francisco</td>\n      <td>NaN</td>\n    </tr>\n    <tr>\n      <th>148632</th>\n      <td>148633</td>\n      <td>Sharon D Owens-Webster</td>\n      <td>Protective Services Worker</td>\n      <td>0.00</td>\n      <td>0.00</td>\n      <td>0.00</td>\n      <td>0.00</td>\n      <td>0.00</td>\n      <td>0.00</td>\n      <td>2014</td>\n      <td>NaN</td>\n      <td>San Francisco</td>\n      <td>NaN</td>\n    </tr>\n    <tr>\n      <th>148633</th>\n      <td>148634</td>\n      <td>Edward Ferdinand</td>\n      <td>General Laborer</td>\n      <td>0.00</td>\n      <td>0.00</td>\n      <td>0.00</td>\n      <td>0.00</td>\n      <td>0.00</td>\n      <td>0.00</td>\n      <td>2014</td>\n      <td>NaN</td>\n      <td>San Francisco</td>\n      <td>NaN</td>\n    </tr>\n    <tr>\n      <th>148634</th>\n      <td>148635</td>\n      <td>David M Turner</td>\n      <td>Transit Car Cleaner</td>\n      <td>0.00</td>\n      <td>0.00</td>\n      <td>0.00</td>\n      <td>0.00</td>\n      <td>0.00</td>\n      <td>0.00</td>\n      <td>2014</td>\n      <td>NaN</td>\n      <td>San Francisco</td>\n      <td>NaN</td>\n    </tr>\n    <tr>\n      <th>148635</th>\n      <td>148636</td>\n      <td>James S Kibblewhite</td>\n      <td>General Laborer</td>\n      <td>0.00</td>\n      <td>0.00</td>\n      <td>0.00</td>\n      <td>0.00</td>\n      <td>0.00</td>\n      <td>0.00</td>\n      <td>2014</td>\n      <td>NaN</td>\n      <td>San Francisco</td>\n      <td>NaN</td>\n    </tr>\n    <tr>\n      <th>148636</th>\n      <td>148637</td>\n      <td>Andrew J Enzi</td>\n      <td>Arborist Technician</td>\n      <td>0.00</td>\n      <td>0.00</td>\n      <td>0.00</td>\n      <td>0.00</td>\n      <td>0.00</td>\n      <td>0.00</td>\n      <td>2014</td>\n      <td>NaN</td>\n      <td>San Francisco</td>\n      <td>NaN</td>\n    </tr>\n    <tr>\n      <th>148637</th>\n      <td>148638</td>\n      <td>Kadeshra D Green</td>\n      <td>Transit Fare Inspector</td>\n      <td>0.00</td>\n      <td>0.00</td>\n      <td>0.00</td>\n      <td>0.00</td>\n      <td>0.00</td>\n      <td>0.00</td>\n      <td>2014</td>\n      <td>NaN</td>\n      <td>San Francisco</td>\n      <td>NaN</td>\n    </tr>\n    <tr>\n      <th>148638</th>\n      <td>148639</td>\n      <td>Lennard B Hutchinson</td>\n      <td>Electrician</td>\n      <td>0.00</td>\n      <td>0.00</td>\n      <td>0.00</td>\n      <td>0.00</td>\n      <td>0.00</td>\n      <td>0.00</td>\n      <td>2014</td>\n      <td>NaN</td>\n      <td>San Francisco</td>\n      <td>NaN</td>\n    </tr>\n    <tr>\n      <th>148639</th>\n      <td>148640</td>\n      <td>Richard A Talbert</td>\n      <td>Custodian</td>\n      <td>0.00</td>\n      <td>0.00</td>\n      <td>0.00</td>\n      <td>0.00</td>\n      <td>0.00</td>\n      <td>0.00</td>\n      <td>2014</td>\n      <td>NaN</td>\n      <td>San Francisco</td>\n      <td>NaN</td>\n    </tr>\n    <tr>\n      <th>148640</th>\n      <td>148641</td>\n      <td>Charlene D Mccully</td>\n      <td>Parking Control Officer</td>\n      <td>0.00</td>\n      <td>0.00</td>\n      <td>0.00</td>\n      <td>0.00</td>\n      <td>0.00</td>\n      <td>0.00</td>\n      <td>2014</td>\n      <td>NaN</td>\n      <td>San Francisco</td>\n      <td>NaN</td>\n    </tr>\n    <tr>\n      <th>148641</th>\n      <td>148642</td>\n      <td>Raphael Marquis Goins</td>\n      <td>Museum Guard</td>\n      <td>0.00</td>\n      <td>0.00</td>\n      <td>0.00</td>\n      <td>0.00</td>\n      <td>0.00</td>\n      <td>0.00</td>\n      <td>2014</td>\n      <td>NaN</td>\n      <td>San Francisco</td>\n      <td>NaN</td>\n    </tr>\n    <tr>\n      <th>148642</th>\n      <td>148643</td>\n      <td>Dominic C Marquez</td>\n      <td>Sign Worker</td>\n      <td>0.00</td>\n      <td>0.00</td>\n      <td>0.00</td>\n      <td>0.00</td>\n      <td>0.00</td>\n      <td>0.00</td>\n      <td>2014</td>\n      <td>NaN</td>\n      <td>San Francisco</td>\n      <td>NaN</td>\n    </tr>\n    <tr>\n      <th>148643</th>\n      <td>148644</td>\n      <td>Kim Brewer</td>\n      <td>Parking Control Officer</td>\n      <td>0.00</td>\n      <td>0.00</td>\n      <td>0.00</td>\n      <td>0.00</td>\n      <td>0.00</td>\n      <td>0.00</td>\n      <td>2014</td>\n      <td>NaN</td>\n      <td>San Francisco</td>\n      <td>NaN</td>\n    </tr>\n    <tr>\n      <th>148644</th>\n      <td>148645</td>\n      <td>Randy D Winn</td>\n      <td>Stationary Eng, Sewage Plant</td>\n      <td>0.00</td>\n      <td>0.00</td>\n      <td>0.00</td>\n      <td>0.00</td>\n      <td>0.00</td>\n      <td>0.00</td>\n      <td>2014</td>\n      <td>NaN</td>\n      <td>San Francisco</td>\n      <td>NaN</td>\n    </tr>\n    <tr>\n      <th>148645</th>\n      <td>148646</td>\n      <td>Carolyn A Wilson</td>\n      <td>Human Services Technician</td>\n      <td>0.00</td>\n      <td>0.00</td>\n      <td>0.00</td>\n      <td>0.00</td>\n      <td>0.00</td>\n      <td>0.00</td>\n      <td>2014</td>\n      <td>NaN</td>\n      <td>San Francisco</td>\n      <td>NaN</td>\n    </tr>\n    <tr>\n      <th>148646</th>\n      <td>148647</td>\n      <td>Not provided</td>\n      <td>Not provided</td>\n      <td>NaN</td>\n      <td>NaN</td>\n      <td>NaN</td>\n      <td>NaN</td>\n      <td>0.00</td>\n      <td>0.00</td>\n      <td>2014</td>\n      <td>NaN</td>\n      <td>San Francisco</td>\n      <td>NaN</td>\n    </tr>\n    <tr>\n      <th>148647</th>\n      <td>148648</td>\n      <td>Joann Anderson</td>\n      <td>Communications Dispatcher 2</td>\n      <td>0.00</td>\n      <td>0.00</td>\n      <td>0.00</td>\n      <td>0.00</td>\n      <td>0.00</td>\n      <td>0.00</td>\n      <td>2014</td>\n      <td>NaN</td>\n      <td>San Francisco</td>\n      <td>NaN</td>\n    </tr>\n    <tr>\n      <th>148648</th>\n      <td>148649</td>\n      <td>Leon Walker</td>\n      <td>Custodian</td>\n      <td>0.00</td>\n      <td>0.00</td>\n      <td>0.00</td>\n      <td>0.00</td>\n      <td>0.00</td>\n      <td>0.00</td>\n      <td>2014</td>\n      <td>NaN</td>\n      <td>San Francisco</td>\n      <td>NaN</td>\n    </tr>\n    <tr>\n      <th>148649</th>\n      <td>148650</td>\n      <td>Roy I Tillery</td>\n      <td>Custodian</td>\n      <td>0.00</td>\n      <td>0.00</td>\n      <td>0.00</td>\n      <td>0.00</td>\n      <td>0.00</td>\n      <td>0.00</td>\n      <td>2014</td>\n      <td>NaN</td>\n      <td>San Francisco</td>\n      <td>NaN</td>\n    </tr>\n    <tr>\n      <th>148650</th>\n      <td>148651</td>\n      <td>Not provided</td>\n      <td>Not provided</td>\n      <td>NaN</td>\n      <td>NaN</td>\n      <td>NaN</td>\n      <td>NaN</td>\n      <td>0.00</td>\n      <td>0.00</td>\n      <td>2014</td>\n      <td>NaN</td>\n      <td>San Francisco</td>\n      <td>NaN</td>\n    </tr>\n    <tr>\n      <th>148651</th>\n      <td>148652</td>\n      <td>Not provided</td>\n      <td>Not provided</td>\n      <td>NaN</td>\n      <td>NaN</td>\n      <td>NaN</td>\n      <td>NaN</td>\n      <td>0.00</td>\n      <td>0.00</td>\n      <td>2014</td>\n      <td>NaN</td>\n      <td>San Francisco</td>\n      <td>NaN</td>\n    </tr>\n    <tr>\n      <th>148652</th>\n      <td>148653</td>\n      <td>Not provided</td>\n      <td>Not provided</td>\n      <td>NaN</td>\n      <td>NaN</td>\n      <td>NaN</td>\n      <td>NaN</td>\n      <td>0.00</td>\n      <td>0.00</td>\n      <td>2014</td>\n      <td>NaN</td>\n      <td>San Francisco</td>\n      <td>NaN</td>\n    </tr>\n    <tr>\n      <th>148653</th>\n      <td>148654</td>\n      <td>Joe Lopez</td>\n      <td>Counselor, Log Cabin Ranch</td>\n      <td>0.00</td>\n      <td>0.00</td>\n      <td>-618.13</td>\n      <td>0.00</td>\n      <td>-618.13</td>\n      <td>-618.13</td>\n      <td>2014</td>\n      <td>NaN</td>\n      <td>San Francisco</td>\n      <td>NaN</td>\n    </tr>\n  </tbody>\n</table>\n<p>148654 rows × 13 columns</p>\n</div>",
      "text/plain": "            Id            EmployeeName  \\\n0            1          NATHANIEL FORD   \n1            2            GARY JIMENEZ   \n2            3          ALBERT PARDINI   \n3            4       CHRISTOPHER CHONG   \n4            5         PATRICK GARDNER   \n5            6          DAVID SULLIVAN   \n6            7               ALSON LEE   \n7            8           DAVID KUSHNER   \n8            9          MICHAEL MORRIS   \n9           10      JOANNE HAYES-WHITE   \n10          11           ARTHUR KENNEY   \n11          12        PATRICIA JACKSON   \n12          13       EDWARD HARRINGTON   \n13          14             JOHN MARTIN   \n14          15          DAVID FRANKLIN   \n15          16         RICHARD CORRIEA   \n16          17                AMY HART   \n17          18          SEBASTIAN WONG   \n18          19              MARTY ROSS   \n19          20           ELLEN MOFFATT   \n20          21              VENUS AZAR   \n21          22            JUDY MELINEK   \n22          23           GEORGE GARCIA   \n23          24           VICTOR WYRSCH   \n24          25         JOSEPH DRISCOLL   \n25          26            GREGORY SUHR   \n26          27             JOHN HANLEY   \n27          28          RAYMOND GUZMAN   \n28          29          DENISE SCHMITT   \n29          30           MONICA FIELDS   \n...        ...                     ...   \n148624  148625      Lorraine Rosenthal   \n148625  148626         Renato C Gurion   \n148626  148627           Paulet Gaines   \n148627  148628        Brett A Lundberg   \n148628  148629          Mark W Mcclure   \n148629  148630       Elizabeth Iniguez   \n148630  148631            Randy J Keys   \n148631  148632         Andre M Johnson   \n148632  148633  Sharon D Owens-Webster   \n148633  148634        Edward Ferdinand   \n148634  148635          David M Turner   \n148635  148636     James S Kibblewhite   \n148636  148637           Andrew J Enzi   \n148637  148638        Kadeshra D Green   \n148638  148639    Lennard B Hutchinson   \n148639  148640       Richard A Talbert   \n148640  148641      Charlene D Mccully   \n148641  148642   Raphael Marquis Goins   \n148642  148643       Dominic C Marquez   \n148643  148644              Kim Brewer   \n148644  148645            Randy D Winn   \n148645  148646        Carolyn A Wilson   \n148646  148647            Not provided   \n148647  148648          Joann Anderson   \n148648  148649             Leon Walker   \n148649  148650           Roy I Tillery   \n148650  148651            Not provided   \n148651  148652            Not provided   \n148652  148653            Not provided   \n148653  148654               Joe Lopez   \n\n                                                JobTitle    BasePay  \\\n0         GENERAL MANAGER-METROPOLITAN TRANSIT AUTHORITY  167411.18   \n1                        CAPTAIN III (POLICE DEPARTMENT)  155966.02   \n2                        CAPTAIN III (POLICE DEPARTMENT)  212739.13   \n3                   WIRE ROPE CABLE MAINTENANCE MECHANIC   77916.00   \n4           DEPUTY CHIEF OF DEPARTMENT,(FIRE DEPARTMENT)  134401.60   \n5                              ASSISTANT DEPUTY CHIEF II  118602.00   \n6                     BATTALION CHIEF, (FIRE DEPARTMENT)   92492.01   \n7                         DEPUTY DIRECTOR OF INVESTMENTS  256576.96   \n8                     BATTALION CHIEF, (FIRE DEPARTMENT)  176932.64   \n9                 CHIEF OF DEPARTMENT, (FIRE DEPARTMENT)  285262.00   \n10      ASSISTANT CHIEF OF DEPARTMENT, (FIRE DEPARTMENT)  194999.39   \n11                       CAPTAIN III (POLICE DEPARTMENT)   99722.00   \n12                           EXECUTIVE CONTRACT EMPLOYEE  294580.02   \n13                                     DEPARTMENT HEAD V  271329.03   \n14                    BATTALION CHIEF, (FIRE DEPARTMENT)  174872.64   \n15                    COMMANDER III, (POLICE DEPARTMENT)  198778.01   \n16                                     DEPARTMENT HEAD V  268604.57   \n17                 CAPTAIN, EMERGENCYCY MEDICAL SERVICES  140546.87   \n18                    BATTALION CHIEF, (FIRE DEPARTMENT)  168692.63   \n19                            ASSISTANT MEDICAL EXAMINER  257510.59   \n20                            ASSISTANT MEDICAL EXAMINER  257510.48   \n21                            ASSISTANT MEDICAL EXAMINER  257510.44   \n22                             CAPTAIN, FIRE SUPPRESSION  140546.88   \n23                    BATTALION CHIEF, (FIRE DEPARTMENT)  168692.63   \n24                             CAPTAIN, FIRE SUPPRESSION  140546.86   \n25                                       CHIEF OF POLICE  256470.41   \n26                             CAPTAIN, FIRE SUPPRESSION   92080.80   \n27                    BATTALION CHIEF, (FIRE DEPARTMENT)  168692.59   \n28                  DEPUTY CHIEF III (POLICE DEPARTMENT)  261717.60   \n29          DEPUTY CHIEF OF DEPARTMENT,(FIRE DEPARTMENT)  246225.60   \n...                                                  ...        ...   \n148624                                      Senior Clerk       0.00   \n148625                                  Registered Nurse       0.00   \n148626                                     Account Clerk       0.00   \n148627                                   General Laborer       0.00   \n148628                                   General Laborer       0.00   \n148629                                Transcriber Typist       0.00   \n148630                                         Carpenter       0.00   \n148631                       Communications Dispatcher 1       0.00   \n148632                        Protective Services Worker       0.00   \n148633                                   General Laborer       0.00   \n148634                               Transit Car Cleaner       0.00   \n148635                                   General Laborer       0.00   \n148636                               Arborist Technician       0.00   \n148637                            Transit Fare Inspector       0.00   \n148638                                       Electrician       0.00   \n148639                                         Custodian       0.00   \n148640                           Parking Control Officer       0.00   \n148641                                      Museum Guard       0.00   \n148642                                       Sign Worker       0.00   \n148643                           Parking Control Officer       0.00   \n148644                      Stationary Eng, Sewage Plant       0.00   \n148645                         Human Services Technician       0.00   \n148646                                      Not provided        NaN   \n148647                       Communications Dispatcher 2       0.00   \n148648                                         Custodian       0.00   \n148649                                         Custodian       0.00   \n148650                                      Not provided        NaN   \n148651                                      Not provided        NaN   \n148652                                      Not provided        NaN   \n148653                        Counselor, Log Cabin Ranch       0.00   \n\n        OvertimePay   OtherPay  Benefits   TotalPay  TotalPayBenefits  Year  \\\n0              0.00  400184.25       NaN  567595.43         567595.43  2011   \n1         245131.88  137811.38       NaN  538909.28         538909.28  2011   \n2         106088.18   16452.60       NaN  335279.91         335279.91  2011   \n3          56120.71  198306.90       NaN  332343.61         332343.61  2011   \n4           9737.00  182234.59       NaN  326373.19         326373.19  2011   \n5           8601.00  189082.74       NaN  316285.74         316285.74  2011   \n6          89062.90  134426.14       NaN  315981.05         315981.05  2011   \n7              0.00   51322.50       NaN  307899.46         307899.46  2011   \n8          86362.68   40132.23       NaN  303427.55         303427.55  2011   \n9              0.00   17115.73       NaN  302377.73         302377.73  2011   \n10         71344.88   33149.90       NaN  299494.17         299494.17  2011   \n11         87082.62  110804.30       NaN  297608.92         297608.92  2011   \n12             0.00       0.00       NaN  294580.02         294580.02  2011   \n13             0.00   21342.59       NaN  292671.62         292671.62  2011   \n14         74050.30   37424.11       NaN  286347.05         286347.05  2011   \n15         73478.20   13957.65       NaN  286213.86         286213.86  2011   \n16             0.00   16115.86       NaN  284720.43         284720.43  2011   \n17        119397.26   18625.08       NaN  278569.21         278569.21  2011   \n18         69626.12   38115.47       NaN  276434.22         276434.22  2011   \n19           880.16   16159.50       NaN  274550.25         274550.25  2011   \n20             0.00   16679.79       NaN  274190.27         274190.27  2011   \n21           377.21   15883.56       NaN  273771.21         273771.21  2011   \n22         93200.58   39955.25       NaN  273702.71         273702.71  2011   \n23         77896.14   24083.86       NaN  270672.63         270672.63  2011   \n24         97868.77   31909.28       NaN  270324.91         270324.91  2011   \n25             0.00   11522.18       NaN  267992.59         267992.59  2011   \n26         40008.00  133695.76       NaN  265784.56         265784.56  2011   \n27         80706.88   16063.99       NaN  265463.46         265463.46  2011   \n28             0.00    2357.00       NaN  264074.60         264074.60  2011   \n29             0.00   15140.54       NaN  261366.14         261366.14  2011   \n...             ...        ...       ...        ...               ...   ...   \n148624         0.00      12.89      0.00      12.89             12.89  2014   \n148625         0.00       6.00      1.24       6.00              7.24  2014   \n148626         0.00       0.00      0.00       0.00              0.00  2014   \n148627         0.00       0.00      0.00       0.00              0.00  2014   \n148628         0.00       0.00      0.00       0.00              0.00  2014   \n148629         0.00       0.00      0.00       0.00              0.00  2014   \n148630         0.00       0.00      0.00       0.00              0.00  2014   \n148631         0.00       0.00      0.00       0.00              0.00  2014   \n148632         0.00       0.00      0.00       0.00              0.00  2014   \n148633         0.00       0.00      0.00       0.00              0.00  2014   \n148634         0.00       0.00      0.00       0.00              0.00  2014   \n148635         0.00       0.00      0.00       0.00              0.00  2014   \n148636         0.00       0.00      0.00       0.00              0.00  2014   \n148637         0.00       0.00      0.00       0.00              0.00  2014   \n148638         0.00       0.00      0.00       0.00              0.00  2014   \n148639         0.00       0.00      0.00       0.00              0.00  2014   \n148640         0.00       0.00      0.00       0.00              0.00  2014   \n148641         0.00       0.00      0.00       0.00              0.00  2014   \n148642         0.00       0.00      0.00       0.00              0.00  2014   \n148643         0.00       0.00      0.00       0.00              0.00  2014   \n148644         0.00       0.00      0.00       0.00              0.00  2014   \n148645         0.00       0.00      0.00       0.00              0.00  2014   \n148646          NaN        NaN       NaN       0.00              0.00  2014   \n148647         0.00       0.00      0.00       0.00              0.00  2014   \n148648         0.00       0.00      0.00       0.00              0.00  2014   \n148649         0.00       0.00      0.00       0.00              0.00  2014   \n148650          NaN        NaN       NaN       0.00              0.00  2014   \n148651          NaN        NaN       NaN       0.00              0.00  2014   \n148652          NaN        NaN       NaN       0.00              0.00  2014   \n148653         0.00    -618.13      0.00    -618.13           -618.13  2014   \n\n        Notes         Agency  Status  \n0         NaN  San Francisco     NaN  \n1         NaN  San Francisco     NaN  \n2         NaN  San Francisco     NaN  \n3         NaN  San Francisco     NaN  \n4         NaN  San Francisco     NaN  \n5         NaN  San Francisco     NaN  \n6         NaN  San Francisco     NaN  \n7         NaN  San Francisco     NaN  \n8         NaN  San Francisco     NaN  \n9         NaN  San Francisco     NaN  \n10        NaN  San Francisco     NaN  \n11        NaN  San Francisco     NaN  \n12        NaN  San Francisco     NaN  \n13        NaN  San Francisco     NaN  \n14        NaN  San Francisco     NaN  \n15        NaN  San Francisco     NaN  \n16        NaN  San Francisco     NaN  \n17        NaN  San Francisco     NaN  \n18        NaN  San Francisco     NaN  \n19        NaN  San Francisco     NaN  \n20        NaN  San Francisco     NaN  \n21        NaN  San Francisco     NaN  \n22        NaN  San Francisco     NaN  \n23        NaN  San Francisco     NaN  \n24        NaN  San Francisco     NaN  \n25        NaN  San Francisco     NaN  \n26        NaN  San Francisco     NaN  \n27        NaN  San Francisco     NaN  \n28        NaN  San Francisco     NaN  \n29        NaN  San Francisco     NaN  \n...       ...            ...     ...  \n148624    NaN  San Francisco     NaN  \n148625    NaN  San Francisco     NaN  \n148626    NaN  San Francisco     NaN  \n148627    NaN  San Francisco     NaN  \n148628    NaN  San Francisco     NaN  \n148629    NaN  San Francisco     NaN  \n148630    NaN  San Francisco     NaN  \n148631    NaN  San Francisco     NaN  \n148632    NaN  San Francisco     NaN  \n148633    NaN  San Francisco     NaN  \n148634    NaN  San Francisco     NaN  \n148635    NaN  San Francisco     NaN  \n148636    NaN  San Francisco     NaN  \n148637    NaN  San Francisco     NaN  \n148638    NaN  San Francisco     NaN  \n148639    NaN  San Francisco     NaN  \n148640    NaN  San Francisco     NaN  \n148641    NaN  San Francisco     NaN  \n148642    NaN  San Francisco     NaN  \n148643    NaN  San Francisco     NaN  \n148644    NaN  San Francisco     NaN  \n148645    NaN  San Francisco     NaN  \n148646    NaN  San Francisco     NaN  \n148647    NaN  San Francisco     NaN  \n148648    NaN  San Francisco     NaN  \n148649    NaN  San Francisco     NaN  \n148650    NaN  San Francisco     NaN  \n148651    NaN  San Francisco     NaN  \n148652    NaN  San Francisco     NaN  \n148653    NaN  San Francisco     NaN  \n\n[148654 rows x 13 columns]"
     },
     "execution_count": 16,
     "metadata": {},
     "output_type": "execute_result"
    }
   ],
   "source": [
    "df"
   ]
  },
  {
   "cell_type": "code",
   "execution_count": 8,
   "metadata": {
    "collapsed": false
   },
   "outputs": [
    {
     "data": {
      "text/html": [
       "<div>\n",
       "<table border=\"1\" class=\"dataframe\">\n",
       "  <thead>\n",
       "    <tr style=\"text-align: right;\">\n",
       "      <th></th>\n",
       "      <th>Id</th>\n",
       "      <th>EmployeeName</th>\n",
       "      <th>JobTitle</th>\n",
       "      <th>BasePay</th>\n",
       "      <th>OvertimePay</th>\n",
       "      <th>OtherPay</th>\n",
       "      <th>Benefits</th>\n",
       "      <th>TotalPay</th>\n",
       "      <th>TotalPayBenefits</th>\n",
       "      <th>Year</th>\n",
       "      <th>Notes</th>\n",
       "      <th>Agency</th>\n",
       "      <th>Status</th>\n",
       "    </tr>\n",
       "  </thead>\n",
       "  <tbody>\n",
       "    <tr>\n",
       "      <th>0</th>\n",
       "      <td>1</td>\n",
       "      <td>NATHANIEL FORD</td>\n",
       "      <td>GENERAL MANAGER-METROPOLITAN TRANSIT AUTHORITY</td>\n",
       "      <td>167411.18</td>\n",
       "      <td>0.00</td>\n",
       "      <td>400184.25</td>\n",
       "      <td>NaN</td>\n",
       "      <td>567595.43</td>\n",
       "      <td>567595.43</td>\n",
       "      <td>2011</td>\n",
       "      <td>NaN</td>\n",
       "      <td>San Francisco</td>\n",
       "      <td>NaN</td>\n",
       "    </tr>\n",
       "    <tr>\n",
       "      <th>1</th>\n",
       "      <td>2</td>\n",
       "      <td>GARY JIMENEZ</td>\n",
       "      <td>CAPTAIN III (POLICE DEPARTMENT)</td>\n",
       "      <td>155966.02</td>\n",
       "      <td>245131.88</td>\n",
       "      <td>137811.38</td>\n",
       "      <td>NaN</td>\n",
       "      <td>538909.28</td>\n",
       "      <td>538909.28</td>\n",
       "      <td>2011</td>\n",
       "      <td>NaN</td>\n",
       "      <td>San Francisco</td>\n",
       "      <td>NaN</td>\n",
       "    </tr>\n",
       "    <tr>\n",
       "      <th>2</th>\n",
       "      <td>3</td>\n",
       "      <td>ALBERT PARDINI</td>\n",
       "      <td>CAPTAIN III (POLICE DEPARTMENT)</td>\n",
       "      <td>212739.13</td>\n",
       "      <td>106088.18</td>\n",
       "      <td>16452.60</td>\n",
       "      <td>NaN</td>\n",
       "      <td>335279.91</td>\n",
       "      <td>335279.91</td>\n",
       "      <td>2011</td>\n",
       "      <td>NaN</td>\n",
       "      <td>San Francisco</td>\n",
       "      <td>NaN</td>\n",
       "    </tr>\n",
       "    <tr>\n",
       "      <th>3</th>\n",
       "      <td>4</td>\n",
       "      <td>CHRISTOPHER CHONG</td>\n",
       "      <td>WIRE ROPE CABLE MAINTENANCE MECHANIC</td>\n",
       "      <td>77916.00</td>\n",
       "      <td>56120.71</td>\n",
       "      <td>198306.90</td>\n",
       "      <td>NaN</td>\n",
       "      <td>332343.61</td>\n",
       "      <td>332343.61</td>\n",
       "      <td>2011</td>\n",
       "      <td>NaN</td>\n",
       "      <td>San Francisco</td>\n",
       "      <td>NaN</td>\n",
       "    </tr>\n",
       "    <tr>\n",
       "      <th>4</th>\n",
       "      <td>5</td>\n",
       "      <td>PATRICK GARDNER</td>\n",
       "      <td>DEPUTY CHIEF OF DEPARTMENT,(FIRE DEPARTMENT)</td>\n",
       "      <td>134401.60</td>\n",
       "      <td>9737.00</td>\n",
       "      <td>182234.59</td>\n",
       "      <td>NaN</td>\n",
       "      <td>326373.19</td>\n",
       "      <td>326373.19</td>\n",
       "      <td>2011</td>\n",
       "      <td>NaN</td>\n",
       "      <td>San Francisco</td>\n",
       "      <td>NaN</td>\n",
       "    </tr>\n",
       "  </tbody>\n",
       "</table>\n",
       "</div>"
      ],
      "text/plain": [
       "   Id       EmployeeName                                        JobTitle  \\\n",
       "0   1     NATHANIEL FORD  GENERAL MANAGER-METROPOLITAN TRANSIT AUTHORITY   \n",
       "1   2       GARY JIMENEZ                 CAPTAIN III (POLICE DEPARTMENT)   \n",
       "2   3     ALBERT PARDINI                 CAPTAIN III (POLICE DEPARTMENT)   \n",
       "3   4  CHRISTOPHER CHONG            WIRE ROPE CABLE MAINTENANCE MECHANIC   \n",
       "4   5    PATRICK GARDNER    DEPUTY CHIEF OF DEPARTMENT,(FIRE DEPARTMENT)   \n",
       "\n",
       "     BasePay  OvertimePay   OtherPay  Benefits   TotalPay  TotalPayBenefits  \\\n",
       "0  167411.18         0.00  400184.25       NaN  567595.43         567595.43   \n",
       "1  155966.02    245131.88  137811.38       NaN  538909.28         538909.28   \n",
       "2  212739.13    106088.18   16452.60       NaN  335279.91         335279.91   \n",
       "3   77916.00     56120.71  198306.90       NaN  332343.61         332343.61   \n",
       "4  134401.60      9737.00  182234.59       NaN  326373.19         326373.19   \n",
       "\n",
       "   Year  Notes         Agency  Status  \n",
       "0  2011    NaN  San Francisco     NaN  \n",
       "1  2011    NaN  San Francisco     NaN  \n",
       "2  2011    NaN  San Francisco     NaN  \n",
       "3  2011    NaN  San Francisco     NaN  \n",
       "4  2011    NaN  San Francisco     NaN  "
      ]
     },
     "execution_count": 8,
     "metadata": {},
     "output_type": "execute_result"
    }
   ],
   "source": []
  },
  {
   "cell_type": "markdown",
   "metadata": {},
   "source": [
    "** Use the .info() method to find out how many entries there are.**"
   ]
  },
  {
   "cell_type": "code",
   "execution_count": 17,
   "metadata": {},
   "outputs": [
    {
     "name": "stdout",
     "output_type": "stream",
     "text": "<class 'pandas.core.frame.DataFrame'>\nRangeIndex: 148654 entries, 0 to 148653\nData columns (total 13 columns):\nId                  148654 non-null int64\nEmployeeName        148654 non-null object\nJobTitle            148654 non-null object\nBasePay             148045 non-null float64\nOvertimePay         148650 non-null float64\nOtherPay            148650 non-null float64\nBenefits            112491 non-null float64\nTotalPay            148654 non-null float64\nTotalPayBenefits    148654 non-null float64\nYear                148654 non-null int64\nNotes               0 non-null float64\nAgency              148654 non-null object\nStatus              0 non-null float64\ndtypes: float64(8), int64(2), object(3)\nmemory usage: 14.7+ MB\n"
    }
   ],
   "source": [
    "df.info()"
   ]
  },
  {
   "cell_type": "code",
   "execution_count": 9,
   "metadata": {
    "collapsed": false
   },
   "outputs": [
    {
     "name": "stdout",
     "output_type": "stream",
     "text": [
      "<class 'pandas.core.frame.DataFrame'>\n",
      "RangeIndex: 148654 entries, 0 to 148653\n",
      "Data columns (total 13 columns):\n",
      "Id                  148654 non-null int64\n",
      "EmployeeName        148654 non-null object\n",
      "JobTitle            148654 non-null object\n",
      "BasePay             148045 non-null float64\n",
      "OvertimePay         148650 non-null float64\n",
      "OtherPay            148650 non-null float64\n",
      "Benefits            112491 non-null float64\n",
      "TotalPay            148654 non-null float64\n",
      "TotalPayBenefits    148654 non-null float64\n",
      "Year                148654 non-null int64\n",
      "Notes               0 non-null float64\n",
      "Agency              148654 non-null object\n",
      "Status              0 non-null float64\n",
      "dtypes: float64(8), int64(2), object(3)\n",
      "memory usage: 14.7+ MB\n"
     ]
    }
   ],
   "source": []
  },
  {
   "cell_type": "markdown",
   "metadata": {},
   "source": [
    "**What is the average BasePay ?**"
   ]
  },
  {
   "cell_type": "code",
   "execution_count": 18,
   "metadata": {},
   "outputs": [
    {
     "data": {
      "text/plain": "66325.44884050643"
     },
     "execution_count": 18,
     "metadata": {},
     "output_type": "execute_result"
    }
   ],
   "source": [
    "df['BasePay'].mean()"
   ]
  },
  {
   "cell_type": "code",
   "execution_count": 10,
   "metadata": {
    "collapsed": false
   },
   "outputs": [
    {
     "data": {
      "text/plain": [
       "66325.44884050643"
      ]
     },
     "execution_count": 10,
     "metadata": {},
     "output_type": "execute_result"
    }
   ],
   "source": []
  },
  {
   "cell_type": "markdown",
   "metadata": {},
   "source": [
    "** What is the highest amount of OvertimePay in the dataset ? **"
   ]
  },
  {
   "cell_type": "code",
   "execution_count": 19,
   "metadata": {},
   "outputs": [
    {
     "data": {
      "text/plain": "245131.88"
     },
     "execution_count": 19,
     "metadata": {},
     "output_type": "execute_result"
    }
   ],
   "source": [
    "df['OvertimePay'].max()"
   ]
  },
  {
   "cell_type": "code",
   "execution_count": 11,
   "metadata": {
    "collapsed": false
   },
   "outputs": [
    {
     "data": {
      "text/plain": [
       "245131.88"
      ]
     },
     "execution_count": 11,
     "metadata": {},
     "output_type": "execute_result"
    }
   ],
   "source": []
  },
  {
   "cell_type": "markdown",
   "metadata": {},
   "source": [
    "** What is the job title of  JOSEPH DRISCOLL ? Note: Use all caps, otherwise you may get an answer that doesn't match up (there is also a lowercase Joseph Driscoll). **"
   ]
  },
  {
   "cell_type": "code",
   "execution_count": 20,
   "metadata": {},
   "outputs": [
    {
     "data": {
      "text/plain": "24    CAPTAIN, FIRE SUPPRESSION\nName: JobTitle, dtype: object"
     },
     "execution_count": 20,
     "metadata": {},
     "output_type": "execute_result"
    }
   ],
   "source": [
    "df[df['EmployeeName'] == 'JOSEPH DRISCOLL']['JobTitle']\n"
   ]
  },
  {
   "cell_type": "code",
   "execution_count": 12,
   "metadata": {
    "collapsed": false
   },
   "outputs": [
    {
     "data": {
      "text/plain": [
       "24    CAPTAIN, FIRE SUPPRESSION\n",
       "Name: JobTitle, dtype: object"
      ]
     },
     "execution_count": 12,
     "metadata": {},
     "output_type": "execute_result"
    }
   ],
   "source": []
  },
  {
   "cell_type": "markdown",
   "metadata": {},
   "source": [
    "** How much does JOSEPH DRISCOLL make (including benefits)? **"
   ]
  },
  {
   "cell_type": "code",
   "execution_count": 21,
   "metadata": {},
   "outputs": [
    {
     "data": {
      "text/plain": "24    270324.91\nName: TotalPay, dtype: float64"
     },
     "execution_count": 21,
     "metadata": {},
     "output_type": "execute_result"
    }
   ],
   "source": [
    "df[df['EmployeeName'] == 'JOSEPH DRISCOLL']['TotalPay']"
   ]
  },
  {
   "cell_type": "code",
   "execution_count": 13,
   "metadata": {
    "collapsed": false
   },
   "outputs": [
    {
     "data": {
      "text/plain": [
       "24    270324.91\n",
       "Name: TotalPayBenefits, dtype: float64"
      ]
     },
     "execution_count": 13,
     "metadata": {},
     "output_type": "execute_result"
    }
   ],
   "source": []
  },
  {
   "cell_type": "markdown",
   "metadata": {},
   "source": [
    "** What is the name of highest paid person (including benefits)?**"
   ]
  },
  {
   "cell_type": "code",
   "execution_count": 22,
   "metadata": {},
   "outputs": [
    {
     "data": {
      "text/html": "<div>\n<style scoped>\n    .dataframe tbody tr th:only-of-type {\n        vertical-align: middle;\n    }\n\n    .dataframe tbody tr th {\n        vertical-align: top;\n    }\n\n    .dataframe thead th {\n        text-align: right;\n    }\n</style>\n<table border=\"1\" class=\"dataframe\">\n  <thead>\n    <tr style=\"text-align: right;\">\n      <th></th>\n      <th>Id</th>\n      <th>EmployeeName</th>\n      <th>JobTitle</th>\n      <th>BasePay</th>\n      <th>OvertimePay</th>\n      <th>OtherPay</th>\n      <th>Benefits</th>\n      <th>TotalPay</th>\n      <th>TotalPayBenefits</th>\n      <th>Year</th>\n      <th>Notes</th>\n      <th>Agency</th>\n      <th>Status</th>\n    </tr>\n  </thead>\n  <tbody>\n    <tr>\n      <th>0</th>\n      <td>1</td>\n      <td>NATHANIEL FORD</td>\n      <td>GENERAL MANAGER-METROPOLITAN TRANSIT AUTHORITY</td>\n      <td>167411.18</td>\n      <td>0.0</td>\n      <td>400184.25</td>\n      <td>NaN</td>\n      <td>567595.43</td>\n      <td>567595.43</td>\n      <td>2011</td>\n      <td>NaN</td>\n      <td>San Francisco</td>\n      <td>NaN</td>\n    </tr>\n  </tbody>\n</table>\n</div>",
      "text/plain": "   Id    EmployeeName                                        JobTitle  \\\n0   1  NATHANIEL FORD  GENERAL MANAGER-METROPOLITAN TRANSIT AUTHORITY   \n\n     BasePay  OvertimePay   OtherPay  Benefits   TotalPay  TotalPayBenefits  \\\n0  167411.18          0.0  400184.25       NaN  567595.43         567595.43   \n\n   Year  Notes         Agency  Status  \n0  2011    NaN  San Francisco     NaN  "
     },
     "execution_count": 22,
     "metadata": {},
     "output_type": "execute_result"
    }
   ],
   "source": [
    "df.sort_values(\"TotalPay\",ascending= False).head(1)"
   ]
  },
  {
   "cell_type": "code",
   "execution_count": 14,
   "metadata": {
    "collapsed": false
   },
   "outputs": [
    {
     "data": {
      "text/html": [
       "<div>\n",
       "<table border=\"1\" class=\"dataframe\">\n",
       "  <thead>\n",
       "    <tr style=\"text-align: right;\">\n",
       "      <th></th>\n",
       "      <th>Id</th>\n",
       "      <th>EmployeeName</th>\n",
       "      <th>JobTitle</th>\n",
       "      <th>BasePay</th>\n",
       "      <th>OvertimePay</th>\n",
       "      <th>OtherPay</th>\n",
       "      <th>Benefits</th>\n",
       "      <th>TotalPay</th>\n",
       "      <th>TotalPayBenefits</th>\n",
       "      <th>Year</th>\n",
       "      <th>Notes</th>\n",
       "      <th>Agency</th>\n",
       "      <th>Status</th>\n",
       "    </tr>\n",
       "  </thead>\n",
       "  <tbody>\n",
       "    <tr>\n",
       "      <th>0</th>\n",
       "      <td>1</td>\n",
       "      <td>NATHANIEL FORD</td>\n",
       "      <td>GENERAL MANAGER-METROPOLITAN TRANSIT AUTHORITY</td>\n",
       "      <td>167411.18</td>\n",
       "      <td>0.0</td>\n",
       "      <td>400184.25</td>\n",
       "      <td>NaN</td>\n",
       "      <td>567595.43</td>\n",
       "      <td>567595.43</td>\n",
       "      <td>2011</td>\n",
       "      <td>NaN</td>\n",
       "      <td>San Francisco</td>\n",
       "      <td>NaN</td>\n",
       "    </tr>\n",
       "  </tbody>\n",
       "</table>\n",
       "</div>"
      ],
      "text/plain": [
       "   Id    EmployeeName                                        JobTitle  \\\n",
       "0   1  NATHANIEL FORD  GENERAL MANAGER-METROPOLITAN TRANSIT AUTHORITY   \n",
       "\n",
       "     BasePay  OvertimePay   OtherPay  Benefits   TotalPay  TotalPayBenefits  \\\n",
       "0  167411.18          0.0  400184.25       NaN  567595.43         567595.43   \n",
       "\n",
       "   Year  Notes         Agency  Status  \n",
       "0  2011    NaN  San Francisco     NaN  "
      ]
     },
     "execution_count": 14,
     "metadata": {},
     "output_type": "execute_result"
    }
   ],
   "source": []
  },
  {
   "cell_type": "markdown",
   "metadata": {},
   "source": [
    "** What is the name of lowest paid person (including benefits)? Do you notice something strange about how much he or she is paid?**"
   ]
  },
  {
   "cell_type": "code",
   "execution_count": 23,
   "metadata": {},
   "outputs": [
    {
     "data": {
      "text/html": "<div>\n<style scoped>\n    .dataframe tbody tr th:only-of-type {\n        vertical-align: middle;\n    }\n\n    .dataframe tbody tr th {\n        vertical-align: top;\n    }\n\n    .dataframe thead th {\n        text-align: right;\n    }\n</style>\n<table border=\"1\" class=\"dataframe\">\n  <thead>\n    <tr style=\"text-align: right;\">\n      <th></th>\n      <th>Id</th>\n      <th>EmployeeName</th>\n      <th>JobTitle</th>\n      <th>BasePay</th>\n      <th>OvertimePay</th>\n      <th>OtherPay</th>\n      <th>Benefits</th>\n      <th>TotalPay</th>\n      <th>TotalPayBenefits</th>\n      <th>Year</th>\n      <th>Notes</th>\n      <th>Agency</th>\n      <th>Status</th>\n    </tr>\n  </thead>\n  <tbody>\n    <tr>\n      <th>148653</th>\n      <td>148654</td>\n      <td>Joe Lopez</td>\n      <td>Counselor, Log Cabin Ranch</td>\n      <td>0.0</td>\n      <td>0.0</td>\n      <td>-618.13</td>\n      <td>0.0</td>\n      <td>-618.13</td>\n      <td>-618.13</td>\n      <td>2014</td>\n      <td>NaN</td>\n      <td>San Francisco</td>\n      <td>NaN</td>\n    </tr>\n  </tbody>\n</table>\n</div>",
      "text/plain": "            Id EmployeeName                    JobTitle  BasePay  OvertimePay  \\\n148653  148654    Joe Lopez  Counselor, Log Cabin Ranch      0.0          0.0   \n\n        OtherPay  Benefits  TotalPay  TotalPayBenefits  Year  Notes  \\\n148653   -618.13       0.0   -618.13           -618.13  2014    NaN   \n\n               Agency  Status  \n148653  San Francisco     NaN  "
     },
     "execution_count": 23,
     "metadata": {},
     "output_type": "execute_result"
    }
   ],
   "source": [
    "df.sort_values(\"TotalPay\",ascending= True).head(1)"
   ]
  },
  {
   "cell_type": "markdown",
   "metadata": {},
   "source": [
    "** What was the average (mean) BasePay of all employees per year? (2011-2014) ? **"
   ]
  },
  {
   "cell_type": "code",
   "execution_count": 24,
   "metadata": {},
   "outputs": [
    {
     "data": {
      "text/plain": "Year\n2011    63595.956517\n2012    65436.406857\n2013    69630.030216\n2014    66564.421924\nName: BasePay, dtype: float64"
     },
     "execution_count": 24,
     "metadata": {},
     "output_type": "execute_result"
    }
   ],
   "source": [
    "df.groupby('Year')['BasePay'].mean()"
   ]
  },
  {
   "cell_type": "code",
   "execution_count": 16,
   "metadata": {
    "collapsed": false
   },
   "outputs": [
    {
     "data": {
      "text/plain": [
       "Year\n",
       "2011    63595.956517\n",
       "2012    65436.406857\n",
       "2013    69630.030216\n",
       "2014    66564.421924\n",
       "Name: BasePay, dtype: float64"
      ]
     },
     "execution_count": 16,
     "metadata": {},
     "output_type": "execute_result"
    }
   ],
   "source": []
  },
  {
   "cell_type": "markdown",
   "metadata": {},
   "source": [
    "** How many unique job titles are there? **"
   ]
  },
  {
   "cell_type": "code",
   "execution_count": 25,
   "metadata": {},
   "outputs": [
    {
     "data": {
      "text/plain": "2159"
     },
     "execution_count": 25,
     "metadata": {},
     "output_type": "execute_result"
    }
   ],
   "source": [
    "df['JobTitle'].nunique()"
   ]
  },
  {
   "cell_type": "markdown",
   "metadata": {},
   "source": [
    "** What are the top 5 most common jobs? **"
   ]
  },
  {
   "cell_type": "code",
   "execution_count": 67,
   "metadata": {},
   "outputs": [
    {
     "data": {
      "text/plain": "Transit Operator                7036\nSpecial Nurse                   4389\nRegistered Nurse                3736\nPublic Svc Aide-Public Works    2518\nPolice Officer 3                2421\nName: JobTitle, dtype: int64"
     },
     "execution_count": 67,
     "metadata": {},
     "output_type": "execute_result"
    }
   ],
   "source": [
    "df['JobTitle'].value_counts().head(5)"
   ]
  },
  {
   "cell_type": "code",
   "execution_count": 18,
   "metadata": {
    "collapsed": false
   },
   "outputs": [
    {
     "data": {
      "text/plain": [
       "Transit Operator                7036\n",
       "Special Nurse                   4389\n",
       "Registered Nurse                3736\n",
       "Public Svc Aide-Public Works    2518\n",
       "Police Officer 3                2421\n",
       "Name: JobTitle, dtype: int64"
      ]
     },
     "execution_count": 18,
     "metadata": {},
     "output_type": "execute_result"
    }
   ],
   "source": []
  },
  {
   "cell_type": "markdown",
   "metadata": {},
   "source": [
    "** How many Job Titles were represented by only one person in 2013? (e.g. Job Titles with only one occurence in 2013?) **"
   ]
  },
  {
   "cell_type": "code",
   "execution_count": 19,
   "metadata": {
    "collapsed": false
   },
   "outputs": [
    {
     "data": {
      "text/plain": [
       "202"
      ]
     },
     "execution_count": 19,
     "metadata": {},
     "output_type": "execute_result"
    }
   ],
   "source": []
  },
  {
   "cell_type": "markdown",
   "metadata": {},
   "source": [
    "** How many people have the word Chief in their job title? (This is pretty tricky) **"
   ]
  },
  {
   "cell_type": "code",
   "execution_count": 20,
   "metadata": {
    "collapsed": true
   },
   "outputs": [],
   "source": []
  },
  {
   "cell_type": "code",
   "execution_count": 21,
   "metadata": {
    "collapsed": false
   },
   "outputs": [
    {
     "data": {
      "text/plain": [
       "477"
      ]
     },
     "execution_count": 21,
     "metadata": {},
     "output_type": "execute_result"
    }
   ],
   "source": []
  },
  {
   "cell_type": "markdown",
   "metadata": {},
   "source": [
    "** Bonus: Is there a correlation between length of the Job Title string and Salary? **"
   ]
  },
  {
   "cell_type": "code",
   "execution_count": 22,
   "metadata": {
    "collapsed": false
   },
   "outputs": [],
   "source": []
  },
  {
   "cell_type": "code",
   "execution_count": 23,
   "metadata": {
    "collapsed": false
   },
   "outputs": [
    {
     "data": {
      "text/html": [
       "<div>\n",
       "<table border=\"1\" class=\"dataframe\">\n",
       "  <thead>\n",
       "    <tr style=\"text-align: right;\">\n",
       "      <th></th>\n",
       "      <th>title_len</th>\n",
       "      <th>TotalPayBenefits</th>\n",
       "    </tr>\n",
       "  </thead>\n",
       "  <tbody>\n",
       "    <tr>\n",
       "      <th>title_len</th>\n",
       "      <td>1.000000</td>\n",
       "      <td>-0.036878</td>\n",
       "    </tr>\n",
       "    <tr>\n",
       "      <th>TotalPayBenefits</th>\n",
       "      <td>-0.036878</td>\n",
       "      <td>1.000000</td>\n",
       "    </tr>\n",
       "  </tbody>\n",
       "</table>\n",
       "</div>"
      ],
      "text/plain": [
       "                  title_len  TotalPayBenefits\n",
       "title_len          1.000000         -0.036878\n",
       "TotalPayBenefits  -0.036878          1.000000"
      ]
     },
     "execution_count": 23,
     "metadata": {},
     "output_type": "execute_result"
    }
   ],
   "source": []
  },
  {
   "cell_type": "markdown",
   "metadata": {},
   "source": [
    "# Great Job!"
   ]
  }
 ],
 "metadata": {
  "kernelspec": {
   "display_name": "Python 3",
   "language": "python",
   "name": "python3"
  },
  "language_info": {
   "codemirror_mode": {
    "name": "ipython",
    "version": 3
   },
   "file_extension": ".py",
   "mimetype": "text/x-python",
   "name": "python",
   "nbconvert_exporter": "python",
   "pygments_lexer": "ipython3",
   "version": "3.7.3-final"
  }
 },
 "nbformat": 4,
 "nbformat_minor": 0
}